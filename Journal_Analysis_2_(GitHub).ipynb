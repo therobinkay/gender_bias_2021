{
  "nbformat": 4,
  "nbformat_minor": 0,
  "metadata": {
    "colab": {
      "name": "Journal Analysis 2 (GitHub)",
      "provenance": [],
      "collapsed_sections": [
        "vh9QfEkJSVXA",
        "rhzWuryOhfvK",
        "UjGNM-FNfS17",
        "xgUaqa6gjP8P",
        "vPg_22VlauFu",
        "LizwR7q17_tI"
      ],
      "include_colab_link": true
    },
    "kernelspec": {
      "name": "python3",
      "display_name": "Python 3"
    }
  },
  "cells": [
    {
      "cell_type": "markdown",
      "metadata": {
        "id": "view-in-github",
        "colab_type": "text"
      },
      "source": [
        "<a href=\"https://colab.research.google.com/github/therobinkay/gender_bias_2021/blob/main/Journal_Analysis_2_(GitHub).ipynb\" target=\"_parent\"><img src=\"https://colab.research.google.com/assets/colab-badge.svg\" alt=\"Open In Colab\"/></a>"
      ]
    },
    {
      "cell_type": "code",
      "metadata": {
        "id": "ddiEVDeSEfiS"
      },
      "source": [
        "# import all necessary packages\n",
        "\n",
        "import io\n",
        "import pandas as pd\n",
        "import os\n",
        "import itertools\n",
        "import numpy as np\n",
        "import scipy.stats\n",
        "import time\n",
        "\n",
        "import matplotlib.pyplot as plt\n",
        "import seaborn as sns\n",
        "\n",
        "from tqdm import tqdm\n",
        "\n",
        "import math\n",
        "\n",
        "from collections import defaultdict\n",
        "from itertools import combinations as comb\n",
        "\n",
        "import networkx as nx\n",
        "import random"
      ],
      "execution_count": 1,
      "outputs": []
    },
    {
      "cell_type": "code",
      "metadata": {
        "colab": {
          "base_uri": "https://localhost:8080/"
        },
        "id": "SQcbBIzbm3fP",
        "outputId": "76ed8c4d-1cd7-4e15-951d-23823cc8551a"
      },
      "source": [
        "from google.colab import drive\n",
        "drive.mount('/content/drive/')"
      ],
      "execution_count": 2,
      "outputs": [
        {
          "output_type": "stream",
          "text": [
            "Mounted at /content/drive/\n"
          ],
          "name": "stdout"
        }
      ]
    },
    {
      "cell_type": "code",
      "metadata": {
        "id": "gXIay7x8m43v"
      },
      "source": [
        "!cd \"drive/My Drive\""
      ],
      "execution_count": 3,
      "outputs": []
    },
    {
      "cell_type": "code",
      "metadata": {
        "id": "dl3dGhekFBYi"
      },
      "source": [
        "# read all necessary .csv files\n",
        "\n",
        "data = pd.read_csv(\"drive/My Drive/codes/data.csv\")\n",
        "dp = pd.read_csv(\"drive/My Drive/codes/doipacs.csv\")\n",
        "cen = pd.read_csv('drive/My Drive/codes/cen.csv')\n",
        "\n",
        "cdata = pd.read_csv('drive/My Drive/codes/cdata.csv')\n",
        "\n",
        "cb = pd.read_csv(\"drive/My Drive/codes/citationBara.csv\")\n",
        "# extra modification for future analyses\n",
        "cb['pair'] = \"(\" + cb[\"citing_doi\"] + \", \" + cb[\"cited_doi\"] + \")\"\n",
        "cb['pair2'] = \"(\" + cb[\"cited_doi\"] + \", \" + cb[\"citing_doi\"] + \")\"\n",
        "\n",
        "rhom = pd.read_csv(\"drive/My Drive/codes/rhom.csv\")"
      ],
      "execution_count": 4,
      "outputs": []
    },
    {
      "cell_type": "markdown",
      "metadata": {
        "id": "UjGNM-FNfS17"
      },
      "source": [
        "## Pairwise Count"
      ]
    },
    {
      "cell_type": "code",
      "metadata": {
        "id": "dDvzEYd_Q8Bs"
      },
      "source": [
        "# Create a DataFrame: citing_doi, citing_year, cited_doi\n",
        "\n",
        "## NOTE THAT: citing_year is not used in this paper but is extracted anyway\n",
        "##            for convenience, in case future projects want to apply restriction\n",
        "##            on publication year\n",
        "\n",
        "dc = data[[\"doi\", \"year\"]].drop_duplicates(subset = 'doi')\n",
        "dc = dc.merge(cb, left_on = 'doi', right_on = 'citing_doi', how = 'inner')\n",
        "dc = dc.drop(['doi'], axis=1)\n",
        "dc = dc.rename({'year': 'citing_year'}, axis=1)\n",
        "\n",
        "cols = ['citing_doi', 'citing_year', 'cited_doi']\n",
        "dc = dc.reindex(columns=cols).sort_values('cited_doi')"
      ],
      "execution_count": null,
      "outputs": []
    },
    {
      "cell_type": "code",
      "metadata": {
        "id": "yoAqGsluEHrP"
      },
      "source": [
        "# Observe pairs with different primary author gender\n",
        "\n",
        "hom_mf = homn[homn[\"gender1\"] != homn[\"gender2\"]].reset_index(drop=True)\n",
        "\n",
        "test = hom_mf.merge(dc, left_on = 'paper1', right_on = 'cited_doi', how = 'left')\n",
        "test = test.drop([\"cited_doi\", \"citing_year\"], axis=1).drop_duplicates(subset=['paper1', 'citing_doi'])\n",
        "test['count'] = test.groupby(['paper1'])['paper1'].transform('count')\n",
        "test = test.drop([\"citing_doi\"], axis=1)\n",
        "test = test.rename({'count': 'count1'}, axis=1)\n",
        "\n",
        "test = test.drop_duplicates(subset=['paper1', 'paper2']).drop(['gender1', 'year1', 'paper2', 'gender2', 'year2', 'qval', 'k'], axis=1)\n",
        "hom_mf = hom_mf.merge(test, on='paper1', how='inner')\n",
        "\n",
        "test = hom_mf.merge(dc, left_on = 'paper2', right_on = 'cited_doi', how = 'left')\n",
        "test = test.drop([\"cited_doi\", \"citing_year\"], axis=1).drop_duplicates(subset=['paper2', 'citing_doi'])\n",
        "test['count'] = test.groupby(['paper2'])['paper2'].transform('count')\n",
        "test = test.drop([\"citing_doi\"], axis=1)\n",
        "test = test.rename({'count': 'count2'}, axis=1)\n",
        "\n",
        "test = test.drop_duplicates(subset=['paper1', 'paper2']).drop(['gender1', 'year1', 'paper1', 'gender2', 'count1', 'year2', 'qval', 'k'], axis=1)\n",
        "hom_mf = hom_mf.merge(test, on='paper2', how='inner')"
      ],
      "execution_count": null,
      "outputs": []
    },
    {
      "cell_type": "code",
      "metadata": {
        "id": "GBhg0WNHfatC"
      },
      "source": [
        "# Calculate c_d (male citation count - female citation count)\n",
        "\n",
        "listd = []\n",
        "\n",
        "for c in range(len(hom_mf)):\n",
        "  if hom_mf['gender1'][c] == 'male':\n",
        "    listd.append(hom_mf['count1'][c] - hom_mf['count2'][c])\n",
        "  else:\n",
        "    listd.append(hom_mf['count2'][c] - hom_mf['count1'][c])\n",
        "\n",
        "hom_mf['countd'] = listd"
      ],
      "execution_count": null,
      "outputs": []
    },
    {
      "cell_type": "code",
      "metadata": {
        "id": "o1CFA4Vdfgsm"
      },
      "source": [
        "# Extract subDataFrame with q-value less than p threshold\n",
        "\n",
        "p = 0.006 # Select p thresholds with listed numbers in the thesis\n",
        "\n",
        "homp = hom_mf[hom_mf['qval'] < p].sort_values('countd').reset_index(drop=True)\n",
        "\n",
        "mlist = []\n",
        "fmlist = []\n",
        "\n",
        "for i in range(len(homp)):\n",
        "  if homp['gender1'][i] == 'male':\n",
        "    mlist.append(homp['count1'][i])\n",
        "    fmlist.append(homp['count2'][i])\n",
        "  else:\n",
        "    mlist.append(homp['count2'][i])\n",
        "    fmlist.append(homp['count1'][i])\n",
        "\n",
        "# Find the standard deviation\n",
        "sd = math.sqrt((np.std(mlist) ** 2 + np.std(fmlist) ** 2)/len(homp))\n",
        "\n",
        "# Find z-scores (for p-values)\n",
        "print((np.mean(mlist)-np.mean(fmlist))/sd)"
      ],
      "execution_count": null,
      "outputs": []
    },
    {
      "cell_type": "markdown",
      "metadata": {
        "id": "yCBWdyCeQAq-"
      },
      "source": [
        "## PageRank for Homophily"
      ]
    },
    {
      "cell_type": "markdown",
      "metadata": {
        "id": "vPg_22VlauFu"
      },
      "source": [
        "### Analysis"
      ]
    },
    {
      "cell_type": "code",
      "metadata": {
        "id": "2MI7xQF5YDHa"
      },
      "source": [
        "# Calculate PageRank Centrality for all network nodes\n",
        "Graphtype = nx.DiGraph()\n",
        "C = nx.from_pandas_edgelist(cen, source='citing_doi', target='cited_doi',\n",
        "                            create_using=Graphtype)\n",
        "pr = nx.pagerank(C)\n",
        "\n",
        "# Create DataFrame with doi, id, gender, and centrality\n",
        "prs = pd.DataFrame()\n",
        "prs['doi'] = pr.keys()\n",
        "prs['centrality'] = pr.values()\n",
        "# prs.sort_values('centrality', ascending=False).head()\n",
        "\n",
        "nodedata = data[data['is_alpha'] == False]\n",
        "nodedata = nodedata[nodedata['order'] == 1]\n",
        "nodedata = nodedata.drop(['order', 'numAuthor',\t'is_last',\t'is_alpha',\t'year',\n",
        "                          'articleType',\t'journal', 'id'], axis=1)\n",
        "nodedata = nodedata.reset_index()\n",
        "nodedata.columns = ['id', 'Label', 'Gender']\n",
        "\n",
        "prs = prs.merge(nodedata, left_on='doi', right_on='Label', how='left')\n",
        "prs = prs.drop(['Label'], axis=1)\n",
        "prs = prs[[\"doi\", 'id', 'Gender', 'centrality']]\n",
        "prs = prs.sort_values('centrality', ascending=False)\n",
        "\n",
        "# prs.head()"
      ],
      "execution_count": null,
      "outputs": []
    },
    {
      "cell_type": "code",
      "metadata": {
        "id": "MiuTTHk6ax8b",
        "colab": {
          "base_uri": "https://localhost:8080/",
          "height": 237
        },
        "outputId": "66d24bfe-f2c8-477c-dc21-567a5d268cbc"
      },
      "source": [
        "# Calculate cen_d (male centrality - female centrality)\n",
        "\n",
        "ph = pd.merge(homn, prs, left_on = \"paper1\", right_on = \"doi\", how = \"left\")\n",
        "ph = ph.drop([\"doi\", \"id\", \"Gender\"], axis=1)\n",
        "ph = ph.rename(columns={\"centrality\": \"cen1\"})\n",
        "\n",
        "ph = ph.merge(prs, left_on = \"paper2\", right_on = \"doi\", how = \"left\")\n",
        "ph = ph.drop([\"doi\", \"id\", \"Gender\"], axis=1)\n",
        "ph = ph.rename(columns={\"centrality\": \"cen2\"})\n",
        "print(len(ph))\n",
        "\n",
        "ph = ph[ph['gender1'] != ph['gender2']].reset_index(drop=True)\n",
        "\n",
        "listd = []\n",
        "\n",
        "for c in range(len(ph)):\n",
        "  if ph['gender1'][c] == 'male':\n",
        "    listd.append(ph['cen1'][c] - ph['cen2'][c])\n",
        "  else:\n",
        "    listd.append(ph['cen2'][c] - ph['cen1'][c])\n",
        "\n",
        "ph['cen_d'] = listd\n",
        "\n",
        "print(len(ph))\n",
        "ph.head()"
      ],
      "execution_count": null,
      "outputs": [
        {
          "output_type": "stream",
          "text": [
            "1189255\n",
            "184694\n"
          ],
          "name": "stdout"
        },
        {
          "output_type": "execute_result",
          "data": {
            "text/html": [
              "<div>\n",
              "<style scoped>\n",
              "    .dataframe tbody tr th:only-of-type {\n",
              "        vertical-align: middle;\n",
              "    }\n",
              "\n",
              "    .dataframe tbody tr th {\n",
              "        vertical-align: top;\n",
              "    }\n",
              "\n",
              "    .dataframe thead th {\n",
              "        text-align: right;\n",
              "    }\n",
              "</style>\n",
              "<table border=\"1\" class=\"dataframe\">\n",
              "  <thead>\n",
              "    <tr style=\"text-align: right;\">\n",
              "      <th></th>\n",
              "      <th>paper1</th>\n",
              "      <th>gender1</th>\n",
              "      <th>year1</th>\n",
              "      <th>paper2</th>\n",
              "      <th>gender2</th>\n",
              "      <th>year2</th>\n",
              "      <th>qval</th>\n",
              "      <th>k</th>\n",
              "      <th>cen1</th>\n",
              "      <th>cen2</th>\n",
              "      <th>cen_d</th>\n",
              "    </tr>\n",
              "  </thead>\n",
              "  <tbody>\n",
              "    <tr>\n",
              "      <th>0</th>\n",
              "      <td>10.1103/PhysRevA.30.336</td>\n",
              "      <td>male</td>\n",
              "      <td>1984</td>\n",
              "      <td>10.1103/PhysRevA.34.4472</td>\n",
              "      <td>female</td>\n",
              "      <td>1986</td>\n",
              "      <td>0.017857</td>\n",
              "      <td>False</td>\n",
              "      <td>0.000018</td>\n",
              "      <td>0.000004</td>\n",
              "      <td>1.402271e-05</td>\n",
              "    </tr>\n",
              "    <tr>\n",
              "      <th>1</th>\n",
              "      <td>10.1103/PhysRevA.34.4472</td>\n",
              "      <td>female</td>\n",
              "      <td>1986</td>\n",
              "      <td>10.1103/PhysRevA.41.784</td>\n",
              "      <td>male</td>\n",
              "      <td>1990</td>\n",
              "      <td>0.017857</td>\n",
              "      <td>False</td>\n",
              "      <td>0.000004</td>\n",
              "      <td>0.000005</td>\n",
              "      <td>7.764608e-07</td>\n",
              "    </tr>\n",
              "    <tr>\n",
              "      <th>2</th>\n",
              "      <td>10.1103/PhysRevA.36.4950</td>\n",
              "      <td>female</td>\n",
              "      <td>1987</td>\n",
              "      <td>10.1103/PhysRevA.41.784</td>\n",
              "      <td>male</td>\n",
              "      <td>1990</td>\n",
              "      <td>0.006410</td>\n",
              "      <td>False</td>\n",
              "      <td>0.000002</td>\n",
              "      <td>0.000005</td>\n",
              "      <td>2.824713e-06</td>\n",
              "    </tr>\n",
              "    <tr>\n",
              "      <th>3</th>\n",
              "      <td>10.1103/PhysRevA.39.5466</td>\n",
              "      <td>female</td>\n",
              "      <td>1989</td>\n",
              "      <td>10.1103/PhysRevA.41.784</td>\n",
              "      <td>male</td>\n",
              "      <td>1990</td>\n",
              "      <td>0.006410</td>\n",
              "      <td>False</td>\n",
              "      <td>0.000002</td>\n",
              "      <td>0.000005</td>\n",
              "      <td>2.166712e-06</td>\n",
              "    </tr>\n",
              "    <tr>\n",
              "      <th>4</th>\n",
              "      <td>10.1103/PhysRevA.41.3081</td>\n",
              "      <td>female</td>\n",
              "      <td>1990</td>\n",
              "      <td>10.1103/PhysRevA.41.784</td>\n",
              "      <td>male</td>\n",
              "      <td>1990</td>\n",
              "      <td>0.000511</td>\n",
              "      <td>False</td>\n",
              "      <td>0.000002</td>\n",
              "      <td>0.000005</td>\n",
              "      <td>2.824713e-06</td>\n",
              "    </tr>\n",
              "  </tbody>\n",
              "</table>\n",
              "</div>"
            ],
            "text/plain": [
              "                     paper1 gender1  year1  ...      cen1      cen2         cen_d\n",
              "0   10.1103/PhysRevA.30.336    male   1984  ...  0.000018  0.000004  1.402271e-05\n",
              "1  10.1103/PhysRevA.34.4472  female   1986  ...  0.000004  0.000005  7.764608e-07\n",
              "2  10.1103/PhysRevA.36.4950  female   1987  ...  0.000002  0.000005  2.824713e-06\n",
              "3  10.1103/PhysRevA.39.5466  female   1989  ...  0.000002  0.000005  2.166712e-06\n",
              "4  10.1103/PhysRevA.41.3081  female   1990  ...  0.000002  0.000005  2.824713e-06\n",
              "\n",
              "[5 rows x 11 columns]"
            ]
          },
          "metadata": {
            "tags": []
          },
          "execution_count": 215
        }
      ]
    },
    {
      "cell_type": "code",
      "metadata": {
        "id": "xJpPue-Ybfed",
        "colab": {
          "base_uri": "https://localhost:8080/",
          "height": 35
        },
        "outputId": "9461c9f8-8b2e-4483-9337-ca88d8449a0d"
      },
      "source": [
        "# Extract subDataFrame with q-value less than p threshold\n",
        "\n",
        "p = 0.002 # Select p thresholds with listed numbers in the thesis\n",
        "\n",
        "phsub = ph[ph['qval'] < p].sort_values('cen_d').reset_index(drop=True)\n",
        "\n",
        "mlist = []\n",
        "fmlist = []\n",
        "\n",
        "for i in range(len(phsub)):\n",
        "  if phsub['gender1'][i] == 'male':\n",
        "    mlist.append(phsub['cen1'][i])\n",
        "    fmlist.append(phsub['cen2'][i])\n",
        "  else:\n",
        "    mlist.append(phsub['cen2'][i])\n",
        "    fmlist.append(phsub['cen1'][i])\n",
        "\n",
        "# Find the standard deviation\n",
        "sd = math.sqrt((np.std(mlist) ** 2 + np.std(fmlist) ** 2)/len(phsub))\n",
        "\n",
        "# Find z-scores (for p-values)\n",
        "print((np.mean(mlist)-np.mean(fmlist))/sd)"
      ],
      "execution_count": null,
      "outputs": [
        {
          "output_type": "stream",
          "text": [
            "-0.6457704432323805\n"
          ],
          "name": "stdout"
        }
      ]
    },
    {
      "cell_type": "code",
      "metadata": {
        "id": "O9nLldXBt6xp"
      },
      "source": [
        ""
      ],
      "execution_count": null,
      "outputs": []
    }
  ]
}