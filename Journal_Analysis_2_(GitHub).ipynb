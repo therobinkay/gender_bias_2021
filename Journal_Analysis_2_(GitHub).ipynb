{
  "nbformat": 4,
  "nbformat_minor": 0,
  "metadata": {
    "colab": {
      "name": "Journal Analysis 2 (GitHub)",
      "provenance": [],
      "collapsed_sections": [
        "uwqEjqv9mxd_",
        "7oMywaPx5oLK",
        "rFMhtOjv_hGO",
        "2-a6l9DX3Cg0",
        "SlwrVRXDNBrb",
        "lx6odqL8NHdl",
        "4FCG21j8T9kU",
        "M6kB3bOCAloR",
        "NbD8zw0pjBa8",
        "uRWoQRFcLxZR"
      ],
      "authorship_tag": "ABX9TyNJuMefcgTUVBWLkOShj6ox",
      "include_colab_link": true
    },
    "kernelspec": {
      "name": "python3",
      "display_name": "Python 3"
    }
  },
  "cells": [
    {
      "cell_type": "markdown",
      "metadata": {
        "id": "view-in-github",
        "colab_type": "text"
      },
      "source": [
        "<a href=\"https://colab.research.google.com/github/therobinkay/gender_bias_2021/blob/main/Journal_Analysis_2_(GitHub).ipynb\" target=\"_parent\"><img src=\"https://colab.research.google.com/assets/colab-badge.svg\" alt=\"Open In Colab\"/></a>"
      ]
    },
    {
      "cell_type": "code",
      "metadata": {
        "id": "frxfBkDvS9Yu"
      },
      "source": [
        "import io\n",
        "import pandas as pd\n",
        "import os\n",
        "import itertools\n",
        "import numpy as np\n",
        "import scipy.stats\n",
        "# import time\n",
        "\n",
        "import matplotlib.pyplot as plt\n",
        "import seaborn as sns\n",
        "\n",
        "import statistics\n",
        "import math\n",
        "\n",
        "# from tqdm.auto import tqdm\n",
        "\n",
        "# import networkx as nx\n",
        "from random import randint"
      ],
      "execution_count": null,
      "outputs": []
    },
    {
      "cell_type": "code",
      "metadata": {
        "id": "Kh1YLKIj--mj",
        "colab": {
          "base_uri": "https://localhost:8080/"
        },
        "outputId": "5e44e014-0ed0-4790-b82b-d6baff93bc46"
      },
      "source": [
        "from google.colab import drive\n",
        "drive.mount('/content/drive/')"
      ],
      "execution_count": null,
      "outputs": [
        {
          "output_type": "stream",
          "name": "stdout",
          "text": [
            "Mounted at /content/drive/\n"
          ]
        }
      ]
    },
    {
      "cell_type": "code",
      "metadata": {
        "id": "Vhdw1UJu_AQ4"
      },
      "source": [
        "!cd \"drive/My Drive\""
      ],
      "execution_count": null,
      "outputs": []
    },
    {
      "cell_type": "code",
      "metadata": {
        "id": "A4kI7H4G_GnA"
      },
      "source": [
        "data = pd.read_csv(\"drive/My Drive/codes/data.csv\")\n",
        "# dp = pd.read_csv(\"drive/My Drive/codes/doipacs.csv\")\n",
        "\n",
        "cb = pd.read_csv(\"drive/My Drive/codes/citationBara.csv\")\n",
        "cb['pair'] = \"(\" + cb[\"citing_doi\"] + \", \" + cb[\"cited_doi\"] + \")\"\n",
        "cb['pair2'] = \"(\" + cb[\"cited_doi\"] + \", \" + cb[\"citing_doi\"] + \")\""
      ],
      "execution_count": null,
      "outputs": []
    },
    {
      "cell_type": "markdown",
      "metadata": {
        "id": "uwqEjqv9mxd_"
      },
      "source": [
        "# 0'. Manual Similarity Validation"
      ]
    },
    {
      "cell_type": "code",
      "metadata": {
        "id": "1Ef4YSUbmw4P"
      },
      "source": [
        "pair = pd.read_csv(\"drive/My Drive/codes/pairdata.csv\")\n",
        "\n",
        "# m = pair['year1'] > pair['year2']\n",
        "\n",
        "# pair.loc[m, ['paper1', 'gender1', 'year1', 'paper2', 'gender2', 'year2']] = (\n",
        "#     pair.loc[m, ['paper2', 'gender2', 'year2', 'paper1', 'gender1', 'year1']].values)\n",
        "\n",
        "# pair.to_csv(\"drive/My Drive/codes/pairdata.csv\", index=False)"
      ],
      "execution_count": null,
      "outputs": []
    },
    {
      "cell_type": "code",
      "metadata": {
        "colab": {
          "base_uri": "https://localhost:8080/",
          "height": 419
        },
        "id": "GZ9rD80OtasS",
        "outputId": "fbc4d0cc-0e39-4b2f-a8d9-b8e6c107b739"
      },
      "source": [
        "pair[pair['qval'] < 0.0000001]"
      ],
      "execution_count": null,
      "outputs": [
        {
          "output_type": "execute_result",
          "data": {
            "text/html": [
              "<div>\n",
              "<style scoped>\n",
              "    .dataframe tbody tr th:only-of-type {\n",
              "        vertical-align: middle;\n",
              "    }\n",
              "\n",
              "    .dataframe tbody tr th {\n",
              "        vertical-align: top;\n",
              "    }\n",
              "\n",
              "    .dataframe thead th {\n",
              "        text-align: right;\n",
              "    }\n",
              "</style>\n",
              "<table border=\"1\" class=\"dataframe\">\n",
              "  <thead>\n",
              "    <tr style=\"text-align: right;\">\n",
              "      <th></th>\n",
              "      <th>paper1</th>\n",
              "      <th>gender1</th>\n",
              "      <th>year1</th>\n",
              "      <th>paper2</th>\n",
              "      <th>gender2</th>\n",
              "      <th>year2</th>\n",
              "      <th>qval</th>\n",
              "      <th>k</th>\n",
              "    </tr>\n",
              "  </thead>\n",
              "  <tbody>\n",
              "    <tr>\n",
              "      <th>23630</th>\n",
              "      <td>10.1103/PhysRevB.35.197</td>\n",
              "      <td>male</td>\n",
              "      <td>1987</td>\n",
              "      <td>10.1103/PhysRevB.43.11274</td>\n",
              "      <td>male</td>\n",
              "      <td>1991</td>\n",
              "      <td>1.120640e-08</td>\n",
              "      <td>False</td>\n",
              "    </tr>\n",
              "    <tr>\n",
              "      <th>24553</th>\n",
              "      <td>10.1103/PhysRevA.40.5905</td>\n",
              "      <td>male</td>\n",
              "      <td>1989</td>\n",
              "      <td>10.1103/PhysRevA.43.663</td>\n",
              "      <td>male</td>\n",
              "      <td>1991</td>\n",
              "      <td>2.819833e-08</td>\n",
              "      <td>True</td>\n",
              "    </tr>\n",
              "    <tr>\n",
              "      <th>49118</th>\n",
              "      <td>10.1103/PhysRevA.68.063406</td>\n",
              "      <td>male</td>\n",
              "      <td>2003</td>\n",
              "      <td>10.1103/PhysRevA.74.053417</td>\n",
              "      <td>male</td>\n",
              "      <td>2006</td>\n",
              "      <td>3.209790e-08</td>\n",
              "      <td>True</td>\n",
              "    </tr>\n",
              "    <tr>\n",
              "      <th>57341</th>\n",
              "      <td>10.1103/PhysRevA.78.063811</td>\n",
              "      <td>male</td>\n",
              "      <td>2008</td>\n",
              "      <td>10.1103/PhysRevA.80.052105</td>\n",
              "      <td>male</td>\n",
              "      <td>2009</td>\n",
              "      <td>8.043679e-10</td>\n",
              "      <td>True</td>\n",
              "    </tr>\n",
              "    <tr>\n",
              "      <th>95218</th>\n",
              "      <td>10.1103/PhysRevE.70.045101</td>\n",
              "      <td>male</td>\n",
              "      <td>2004</td>\n",
              "      <td>10.1103/PhysRevE.70.056133</td>\n",
              "      <td>male</td>\n",
              "      <td>2004</td>\n",
              "      <td>1.060378e-10</td>\n",
              "      <td>False</td>\n",
              "    </tr>\n",
              "    <tr>\n",
              "      <th>...</th>\n",
              "      <td>...</td>\n",
              "      <td>...</td>\n",
              "      <td>...</td>\n",
              "      <td>...</td>\n",
              "      <td>...</td>\n",
              "      <td>...</td>\n",
              "      <td>...</td>\n",
              "      <td>...</td>\n",
              "    </tr>\n",
              "    <tr>\n",
              "      <th>5747607</th>\n",
              "      <td>10.1103/PhysRevE.79.051801</td>\n",
              "      <td>male</td>\n",
              "      <td>2009</td>\n",
              "      <td>10.1103/PhysRevE.80.051805</td>\n",
              "      <td>female</td>\n",
              "      <td>2009</td>\n",
              "      <td>6.717853e-08</td>\n",
              "      <td>True</td>\n",
              "    </tr>\n",
              "    <tr>\n",
              "      <th>5748356</th>\n",
              "      <td>10.1103/PhysRevE.78.051922</td>\n",
              "      <td>female</td>\n",
              "      <td>2008</td>\n",
              "      <td>10.1103/PhysRevE.79.021905</td>\n",
              "      <td>male</td>\n",
              "      <td>2009</td>\n",
              "      <td>2.116915e-08</td>\n",
              "      <td>False</td>\n",
              "    </tr>\n",
              "    <tr>\n",
              "      <th>5752261</th>\n",
              "      <td>10.1103/PhysRevE.73.020901</td>\n",
              "      <td>male</td>\n",
              "      <td>2006</td>\n",
              "      <td>10.1103/PhysRevE.73.041802</td>\n",
              "      <td>male</td>\n",
              "      <td>2006</td>\n",
              "      <td>8.015693e-08</td>\n",
              "      <td>True</td>\n",
              "    </tr>\n",
              "    <tr>\n",
              "      <th>5778076</th>\n",
              "      <td>10.1103/PhysRevD.60.104040</td>\n",
              "      <td>male</td>\n",
              "      <td>1999</td>\n",
              "      <td>10.1103/PhysRevD.69.084018</td>\n",
              "      <td>male</td>\n",
              "      <td>2004</td>\n",
              "      <td>6.411863e-08</td>\n",
              "      <td>True</td>\n",
              "    </tr>\n",
              "    <tr>\n",
              "      <th>5808947</th>\n",
              "      <td>10.1103/PhysRevD.80.083002</td>\n",
              "      <td>male</td>\n",
              "      <td>2009</td>\n",
              "      <td>10.1103/PhysRevD.80.126018</td>\n",
              "      <td>male</td>\n",
              "      <td>2009</td>\n",
              "      <td>6.411863e-08</td>\n",
              "      <td>False</td>\n",
              "    </tr>\n",
              "  </tbody>\n",
              "</table>\n",
              "<p>675 rows × 8 columns</p>\n",
              "</div>"
            ],
            "text/plain": [
              "                             paper1 gender1  year1  ... year2          qval      k\n",
              "23630       10.1103/PhysRevB.35.197    male   1987  ...  1991  1.120640e-08  False\n",
              "24553      10.1103/PhysRevA.40.5905    male   1989  ...  1991  2.819833e-08   True\n",
              "49118    10.1103/PhysRevA.68.063406    male   2003  ...  2006  3.209790e-08   True\n",
              "57341    10.1103/PhysRevA.78.063811    male   2008  ...  2009  8.043679e-10   True\n",
              "95218    10.1103/PhysRevE.70.045101    male   2004  ...  2004  1.060378e-10  False\n",
              "...                             ...     ...    ...  ...   ...           ...    ...\n",
              "5747607  10.1103/PhysRevE.79.051801    male   2009  ...  2009  6.717853e-08   True\n",
              "5748356  10.1103/PhysRevE.78.051922  female   2008  ...  2009  2.116915e-08  False\n",
              "5752261  10.1103/PhysRevE.73.020901    male   2006  ...  2006  8.015693e-08   True\n",
              "5778076  10.1103/PhysRevD.60.104040    male   1999  ...  2004  6.411863e-08   True\n",
              "5808947  10.1103/PhysRevD.80.083002    male   2009  ...  2009  6.411863e-08  False\n",
              "\n",
              "[675 rows x 8 columns]"
            ]
          },
          "metadata": {
            "tags": []
          },
          "execution_count": 6
        }
      ]
    },
    {
      "cell_type": "code",
      "metadata": {
        "id": "CCjGzhMu1T5n"
      },
      "source": [
        "pair[pair['paper1'] == \"10.1103/PhysRevA.40.5905\"].sort_values(\"qval\")"
      ],
      "execution_count": null,
      "outputs": []
    },
    {
      "cell_type": "code",
      "metadata": {
        "colab": {
          "base_uri": "https://localhost:8080/"
        },
        "id": "QHIxVls_ta4k",
        "outputId": "c975b64c-57c4-49c1-d41c-55a120d5f5a3"
      },
      "source": [
        "a1 = pair[pair['paper2'] == '10.1103/PhysRevA.40.5905'].sort_values(['year1', 'paper1', 'qval'])\n",
        "b1 = pair[pair['paper1'] == '10.1103/PhysRevA.40.5905'].sort_values(['year1', 'paper1', 'qval'])\n",
        "print(len(a1))\n",
        "print(len(b1))"
      ],
      "execution_count": null,
      "outputs": [
        {
          "output_type": "stream",
          "text": [
            "16\n",
            "37\n"
          ],
          "name": "stdout"
        }
      ]
    },
    {
      "cell_type": "code",
      "metadata": {
        "colab": {
          "base_uri": "https://localhost:8080/"
        },
        "id": "lUigxIRZtavq",
        "outputId": "5e43bd2c-64f4-4db5-a79b-85577f1a9273"
      },
      "source": [
        "a2 = pair[pair['paper2'] == '10.1103/PhysRevA.43.663'].sort_values(['year1', 'paper1', 'qval'])\n",
        "b2 = pair[pair['paper1'] == '10.1103/PhysRevA.43.663'].sort_values(['year1', 'paper1', 'qval'])\n",
        "print(len(a2))\n",
        "print(len(b2))"
      ],
      "execution_count": null,
      "outputs": [
        {
          "output_type": "stream",
          "text": [
            "44\n",
            "17\n"
          ],
          "name": "stdout"
        }
      ]
    },
    {
      "cell_type": "code",
      "metadata": {
        "id": "6y1R9ZadnDQp",
        "colab": {
          "base_uri": "https://localhost:8080/"
        },
        "outputId": "135c6f1d-8be9-4cb7-ce7c-7d111c0d10c7"
      },
      "source": [
        "s1 = a1.merge(a2, how='inner', on=['paper1'])\n",
        "s2 = b1.merge(b2, how='inner', on=['paper2'])\n",
        "print(len(s1))\n",
        "print(len(s2))"
      ],
      "execution_count": null,
      "outputs": [
        {
          "output_type": "stream",
          "text": [
            "16\n",
            "15\n"
          ],
          "name": "stdout"
        }
      ]
    },
    {
      "cell_type": "markdown",
      "metadata": {
        "id": "7oMywaPx5oLK"
      },
      "source": [
        "# 0. Mega Dataset Setup (For 1c)"
      ]
    },
    {
      "cell_type": "code",
      "metadata": {
        "id": "iZ-hmsAc5sde"
      },
      "source": [
        "fout=open(\"drive/My Drive/codes/initpair.csv\",\"a\")\n",
        "# first file:\n",
        "for line in open(\"drive/My Drive/codes/hom0.csv\"):\n",
        "    fout.write(line)\n",
        "# now the rest:    \n",
        "for num in range(1,10):\n",
        "    f = open(\"drive/My Drive/codes/hom\"+str(num)+\".csv\")\n",
        "    f.__next__() # skip the header\n",
        "    for line in f:\n",
        "         fout.write(line)\n",
        "    f.close() # not really needed\n",
        "fout.close()"
      ],
      "execution_count": null,
      "outputs": []
    },
    {
      "cell_type": "code",
      "metadata": {
        "id": "S5zbHisE6b-M"
      },
      "source": [
        "initpair = pd.read_csv(\"drive/My Drive/codes/initpair.csv\")"
      ],
      "execution_count": null,
      "outputs": []
    },
    {
      "cell_type": "code",
      "metadata": {
        "colab": {
          "base_uri": "https://localhost:8080/",
          "height": 222
        },
        "id": "c9bLh1ki6g1R",
        "outputId": "3cd0e34a-d099-4b94-e015-70c3e213ed45"
      },
      "source": [
        "print(len(initpair))\n",
        "initpair.head()"
      ],
      "execution_count": null,
      "outputs": [
        {
          "output_type": "stream",
          "text": [
            "6045172\n"
          ],
          "name": "stdout"
        },
        {
          "output_type": "execute_result",
          "data": {
            "text/html": [
              "<div>\n",
              "<style scoped>\n",
              "    .dataframe tbody tr th:only-of-type {\n",
              "        vertical-align: middle;\n",
              "    }\n",
              "\n",
              "    .dataframe tbody tr th {\n",
              "        vertical-align: top;\n",
              "    }\n",
              "\n",
              "    .dataframe thead th {\n",
              "        text-align: right;\n",
              "    }\n",
              "</style>\n",
              "<table border=\"1\" class=\"dataframe\">\n",
              "  <thead>\n",
              "    <tr style=\"text-align: right;\">\n",
              "      <th></th>\n",
              "      <th>paper1</th>\n",
              "      <th>gender1</th>\n",
              "      <th>year1</th>\n",
              "      <th>paper2</th>\n",
              "      <th>gender2</th>\n",
              "      <th>year2</th>\n",
              "      <th>qval</th>\n",
              "      <th>k</th>\n",
              "    </tr>\n",
              "  </thead>\n",
              "  <tbody>\n",
              "    <tr>\n",
              "      <th>0</th>\n",
              "      <td>10.1103/PhysRevA.30.336</td>\n",
              "      <td>male</td>\n",
              "      <td>1984</td>\n",
              "      <td>10.1103/PhysRevA.34.1617</td>\n",
              "      <td>male</td>\n",
              "      <td>1986</td>\n",
              "      <td>0.001230</td>\n",
              "      <td>False</td>\n",
              "    </tr>\n",
              "    <tr>\n",
              "      <th>1</th>\n",
              "      <td>10.1103/PhysRevA.30.336</td>\n",
              "      <td>male</td>\n",
              "      <td>1984</td>\n",
              "      <td>10.1103/PhysRevA.34.4472</td>\n",
              "      <td>female</td>\n",
              "      <td>1986</td>\n",
              "      <td>0.017857</td>\n",
              "      <td>False</td>\n",
              "    </tr>\n",
              "    <tr>\n",
              "      <th>2</th>\n",
              "      <td>10.1103/PhysRevA.30.336</td>\n",
              "      <td>male</td>\n",
              "      <td>1984</td>\n",
              "      <td>10.1103/PhysRevA.41.784</td>\n",
              "      <td>male</td>\n",
              "      <td>1990</td>\n",
              "      <td>0.017857</td>\n",
              "      <td>False</td>\n",
              "    </tr>\n",
              "    <tr>\n",
              "      <th>3</th>\n",
              "      <td>10.1103/PhysRevA.34.4472</td>\n",
              "      <td>female</td>\n",
              "      <td>1986</td>\n",
              "      <td>10.1103/PhysRevA.41.784</td>\n",
              "      <td>male</td>\n",
              "      <td>1990</td>\n",
              "      <td>0.017857</td>\n",
              "      <td>False</td>\n",
              "    </tr>\n",
              "    <tr>\n",
              "      <th>4</th>\n",
              "      <td>10.1103/PhysRevA.36.4950</td>\n",
              "      <td>female</td>\n",
              "      <td>1987</td>\n",
              "      <td>10.1103/PhysRevA.41.784</td>\n",
              "      <td>male</td>\n",
              "      <td>1990</td>\n",
              "      <td>0.006410</td>\n",
              "      <td>False</td>\n",
              "    </tr>\n",
              "  </tbody>\n",
              "</table>\n",
              "</div>"
            ],
            "text/plain": [
              "                     paper1 gender1  year1  ... year2      qval      k\n",
              "0   10.1103/PhysRevA.30.336    male   1984  ...  1986  0.001230  False\n",
              "1   10.1103/PhysRevA.30.336    male   1984  ...  1986  0.017857  False\n",
              "2   10.1103/PhysRevA.30.336    male   1984  ...  1990  0.017857  False\n",
              "3  10.1103/PhysRevA.34.4472  female   1986  ...  1990  0.017857  False\n",
              "4  10.1103/PhysRevA.36.4950  female   1987  ...  1990  0.006410  False\n",
              "\n",
              "[5 rows x 8 columns]"
            ]
          },
          "metadata": {
            "tags": []
          },
          "execution_count": 27
        }
      ]
    },
    {
      "cell_type": "code",
      "metadata": {
        "colab": {
          "base_uri": "https://localhost:8080/",
          "height": 222
        },
        "id": "Va8-OOXh7KYU",
        "outputId": "fc919083-bba7-4af1-eae5-0228abeec37d"
      },
      "source": [
        "pairdata = initpair.drop_duplicates()\n",
        "print(len(pairdata))\n",
        "pairdata.head()"
      ],
      "execution_count": null,
      "outputs": [
        {
          "output_type": "stream",
          "text": [
            "5856207\n"
          ],
          "name": "stdout"
        },
        {
          "output_type": "execute_result",
          "data": {
            "text/html": [
              "<div>\n",
              "<style scoped>\n",
              "    .dataframe tbody tr th:only-of-type {\n",
              "        vertical-align: middle;\n",
              "    }\n",
              "\n",
              "    .dataframe tbody tr th {\n",
              "        vertical-align: top;\n",
              "    }\n",
              "\n",
              "    .dataframe thead th {\n",
              "        text-align: right;\n",
              "    }\n",
              "</style>\n",
              "<table border=\"1\" class=\"dataframe\">\n",
              "  <thead>\n",
              "    <tr style=\"text-align: right;\">\n",
              "      <th></th>\n",
              "      <th>paper1</th>\n",
              "      <th>gender1</th>\n",
              "      <th>year1</th>\n",
              "      <th>paper2</th>\n",
              "      <th>gender2</th>\n",
              "      <th>year2</th>\n",
              "      <th>qval</th>\n",
              "      <th>k</th>\n",
              "    </tr>\n",
              "  </thead>\n",
              "  <tbody>\n",
              "    <tr>\n",
              "      <th>0</th>\n",
              "      <td>10.1103/PhysRevA.30.336</td>\n",
              "      <td>male</td>\n",
              "      <td>1984</td>\n",
              "      <td>10.1103/PhysRevA.34.1617</td>\n",
              "      <td>male</td>\n",
              "      <td>1986</td>\n",
              "      <td>0.001230</td>\n",
              "      <td>False</td>\n",
              "    </tr>\n",
              "    <tr>\n",
              "      <th>1</th>\n",
              "      <td>10.1103/PhysRevA.30.336</td>\n",
              "      <td>male</td>\n",
              "      <td>1984</td>\n",
              "      <td>10.1103/PhysRevA.34.4472</td>\n",
              "      <td>female</td>\n",
              "      <td>1986</td>\n",
              "      <td>0.017857</td>\n",
              "      <td>False</td>\n",
              "    </tr>\n",
              "    <tr>\n",
              "      <th>2</th>\n",
              "      <td>10.1103/PhysRevA.30.336</td>\n",
              "      <td>male</td>\n",
              "      <td>1984</td>\n",
              "      <td>10.1103/PhysRevA.41.784</td>\n",
              "      <td>male</td>\n",
              "      <td>1990</td>\n",
              "      <td>0.017857</td>\n",
              "      <td>False</td>\n",
              "    </tr>\n",
              "    <tr>\n",
              "      <th>3</th>\n",
              "      <td>10.1103/PhysRevA.34.4472</td>\n",
              "      <td>female</td>\n",
              "      <td>1986</td>\n",
              "      <td>10.1103/PhysRevA.41.784</td>\n",
              "      <td>male</td>\n",
              "      <td>1990</td>\n",
              "      <td>0.017857</td>\n",
              "      <td>False</td>\n",
              "    </tr>\n",
              "    <tr>\n",
              "      <th>4</th>\n",
              "      <td>10.1103/PhysRevA.36.4950</td>\n",
              "      <td>female</td>\n",
              "      <td>1987</td>\n",
              "      <td>10.1103/PhysRevA.41.784</td>\n",
              "      <td>male</td>\n",
              "      <td>1990</td>\n",
              "      <td>0.006410</td>\n",
              "      <td>False</td>\n",
              "    </tr>\n",
              "  </tbody>\n",
              "</table>\n",
              "</div>"
            ],
            "text/plain": [
              "                     paper1 gender1  year1  ... year2      qval      k\n",
              "0   10.1103/PhysRevA.30.336    male   1984  ...  1986  0.001230  False\n",
              "1   10.1103/PhysRevA.30.336    male   1984  ...  1986  0.017857  False\n",
              "2   10.1103/PhysRevA.30.336    male   1984  ...  1990  0.017857  False\n",
              "3  10.1103/PhysRevA.34.4472  female   1986  ...  1990  0.017857  False\n",
              "4  10.1103/PhysRevA.36.4950  female   1987  ...  1990  0.006410  False\n",
              "\n",
              "[5 rows x 8 columns]"
            ]
          },
          "metadata": {
            "tags": []
          },
          "execution_count": 28
        }
      ]
    },
    {
      "cell_type": "code",
      "metadata": {
        "id": "NFKnM4Xw9E-A"
      },
      "source": [
        "pairdata.to_csv(\"drive/My Drive/codes/pairdata.csv\", index=False)"
      ],
      "execution_count": null,
      "outputs": []
    },
    {
      "cell_type": "markdown",
      "metadata": {
        "id": "rFMhtOjv_hGO"
      },
      "source": [
        "# 1. Year Diff. vs. Centrality Diff."
      ]
    },
    {
      "cell_type": "code",
      "metadata": {
        "id": "5hnviNeXU9gt"
      },
      "source": [
        "homn = pd.read_csv(\"drive/My Drive/codes/pairdata.csv\")\n",
        "# homn.head()"
      ],
      "execution_count": null,
      "outputs": []
    },
    {
      "cell_type": "code",
      "metadata": {
        "id": "5MhhRxpe_c6r",
        "colab": {
          "base_uri": "https://localhost:8080/",
          "height": 221
        },
        "outputId": "46bd9cf3-84ae-489f-d2df-a9c1af3468ab"
      },
      "source": [
        "############## SELECT DESIRED PACS (HOMOPHILY ONLY) ###############\n",
        "\n",
        "# homn = pd.read_csv(\"drive/My Drive/codes/hom0.csv\")\n",
        "# homn = pd.read_csv(\"drive/My Drive/codes/hom1.csv\")\n",
        "# homn = pd.read_csv(\"drive/My Drive/codes/hom2.csv\")\n",
        "# homn = pd.read_csv(\"drive/My Drive/codes/hom3.csv\")\n",
        "# homn = pd.read_csv(\"drive/My Drive/codes/hom4.csv\")\n",
        "# homn = pd.read_csv(\"drive/My Drive/codes/hom5.csv\")\n",
        "# homn = pd.read_csv(\"drive/My Drive/codes/hom6.csv\")\n",
        "# homn = pd.read_csv(\"drive/My Drive/codes/hom7.csv\")\n",
        "# homn = pd.read_csv(\"drive/My Drive/codes/hom8.csv\")\n",
        "homn = pd.read_csv(\"drive/My Drive/codes/hom9.csv\")\n",
        "\n",
        "print(len(homn))\n",
        "homn.head()"
      ],
      "execution_count": null,
      "outputs": [
        {
          "output_type": "stream",
          "name": "stdout",
          "text": [
            "103313\n"
          ]
        },
        {
          "output_type": "execute_result",
          "data": {
            "text/html": [
              "<div>\n",
              "<style scoped>\n",
              "    .dataframe tbody tr th:only-of-type {\n",
              "        vertical-align: middle;\n",
              "    }\n",
              "\n",
              "    .dataframe tbody tr th {\n",
              "        vertical-align: top;\n",
              "    }\n",
              "\n",
              "    .dataframe thead th {\n",
              "        text-align: right;\n",
              "    }\n",
              "</style>\n",
              "<table border=\"1\" class=\"dataframe\">\n",
              "  <thead>\n",
              "    <tr style=\"text-align: right;\">\n",
              "      <th></th>\n",
              "      <th>paper1</th>\n",
              "      <th>gender1</th>\n",
              "      <th>year1</th>\n",
              "      <th>paper2</th>\n",
              "      <th>gender2</th>\n",
              "      <th>year2</th>\n",
              "      <th>qval</th>\n",
              "      <th>k</th>\n",
              "    </tr>\n",
              "  </thead>\n",
              "  <tbody>\n",
              "    <tr>\n",
              "      <th>0</th>\n",
              "      <td>10.1103/PhysRevA.35.4035</td>\n",
              "      <td>male</td>\n",
              "      <td>1987</td>\n",
              "      <td>10.1103/PhysRevA.36.4163</td>\n",
              "      <td>male</td>\n",
              "      <td>1987</td>\n",
              "      <td>0.001441</td>\n",
              "      <td>False</td>\n",
              "    </tr>\n",
              "    <tr>\n",
              "      <th>1</th>\n",
              "      <td>10.1103/PhysRevA.36.4700</td>\n",
              "      <td>male</td>\n",
              "      <td>1987</td>\n",
              "      <td>10.1103/PhysRevA.38.1839</td>\n",
              "      <td>male</td>\n",
              "      <td>1988</td>\n",
              "      <td>0.003817</td>\n",
              "      <td>True</td>\n",
              "    </tr>\n",
              "    <tr>\n",
              "      <th>2</th>\n",
              "      <td>10.1103/PhysRevA.36.4700</td>\n",
              "      <td>male</td>\n",
              "      <td>1987</td>\n",
              "      <td>10.1103/PhysRevA.40.6260</td>\n",
              "      <td>male</td>\n",
              "      <td>1989</td>\n",
              "      <td>0.003817</td>\n",
              "      <td>True</td>\n",
              "    </tr>\n",
              "    <tr>\n",
              "      <th>3</th>\n",
              "      <td>10.1103/PhysRevA.38.1839</td>\n",
              "      <td>male</td>\n",
              "      <td>1988</td>\n",
              "      <td>10.1103/PhysRevA.40.6260</td>\n",
              "      <td>male</td>\n",
              "      <td>1989</td>\n",
              "      <td>0.000015</td>\n",
              "      <td>True</td>\n",
              "    </tr>\n",
              "    <tr>\n",
              "      <th>4</th>\n",
              "      <td>10.1103/PhysRevA.36.4700</td>\n",
              "      <td>male</td>\n",
              "      <td>1987</td>\n",
              "      <td>10.1103/PhysRevA.40.6931</td>\n",
              "      <td>male</td>\n",
              "      <td>1989</td>\n",
              "      <td>0.003817</td>\n",
              "      <td>True</td>\n",
              "    </tr>\n",
              "  </tbody>\n",
              "</table>\n",
              "</div>"
            ],
            "text/plain": [
              "                     paper1 gender1  year1  ... year2      qval      k\n",
              "0  10.1103/PhysRevA.35.4035    male   1987  ...  1987  0.001441  False\n",
              "1  10.1103/PhysRevA.36.4700    male   1987  ...  1988  0.003817   True\n",
              "2  10.1103/PhysRevA.36.4700    male   1987  ...  1989  0.003817   True\n",
              "3  10.1103/PhysRevA.38.1839    male   1988  ...  1989  0.000015   True\n",
              "4  10.1103/PhysRevA.36.4700    male   1987  ...  1989  0.003817   True\n",
              "\n",
              "[5 rows x 8 columns]"
            ]
          },
          "metadata": {},
          "execution_count": 87
        }
      ]
    },
    {
      "cell_type": "code",
      "metadata": {
        "id": "xShVU-dK__2f"
      },
      "source": [
        "dc = data[[\"doi\", \"year\"]].drop_duplicates(subset = 'doi')\n",
        "dc = dc.merge(cb, left_on = 'doi',\n",
        "              right_on = 'citing_doi', how = 'inner').drop(\n",
        "                  ['doi'], axis=1).rename({'year': 'citing_year'}, axis=1)\n",
        "\n",
        "cols = ['citing_doi', 'citing_year', 'cited_doi']\n",
        "dc = dc.reindex(columns=cols).sort_values('cited_doi')"
      ],
      "execution_count": null,
      "outputs": []
    },
    {
      "cell_type": "code",
      "metadata": {
        "id": "dOOYM-Pl_xC8"
      },
      "source": [
        "hom_mf = homn[homn[\"gender1\"] != homn[\"gender2\"]].reset_index(drop=True)\n",
        "\n",
        "test = hom_mf.merge(dc, left_on = 'paper1',\n",
        "                    right_on = 'cited_doi', how = 'left').drop(\n",
        "                        [\"cited_doi\", \"citing_year\"], axis=1).drop_duplicates(\n",
        "                            subset=['paper1', 'citing_doi'])\n",
        "test['count'] = test.groupby(['paper1'])['paper1'].transform('count')\n",
        "test = test.drop([\"citing_doi\"], axis=1).rename({'count': 'count1'}, axis=1)\n",
        "\n",
        "test = test.drop_duplicates(subset=['paper1', 'paper2']).drop(\n",
        "    ['gender1', 'year1', 'paper2', 'gender2', 'year2', 'qval', 'k'], axis=1)\n",
        "hom_mf = hom_mf.merge(test, on='paper1', how='inner')\n",
        "\n",
        "test = hom_mf.merge(dc, left_on = 'paper2',\n",
        "                    right_on = 'cited_doi', how = 'left').drop(\n",
        "                        [\"cited_doi\", \"citing_year\"], axis=1).drop_duplicates(\n",
        "                            subset=['paper2', 'citing_doi'])\n",
        "test['count'] = test.groupby(['paper2'])['paper2'].transform('count')\n",
        "test = test.drop([\"citing_doi\"], axis=1).rename(\n",
        "    {'count': 'count2'}, axis=1).drop_duplicates(\n",
        "        subset=['paper1', 'paper2']).drop(\n",
        "            ['gender1', 'year1', 'paper1', 'gender2', 'count1',\n",
        "             'year2', 'qval', 'k'], axis=1)\n",
        "hom_mf = hom_mf.merge(test, on='paper2', how='inner')\n",
        "\n",
        "del test\n",
        "\n",
        "# print(len(hom_mf))\n",
        "# print(hom_mf['paper1'].nunique())\n",
        "# hom_mf.head()"
      ],
      "execution_count": null,
      "outputs": []
    },
    {
      "cell_type": "code",
      "metadata": {
        "id": "_UWLgiGp_4qu"
      },
      "source": [
        "listd = []\n",
        "listy = []\n",
        "\n",
        "for c in range(len(hom_mf)):\n",
        "  if hom_mf['gender1'][c] == 'male':\n",
        "    listd.append(hom_mf['count1'][c] - hom_mf['count2'][c])\n",
        "    listy.append(hom_mf['year1'][c] - hom_mf['year2'][c])\n",
        "  else:\n",
        "    listd.append(hom_mf['count2'][c] - hom_mf['count1'][c])\n",
        "    listy.append(hom_mf['year2'][c] - hom_mf['year1'][c])\n",
        "\n",
        "hom_mf['countd'] = listd\n",
        "hom_mf['yeard'] = listy\n",
        "\n",
        "# print(len(hom_mf))\n",
        "# hom_mf.head()"
      ],
      "execution_count": null,
      "outputs": []
    },
    {
      "cell_type": "code",
      "metadata": {
        "id": "Dqx-tEzfnJGC"
      },
      "source": [
        "hom_mf = hom_mf.sort_values('qval').drop_duplicates(subset=['paper1', 'paper2'], keep='first')\n",
        "# print(len(hom_mf))\n",
        "# hom_mf.head()"
      ],
      "execution_count": null,
      "outputs": []
    },
    {
      "cell_type": "code",
      "metadata": {
        "id": "2dKx13S8ATfe",
        "colab": {
          "base_uri": "https://localhost:8080/"
        },
        "outputId": "e7e2a42b-59ac-40bd-a8ce-e1be67a72235"
      },
      "source": [
        "# use p-values from the paper\n",
        "p = 0.006\n",
        "\n",
        "homp = hom_mf[hom_mf['qval'] < p].sort_values('countd').reset_index(drop=True)\n",
        "len(homp)/len(hom_mf)"
      ],
      "execution_count": null,
      "outputs": [
        {
          "output_type": "execute_result",
          "data": {
            "text/plain": [
              "0.05549040511727079"
            ]
          },
          "metadata": {},
          "execution_count": 92
        }
      ]
    },
    {
      "cell_type": "code",
      "metadata": {
        "id": "gRX9HXCnJ0sS"
      },
      "source": [
        "block12 = homp[homp['countd'] > 0]\n",
        "block34 = homp[homp['countd'] < 0]\n",
        "\n",
        "block1 = block12[block12['yeard'] > 0]\n",
        "block2 = block12[block12['yeard'] < 0]\n",
        "block3 = block34[block34['yeard'] < 0]\n",
        "block4 = block34[block34['yeard'] > 0]"
      ],
      "execution_count": null,
      "outputs": []
    },
    {
      "cell_type": "code",
      "metadata": {
        "colab": {
          "base_uri": "https://localhost:8080/",
          "height": 333
        },
        "id": "lnYUeBv2J-rM",
        "outputId": "387e7417-fbff-4ecc-802a-98590d4252a6"
      },
      "source": [
        "# build scatterplots\n",
        "\n",
        "fig, ax = plt.subplots(figsize=(6,4.5))\n",
        "right_side = ax.spines[\"right\"]\n",
        "top_side = ax.spines[\"top\"]\n",
        "right_side.set_visible(False)\n",
        "top_side.set_visible(False)\n",
        "\n",
        "plt.title(\"PACS 90\", fontsize=20)\n",
        "plt.scatter(block1.yeard, block1.countd, s=3, c='#000000')\n",
        "plt.scatter(block2.yeard, block2.countd, s=3, c='#c20114')\n",
        "plt.scatter(block3.yeard, block3.countd, s=3, c='#59a96a')\n",
        "plt.scatter(block4.yeard, block4.countd, s=3, c='#985f99')\n",
        "plt.axhline(y=0, linewidth=0.5, c='k', lw=3)\n",
        "plt.axvline(x=0, linewidth=0.5, c='k', lw=3)\n",
        "plt.xlabel(\"\\u0394(Year)\", fontsize=20)\n",
        "plt.ylabel(\"\\u0394(Citation)\", fontsize=20)\n",
        "plt.ylim(ymin=-320, ymax=320)\n",
        "plt.xlim(xmin=-25, xmax=25)\n",
        "\n",
        "plt.xticks(fontsize=15)\n",
        "plt.yticks(fontsize=15)\n",
        "plt.tight_layout()\n",
        "fig.savefig(\"drive/My Drive/codes/scatter90.pdf\")"
      ],
      "execution_count": null,
      "outputs": [
        {
          "output_type": "display_data",
          "data": {
            "image/png": "[encoded data removed]",
            "text/plain": [
              "<Figure size 432x324 with 1 Axes>"
            ]
          },
          "metadata": {
            "needs_background": "light"
          }
        }
      ]
    },
    {
      "cell_type": "code",
      "metadata": {
        "id": "7V0xbYwr8wVR"
      },
      "source": [
        "# block12 = homp[homp['yeard'] > 0]\n",
        "# block34 = homp[homp['yeard'] < 0]\n",
        "\n",
        "# block1 = block12[block12['countd'] > 0]\n",
        "# block2 = block12[block12['countd'] < 0]\n",
        "# block3 = block34[block34['countd'] < 0]\n",
        "# block4 = block34[block34['countd'] > 0]"
      ],
      "execution_count": null,
      "outputs": []
    },
    {
      "cell_type": "code",
      "metadata": {
        "colab": {
          "base_uri": "https://localhost:8080/",
          "height": 333
        },
        "id": "W6QFYmgisMFF",
        "outputId": "58a8d2a1-dd7b-44b5-8ea9-7f51f5ce0e46"
      },
      "source": [
        "# # build scatterplots\n",
        "\n",
        "# fig, ax = plt.subplots(figsize=(6,4.5))\n",
        "# right_side = ax.spines[\"right\"]\n",
        "# top_side = ax.spines[\"top\"]\n",
        "# right_side.set_visible(False)\n",
        "# top_side.set_visible(False)\n",
        "\n",
        "# plt.title(\"PACS 00\", fontsize=20)\n",
        "# plt.scatter(block1.countd, block1.yeard, s=3, c='#000000')\n",
        "# plt.scatter(block2.countd, block2.yeard, s=3, c='#c20114')\n",
        "# plt.scatter(block3.countd, block3.yeard, s=3, c='#59a96a')\n",
        "# plt.scatter(block4.countd, block4.yeard, s=3, c='#985f99')\n",
        "# plt.axhline(y=0, linewidth=0.5, c='k', lw=3)\n",
        "# plt.axvline(x=0, linewidth=0.5, c='k', lw=3)\n",
        "# plt.xlabel(\"\\u0394(Citation)\", fontsize=20)\n",
        "# plt.ylabel(\"\\u0394(Year)\", fontsize=20)\n",
        "# plt.xlim(xmin=-320, xmax=320)\n",
        "# plt.ylim(ymin=-25, ymax=25)\n",
        "\n",
        "# # t1 = (\"Female published first \\nbut male has \\nhigher centrality\")\n",
        "# # t2 = (\"Female published \\nfirst and has \\nhigher centrality\")\n",
        "# # t3 = (\"Male published first \\nbut female has \\nhigher centrality\")\n",
        "# # t4 = (\"Male published \\nfirst and has \\nhigher centrality\")\n",
        "# # plt.text(100, 23, t1, ha='left', rotation=0, wrap=True,fontsize=12, color='#000000')\n",
        "# # plt.text(-300, 23, t2, ha='left', rotation=0, wrap=True,fontsize=12, color='#c20114')\n",
        "# # plt.text(-300, -26, t3, ha='left', rotation=0, wrap=True,fontsize=12, color='#59a96a')\n",
        "# # plt.text(180, -26, t4, ha='left', rotation=0, wrap=True,fontsize=12, color='#985f99')\n",
        "\n",
        "# plt.xticks(fontsize=15)\n",
        "# plt.yticks(fontsize=15)\n",
        "# plt.tight_layout()\n",
        "# # fig.savefig(\"drive/My Drive/codes/scatter00.pdf\")"
      ],
      "execution_count": null,
      "outputs": [
        {
          "output_type": "display_data",
          "data": {
            "image/png": "[encoded data removed]",
            "text/plain": [
              "<Figure size 432x324 with 1 Axes>"
            ]
          },
          "metadata": {
            "tags": [],
            "needs_background": "light"
          }
        }
      ]
    },
    {
      "cell_type": "code",
      "metadata": {
        "colab": {
          "base_uri": "https://localhost:8080/"
        },
        "id": "qx58N8bxMNmb",
        "outputId": "faee12ad-92ed-49be-f243-9734be303b07"
      },
      "source": [
        "comp13 = []\n",
        "\n",
        "for i in range(1,11):\n",
        "  b1 = block1[block1['yeard'] == i]\n",
        "  b3 = block3[block3['yeard'] == i * -1]\n",
        "  if len(b1) < 2 or len(b3) < 2:\n",
        "    print('NA')\n",
        "    comp13.append('NA')\n",
        "  else:\n",
        "    xd = b1['countd'].mean() - abs(b3['countd']).mean()\n",
        "    var = math.sqrt(statistics.stdev(b1['countd'])**2/len(b1) +\n",
        "                    statistics.stdev(abs(b3['countd']))**2/len(b3))\n",
        "\n",
        "    print(xd/var)\n",
        "    comp13.append(xd/var)"
      ],
      "execution_count": null,
      "outputs": [
        {
          "output_type": "stream",
          "text": [
            "0.8158402110290052\n",
            "-0.49856196180634105\n",
            "0.8695219007868744\n",
            "-1.2088592307974118\n",
            "0.8910220423331912\n",
            "0.6168318825559228\n",
            "1.0673821256831937\n",
            "-2.5156444807016496\n",
            "1.054526604284277\n",
            "0.426401432711221\n"
          ],
          "name": "stdout"
        }
      ]
    },
    {
      "cell_type": "code",
      "metadata": {
        "colab": {
          "base_uri": "https://localhost:8080/"
        },
        "id": "I6sRAxe3NpqC",
        "outputId": "014f259e-e67d-4efc-bf9d-33cf747475cc"
      },
      "source": [
        "comp42 = []\n",
        "\n",
        "for i in range(1,11):\n",
        "  b4 = block4[block4['yeard'] == i * -1]\n",
        "  b2 = block2[block2['yeard'] == i]\n",
        "  if len(b4) < 2 or len(b2) < 2:\n",
        "    print('NA')\n",
        "    comp42.append('NA')\n",
        "  else:\n",
        "    xd = b4['countd'].mean() - abs(b2['countd']).mean()\n",
        "    var = math.sqrt(statistics.stdev(b4['countd'])**2/len(b4) +\n",
        "                    statistics.stdev(abs(b2['countd']))**2/len(b2))\n",
        "\n",
        "    print(xd/var)\n",
        "    comp42.append(xd/var)"
      ],
      "execution_count": null,
      "outputs": [
        {
          "output_type": "stream",
          "text": [
            "2.438854165106327\n",
            "1.145680330014612\n",
            "0.1341160382208422\n",
            "-0.01567356435636408\n",
            "0.2543399375927419\n",
            "-0.7550790628940044\n",
            "-0.6662109867416135\n",
            "0.5238284727557534\n",
            "-1.5591414236426762\n",
            "-1.9832409332101932\n"
          ],
          "name": "stdout"
        }
      ]
    },
    {
      "cell_type": "code",
      "metadata": {
        "id": "wf2_YeiCj_es",
        "colab": {
          "base_uri": "https://localhost:8080/",
          "height": 332
        },
        "outputId": "03aa1a36-7df6-4bd6-86c3-75539ca0d97c"
      },
      "source": [
        "# build scatterplots\n",
        "\n",
        "# zeros are included for the graphic reasons - removed for analysis\n",
        "\n",
        "# block12 = homp[homp['yeard'] >= 0]\n",
        "# block34 = homp[homp['yeard'] < 0]\n",
        "\n",
        "# block1 = block12[block12['countd'] >= 0]\n",
        "# block2 = block12[block12['countd'] < 0]\n",
        "# block4 = block34[block34['countd'] >= 0]\n",
        "# block3 = block34[block34['countd'] < 0]\n",
        "\n",
        "fig, ax = plt.subplots(figsize=(6,4.5))\n",
        "right_side = ax.spines[\"right\"]\n",
        "top_side = ax.spines[\"top\"]\n",
        "right_side.set_visible(False)\n",
        "top_side.set_visible(False)\n",
        "\n",
        "# plt.title(\"PACS 00, Centrality and Year Difference\")\n",
        "plt.scatter(block1.countd, block1.yeard, s=3, c='#000000')\n",
        "plt.scatter(block2.countd, block2.yeard, s=3, c='#c20114')\n",
        "plt.scatter(block3.countd, block3.yeard, s=3, c='#59a96a')\n",
        "plt.scatter(block4.countd, block4.yeard, s=3, c='#985f99')\n",
        "plt.axhline(y=0, linewidth=0.5, c='k', lw=3)\n",
        "plt.axvline(x=0, linewidth=0.5, c='k', lw=3)\n",
        "plt.xlabel(\"\\u0394(Citation)\", fontsize=20)\n",
        "plt.ylabel(\"\\u0394(Year)\", fontsize=20)\n",
        "plt.xlim(xmin=-320, xmax=320)\n",
        "# plt.xlim(xmin=-100)\n",
        "\n",
        "t1 = (\"Female published first \\nbut male has \\nhigher centrality\")\n",
        "t2 = (\"Female published \\nfirst and has \\nhigher centrality\")\n",
        "t3 = (\"Male published first \\nbut female has \\nhigher centrality\")\n",
        "t4 = (\"Male published \\nfirst and has \\nhigher centrality\")\n",
        "plt.text(100, 23, t1, ha='left', rotation=0, wrap=True,fontsize=12, color='#000000')\n",
        "plt.text(-300, 23, t2, ha='left', rotation=0, wrap=True,fontsize=12, color='#c20114')\n",
        "plt.text(-300, -26, t3, ha='left', rotation=0, wrap=True,fontsize=12, color='#59a96a')\n",
        "plt.text(180, -26, t4, ha='left', rotation=0, wrap=True,fontsize=12, color='#985f99')\n",
        "\n",
        "plt.xticks(fontsize=15)\n",
        "plt.yticks(fontsize=15)\n",
        "plt.tight_layout()\n",
        "fig.savefig(\"drive/My Drive/codes/scatter.pdf\")"
      ],
      "execution_count": null,
      "outputs": [
        {
          "output_type": "display_data",
          "data": {
            "image/png": "[encoded data removed]",
            "text/plain": [
              "<Figure size 432x324 with 1 Axes>"
            ]
          },
          "metadata": {
            "tags": [],
            "needs_background": "light"
          }
        }
      ]
    },
    {
      "cell_type": "markdown",
      "metadata": {
        "id": "2-a6l9DX3Cg0"
      },
      "source": [
        "# 1b. Centrality Difference Trend by Year"
      ]
    },
    {
      "cell_type": "code",
      "metadata": {
        "colab": {
          "base_uri": "https://localhost:8080/",
          "height": 222
        },
        "id": "25JN19US3HOT",
        "outputId": "d8223cc4-fda4-4a4a-cbe9-3940cb9798a1"
      },
      "source": [
        "############## SELECT DESIRED PACS (HOMOPHILY ONLY) ###############\n",
        "\n",
        "homn = pd.read_csv(\"drive/My Drive/codes/hom0.csv\")\n",
        "# homn = pd.read_csv(\"drive/My Drive/codes/hom1.csv\")\n",
        "# homn = pd.read_csv(\"drive/My Drive/codes/hom2.csv\")\n",
        "# homn = pd.read_csv(\"drive/My Drive/codes/hom3.csv\")\n",
        "# homn = pd.read_csv(\"drive/My Drive/codes/hom4.csv\")\n",
        "# homn = pd.read_csv(\"drive/My Drive/codes/hom5.csv\")\n",
        "# homn = pd.read_csv(\"drive/My Drive/codes/hom6.csv\")\n",
        "# homn = pd.read_csv(\"drive/My Drive/codes/hom7.csv\")\n",
        "# homn = pd.read_csv(\"drive/My Drive/codes/hom8.csv\")\n",
        "# homn = pd.read_csv(\"drive/My Drive/codes/hom9.csv\")\n",
        "\n",
        "print(len(homn))\n",
        "homn.head()"
      ],
      "execution_count": null,
      "outputs": [
        {
          "output_type": "stream",
          "text": [
            "1189255\n"
          ],
          "name": "stdout"
        },
        {
          "output_type": "execute_result",
          "data": {
            "text/html": [
              "<div>\n",
              "<style scoped>\n",
              "    .dataframe tbody tr th:only-of-type {\n",
              "        vertical-align: middle;\n",
              "    }\n",
              "\n",
              "    .dataframe tbody tr th {\n",
              "        vertical-align: top;\n",
              "    }\n",
              "\n",
              "    .dataframe thead th {\n",
              "        text-align: right;\n",
              "    }\n",
              "</style>\n",
              "<table border=\"1\" class=\"dataframe\">\n",
              "  <thead>\n",
              "    <tr style=\"text-align: right;\">\n",
              "      <th></th>\n",
              "      <th>paper1</th>\n",
              "      <th>gender1</th>\n",
              "      <th>year1</th>\n",
              "      <th>paper2</th>\n",
              "      <th>gender2</th>\n",
              "      <th>year2</th>\n",
              "      <th>qval</th>\n",
              "      <th>k</th>\n",
              "    </tr>\n",
              "  </thead>\n",
              "  <tbody>\n",
              "    <tr>\n",
              "      <th>0</th>\n",
              "      <td>10.1103/PhysRevA.30.336</td>\n",
              "      <td>male</td>\n",
              "      <td>1984</td>\n",
              "      <td>10.1103/PhysRevA.34.1617</td>\n",
              "      <td>male</td>\n",
              "      <td>1986</td>\n",
              "      <td>0.001230</td>\n",
              "      <td>False</td>\n",
              "    </tr>\n",
              "    <tr>\n",
              "      <th>1</th>\n",
              "      <td>10.1103/PhysRevA.30.336</td>\n",
              "      <td>male</td>\n",
              "      <td>1984</td>\n",
              "      <td>10.1103/PhysRevA.34.4472</td>\n",
              "      <td>female</td>\n",
              "      <td>1986</td>\n",
              "      <td>0.017857</td>\n",
              "      <td>False</td>\n",
              "    </tr>\n",
              "    <tr>\n",
              "      <th>2</th>\n",
              "      <td>10.1103/PhysRevA.30.336</td>\n",
              "      <td>male</td>\n",
              "      <td>1984</td>\n",
              "      <td>10.1103/PhysRevA.41.784</td>\n",
              "      <td>male</td>\n",
              "      <td>1990</td>\n",
              "      <td>0.017857</td>\n",
              "      <td>False</td>\n",
              "    </tr>\n",
              "    <tr>\n",
              "      <th>3</th>\n",
              "      <td>10.1103/PhysRevA.34.4472</td>\n",
              "      <td>female</td>\n",
              "      <td>1986</td>\n",
              "      <td>10.1103/PhysRevA.41.784</td>\n",
              "      <td>male</td>\n",
              "      <td>1990</td>\n",
              "      <td>0.017857</td>\n",
              "      <td>False</td>\n",
              "    </tr>\n",
              "    <tr>\n",
              "      <th>4</th>\n",
              "      <td>10.1103/PhysRevA.36.4950</td>\n",
              "      <td>female</td>\n",
              "      <td>1987</td>\n",
              "      <td>10.1103/PhysRevA.41.784</td>\n",
              "      <td>male</td>\n",
              "      <td>1990</td>\n",
              "      <td>0.006410</td>\n",
              "      <td>False</td>\n",
              "    </tr>\n",
              "  </tbody>\n",
              "</table>\n",
              "</div>"
            ],
            "text/plain": [
              "                     paper1 gender1  year1  ... year2      qval      k\n",
              "0   10.1103/PhysRevA.30.336    male   1984  ...  1986  0.001230  False\n",
              "1   10.1103/PhysRevA.30.336    male   1984  ...  1986  0.017857  False\n",
              "2   10.1103/PhysRevA.30.336    male   1984  ...  1990  0.017857  False\n",
              "3  10.1103/PhysRevA.34.4472  female   1986  ...  1990  0.017857  False\n",
              "4  10.1103/PhysRevA.36.4950  female   1987  ...  1990  0.006410  False\n",
              "\n",
              "[5 rows x 8 columns]"
            ]
          },
          "metadata": {
            "tags": []
          },
          "execution_count": 8
        }
      ]
    },
    {
      "cell_type": "code",
      "metadata": {
        "colab": {
          "base_uri": "https://localhost:8080/",
          "height": 222
        },
        "id": "Sh5NC0RP3OyJ",
        "outputId": "cd52d659-3122-4f1d-bdb2-8b659ecaefb1"
      },
      "source": [
        "dc = data[[\"doi\", \"year\"]].drop_duplicates(subset = 'doi')\n",
        "dc = dc.merge(cb, left_on = 'doi',\n",
        "              right_on = 'citing_doi', how = 'inner').drop(\n",
        "                  ['doi'], axis=1).rename({'year': 'citing_year'}, axis=1)\n",
        "\n",
        "cols = ['citing_doi', 'citing_year', 'cited_doi']\n",
        "dc = dc.reindex(columns=cols).sort_values('cited_doi')\n",
        "\n",
        "hom_mf = homn[homn[\"gender1\"] != homn[\"gender2\"]].reset_index(drop=True)\n",
        "\n",
        "test = hom_mf.merge(dc, left_on = 'paper1',\n",
        "                    right_on = 'cited_doi', how = 'left').drop(\n",
        "                        [\"cited_doi\", \"citing_year\"], axis=1).drop_duplicates(\n",
        "                            subset=['paper1', 'citing_doi'])\n",
        "test['count'] = test.groupby(['paper1'])['paper1'].transform('count')\n",
        "test = test.drop([\"citing_doi\"], axis=1).rename({'count': 'count1'}, axis=1)\n",
        "\n",
        "test = test.drop_duplicates(subset=['paper1', 'paper2']).drop(\n",
        "    ['gender1', 'year1', 'paper2', 'gender2', 'year2', 'qval', 'k'], axis=1)\n",
        "hom_mf = hom_mf.merge(test, on='paper1', how='inner')\n",
        "\n",
        "test = hom_mf.merge(dc, left_on = 'paper2',\n",
        "                    right_on = 'cited_doi', how = 'left').drop(\n",
        "                        [\"cited_doi\", \"citing_year\"], axis=1).drop_duplicates(\n",
        "                            subset=['paper2', 'citing_doi'])\n",
        "test['count'] = test.groupby(['paper2'])['paper2'].transform('count')\n",
        "test = test.drop([\"citing_doi\"], axis=1).rename(\n",
        "    {'count': 'count2'}, axis=1).drop_duplicates(\n",
        "        subset=['paper1', 'paper2']).drop(\n",
        "            ['gender1', 'year1', 'paper1', 'gender2', 'count1',\n",
        "             'year2', 'qval', 'k'], axis=1)\n",
        "hom_mf = hom_mf.merge(test, on='paper2', how='inner')\n",
        "\n",
        "del test\n",
        "\n",
        "listd = []\n",
        "listy = []\n",
        "\n",
        "for c in range(len(hom_mf)):\n",
        "  if hom_mf['gender1'][c] == 'male':\n",
        "    listd.append(hom_mf['count1'][c] - hom_mf['count2'][c])\n",
        "    listy.append(hom_mf['year1'][c] - hom_mf['year2'][c])\n",
        "  else:\n",
        "    listd.append(hom_mf['count2'][c] - hom_mf['count1'][c])\n",
        "    listy.append(hom_mf['year2'][c] - hom_mf['year1'][c])\n",
        "\n",
        "hom_mf['countd'] = listd\n",
        "hom_mf['yeard'] = listy\n",
        "\n",
        "print(len(hom_mf))\n",
        "hom_mf.head()"
      ],
      "execution_count": null,
      "outputs": [
        {
          "output_type": "stream",
          "text": [
            "184694\n"
          ],
          "name": "stdout"
        },
        {
          "output_type": "execute_result",
          "data": {
            "text/html": [
              "<div>\n",
              "<style scoped>\n",
              "    .dataframe tbody tr th:only-of-type {\n",
              "        vertical-align: middle;\n",
              "    }\n",
              "\n",
              "    .dataframe tbody tr th {\n",
              "        vertical-align: top;\n",
              "    }\n",
              "\n",
              "    .dataframe thead th {\n",
              "        text-align: right;\n",
              "    }\n",
              "</style>\n",
              "<table border=\"1\" class=\"dataframe\">\n",
              "  <thead>\n",
              "    <tr style=\"text-align: right;\">\n",
              "      <th></th>\n",
              "      <th>paper1</th>\n",
              "      <th>gender1</th>\n",
              "      <th>year1</th>\n",
              "      <th>paper2</th>\n",
              "      <th>gender2</th>\n",
              "      <th>year2</th>\n",
              "      <th>qval</th>\n",
              "      <th>k</th>\n",
              "      <th>count1</th>\n",
              "      <th>count2</th>\n",
              "      <th>countd</th>\n",
              "      <th>yeard</th>\n",
              "    </tr>\n",
              "  </thead>\n",
              "  <tbody>\n",
              "    <tr>\n",
              "      <th>0</th>\n",
              "      <td>10.1103/PhysRevA.30.336</td>\n",
              "      <td>male</td>\n",
              "      <td>1984</td>\n",
              "      <td>10.1103/PhysRevA.34.4472</td>\n",
              "      <td>female</td>\n",
              "      <td>1986</td>\n",
              "      <td>0.017857</td>\n",
              "      <td>False</td>\n",
              "      <td>11</td>\n",
              "      <td>2</td>\n",
              "      <td>9</td>\n",
              "      <td>-2</td>\n",
              "    </tr>\n",
              "    <tr>\n",
              "      <th>1</th>\n",
              "      <td>10.1103/PhysRevA.34.4472</td>\n",
              "      <td>female</td>\n",
              "      <td>1986</td>\n",
              "      <td>10.1103/PhysRevA.41.784</td>\n",
              "      <td>male</td>\n",
              "      <td>1990</td>\n",
              "      <td>0.017857</td>\n",
              "      <td>False</td>\n",
              "      <td>2</td>\n",
              "      <td>8</td>\n",
              "      <td>6</td>\n",
              "      <td>4</td>\n",
              "    </tr>\n",
              "    <tr>\n",
              "      <th>2</th>\n",
              "      <td>10.1103/PhysRevA.36.4950</td>\n",
              "      <td>female</td>\n",
              "      <td>1987</td>\n",
              "      <td>10.1103/PhysRevA.41.784</td>\n",
              "      <td>male</td>\n",
              "      <td>1990</td>\n",
              "      <td>0.006410</td>\n",
              "      <td>False</td>\n",
              "      <td>1</td>\n",
              "      <td>8</td>\n",
              "      <td>7</td>\n",
              "      <td>3</td>\n",
              "    </tr>\n",
              "    <tr>\n",
              "      <th>3</th>\n",
              "      <td>10.1103/PhysRevA.39.5466</td>\n",
              "      <td>female</td>\n",
              "      <td>1989</td>\n",
              "      <td>10.1103/PhysRevA.41.784</td>\n",
              "      <td>male</td>\n",
              "      <td>1990</td>\n",
              "      <td>0.006410</td>\n",
              "      <td>False</td>\n",
              "      <td>4</td>\n",
              "      <td>8</td>\n",
              "      <td>4</td>\n",
              "      <td>1</td>\n",
              "    </tr>\n",
              "    <tr>\n",
              "      <th>4</th>\n",
              "      <td>10.1103/PhysRevA.41.3081</td>\n",
              "      <td>female</td>\n",
              "      <td>1990</td>\n",
              "      <td>10.1103/PhysRevA.41.784</td>\n",
              "      <td>male</td>\n",
              "      <td>1990</td>\n",
              "      <td>0.000511</td>\n",
              "      <td>False</td>\n",
              "      <td>1</td>\n",
              "      <td>8</td>\n",
              "      <td>7</td>\n",
              "      <td>0</td>\n",
              "    </tr>\n",
              "  </tbody>\n",
              "</table>\n",
              "</div>"
            ],
            "text/plain": [
              "                     paper1 gender1  year1  ... count2 countd  yeard\n",
              "0   10.1103/PhysRevA.30.336    male   1984  ...      2      9     -2\n",
              "1  10.1103/PhysRevA.34.4472  female   1986  ...      8      6      4\n",
              "2  10.1103/PhysRevA.36.4950  female   1987  ...      8      7      3\n",
              "3  10.1103/PhysRevA.39.5466  female   1989  ...      8      4      1\n",
              "4  10.1103/PhysRevA.41.3081  female   1990  ...      8      7      0\n",
              "\n",
              "[5 rows x 12 columns]"
            ]
          },
          "metadata": {
            "tags": []
          },
          "execution_count": 6
        }
      ]
    },
    {
      "cell_type": "code",
      "metadata": {
        "id": "fRq1PGKVKB_t"
      },
      "source": [
        "# use p-values from the paper\n",
        "p = 0.002\n",
        "\n",
        "homp = hom_mf[hom_mf['qval'] < p].sort_values('countd').reset_index(drop=True)"
      ],
      "execution_count": null,
      "outputs": []
    },
    {
      "cell_type": "code",
      "metadata": {
        "id": "ND-CZFx4HV4s",
        "colab": {
          "base_uri": "https://localhost:8080/",
          "height": 222
        },
        "outputId": "57dadac3-6967-4b42-8539-e7080b44cc2d"
      },
      "source": [
        "plot_hom = homp[['year2', 'countd']].sort_values(by=['year2', 'countd'])\n",
        "plot_hom['normalized'] = plot_hom['countd'].div(plot_hom['countd'].abs().groupby(\n",
        "    plot_hom['year2']).transform('max'))\n",
        "# plot_hom['gender'] = ['male' if x >=0 else 'female' for x in plot_hom['countd']]\n",
        "\n",
        "print(len(plot_hom))\n",
        "plot_hom.head()"
      ],
      "execution_count": null,
      "outputs": [
        {
          "output_type": "stream",
          "text": [
            "9931\n"
          ],
          "name": "stdout"
        },
        {
          "output_type": "execute_result",
          "data": {
            "text/html": [
              "<div>\n",
              "<style scoped>\n",
              "    .dataframe tbody tr th:only-of-type {\n",
              "        vertical-align: middle;\n",
              "    }\n",
              "\n",
              "    .dataframe tbody tr th {\n",
              "        vertical-align: top;\n",
              "    }\n",
              "\n",
              "    .dataframe thead th {\n",
              "        text-align: right;\n",
              "    }\n",
              "</style>\n",
              "<table border=\"1\" class=\"dataframe\">\n",
              "  <thead>\n",
              "    <tr style=\"text-align: right;\">\n",
              "      <th></th>\n",
              "      <th>year2</th>\n",
              "      <th>countd</th>\n",
              "      <th>normalized</th>\n",
              "    </tr>\n",
              "  </thead>\n",
              "  <tbody>\n",
              "    <tr>\n",
              "      <th>1384</th>\n",
              "      <td>1982</td>\n",
              "      <td>-6</td>\n",
              "      <td>-0.105263</td>\n",
              "    </tr>\n",
              "    <tr>\n",
              "      <th>8610</th>\n",
              "      <td>1982</td>\n",
              "      <td>8</td>\n",
              "      <td>0.140351</td>\n",
              "    </tr>\n",
              "    <tr>\n",
              "      <th>9012</th>\n",
              "      <td>1982</td>\n",
              "      <td>11</td>\n",
              "      <td>0.192982</td>\n",
              "    </tr>\n",
              "    <tr>\n",
              "      <th>9861</th>\n",
              "      <td>1982</td>\n",
              "      <td>57</td>\n",
              "      <td>1.000000</td>\n",
              "    </tr>\n",
              "    <tr>\n",
              "      <th>9862</th>\n",
              "      <td>1982</td>\n",
              "      <td>57</td>\n",
              "      <td>1.000000</td>\n",
              "    </tr>\n",
              "  </tbody>\n",
              "</table>\n",
              "</div>"
            ],
            "text/plain": [
              "      year2  countd  normalized\n",
              "1384   1982      -6   -0.105263\n",
              "8610   1982       8    0.140351\n",
              "9012   1982      11    0.192982\n",
              "9861   1982      57    1.000000\n",
              "9862   1982      57    1.000000"
            ]
          },
          "metadata": {
            "tags": []
          },
          "execution_count": 8
        }
      ]
    },
    {
      "cell_type": "code",
      "metadata": {
        "colab": {
          "base_uri": "https://localhost:8080/"
        },
        "id": "ahLAuc773q_6",
        "outputId": "b5970775-cbc2-46f1-9fb0-04610da91b80"
      },
      "source": [
        "fig,ax = plt.subplots(1,1, figsize=[16,12])\n",
        "\n",
        "plt.axhline(y=0, color='black', linestyle='dotted')\n",
        "sns.lineplot(data=plot_hom, x=\"year2\", y=\"countd\",ax=ax,ci=None,color=\"black\")\n",
        "\n",
        "cm = sns.color_palette(\"Reds\",10)\n",
        "\n",
        "for ix,ci in enumerate(range(10,100,10)):\n",
        "    sns.lineplot(data=plot_hom, x=\"year2\", y=\"countd\",\n",
        "                 ci = ci,\n",
        "                 ax=ax,linestyle='',\n",
        "                 hue = ci,palette={ci:cm[ix]})"
      ],
      "execution_count": null,
      "outputs": [
        {
          "output_type": "display_data",
          "data": {
            "image/png": "[encoded data removed]",
            "text/plain": [
              "<Figure size 1152x864 with 1 Axes>"
            ]
          },
          "metadata": {
            "tags": [],
            "needs_background": "light"
          }
        }
      ]
    },
    {
      "cell_type": "code",
      "metadata": {
        "id": "32RGxXAxBZDG"
      },
      "source": [
        "plot_hom2 = plot_hom.groupby(['year2', 'countd']).sum().reset_index().groupby('year2').mean()\n",
        "\n",
        "fig,ax = plt.subplots(1,1, figsize=[16,12])\n",
        "\n",
        "plt.axhline(y=0, color='black', linestyle='dotted')\n",
        "sns.lineplot(data=plot_hom2, x=\"year2\", y=\"countd\",ax=ax,ci=None,color=\"black\")\n",
        "\n",
        "cm = sns.color_palette(\"Reds\",10)\n",
        "\n",
        "for ix,ci in enumerate(range(10,100,10)):\n",
        "    sns.lineplot(data=plot_hom2, x=\"year2\", y=\"countd\",\n",
        "                 ci = ci,\n",
        "                 ax=ax,linestyle='',\n",
        "                 hue = ci,palette={ci:cm[ix]})"
      ],
      "execution_count": null,
      "outputs": []
    },
    {
      "cell_type": "code",
      "metadata": {
        "id": "nXGZrq4AJXTC"
      },
      "source": [
        "# violinplot\n",
        "\n",
        "fig, axes = plt.subplots(figsize=[16,12])\n",
        "\n",
        "axes.violinplot(dataset = [plot_hom[plot_hom.year2 < 1991][\"countd\"].values,\n",
        "                           plot_hom[(plot_hom.year2 > 1990) & (plot_hom.year2 < 1996)][\"countd\"].values,\n",
        "                           plot_hom[(plot_hom.year2 > 1995) & (plot_hom.year2 < 2001)][\"countd\"].values,\n",
        "                           plot_hom[(plot_hom.year2 > 2000) & (plot_hom.year2 < 2006)][\"countd\"].values,\n",
        "                           plot_hom[plot_hom.year2 > 2005][\"countd\"].values])\n",
        "\n",
        "xnames = [\"\", \"-1990\", \"1991-1995\", \"1996-2000\", \"2001-2005\", \"2005-2009\"]\n",
        "\n",
        "# axes.set_title('PACS 00, Centrality Difference by Year')\n",
        "axes.set_xticklabels(xnames)\n",
        "axes.yaxis.grid(True)\n",
        "axes.set_xlabel('Year')\n",
        "axes.set_ylabel('Centrality Difference')\n",
        "\n",
        "plt.show()"
      ],
      "execution_count": null,
      "outputs": []
    },
    {
      "cell_type": "code",
      "metadata": {
        "id": "67wo77sYBK3N"
      },
      "source": [
        "# normalized violinplot\n",
        "\n",
        "fig, axes = plt.subplots(figsize=[16,12])\n",
        "\n",
        "axes.violinplot(dataset = [plot_hom[plot_hom.year2 < 1991][\"normalized\"].values,\n",
        "                           plot_hom[(plot_hom.year2 > 1990) & (plot_hom.year2 < 1996)][\"normalized\"].values,\n",
        "                           plot_hom[(plot_hom.year2 > 1995) & (plot_hom.year2 < 2001)][\"normalized\"].values,\n",
        "                           plot_hom[(plot_hom.year2 > 2000) & (plot_hom.year2 < 2006)][\"normalized\"].values,\n",
        "                           plot_hom[plot_hom.year2 > 2005][\"normalized\"].values])\n",
        "\n",
        "xnames = [\"\", \"-1990\", \"1991-1995\", \"1996-2000\", \"2001-2005\", \"2005-2009\"]\n",
        "\n",
        "# axes.set_title('PACS 00, Normalized Centrality Difference by Year')\n",
        "axes.set_xticklabels(xnames)\n",
        "axes.yaxis.grid(True)\n",
        "axes.set_xlabel('Year')\n",
        "axes.set_ylabel('Normalized Centrality Difference')\n",
        "\n",
        "plt.show()"
      ],
      "execution_count": null,
      "outputs": []
    },
    {
      "cell_type": "code",
      "metadata": {
        "id": "dcv7P3T4_iMu"
      },
      "source": [
        "# A scatterplot with jitter\n",
        "fig, ax = plt.subplots(figsize=(13,10))\n",
        "sns.stripplot(data =plot_hom, x=\"year2\", y=\"countd\", ax=ax, jitter=0.2, size=5)\n",
        "# plt.title('PACS 00, Centrality Difference by Year')\n",
        "plt.xlabel('Year')\n",
        "plt.ylabel('Centrality Difference')\n",
        "plt.show()"
      ],
      "execution_count": null,
      "outputs": []
    },
    {
      "cell_type": "code",
      "metadata": {
        "id": "yv7oc_E-B5e0"
      },
      "source": [
        "# A normalized scatterplot with jitter\n",
        "fig, ax = plt.subplots(figsize=(13,10))\n",
        "sns.stripplot(data =plot_hom, x=\"year2\", y=\"normalized\", ax=ax, jitter=0.2, size=5)\n",
        "# plt.title('PACS 00, Centrality Difference by Year')\n",
        "plt.xlabel('Year')\n",
        "plt.ylabel('Normalized Centrality Difference')\n",
        "plt.show()"
      ],
      "execution_count": null,
      "outputs": []
    },
    {
      "cell_type": "code",
      "metadata": {
        "id": "7Mf69DSQ5TOX"
      },
      "source": [
        "plot_hom = plot_hom.groupby(['year2','countd']).size().reset_index(name='count')\n",
        "plot_hom.head()\n",
        "\n",
        "# scatterplot\n",
        "\n",
        "ax1 = plot_hom.plot.scatter(x=\"year2\", y=\"countd\", c='red', s=\"count\",\n",
        "                            figsize=(11,8), grid=True)\n",
        "# ax1.set_title(\"PACS 00, Centrality Difference by Year\")\n",
        "ax1.set_xlabel(\"Year\")\n",
        "ax1.set_ylabel(\"Centrality Difference\")"
      ],
      "execution_count": null,
      "outputs": []
    },
    {
      "cell_type": "code",
      "metadata": {
        "id": "tMMpYnkB3Hpk"
      },
      "source": [
        "# normalized scatterplot\n",
        "\n",
        "# ax2 = plot_hom.plot.scatter(x=\"year2\", y=\"normalized\", c='darkblue', s=\"count\",\n",
        "#                             figsize=(11,8), grid=True)\n",
        "# ax2.set_title(\"PACS 00, Centrality Difference by Year\")\n",
        "# ax2.set_xlabel(\"Year\")\n",
        "# ax2.set_ylabel(\"Normalized Centrality Difference\")"
      ],
      "execution_count": null,
      "outputs": []
    },
    {
      "cell_type": "markdown",
      "metadata": {
        "id": "bvvp5VvNA75_"
      },
      "source": [
        "#1c. Centrality Difference Trend by Year (NO PACS)"
      ]
    },
    {
      "cell_type": "code",
      "metadata": {
        "colab": {
          "base_uri": "https://localhost:8080/",
          "height": 221
        },
        "id": "jxZkWgg1A_ml",
        "outputId": "e4bfe647-10f6-4276-b251-2c0db3c81cdf"
      },
      "source": [
        "pair = pd.read_csv(\"drive/My Drive/codes/pairdata.csv\")\n",
        "print(len(pair))\n",
        "pair.head()"
      ],
      "execution_count": null,
      "outputs": [
        {
          "output_type": "stream",
          "name": "stdout",
          "text": [
            "5856207\n"
          ]
        },
        {
          "output_type": "execute_result",
          "data": {
            "text/html": [
              "<div>\n",
              "<style scoped>\n",
              "    .dataframe tbody tr th:only-of-type {\n",
              "        vertical-align: middle;\n",
              "    }\n",
              "\n",
              "    .dataframe tbody tr th {\n",
              "        vertical-align: top;\n",
              "    }\n",
              "\n",
              "    .dataframe thead th {\n",
              "        text-align: right;\n",
              "    }\n",
              "</style>\n",
              "<table border=\"1\" class=\"dataframe\">\n",
              "  <thead>\n",
              "    <tr style=\"text-align: right;\">\n",
              "      <th></th>\n",
              "      <th>paper1</th>\n",
              "      <th>gender1</th>\n",
              "      <th>year1</th>\n",
              "      <th>paper2</th>\n",
              "      <th>gender2</th>\n",
              "      <th>year2</th>\n",
              "      <th>qval</th>\n",
              "      <th>k</th>\n",
              "    </tr>\n",
              "  </thead>\n",
              "  <tbody>\n",
              "    <tr>\n",
              "      <th>0</th>\n",
              "      <td>10.1103/PhysRevA.30.336</td>\n",
              "      <td>male</td>\n",
              "      <td>1984</td>\n",
              "      <td>10.1103/PhysRevA.34.1617</td>\n",
              "      <td>male</td>\n",
              "      <td>1986</td>\n",
              "      <td>0.001230</td>\n",
              "      <td>False</td>\n",
              "    </tr>\n",
              "    <tr>\n",
              "      <th>1</th>\n",
              "      <td>10.1103/PhysRevA.30.336</td>\n",
              "      <td>male</td>\n",
              "      <td>1984</td>\n",
              "      <td>10.1103/PhysRevA.34.4472</td>\n",
              "      <td>female</td>\n",
              "      <td>1986</td>\n",
              "      <td>0.017857</td>\n",
              "      <td>False</td>\n",
              "    </tr>\n",
              "    <tr>\n",
              "      <th>2</th>\n",
              "      <td>10.1103/PhysRevA.30.336</td>\n",
              "      <td>male</td>\n",
              "      <td>1984</td>\n",
              "      <td>10.1103/PhysRevA.41.784</td>\n",
              "      <td>male</td>\n",
              "      <td>1990</td>\n",
              "      <td>0.017857</td>\n",
              "      <td>False</td>\n",
              "    </tr>\n",
              "    <tr>\n",
              "      <th>3</th>\n",
              "      <td>10.1103/PhysRevA.34.4472</td>\n",
              "      <td>female</td>\n",
              "      <td>1986</td>\n",
              "      <td>10.1103/PhysRevA.41.784</td>\n",
              "      <td>male</td>\n",
              "      <td>1990</td>\n",
              "      <td>0.017857</td>\n",
              "      <td>False</td>\n",
              "    </tr>\n",
              "    <tr>\n",
              "      <th>4</th>\n",
              "      <td>10.1103/PhysRevA.36.4950</td>\n",
              "      <td>female</td>\n",
              "      <td>1987</td>\n",
              "      <td>10.1103/PhysRevA.41.784</td>\n",
              "      <td>male</td>\n",
              "      <td>1990</td>\n",
              "      <td>0.006410</td>\n",
              "      <td>False</td>\n",
              "    </tr>\n",
              "  </tbody>\n",
              "</table>\n",
              "</div>"
            ],
            "text/plain": [
              "                     paper1 gender1  year1  ... year2      qval      k\n",
              "0   10.1103/PhysRevA.30.336    male   1984  ...  1986  0.001230  False\n",
              "1   10.1103/PhysRevA.30.336    male   1984  ...  1986  0.017857  False\n",
              "2   10.1103/PhysRevA.30.336    male   1984  ...  1990  0.017857  False\n",
              "3  10.1103/PhysRevA.34.4472  female   1986  ...  1990  0.017857  False\n",
              "4  10.1103/PhysRevA.36.4950  female   1987  ...  1990  0.006410  False\n",
              "\n",
              "[5 rows x 8 columns]"
            ]
          },
          "metadata": {},
          "execution_count": 7
        }
      ]
    },
    {
      "cell_type": "code",
      "metadata": {
        "id": "NkuKSdErBIsN",
        "colab": {
          "base_uri": "https://localhost:8080/",
          "height": 221
        },
        "outputId": "47c9757f-7436-4111-cecf-fc7ec0c76f63"
      },
      "source": [
        "dc = data[[\"doi\", \"year\"]].drop_duplicates(subset = 'doi')\n",
        "dc = dc.merge(cb, left_on = 'doi',\n",
        "              right_on = 'citing_doi', how = 'inner').drop(\n",
        "                  ['doi'], axis=1).rename({'year': 'citing_year'}, axis=1)\n",
        "\n",
        "cols = ['citing_doi', 'citing_year', 'cited_doi']\n",
        "dc = dc.reindex(columns=cols).sort_values('cited_doi')\n",
        "\n",
        "hom_mf = pair[pair[\"gender1\"] != pair[\"gender2\"]].reset_index(drop=True)\n",
        "\n",
        "test = hom_mf.merge(dc, left_on = 'paper1',\n",
        "                    right_on = 'cited_doi', how = 'left').drop(\n",
        "                        [\"cited_doi\", \"citing_year\"], axis=1).drop_duplicates(\n",
        "                            subset=['paper1', 'citing_doi'])\n",
        "test['count'] = test.groupby(['paper1'])['paper1'].transform('count')\n",
        "test = test.drop([\"citing_doi\"], axis=1).rename({'count': 'count1'}, axis=1)\n",
        "\n",
        "test = test.drop_duplicates(subset=['paper1', 'paper2']).drop(\n",
        "    ['gender1', 'year1', 'paper2', 'gender2', 'year2', 'qval', 'k'], axis=1)\n",
        "hom_mf = hom_mf.merge(test, on='paper1', how='inner')\n",
        "\n",
        "test = hom_mf.merge(dc, left_on = 'paper2',\n",
        "                    right_on = 'cited_doi', how = 'left').drop(\n",
        "                        [\"cited_doi\", \"citing_year\"], axis=1).drop_duplicates(\n",
        "                            subset=['paper2', 'citing_doi'])\n",
        "test['count'] = test.groupby(['paper2'])['paper2'].transform('count')\n",
        "test = test.drop([\"citing_doi\"], axis=1).rename(\n",
        "    {'count': 'count2'}, axis=1).drop_duplicates(\n",
        "        subset=['paper1', 'paper2']).drop(\n",
        "            ['gender1', 'year1', 'paper1', 'gender2', 'count1',\n",
        "             'year2', 'qval', 'k'], axis=1)\n",
        "hom_mf = hom_mf.merge(test, on='paper2', how='inner')\n",
        "\n",
        "del test\n",
        "\n",
        "listc = []\n",
        "\n",
        "for j in range(len(hom_mf)):\n",
        "  listc.append(max(hom_mf['year1'][j], hom_mf['year2'][j]))\n",
        "\n",
        "hom_mf['year'] = listc\n",
        "\n",
        "listd = []\n",
        "listy = []\n",
        "\n",
        "for c in range(len(hom_mf)):\n",
        "  if hom_mf['gender1'][c] == 'male':\n",
        "    listd.append(hom_mf['count1'][c] - hom_mf['count2'][c])\n",
        "    listy.append(hom_mf['year1'][c] - hom_mf['year2'][c])\n",
        "  else:\n",
        "    listd.append(hom_mf['count2'][c] - hom_mf['count1'][c])\n",
        "    listy.append(hom_mf['year2'][c] - hom_mf['year1'][c])\n",
        "\n",
        "hom_mf['countd'] = listd\n",
        "hom_mf['yeard'] = listy\n",
        "\n",
        "print(len(hom_mf))\n",
        "hom_mf.head()"
      ],
      "execution_count": null,
      "outputs": [
        {
          "output_type": "stream",
          "name": "stdout",
          "text": [
            "991845\n"
          ]
        },
        {
          "output_type": "execute_result",
          "data": {
            "text/html": [
              "<div>\n",
              "<style scoped>\n",
              "    .dataframe tbody tr th:only-of-type {\n",
              "        vertical-align: middle;\n",
              "    }\n",
              "\n",
              "    .dataframe tbody tr th {\n",
              "        vertical-align: top;\n",
              "    }\n",
              "\n",
              "    .dataframe thead th {\n",
              "        text-align: right;\n",
              "    }\n",
              "</style>\n",
              "<table border=\"1\" class=\"dataframe\">\n",
              "  <thead>\n",
              "    <tr style=\"text-align: right;\">\n",
              "      <th></th>\n",
              "      <th>paper1</th>\n",
              "      <th>gender1</th>\n",
              "      <th>year1</th>\n",
              "      <th>paper2</th>\n",
              "      <th>gender2</th>\n",
              "      <th>year2</th>\n",
              "      <th>qval</th>\n",
              "      <th>k</th>\n",
              "      <th>count1</th>\n",
              "      <th>count2</th>\n",
              "      <th>year</th>\n",
              "      <th>countd</th>\n",
              "      <th>yeard</th>\n",
              "    </tr>\n",
              "  </thead>\n",
              "  <tbody>\n",
              "    <tr>\n",
              "      <th>0</th>\n",
              "      <td>10.1103/PhysRevA.30.336</td>\n",
              "      <td>male</td>\n",
              "      <td>1984</td>\n",
              "      <td>10.1103/PhysRevA.34.4472</td>\n",
              "      <td>female</td>\n",
              "      <td>1986</td>\n",
              "      <td>0.017857</td>\n",
              "      <td>False</td>\n",
              "      <td>11</td>\n",
              "      <td>2</td>\n",
              "      <td>1986</td>\n",
              "      <td>9</td>\n",
              "      <td>-2</td>\n",
              "    </tr>\n",
              "    <tr>\n",
              "      <th>1</th>\n",
              "      <td>10.1103/PhysRevA.30.336</td>\n",
              "      <td>male</td>\n",
              "      <td>1984</td>\n",
              "      <td>10.1103/PhysRevA.34.4472</td>\n",
              "      <td>female</td>\n",
              "      <td>1986</td>\n",
              "      <td>0.047619</td>\n",
              "      <td>False</td>\n",
              "      <td>11</td>\n",
              "      <td>2</td>\n",
              "      <td>1986</td>\n",
              "      <td>9</td>\n",
              "      <td>-2</td>\n",
              "    </tr>\n",
              "    <tr>\n",
              "      <th>2</th>\n",
              "      <td>10.1103/PhysRevLett.50.109</td>\n",
              "      <td>male</td>\n",
              "      <td>1983</td>\n",
              "      <td>10.1103/PhysRevA.34.4472</td>\n",
              "      <td>female</td>\n",
              "      <td>1986</td>\n",
              "      <td>0.017857</td>\n",
              "      <td>False</td>\n",
              "      <td>21</td>\n",
              "      <td>2</td>\n",
              "      <td>1986</td>\n",
              "      <td>19</td>\n",
              "      <td>-3</td>\n",
              "    </tr>\n",
              "    <tr>\n",
              "      <th>3</th>\n",
              "      <td>10.1103/PhysRevLett.50.109</td>\n",
              "      <td>male</td>\n",
              "      <td>1983</td>\n",
              "      <td>10.1103/PhysRevA.34.4472</td>\n",
              "      <td>female</td>\n",
              "      <td>1986</td>\n",
              "      <td>0.047619</td>\n",
              "      <td>False</td>\n",
              "      <td>21</td>\n",
              "      <td>2</td>\n",
              "      <td>1986</td>\n",
              "      <td>19</td>\n",
              "      <td>-3</td>\n",
              "    </tr>\n",
              "    <tr>\n",
              "      <th>4</th>\n",
              "      <td>10.1103/PhysRevLett.50.713</td>\n",
              "      <td>male</td>\n",
              "      <td>1983</td>\n",
              "      <td>10.1103/PhysRevA.34.4472</td>\n",
              "      <td>female</td>\n",
              "      <td>1986</td>\n",
              "      <td>0.035714</td>\n",
              "      <td>False</td>\n",
              "      <td>4</td>\n",
              "      <td>2</td>\n",
              "      <td>1986</td>\n",
              "      <td>2</td>\n",
              "      <td>-3</td>\n",
              "    </tr>\n",
              "  </tbody>\n",
              "</table>\n",
              "</div>"
            ],
            "text/plain": [
              "                       paper1 gender1  year1  ...  year countd  yeard\n",
              "0     10.1103/PhysRevA.30.336    male   1984  ...  1986      9     -2\n",
              "1     10.1103/PhysRevA.30.336    male   1984  ...  1986      9     -2\n",
              "2  10.1103/PhysRevLett.50.109    male   1983  ...  1986     19     -3\n",
              "3  10.1103/PhysRevLett.50.109    male   1983  ...  1986     19     -3\n",
              "4  10.1103/PhysRevLett.50.713    male   1983  ...  1986      2     -3\n",
              "\n",
              "[5 rows x 13 columns]"
            ]
          },
          "metadata": {},
          "execution_count": 8
        }
      ]
    },
    {
      "cell_type": "code",
      "metadata": {
        "id": "0S5YxhOmFRAj"
      },
      "source": [
        "hom_mf2 = hom_mf[hom_mf['yeard'] > -4].sort_values('yeard').reset_index(drop=True)\n",
        "hom_mf2 = hom_mf2[hom_mf2['yeard'] < 4].sort_values('yeard').reset_index(drop=True)"
      ],
      "execution_count": null,
      "outputs": []
    },
    {
      "cell_type": "code",
      "metadata": {
        "id": "PBsKlx4kExyt",
        "colab": {
          "base_uri": "https://localhost:8080/"
        },
        "outputId": "b2b09aea-6b08-4ccf-e31f-6b48f30e65ec"
      },
      "source": [
        "# use p-values from the paper\n",
        "p = 0.002\n",
        "\n",
        "homp = hom_mf2[hom_mf2['qval'] < p].sort_values('countd').reset_index(drop=True)\n",
        "print(len(homp)/len(hom_mf2))\n",
        "#homp.head()"
      ],
      "execution_count": null,
      "outputs": [
        {
          "output_type": "stream",
          "name": "stdout",
          "text": [
            "0.06485455326102513\n"
          ]
        }
      ]
    },
    {
      "cell_type": "code",
      "metadata": {
        "colab": {
          "base_uri": "https://localhost:8080/",
          "height": 221
        },
        "id": "mC3dklsWFFnO",
        "outputId": "abb3d93b-9169-4901-a7b7-dd3d03d77237"
      },
      "source": [
        "plot_hom = homp[['year', 'countd']].sort_values(by=['year', 'countd'])\n",
        "# plot_hom['normalized'] = plot_hom['countd'].div(plot_hom['countd'].abs().groupby(\n",
        "#     plot_hom['year']).transform('max'))\n",
        "# plot_hom['gender'] = ['male' if x >=0 else 'female' for x in plot_hom['countd']]\n",
        "\n",
        "print(len(plot_hom))\n",
        "plot_hom.head()"
      ],
      "execution_count": null,
      "outputs": [
        {
          "output_type": "stream",
          "name": "stdout",
          "text": [
            "35799\n"
          ]
        },
        {
          "output_type": "execute_result",
          "data": {
            "text/html": [
              "<div>\n",
              "<style scoped>\n",
              "    .dataframe tbody tr th:only-of-type {\n",
              "        vertical-align: middle;\n",
              "    }\n",
              "\n",
              "    .dataframe tbody tr th {\n",
              "        vertical-align: top;\n",
              "    }\n",
              "\n",
              "    .dataframe thead th {\n",
              "        text-align: right;\n",
              "    }\n",
              "</style>\n",
              "<table border=\"1\" class=\"dataframe\">\n",
              "  <thead>\n",
              "    <tr style=\"text-align: right;\">\n",
              "      <th></th>\n",
              "      <th>year</th>\n",
              "      <th>countd</th>\n",
              "    </tr>\n",
              "  </thead>\n",
              "  <tbody>\n",
              "    <tr>\n",
              "      <th>19824</th>\n",
              "      <td>1983</td>\n",
              "      <td>0</td>\n",
              "    </tr>\n",
              "    <tr>\n",
              "      <th>20900</th>\n",
              "      <td>1983</td>\n",
              "      <td>1</td>\n",
              "    </tr>\n",
              "    <tr>\n",
              "      <th>20901</th>\n",
              "      <td>1983</td>\n",
              "      <td>1</td>\n",
              "    </tr>\n",
              "    <tr>\n",
              "      <th>30561</th>\n",
              "      <td>1983</td>\n",
              "      <td>7</td>\n",
              "    </tr>\n",
              "    <tr>\n",
              "      <th>14894</th>\n",
              "      <td>1984</td>\n",
              "      <td>0</td>\n",
              "    </tr>\n",
              "  </tbody>\n",
              "</table>\n",
              "</div>"
            ],
            "text/plain": [
              "       year  countd\n",
              "19824  1983       0\n",
              "20900  1983       1\n",
              "20901  1983       1\n",
              "30561  1983       7\n",
              "14894  1984       0"
            ]
          },
          "metadata": {},
          "execution_count": 11
        }
      ]
    },
    {
      "cell_type": "code",
      "metadata": {
        "id": "QCxdh2hsGT5O"
      },
      "source": [
        "freqmf = plot_hom.groupby(['year'])['year'].count()"
      ],
      "execution_count": null,
      "outputs": []
    },
    {
      "cell_type": "code",
      "metadata": {
        "colab": {
          "base_uri": "https://localhost:8080/",
          "height": 333
        },
        "id": "PZEEYoDBGifa",
        "outputId": "6cc291b7-66a0-4739-8868-510f1208956e"
      },
      "source": [
        "fig, ax = plt.subplots(figsize=(6,4.5))\n",
        "right_side = ax.spines[\"right\"]\n",
        "top_side = ax.spines[\"top\"]\n",
        "right_side.set_visible(False)\n",
        "top_side.set_visible(False)\n",
        "\n",
        "freqmf.plot(style='.-',color='red', lw=3)\n",
        "\n",
        "plt.xlabel('Year', fontsize=20)\n",
        "plt.xlim(xmin=1983, xmax=2010)\n",
        "plt.xticks(np.arange(1990, 2011, 10), fontsize=20)\n",
        "plt.ylabel('Number of Sampled\\nSimilar Pairs', fontsize=20)\n",
        "plt.yticks(fontsize=20)\n",
        "plt.ylim(ymin=0)\n",
        "\n",
        "plt.tight_layout()\n",
        "# fig.savefig(f\"drive/My Drive/codes/simcount.pdf\")"
      ],
      "execution_count": null,
      "outputs": [
        {
          "output_type": "display_data",
          "data": {
            "image/png": "[encoded data removed]",
            "text/plain": [
              "<Figure size 432x324 with 1 Axes>"
            ]
          },
          "metadata": {
            "needs_background": "light"
          }
        }
      ]
    },
    {
      "cell_type": "code",
      "metadata": {
        "colab": {
          "base_uri": "https://localhost:8080/",
          "height": 333
        },
        "id": "iLuIe0BGE6dO",
        "outputId": "884f99a1-1380-4741-aa13-08f1ad635a17"
      },
      "source": [
        "fig, ax = plt.subplots(figsize=(6,4.5))\n",
        "right_side = ax.spines[\"right\"]\n",
        "top_side = ax.spines[\"top\"]\n",
        "right_side.set_visible(False)\n",
        "top_side.set_visible(False)\n",
        "\n",
        "freqmf.plot(style='.-',color='red', lw=3)\n",
        "\n",
        "# plt.xlabel('Year', fontsize=20)\n",
        "plt.xlabel('')\n",
        "plt.xlim(xmin=1983, xmax=1990)\n",
        "plt.xticks(np.arange(1983, 1991, 2), fontsize=20)\n",
        "# plt.ylabel('Number of Sampled\\nSimilar Pairs', fontsize=20)\n",
        "plt.yticks(fontsize=20)\n",
        "plt.ylim(ymin=0, ymax=300)\n",
        "\n",
        "plt.tight_layout()\n",
        "fig.savefig(f\"drive/My Drive/codes/zoomedsimcount.pdf\")"
      ],
      "execution_count": null,
      "outputs": [
        {
          "output_type": "display_data",
          "data": {
            "image/png": "[encoded data removed]",
            "text/plain": [
              "<Figure size 432x324 with 1 Axes>"
            ]
          },
          "metadata": {
            "needs_background": "light"
          }
        }
      ]
    },
    {
      "cell_type": "code",
      "metadata": {
        "colab": {
          "base_uri": "https://localhost:8080/",
          "height": 333
        },
        "id": "CMHXDJMaKy4j",
        "outputId": "a892b27b-c848-42e3-e4ea-767ad91a204e"
      },
      "source": [
        "fig, ax = plt.subplots(figsize=(6,4.5))\n",
        "right_side = ax.spines[\"right\"]\n",
        "top_side = ax.spines[\"top\"]\n",
        "right_side.set_visible(False)\n",
        "top_side.set_visible(False)\n",
        "\n",
        "freqmf.plot(style='.-',color='red', lw=3)\n",
        "\n",
        "inset_ax = ax.inset_axes([0.2, 0.6, 0.3, 0.3])\n",
        "inset_ax.plot(freqmf)\n",
        "\n",
        "plt.xlabel('Year', fontsize=20)\n",
        "plt.xlim(xmin=1983, xmax=2010)\n",
        "plt.xticks(np.arange(1990, 2011, 10), fontsize=20)\n",
        "plt.ylabel('Number of Sampled\\nSimilar Pairs', fontsize=20)\n",
        "plt.yticks(fontsize=20)\n",
        "plt.ylim(ymin=0)\n",
        "\n",
        "plt.tight_layout()\n",
        "# fig.savefig(f\"drive/My Drive/codes/simcount.pdf\")"
      ],
      "execution_count": null,
      "outputs": [
        {
          "output_type": "display_data",
          "data": {
            "image/png": "[encoded data removed]",
            "text/plain": [
              "<Figure size 432x324 with 1 Axes>"
            ]
          },
          "metadata": {
            "needs_background": "light"
          }
        }
      ]
    },
    {
      "cell_type": "code",
      "metadata": {
        "id": "QppYWQycLfgu"
      },
      "source": [
        "freqmf = plot_hom.groupby(['year'])['year'].count()\n",
        "freqmf = pd.DataFrame({'year':freqmf.index, 'count':freqmf.values})"
      ],
      "execution_count": null,
      "outputs": []
    },
    {
      "cell_type": "code",
      "metadata": {
        "colab": {
          "base_uri": "https://localhost:8080/",
          "height": 441
        },
        "id": "b_a1skYiL03I",
        "outputId": "6046d12d-d172-4b00-b570-921f4d589581"
      },
      "source": [
        "fig, ax = plt.subplots(figsize=(8,6))\n",
        "right_side = ax.spines[\"right\"]\n",
        "top_side = ax.spines[\"top\"]\n",
        "right_side.set_visible(False)\n",
        "top_side.set_visible(False)\n",
        "\n",
        "plt.plot(freqmf['year'], freqmf['count'], color='red', lw=3)\n",
        "\n",
        "inset_ax = ax.inset_axes([0.15, 0.5, 0.6, 0.45])\n",
        "inset_ax.plot(freqmf['year'][3:10], freqmf['count'][3:10], color='red', lw=2)\n",
        "inset_ax.tick_params(labelsize=15)\n",
        "\n",
        "plt.xlabel('Year', fontsize=20)\n",
        "plt.xlim(xmin=1986, xmax=2010)\n",
        "plt.xticks(np.arange(1990, 2011, 10), fontsize=20)\n",
        "plt.ylabel('Number of Sampled\\nSimilar Pairs', fontsize=20)\n",
        "plt.yticks(fontsize=20)\n",
        "plt.ylim(ymin=0)\n",
        "ax.indicate_inset_zoom(inset_ax, edgecolor=\"black\", linewidth = 4)\n",
        "\n",
        "plt.tight_layout()\n",
        "fig.savefig(f\"drive/My Drive/codes/simcount_edit.pdf\")"
      ],
      "execution_count": null,
      "outputs": [
        {
          "output_type": "display_data",
          "data": {
            "image/png": "[encoded data removed]",
            "text/plain": [
              "<Figure size 576x432 with 1 Axes>"
            ]
          },
          "metadata": {
            "needs_background": "light"
          }
        }
      ]
    },
    {
      "cell_type": "code",
      "metadata": {
        "colab": {
          "base_uri": "https://localhost:8080/",
          "height": 356
        },
        "id": "ja4WtwpEAMPT",
        "outputId": "0de31f65-cc80-4502-a20a-f6827ab364fd"
      },
      "source": [
        "import matplotlib.pyplot as plt\n",
        "import numpy as np\n",
        "\n",
        "small = np.array([\n",
        "    [1.0, 0.5, 1.0, 0.1, 0.3], \n",
        "    [0.5, 0.5, 0.5, 0.2, 0.4], \n",
        "    [1.0, 0.5, 1.0, 0.3, 0.6],\n",
        "    [0.5, 0.5, 0.5, 0.2, 0.4],\n",
        "    [1.0, 0.5, 1.0, 0.1, 0.3]\n",
        "    ])\n",
        "\n",
        "big = np.zeros((200, 200))\n",
        "\n",
        "ny, nx = small.shape\n",
        "big[50:50+ny, 70:70+nx] = small\n",
        "\n",
        "# 도화지\n",
        "fig, ax = plt.subplots(figsize=(6,4.5))\n",
        "right_side = ax.spines[\"right\"]\n",
        "top_side = ax.spines[\"top\"]\n",
        "right_side.set_visible(False)\n",
        "top_side.set_visible(False)\n",
        "\n",
        "# 대형 그림 그리기, lower 를 넣으면 위아래가 뒤바뀜\n",
        "ax.imshow(big, origin=\"lower\")\n",
        "\n",
        "# 작은 도화지, 큰 도화지의 0.5, 0.5 의 위치에서부터 0.4, 0.4 만큼의 크기의 도화지를 만듦\n",
        "axins = ax.inset_axes([0.1, 0.5, 0.5, 0.5])\n",
        "\n",
        "# 작은 도화지에 큰 그림을 그림\n",
        "axins.imshow(big, origin=\"lower\")\n",
        "\n",
        "# xlim, ylim 을 조정하여 무늬가 속하도록 만듦\n",
        "x1, x2, y1, y2 = 0, 50, 0, 50\n",
        "axins.set_xlim(x1, x2)\n",
        "axins.set_ylim(y1, y2)\n",
        "\n",
        "# 줌인 느낌의 그림\n",
        "ax.indicate_inset_zoom(axins, edgecolor=\"w\", linewidth = 4)\n",
        "\n",
        "plt.xlabel('Year', fontsize=20)\n",
        "# plt.xlim(xmin=1983, xmax=2010)\n",
        "# plt.xticks(np.arange(1990, 2011, 10), fontsize=20)\n",
        "plt.ylabel('Number of Sampled\\nSimilar Pairs', fontsize=20)\n",
        "plt.yticks(fontsize=20)\n",
        "# plt.ylim(ymin=0)"
      ],
      "execution_count": null,
      "outputs": [
        {
          "output_type": "execute_result",
          "data": {
            "text/plain": [
              "(array([-25.,   0.,  25.,  50.,  75., 100., 125., 150., 175., 200.]),\n",
              " <a list of 10 Text major ticklabel objects>)"
            ]
          },
          "metadata": {},
          "execution_count": 41
        },
        {
          "output_type": "display_data",
          "data": {
            "image/png": "[encoded data removed]",
            "text/plain": [
              "<Figure size 432x324 with 1 Axes>"
            ]
          },
          "metadata": {
            "needs_background": "light"
          }
        }
      ]
    },
    {
      "cell_type": "code",
      "metadata": {
        "colab": {
          "base_uri": "https://localhost:8080/",
          "height": 414
        },
        "id": "ZTEdTUFYFHvl",
        "outputId": "2f0e03b1-e7d1-4571-d1fa-27d9b314495d"
      },
      "source": [
        "# fig,ax = plt.subplots(1,1, figsize=[12,9])\n",
        "\n",
        "fig, ax = plt.subplots(figsize=(8,6))\n",
        "right_side = ax.spines[\"right\"]\n",
        "top_side = ax.spines[\"top\"]\n",
        "right_side.set_visible(False)\n",
        "top_side.set_visible(False)\n",
        "\n",
        "plt.axhline(y=0, color='black', linestyle='dotted', lw=3)\n",
        "sns.lineplot(data=plot_hom, x=\"year\", y=\"countd\",ax=ax,ci=None,color=\"black\")\n",
        "\n",
        "cm = sns.color_palette(\"RdPu\",10)\n",
        "\n",
        "for ix,ci in enumerate(range(10,100,10)):\n",
        "    sns.lineplot(data=plot_hom, x=\"year\", y=\"countd\",\n",
        "                 ci = ci,\n",
        "                 ax=ax,linestyle='',\n",
        "                 hue = ci,palette={ci:cm[ix]})\n",
        "\n",
        "# plt.title(\"Percentile Plot of Degree Centrality Difference between Similar Pairs\")\n",
        "plt.xlabel(\"Publication Year\", fontsize=20)\n",
        "plt.ylabel(\"\\u0394(Citation)\", fontsize=20)"
      ],
      "execution_count": null,
      "outputs": [
        {
          "output_type": "execute_result",
          "data": {
            "text/plain": [
              "Text(0, 0.5, 'Δ(Citation)')"
            ]
          },
          "metadata": {
            "tags": []
          },
          "execution_count": 11
        },
        {
          "output_type": "display_data",
          "data": {
            "image/png": "[encoded data removed]",
            "text/plain": [
              "<Figure size 576x432 with 1 Axes>"
            ]
          },
          "metadata": {
            "tags": [],
            "needs_background": "light"
          }
        }
      ]
    },
    {
      "cell_type": "code",
      "metadata": {
        "colab": {
          "base_uri": "https://localhost:8080/"
        },
        "id": "cGeN-0VFE16J",
        "outputId": "86185bb1-5c2d-4163-fd66-0dcc0702039f"
      },
      "source": [
        "mwu1 = plot_hom[plot_hom['year'] <= 1995]\n",
        "mwu2 = plot_hom[plot_hom['year'] > 1995]\n",
        "\n",
        "scipy.stats.mannwhitneyu(mwu1.countd, mwu2.countd)"
      ],
      "execution_count": null,
      "outputs": [
        {
          "output_type": "execute_result",
          "data": {
            "text/plain": [
              "MannwhitneyuResult(statistic=48621131.5, pvalue=6.886259244347325e-09)"
            ]
          },
          "metadata": {
            "tags": []
          },
          "execution_count": 35
        }
      ]
    },
    {
      "cell_type": "code",
      "metadata": {
        "id": "c6D9lY4crKDV"
      },
      "source": [
        "for i in range(10):\n",
        "  fig, ax = plt.subplots()\n",
        "  right_side = ax.spines[\"right\"]\n",
        "  top_side = ax.spines[\"top\"]\n",
        "  right_side.set_visible(False)\n",
        "  top_side.set_visible(False)\n",
        "\n",
        "  plt.axhline(y=0, color='black', linestyle='dotted', lw=3)\n",
        "\n",
        "  subplot_hom = plot_hom[plot_hom[\"year\"] <= 1995].sample(50)\n",
        "  sns.lineplot(data=subplot_hom, x=\"year\", y=\"countd\",ax=ax,ci=None,color='red')\n",
        "\n",
        "  plt.xlabel(\"Publication Year\")\n",
        "  plt.ylabel(\"\\u0394(Citation)\")\n",
        "  fig.savefig(f\"drive/My Drive/codes/mfpair_plot{i}.png\")"
      ],
      "execution_count": null,
      "outputs": []
    },
    {
      "cell_type": "markdown",
      "metadata": {
        "id": "SlwrVRXDNBrb"
      },
      "source": [
        "### 1c'. Graphs (non-use)"
      ]
    },
    {
      "cell_type": "code",
      "metadata": {
        "id": "Hbg4T5YqbhX9"
      },
      "source": [
        "hue = []\n",
        "for i in range(len(plot_hom)):\n",
        "  plot_hom = plot_hom.sort_index()\n",
        "  if plot_hom['year'][i] <= 1995:\n",
        "    hue.append('-1995')\n",
        "  else:\n",
        "    hue.append('1996-')\n",
        "\n",
        "plot_hom['time period'] = hue\n",
        "plot_hom.head()\n",
        "\n",
        "plt.figure(1)\n",
        "plot_hom.boxplot(column = 'countd', by = 'time period', figsize=[12,9]) # w/o outliers\n",
        "\n",
        "plt.title(\"\\u0394(Citation) Distribution of Similar Pairs\")\n",
        "plt.xlabel(\"Publication Year\")\n",
        "plt.ylabel(\"\\u0394(Citation)\")\n",
        "plt.ticklabel_format(style='sci', axis='y', scilimits=(0,0))\n",
        "\n",
        "plt.figure(2)\n",
        "plot_hom.boxplot(column = 'countd', by = 'time period', showfliers=False, figsize=[12,9]) # w/o outliers\n",
        "\n",
        "plt.title(\"\\u0394(Citation) Distribution of Similar Pairs\")\n",
        "plt.xlabel(\"Publication Year\")\n",
        "plt.ylabel(\"\\u0394(Citation)\")\n",
        "plt.ticklabel_format(style='sci', axis='y', scilimits=(0,0))\n",
        "\n",
        "plt.show()"
      ],
      "execution_count": null,
      "outputs": []
    },
    {
      "cell_type": "code",
      "metadata": {
        "id": "dRMGFdtoRvg4"
      },
      "source": [
        "# fig,ax = plt.subplots(1,1, figsize=[12,9])\n",
        "\n",
        "# plt.axhline(y=0, color='black', linestyle='dotted')\n",
        "# sns.lineplot(data=plot_hom, x=\"year\", y=\"normalized\",ax=ax,ci=None,color=\"black\")\n",
        "\n",
        "# cm = sns.color_palette(\"YlOrBr\",10)\n",
        "\n",
        "# for ix,ci in enumerate(range(10,100,10)):\n",
        "#     sns.lineplot(data=plot_hom, x=\"year\", y=\"normalized\",\n",
        "#                  ci = ci,\n",
        "#                  ax=ax,linestyle='',\n",
        "#                  hue = ci,palette={ci:cm[ix]})\n",
        "\n",
        "# plt.title(\"Percentile Plot of Degree Centrality Difference between Similar Pairs\")\n",
        "# plt.xlabel(\"Publication Year\")\n",
        "# plt.ylabel(\"Normalized Centrality Difference\")"
      ],
      "execution_count": null,
      "outputs": []
    },
    {
      "cell_type": "code",
      "metadata": {
        "id": "DT7nuVnPFmdA"
      },
      "source": [
        "plot_woo = plot_hom[plot_hom['countd'] < 500]\n",
        "plot_woo = plot_woo[plot_woo['countd'] > -500]\n",
        "\n",
        "fig,ax = plt.subplots(1,1, figsize=[12,9])\n",
        "\n",
        "plt.axhline(y=0, color='black', linestyle='dotted')\n",
        "sns.lineplot(data=plot_woo, x=\"year\", y=\"countd\",ax=ax,ci=None,color=\"black\")\n",
        "\n",
        "cm = sns.color_palette(\"Blues\",10)\n",
        "\n",
        "for ix,ci in enumerate(range(10,100,10)):\n",
        "    sns.lineplot(data=plot_woo, x=\"year\", y=\"countd\",\n",
        "                 ci = ci,\n",
        "                 ax=ax,linestyle='',\n",
        "                 hue = ci,palette={ci:cm[ix]})\n",
        "\n",
        "plt.title(\"Percentile Plot of Degree Centrality Difference between Similar Pairs (without high centrality papers)\")\n",
        "plt.xlabel(\"Publication Year\")\n",
        "plt.ylabel(\"\\u0394(Citation)\")"
      ],
      "execution_count": null,
      "outputs": []
    },
    {
      "cell_type": "markdown",
      "metadata": {
        "id": "lx6odqL8NHdl"
      },
      "source": [
        "# 1c-2. Male-male comparision setup"
      ]
    },
    {
      "cell_type": "code",
      "metadata": {
        "colab": {
          "base_uri": "https://localhost:8080/",
          "height": 222
        },
        "id": "2otSfsGzNMlu",
        "outputId": "834cd1cf-a692-4538-a264-c4257fa7d5a9"
      },
      "source": [
        "pair = pd.read_csv(\"drive/My Drive/codes/pairdata.csv\")\n",
        "print(len(pair))\n",
        "pair.head()"
      ],
      "execution_count": null,
      "outputs": [
        {
          "output_type": "stream",
          "text": [
            "5856207\n"
          ],
          "name": "stdout"
        },
        {
          "output_type": "execute_result",
          "data": {
            "text/html": [
              "<div>\n",
              "<style scoped>\n",
              "    .dataframe tbody tr th:only-of-type {\n",
              "        vertical-align: middle;\n",
              "    }\n",
              "\n",
              "    .dataframe tbody tr th {\n",
              "        vertical-align: top;\n",
              "    }\n",
              "\n",
              "    .dataframe thead th {\n",
              "        text-align: right;\n",
              "    }\n",
              "</style>\n",
              "<table border=\"1\" class=\"dataframe\">\n",
              "  <thead>\n",
              "    <tr style=\"text-align: right;\">\n",
              "      <th></th>\n",
              "      <th>paper1</th>\n",
              "      <th>gender1</th>\n",
              "      <th>year1</th>\n",
              "      <th>paper2</th>\n",
              "      <th>gender2</th>\n",
              "      <th>year2</th>\n",
              "      <th>qval</th>\n",
              "      <th>k</th>\n",
              "    </tr>\n",
              "  </thead>\n",
              "  <tbody>\n",
              "    <tr>\n",
              "      <th>0</th>\n",
              "      <td>10.1103/PhysRevA.30.336</td>\n",
              "      <td>male</td>\n",
              "      <td>1984</td>\n",
              "      <td>10.1103/PhysRevA.34.1617</td>\n",
              "      <td>male</td>\n",
              "      <td>1986</td>\n",
              "      <td>0.001230</td>\n",
              "      <td>False</td>\n",
              "    </tr>\n",
              "    <tr>\n",
              "      <th>1</th>\n",
              "      <td>10.1103/PhysRevA.30.336</td>\n",
              "      <td>male</td>\n",
              "      <td>1984</td>\n",
              "      <td>10.1103/PhysRevA.34.4472</td>\n",
              "      <td>female</td>\n",
              "      <td>1986</td>\n",
              "      <td>0.017857</td>\n",
              "      <td>False</td>\n",
              "    </tr>\n",
              "    <tr>\n",
              "      <th>2</th>\n",
              "      <td>10.1103/PhysRevA.30.336</td>\n",
              "      <td>male</td>\n",
              "      <td>1984</td>\n",
              "      <td>10.1103/PhysRevA.41.784</td>\n",
              "      <td>male</td>\n",
              "      <td>1990</td>\n",
              "      <td>0.017857</td>\n",
              "      <td>False</td>\n",
              "    </tr>\n",
              "    <tr>\n",
              "      <th>3</th>\n",
              "      <td>10.1103/PhysRevA.34.4472</td>\n",
              "      <td>female</td>\n",
              "      <td>1986</td>\n",
              "      <td>10.1103/PhysRevA.41.784</td>\n",
              "      <td>male</td>\n",
              "      <td>1990</td>\n",
              "      <td>0.017857</td>\n",
              "      <td>False</td>\n",
              "    </tr>\n",
              "    <tr>\n",
              "      <th>4</th>\n",
              "      <td>10.1103/PhysRevA.36.4950</td>\n",
              "      <td>female</td>\n",
              "      <td>1987</td>\n",
              "      <td>10.1103/PhysRevA.41.784</td>\n",
              "      <td>male</td>\n",
              "      <td>1990</td>\n",
              "      <td>0.006410</td>\n",
              "      <td>False</td>\n",
              "    </tr>\n",
              "  </tbody>\n",
              "</table>\n",
              "</div>"
            ],
            "text/plain": [
              "                     paper1 gender1  year1  ... year2      qval      k\n",
              "0   10.1103/PhysRevA.30.336    male   1984  ...  1986  0.001230  False\n",
              "1   10.1103/PhysRevA.30.336    male   1984  ...  1986  0.017857  False\n",
              "2   10.1103/PhysRevA.30.336    male   1984  ...  1990  0.017857  False\n",
              "3  10.1103/PhysRevA.34.4472  female   1986  ...  1990  0.017857  False\n",
              "4  10.1103/PhysRevA.36.4950  female   1987  ...  1990  0.006410  False\n",
              "\n",
              "[5 rows x 8 columns]"
            ]
          },
          "metadata": {
            "tags": []
          },
          "execution_count": 15
        }
      ]
    },
    {
      "cell_type": "code",
      "metadata": {
        "id": "rGbpmU5cNn90"
      },
      "source": [
        "dc = data[[\"doi\", \"year\"]].drop_duplicates(subset = 'doi')\n",
        "dc = dc.merge(cb, left_on = 'doi',\n",
        "              right_on = 'citing_doi', how = 'inner').drop(\n",
        "                  ['doi'], axis=1).rename({'year': 'citing_year'}, axis=1)\n",
        "\n",
        "cols = ['citing_doi', 'citing_year', 'cited_doi']\n",
        "dc = dc.reindex(columns=cols).sort_values('cited_doi')\n",
        "\n",
        "hom_mm = pair[pair[\"gender1\"] == \"male\"].reset_index(drop=True)\n",
        "hom_mm = hom_mm[hom_mm[\"gender2\"] == \"male\"].reset_index(drop=True)\n",
        "\n",
        "hom_mm.to_csv(\"drive/My Drive/codes/hom_mm_1.csv\", index=False)\n",
        "dc.to_csv(\"drive/My Drive/codes/dc_1.csv\", index=False)"
      ],
      "execution_count": null,
      "outputs": []
    },
    {
      "cell_type": "code",
      "metadata": {
        "id": "6hII8lMyPlWC"
      },
      "source": [
        "hom_mm = pd.read_csv(\"drive/My Drive/codes/hom_mm_1.csv\")\n",
        "dc = pd.read_csv(\"drive/My Drive/codes/dc_1.csv\")\n",
        "\n",
        "test = hom_mm.merge(dc, left_on = 'paper1',\n",
        "                    right_on = 'cited_doi', how = 'left').drop(\n",
        "                        [\"cited_doi\", \"citing_year\"], axis=1).drop_duplicates(\n",
        "                            subset=['paper1', 'citing_doi'])\n",
        "test['count'] = test.groupby(['paper1'])['paper1'].transform('count')\n",
        "test = test.drop([\"citing_doi\"], axis=1).rename({'count': 'count1'}, axis=1)"
      ],
      "execution_count": null,
      "outputs": []
    },
    {
      "cell_type": "code",
      "metadata": {
        "id": "725X_dmLXMhz"
      },
      "source": [
        "test.to_csv(\"drive/My Drive/codes/test_1.csv\", index=False)"
      ],
      "execution_count": null,
      "outputs": []
    },
    {
      "cell_type": "code",
      "metadata": {
        "id": "AnCgg86fR3c8"
      },
      "source": [
        "test = pd.read_csv(\"drive/My Drive/codes/test_1.csv\")\n",
        "hom_mm = pd.read_csv(\"drive/My Drive/codes/hom_mm_1.csv\")\n",
        "\n",
        "test = test.drop_duplicates(subset=['paper1', 'paper2']).drop(\n",
        "    ['gender1', 'year1', 'paper2', 'gender2', 'year2', 'qval', 'k'], axis=1)\n",
        "hom_mm = hom_mm.merge(test, on='paper1', how='inner')\n",
        "\n",
        "hom_mm.to_csv(\"drive/My Drive/codes/hom_mm_1.csv\", index=False)"
      ],
      "execution_count": null,
      "outputs": []
    },
    {
      "cell_type": "code",
      "metadata": {
        "colab": {
          "base_uri": "https://localhost:8080/"
        },
        "id": "UK46DkAIPI5D",
        "outputId": "a679e181-434f-4ac6-92cd-771478f4591c"
      },
      "source": [
        "hom_mm = pd.read_csv(\"drive/My Drive/codes/hom_mm_1.csv\")\n",
        "dc = pd.read_csv(\"drive/My Drive/codes/dc_1.csv\")\n",
        "\n",
        "print(len(hom_mm))\n",
        "print(len(dc))"
      ],
      "execution_count": null,
      "outputs": [
        {
          "output_type": "stream",
          "text": [
            "4797249\n",
            "2815130\n"
          ],
          "name": "stdout"
        }
      ]
    },
    {
      "cell_type": "code",
      "metadata": {
        "id": "DmvfpiCAZTCb"
      },
      "source": [
        "hom_mm = hom_mm[:len(hom_mm)//2]\n",
        "test = hom_mm.merge(dc, left_on = 'paper2',\n",
        "                    right_on = 'cited_doi', how = 'left').drop(\n",
        "                        [\"cited_doi\", \"citing_year\"], axis=1).drop_duplicates(\n",
        "                            subset=['paper2', 'citing_doi'])\n",
        "test.to_csv(\"drive/My Drive/codes/test_1.csv\", index=False)"
      ],
      "execution_count": null,
      "outputs": []
    },
    {
      "cell_type": "code",
      "metadata": {
        "id": "7afkFS-5zvRs"
      },
      "source": [
        "hom_mm = pd.read_csv(\"drive/My Drive/codes/hom_mm_1.csv\")\n",
        "hom_mm = hom_mm[len(hom_mm)//2:]\n",
        "test = hom_mm.merge(dc, left_on = 'paper2',\n",
        "                    right_on = 'cited_doi', how = 'left').drop(\n",
        "                        [\"cited_doi\", \"citing_year\"], axis=1).drop_duplicates(\n",
        "                            subset=['paper2', 'citing_doi'])\n",
        "test.to_csv(\"drive/My Drive/codes/test_2.csv\", index=False)"
      ],
      "execution_count": null,
      "outputs": []
    },
    {
      "cell_type": "code",
      "metadata": {
        "id": "A6cXCZT-Y3YQ"
      },
      "source": [
        "test1 = pd.read_csv(\"drive/My Drive/codes/test_1.csv\")\n",
        "test2 = pd.read_csv(\"drive/My Drive/codes/test_2.csv\")\n",
        "test = pd.concat([test1, test2])\n",
        "test['count'] = test.groupby(['paper2'])['paper2'].transform('count')\n",
        "# test.head(50)\n",
        "test.to_csv(\"drive/My Drive/codes/test.csv\", index=False)"
      ],
      "execution_count": null,
      "outputs": []
    },
    {
      "cell_type": "code",
      "metadata": {
        "id": "PrHaNOHBYTLH"
      },
      "source": [
        "hom_mm = pd.read_csv(\"drive/My Drive/codes/hom_mm_1.csv\")\n",
        "test = pd.read_csv(\"drive/My Drive/codes/test.csv\")\n",
        "\n",
        "test = test.drop_duplicates(subset=['paper2', 'citing_doi'])\n",
        "\n",
        "test = test.drop([\"citing_doi\"], axis=1).rename(\n",
        "    {'count': 'count2'}, axis=1).drop_duplicates(\n",
        "        subset=['paper1', 'paper2']).drop(\n",
        "            ['gender1', 'year1', 'paper1', 'gender2', 'count1',\n",
        "             'year2', 'qval', 'k'], axis=1)\n",
        "hom_mm = hom_mm.merge(test, on='paper2', how='inner')"
      ],
      "execution_count": null,
      "outputs": []
    },
    {
      "cell_type": "code",
      "metadata": {
        "id": "15tr-D_g0qvK"
      },
      "source": [
        "hom_mm = hom_mm.sort_values(['paper1', 'paper2', 'qval']).drop_duplicates(subset=['paper1', 'paper2'])\n",
        "# hom_mm.head()\n",
        "\n",
        "hom_mm.to_csv(\"drive/My Drive/codes/hom_mm.csv\", index=False)"
      ],
      "execution_count": null,
      "outputs": []
    },
    {
      "cell_type": "code",
      "metadata": {
        "colab": {
          "base_uri": "https://localhost:8080/",
          "height": 204
        },
        "id": "kM7bVmVuG2cP",
        "outputId": "24e2bace-ffe2-41b9-8e9e-4bdd3e4327b6"
      },
      "source": [
        "hom_mm.head()"
      ],
      "execution_count": null,
      "outputs": [
        {
          "output_type": "execute_result",
          "data": {
            "text/html": [
              "<div>\n",
              "<style scoped>\n",
              "    .dataframe tbody tr th:only-of-type {\n",
              "        vertical-align: middle;\n",
              "    }\n",
              "\n",
              "    .dataframe tbody tr th {\n",
              "        vertical-align: top;\n",
              "    }\n",
              "\n",
              "    .dataframe thead th {\n",
              "        text-align: right;\n",
              "    }\n",
              "</style>\n",
              "<table border=\"1\" class=\"dataframe\">\n",
              "  <thead>\n",
              "    <tr style=\"text-align: right;\">\n",
              "      <th></th>\n",
              "      <th>paper1</th>\n",
              "      <th>gender1</th>\n",
              "      <th>year1</th>\n",
              "      <th>paper2</th>\n",
              "      <th>gender2</th>\n",
              "      <th>year2</th>\n",
              "      <th>qval</th>\n",
              "      <th>k</th>\n",
              "      <th>count1</th>\n",
              "      <th>count2</th>\n",
              "    </tr>\n",
              "  </thead>\n",
              "  <tbody>\n",
              "    <tr>\n",
              "      <th>1816</th>\n",
              "      <td>10.1103/PhysRevA.30.336</td>\n",
              "      <td>male</td>\n",
              "      <td>1984</td>\n",
              "      <td>10.1103/PhysRevA.33.360</td>\n",
              "      <td>male</td>\n",
              "      <td>1986</td>\n",
              "      <td>0.004950</td>\n",
              "      <td>False</td>\n",
              "      <td>11</td>\n",
              "      <td>3</td>\n",
              "    </tr>\n",
              "    <tr>\n",
              "      <th>0</th>\n",
              "      <td>10.1103/PhysRevA.30.336</td>\n",
              "      <td>male</td>\n",
              "      <td>1984</td>\n",
              "      <td>10.1103/PhysRevA.34.1617</td>\n",
              "      <td>male</td>\n",
              "      <td>1986</td>\n",
              "      <td>0.001230</td>\n",
              "      <td>False</td>\n",
              "      <td>11</td>\n",
              "      <td>20</td>\n",
              "    </tr>\n",
              "    <tr>\n",
              "      <th>1817</th>\n",
              "      <td>10.1103/PhysRevA.30.336</td>\n",
              "      <td>male</td>\n",
              "      <td>1984</td>\n",
              "      <td>10.1103/PhysRevA.35.1740</td>\n",
              "      <td>male</td>\n",
              "      <td>1987</td>\n",
              "      <td>0.047619</td>\n",
              "      <td>False</td>\n",
              "      <td>11</td>\n",
              "      <td>3</td>\n",
              "    </tr>\n",
              "    <tr>\n",
              "      <th>1819</th>\n",
              "      <td>10.1103/PhysRevA.30.336</td>\n",
              "      <td>male</td>\n",
              "      <td>1984</td>\n",
              "      <td>10.1103/PhysRevA.35.4247</td>\n",
              "      <td>male</td>\n",
              "      <td>1987</td>\n",
              "      <td>0.095238</td>\n",
              "      <td>False</td>\n",
              "      <td>11</td>\n",
              "      <td>2</td>\n",
              "    </tr>\n",
              "    <tr>\n",
              "      <th>1825</th>\n",
              "      <td>10.1103/PhysRevA.30.336</td>\n",
              "      <td>male</td>\n",
              "      <td>1984</td>\n",
              "      <td>10.1103/PhysRevA.38.5193</td>\n",
              "      <td>male</td>\n",
              "      <td>1988</td>\n",
              "      <td>0.004950</td>\n",
              "      <td>False</td>\n",
              "      <td>11</td>\n",
              "      <td>7</td>\n",
              "    </tr>\n",
              "  </tbody>\n",
              "</table>\n",
              "</div>"
            ],
            "text/plain": [
              "                       paper1 gender1  year1  ...      k count1  count2\n",
              "1816  10.1103/PhysRevA.30.336    male   1984  ...  False     11       3\n",
              "0     10.1103/PhysRevA.30.336    male   1984  ...  False     11      20\n",
              "1817  10.1103/PhysRevA.30.336    male   1984  ...  False     11       3\n",
              "1819  10.1103/PhysRevA.30.336    male   1984  ...  False     11       2\n",
              "1825  10.1103/PhysRevA.30.336    male   1984  ...  False     11       7\n",
              "\n",
              "[5 rows x 10 columns]"
            ]
          },
          "metadata": {
            "tags": []
          },
          "execution_count": 15
        }
      ]
    },
    {
      "cell_type": "markdown",
      "metadata": {
        "id": "D4VCIwb6HZmy"
      },
      "source": [
        "This is the dataset I saved for hom_mm.\n",
        "\n",
        "## 1c-2A. Male-male comparision (outdated)"
      ]
    },
    {
      "cell_type": "code",
      "metadata": {
        "id": "bG_z1FlbVxfT"
      },
      "source": [
        "hom_mm = pd.read_csv(\"drive/My Drive/codes/hom_mm.csv\")\n",
        "\n",
        "listc = []\n",
        "\n",
        "for j in range(len(hom_mm)):\n",
        "  listc.append(max(hom_mm['year1'][j], hom_mm['year2'][j]))\n",
        "\n",
        "hom_mm['year'] = listc\n",
        "\n",
        "listd = []\n",
        "listy = []\n",
        "\n",
        "for c in range(len(hom_mm)):\n",
        "  if hom_mm['gender1'][c] == 'male':\n",
        "    listd.append(hom_mm['count1'][c] - hom_mm['count2'][c])\n",
        "    listy.append(hom_mm['year1'][c] - hom_mm['year2'][c])\n",
        "  else:\n",
        "    listd.append(hom_mm['count2'][c] - hom_mm['count1'][c])\n",
        "    listy.append(hom_mm['year2'][c] - hom_mm['year1'][c])\n",
        "\n",
        "hom_mm['countd'] = listd\n",
        "hom_mm['yeard'] = listy\n",
        "\n",
        "print(len(hom_mm))\n",
        "hom_mm.head()"
      ],
      "execution_count": null,
      "outputs": []
    },
    {
      "cell_type": "code",
      "metadata": {
        "id": "SkU6tVu5NoAf"
      },
      "source": [
        "hom_mm2 = hom_mm[hom_mm['yeard'] > -4].sort_values('yeard').reset_index(drop=True)\n",
        "hom_mm2 = hom_mm2[hom_mm2['yeard'] < 4].sort_values('yeard').reset_index(drop=True)"
      ],
      "execution_count": null,
      "outputs": []
    },
    {
      "cell_type": "code",
      "metadata": {
        "id": "yEV-lTi9NoDH"
      },
      "source": [
        "# use p-values from the paper\n",
        "p = 0.0015\n",
        "\n",
        "homp2 = hom_mm2[hom_mm2['qval'] < p].sort_values('countd').reset_index(drop=True)\n",
        "print(len(homp2)/len(hom_mm2))\n",
        "homp2.head()"
      ],
      "execution_count": null,
      "outputs": []
    },
    {
      "cell_type": "code",
      "metadata": {
        "id": "YEOwCx61NoIb",
        "colab": {
          "base_uri": "https://localhost:8080/",
          "height": 221
        },
        "outputId": "fcc25efe-e46b-490a-fdef-f76620c02b6e"
      },
      "source": [
        "plot_hom2 = homp2[['year', 'countd', 'yeard']].sort_values(by=['year', 'countd', 'yeard'])\n",
        "\n",
        "print(len(plot_hom2))\n",
        "plot_hom2.head()"
      ],
      "execution_count": null,
      "outputs": [
        {
          "output_type": "stream",
          "text": [
            "144815\n"
          ],
          "name": "stdout"
        },
        {
          "output_type": "execute_result",
          "data": {
            "text/html": [
              "<div>\n",
              "<style scoped>\n",
              "    .dataframe tbody tr th:only-of-type {\n",
              "        vertical-align: middle;\n",
              "    }\n",
              "\n",
              "    .dataframe tbody tr th {\n",
              "        vertical-align: top;\n",
              "    }\n",
              "\n",
              "    .dataframe thead th {\n",
              "        text-align: right;\n",
              "    }\n",
              "</style>\n",
              "<table border=\"1\" class=\"dataframe\">\n",
              "  <thead>\n",
              "    <tr style=\"text-align: right;\">\n",
              "      <th></th>\n",
              "      <th>year</th>\n",
              "      <th>countd</th>\n",
              "      <th>yeard</th>\n",
              "    </tr>\n",
              "  </thead>\n",
              "  <tbody>\n",
              "    <tr>\n",
              "      <th>1022</th>\n",
              "      <td>1981</td>\n",
              "      <td>-109</td>\n",
              "      <td>0</td>\n",
              "    </tr>\n",
              "    <tr>\n",
              "      <th>14352</th>\n",
              "      <td>1981</td>\n",
              "      <td>-20</td>\n",
              "      <td>0</td>\n",
              "    </tr>\n",
              "    <tr>\n",
              "      <th>14364</th>\n",
              "      <td>1981</td>\n",
              "      <td>-20</td>\n",
              "      <td>0</td>\n",
              "    </tr>\n",
              "    <tr>\n",
              "      <th>23850</th>\n",
              "      <td>1981</td>\n",
              "      <td>-12</td>\n",
              "      <td>-1</td>\n",
              "    </tr>\n",
              "    <tr>\n",
              "      <th>49471</th>\n",
              "      <td>1981</td>\n",
              "      <td>-3</td>\n",
              "      <td>-1</td>\n",
              "    </tr>\n",
              "  </tbody>\n",
              "</table>\n",
              "</div>"
            ],
            "text/plain": [
              "       year  countd  yeard\n",
              "1022   1981    -109      0\n",
              "14352  1981     -20      0\n",
              "14364  1981     -20      0\n",
              "23850  1981     -12     -1\n",
              "49471  1981      -3     -1"
            ]
          },
          "metadata": {
            "tags": []
          },
          "execution_count": 8
        }
      ]
    },
    {
      "cell_type": "code",
      "metadata": {
        "id": "glJ2-x-Jg8_d"
      },
      "source": [
        "dflist = []\n",
        "simul = 0\n",
        "\n",
        "while simul < 100:\n",
        "\n",
        "  subplot_hom2 = plot_hom2[plot_hom2[\"year\"] <= 1995].sample(50) # THIS IS A PRE-1995 DATASET\n",
        "  # subplot_hom2 = plot_hom2.sample(50) # THIS IS A WHOLE DATASET\n",
        "  # print(subplot_hom2.head())\n",
        "  for j in range(0, len(subplot_hom2), 2):\n",
        "    if subplot_hom2['yeard'].iloc[j] <= 0:\n",
        "      subplot_hom2['yeard'].iloc[j] *= -1\n",
        "      subplot_hom2['countd'].iloc[j] *= -1\n",
        "    if subplot_hom2['yeard'].iloc[j+1] >= 0:\n",
        "      subplot_hom2['yeard'].iloc[j+1] *= -1\n",
        "      subplot_hom2['countd'].iloc[j+1] *= -1\n",
        "\n",
        "  dflist.append(subplot_hom2)\n",
        "  simul += 1\n",
        "\n",
        "df = pd.concat(dflist, axis=0, ignore_index=True)"
      ],
      "execution_count": null,
      "outputs": []
    },
    {
      "cell_type": "code",
      "metadata": {
        "id": "mjfglZcFWfCw"
      },
      "source": [
        "fig, ax = plt.subplots(figsize=(8,6))\n",
        "right_side = ax.spines[\"right\"]\n",
        "top_side = ax.spines[\"top\"]\n",
        "right_side.set_visible(False)\n",
        "top_side.set_visible(False)\n",
        "\n",
        "plt.axhline(y=0, color='black', linestyle='dotted', lw=3)\n",
        "sns.lineplot(data=df, x=\"year\", y=\"countd\",ax=ax,ci=None,color=\"black\")\n",
        "\n",
        "cm = sns.color_palette(\"Blues\",10)\n",
        "\n",
        "for ix,ci in enumerate(range(10,100,10)):\n",
        "    sns.lineplot(data=df, x=\"year\", y=\"countd\",\n",
        "                 ci = ci,\n",
        "                 ax=ax,linestyle='',\n",
        "                 hue = ci,palette={ci:cm[ix]})\n",
        "\n",
        "# plt.title(\"Percentile Plot of Degree Centrality Difference between Similar Pairs\")\n",
        "plt.xlabel(\"Publication Year\", fontsize=20)\n",
        "plt.ylabel(\"\\u0394(Citation)\", fontsize=20)"
      ],
      "execution_count": null,
      "outputs": []
    },
    {
      "cell_type": "code",
      "metadata": {
        "id": "e5rzKma-gVHj"
      },
      "source": [
        "for i in range(10):\n",
        "\n",
        "  dflist = []\n",
        "  simul = 0\n",
        "\n",
        "  while simul < 100:\n",
        "\n",
        "    # subplot_hom2 = plot_hom2[plot_hom2[\"year\"] <= 1995].sample(50) # THIS IS A PRE-1995 DATASET\n",
        "    subplot_hom2 = plot_hom2.sample(50) # THIS IS A WHOLE DATASET\n",
        "    # print(subplot_hom2.head())\n",
        "    for j in range(0, len(subplot_hom2), 2):\n",
        "      if subplot_hom2['yeard'].iloc[j] <= 0:\n",
        "        subplot_hom2['yeard'].iloc[j] *= -1\n",
        "        subplot_hom2['countd'].iloc[j] *= -1\n",
        "      if subplot_hom2['yeard'].iloc[j+1] >= 0:\n",
        "        subplot_hom2['yeard'].iloc[j+1] *= -1\n",
        "        subplot_hom2['countd'].iloc[j+1] *= -1\n",
        "\n",
        "    dflist.append(subplot_hom2)\n",
        "    simul += 1\n",
        "\n",
        "  df = pd.concat(dflist, axis=0, ignore_index=True)\n",
        "\n",
        "  fig, ax = plt.subplots(figsize=(8,6))\n",
        "  right_side = ax.spines[\"right\"]\n",
        "  top_side = ax.spines[\"top\"]\n",
        "  right_side.set_visible(False)\n",
        "  top_side.set_visible(False)\n",
        "\n",
        "  plt.axhline(y=0, color='black', linestyle='dotted', lw=3)\n",
        "  sns.lineplot(data=plot_hom, x=\"year\", y=\"countd\",ax=ax,ci=None,color=\"red\")\n",
        "  sns.lineplot(data=df, x=\"year\", y=\"countd\",ax=ax,ci=None,color=\"blue\")\n",
        "\n",
        "  cm1 = sns.color_palette(\"Reds\",10)\n",
        "\n",
        "  for ix,ci in enumerate(range(10,100,10)):\n",
        "      sns.lineplot(data=plot_hom, x=\"year\", y=\"countd\",\n",
        "                  ci = ci,\n",
        "                  ax=ax,linestyle='',\n",
        "                  hue = ci,palette={ci:cm1[ix]},\n",
        "                  legend = False)\n",
        "      \n",
        "  cm2 = sns.color_palette(\"Blues\",10)\n",
        "      \n",
        "  for ix,ci in enumerate(range(10,100,10)):\n",
        "      sns.lineplot(data=df, x=\"year\", y=\"countd\",\n",
        "                  ci = ci,\n",
        "                  ax=ax,linestyle='',\n",
        "                  hue = ci,palette={ci:cm2[ix]},\n",
        "                  legend = False)\n",
        "\n",
        "  # plt.title(\"Percentile Plot of Degree Centrality Difference between Similar Pairs\")\n",
        "  plt.xlabel(\"Publication Year\", fontsize=20)\n",
        "  plt.xticks(np.arange(1980, 2010, 5),fontsize=20)\n",
        "  # plt.xlim(xmax=1995)\n",
        "  plt.yticks(fontsize=20)\n",
        "  plt.ylabel(\"\\u0394(Citation)\", fontsize=20)\n",
        "\n",
        "  fig.savefig(f\"drive/My Drive/codes/fullcomparison_plot{i}.pdf\")"
      ],
      "execution_count": null,
      "outputs": []
    },
    {
      "cell_type": "markdown",
      "metadata": {
        "id": "Te70lhZjnXhS"
      },
      "source": [
        "# 1c-2B. REAL Comparison Analysis"
      ]
    },
    {
      "cell_type": "code",
      "metadata": {
        "id": "-lwienZCXJ9J",
        "colab": {
          "base_uri": "https://localhost:8080/"
        },
        "outputId": "22135c22-1578-4024-f397-0305d162be60"
      },
      "source": [
        "pair = pd.read_csv(\"drive/My Drive/codes/pairdata.csv\")\n",
        "\n",
        "dc = data[[\"doi\", \"year\"]].drop_duplicates(subset = 'doi')\n",
        "dc = dc.merge(cb, left_on = 'doi',\n",
        "              right_on = 'citing_doi', how = 'inner').drop(\n",
        "                  ['doi'], axis=1).rename({'year': 'citing_year'}, axis=1)\n",
        "\n",
        "cols = ['citing_doi', 'citing_year', 'cited_doi']\n",
        "dc = dc.reindex(columns=cols).sort_values('cited_doi')\n",
        "\n",
        "hom_mf = pair[pair[\"gender1\"] != pair[\"gender2\"]].reset_index(drop=True)\n",
        "\n",
        "test = hom_mf.merge(dc, left_on = 'paper1',\n",
        "                    right_on = 'cited_doi', how = 'left').drop(\n",
        "                        [\"cited_doi\", \"citing_year\"], axis=1).drop_duplicates(\n",
        "                            subset=['paper1', 'citing_doi'])\n",
        "test['count'] = test.groupby(['paper1'])['paper1'].transform('count')\n",
        "test = test.drop([\"citing_doi\"], axis=1).rename({'count': 'count1'}, axis=1)\n",
        "\n",
        "test = test.drop_duplicates(subset=['paper1', 'paper2']).drop(\n",
        "    ['gender1', 'year1', 'paper2', 'gender2', 'year2', 'qval', 'k'], axis=1)\n",
        "hom_mf = hom_mf.merge(test, on='paper1', how='inner')\n",
        "\n",
        "test = hom_mf.merge(dc, left_on = 'paper2',\n",
        "                    right_on = 'cited_doi', how = 'left').drop(\n",
        "                        [\"cited_doi\", \"citing_year\"], axis=1).drop_duplicates(\n",
        "                            subset=['paper2', 'citing_doi'])\n",
        "test['count'] = test.groupby(['paper2'])['paper2'].transform('count')\n",
        "test = test.drop([\"citing_doi\"], axis=1).rename(\n",
        "    {'count': 'count2'}, axis=1).drop_duplicates(\n",
        "        subset=['paper1', 'paper2']).drop(\n",
        "            ['gender1', 'year1', 'paper1', 'gender2', 'count1',\n",
        "             'year2', 'qval', 'k'], axis=1)\n",
        "hom_mf = hom_mf.merge(test, on='paper2', how='inner')\n",
        "\n",
        "del test\n",
        "\n",
        "listc = []\n",
        "\n",
        "for j in range(len(hom_mf)):\n",
        "  listc.append(max(hom_mf['year1'][j], hom_mf['year2'][j]))\n",
        "\n",
        "hom_mf['year'] = listc\n",
        "\n",
        "listd = []\n",
        "listy = []\n",
        "\n",
        "for c in range(len(hom_mf)):\n",
        "  if hom_mf['gender1'][c] == 'male':\n",
        "    listd.append(hom_mf['count1'][c] - hom_mf['count2'][c])\n",
        "    listy.append(hom_mf['year1'][c] - hom_mf['year2'][c])\n",
        "  else:\n",
        "    listd.append(hom_mf['count2'][c] - hom_mf['count1'][c])\n",
        "    listy.append(hom_mf['year2'][c] - hom_mf['year1'][c])\n",
        "\n",
        "hom_mf['countd'] = listd\n",
        "hom_mf['yeard'] = listy\n",
        "\n",
        "# print(len(hom_mf))\n",
        "# hom_mf.head()\n",
        "\n",
        "hom_mf2 = hom_mf[hom_mf['yeard'] > -4].sort_values('yeard').reset_index(drop=True)\n",
        "hom_mf2 = hom_mf2[hom_mf2['yeard'] < 4].sort_values('yeard').reset_index(drop=True)\n",
        "\n",
        "p = 0.002\n",
        "\n",
        "homp = hom_mf2[hom_mf2['qval'] < p].sort_values('countd').reset_index(drop=True)\n",
        "plot_hom = homp[['year', 'countd']].sort_values(by=['year', 'countd'])\n",
        "\n",
        "print(len(homp)/len(hom_mf2))"
      ],
      "execution_count": null,
      "outputs": [
        {
          "output_type": "stream",
          "name": "stdout",
          "text": [
            "0.06485455326102513\n"
          ]
        }
      ]
    },
    {
      "cell_type": "code",
      "metadata": {
        "colab": {
          "base_uri": "https://localhost:8080/"
        },
        "id": "h_jl6FGT0Hv2",
        "outputId": "496d981b-249b-43e1-aff9-d1a5bdacf6d9"
      },
      "source": [
        "hom_mm = pd.read_csv(\"drive/My Drive/codes/hom_mm.csv\")\n",
        "\n",
        "listc = []\n",
        "\n",
        "for j in range(len(hom_mm)):\n",
        "  listc.append(max(hom_mm['year1'][j], hom_mm['year2'][j]))\n",
        "\n",
        "hom_mm['year'] = listc\n",
        "\n",
        "listd = []\n",
        "listy = []\n",
        "\n",
        "for c in range(len(hom_mm)):\n",
        "  if hom_mm['gender1'][c] == 'male':\n",
        "    listd.append(hom_mm['count1'][c] - hom_mm['count2'][c])\n",
        "    listy.append(hom_mm['year1'][c] - hom_mm['year2'][c])\n",
        "  else:\n",
        "    listd.append(hom_mm['count2'][c] - hom_mm['count1'][c])\n",
        "    listy.append(hom_mm['year2'][c] - hom_mm['year1'][c])\n",
        "\n",
        "hom_mm['countd'] = listd\n",
        "hom_mm['yeard'] = listy\n",
        "\n",
        "hom_mm2 = hom_mm[hom_mm['yeard'] > -4].sort_values('yeard').reset_index(drop=True)\n",
        "hom_mm2 = hom_mm2[hom_mm2['yeard'] < 4].sort_values('yeard').reset_index(drop=True)\n",
        "\n",
        "p = 0.001\n",
        "\n",
        "homp2 = hom_mm2[hom_mm2['qval'] < p].sort_values('countd').reset_index(drop=True)\n",
        "\n",
        "plot_hom2 = homp2[['year', 'countd']].sort_values(by=['year', 'countd'])\n",
        "\n",
        "print(len(homp2)/len(hom_mm2))"
      ],
      "execution_count": null,
      "outputs": [
        {
          "output_type": "stream",
          "name": "stdout",
          "text": [
            "0.04039170885109462\n"
          ]
        }
      ]
    },
    {
      "cell_type": "code",
      "metadata": {
        "id": "rfnAjj2jI3ox"
      },
      "source": [
        "def percentile(n):\n",
        "    def percentile_(x):\n",
        "        return np.percentile(x, n)\n",
        "    percentile_.__name__ = 'percentile_%s' % n\n",
        "    return percentile_"
      ],
      "execution_count": null,
      "outputs": []
    },
    {
      "cell_type": "code",
      "metadata": {
        "id": "WMRBRPr1GZK1"
      },
      "source": [
        "mfpair = plot_hom.groupby('year').agg([np.mean, percentile(10), percentile(20), percentile(30), percentile(40), np.median, percentile(60), percentile(70), percentile(80), percentile(90)]).reset_index()"
      ],
      "execution_count": null,
      "outputs": []
    },
    {
      "cell_type": "code",
      "metadata": {
        "colab": {
          "base_uri": "https://localhost:8080/",
          "height": 333
        },
        "id": "DX4RudtGb885",
        "outputId": "d41e8145-cac9-40c1-8e9d-3d5d31531aa7"
      },
      "source": [
        "fig, ax = plt.subplots(figsize=(6,4.5))\n",
        "right_side = ax.spines[\"right\"]\n",
        "top_side = ax.spines[\"top\"]\n",
        "right_side.set_visible(False)\n",
        "top_side.set_visible(False)\n",
        "\n",
        "cm = sns.color_palette(\"Reds\",10)\n",
        "\n",
        "plt.axhline(y=0, color='black', linestyle='dotted', lw=3)\n",
        "# sns.lineplot(data=mfpair, x=\"year\", y='countd',ax=ax,ci=None,color=\"black\")\n",
        "plt.plot(mfpair.year,mfpair.countd[\"median\"],\"-\",label=\"M-F Median\", color=cm[9], lw=3)\n",
        "\n",
        "plt.fill_between(mfpair.year, mfpair.countd[\"percentile_10\"], mfpair.countd[\"percentile_20\"], color=cm[1])\n",
        "plt.fill_between(mfpair.year, mfpair.countd[\"percentile_20\"], mfpair.countd[\"percentile_30\"], color=cm[3])\n",
        "plt.fill_between(mfpair.year, mfpair.countd[\"percentile_30\"], mfpair.countd[\"percentile_40\"], color=cm[5])\n",
        "plt.fill_between(mfpair.year, mfpair.countd[\"percentile_40\"], mfpair.countd[\"median\"], color=cm[7])\n",
        "plt.fill_between(mfpair.year, mfpair.countd[\"median\"], mfpair.countd[\"percentile_60\"], color=cm[7])\n",
        "plt.fill_between(mfpair.year, mfpair.countd[\"percentile_60\"], mfpair.countd[\"percentile_70\"], color=cm[5])\n",
        "plt.fill_between(mfpair.year, mfpair.countd[\"percentile_70\"], mfpair.countd[\"percentile_80\"], color=cm[3])\n",
        "plt.fill_between(mfpair.year, mfpair.countd[\"percentile_80\"], mfpair.countd[\"percentile_90\"], color=cm[1])\n",
        "\n",
        "plt.xticks(fontsize=20)\n",
        "plt.yticks(fontsize=20)\n",
        "plt.xlabel(\"Publication Year\", fontsize=20)\n",
        "plt.ylabel(\"\\u0394(Citation)\", fontsize=20)\n",
        "\n",
        "plt.xlim(xmin=1986, xmax=2009)\n",
        "\n",
        "plt.tight_layout()\n",
        "#fig.savefig(f\"drive/My Drive/codes/mfpair_y10.pdf\")"
      ],
      "execution_count": null,
      "outputs": [
        {
          "output_type": "display_data",
          "data": {
            "image/png": "[encoded data removed]",
            "text/plain": [
              "<Figure size 432x324 with 1 Axes>"
            ]
          },
          "metadata": {
            "tags": [],
            "needs_background": "light"
          }
        }
      ]
    },
    {
      "cell_type": "code",
      "metadata": {
        "id": "YDvQz4CLACZm"
      },
      "source": [
        "ref = plot_hom.year.unique()\n",
        "\n",
        "numlist = []\n",
        "\n",
        "final_df = pd.DataFrame(columns=['year'])\n",
        "\n",
        "for num in range(1983,2010):\n",
        "  numlist.append(num)\n",
        "final_df['year'] = numlist"
      ],
      "execution_count": null,
      "outputs": []
    },
    {
      "cell_type": "code",
      "metadata": {
        "id": "pU0h3sN6IbRY"
      },
      "source": [
        "import warnings\n",
        "warnings.filterwarnings(\"ignore\")\n",
        "\n",
        "for k in range(100):\n",
        "  new_df = pd.DataFrame(columns=['year', 'countd'])\n",
        "  vlist = []\n",
        "\n",
        "  for i in range(len(ref)):\n",
        "    appended_df = plot_hom2[plot_hom2['year'] == ref[i]].sample(plot_hom.year.value_counts().sort_index().iloc[i], replace=True)\n",
        "    new_df = pd.concat([new_df,appended_df])\n",
        "    \n",
        "  for j in range(len(new_df)):\n",
        "    if randint(0,1) == 0:\n",
        "      vlist.append(new_df.countd.iloc[j])\n",
        "    else:\n",
        "      vlist.append(new_df.countd.iloc[j] * -1)\n",
        "    \n",
        "  new_df['value'] = vlist\n",
        "  new_df = new_df.groupby(\"year\").agg([np.mean]).reset_index().drop(['year'], axis=1)\n",
        "\n",
        "  final_df = pd.concat([final_df, new_df], axis=1)"
      ],
      "execution_count": null,
      "outputs": []
    },
    {
      "cell_type": "code",
      "metadata": {
        "id": "imUmW88NKQPM",
        "colab": {
          "base_uri": "https://localhost:8080/",
          "height": 270
        },
        "outputId": "f77d8cbc-e8de-424d-d4ea-60921971b752"
      },
      "source": [
        "final_df.head()"
      ],
      "execution_count": null,
      "outputs": [
        {
          "output_type": "execute_result",
          "data": {
            "text/html": [
              "<div>\n",
              "<style scoped>\n",
              "    .dataframe tbody tr th:only-of-type {\n",
              "        vertical-align: middle;\n",
              "    }\n",
              "\n",
              "    .dataframe tbody tr th {\n",
              "        vertical-align: top;\n",
              "    }\n",
              "\n",
              "    .dataframe thead th {\n",
              "        text-align: right;\n",
              "    }\n",
              "</style>\n",
              "<table border=\"1\" class=\"dataframe\">\n",
              "  <thead>\n",
              "    <tr style=\"text-align: right;\">\n",
              "      <th></th>\n",
              "      <th>year</th>\n",
              "      <th>(value, mean)</th>\n",
              "      <th>(value, mean)</th>\n",
              "      <th>(value, mean)</th>\n",
              "      <th>(value, mean)</th>\n",
              "      <th>(value, mean)</th>\n",
              "      <th>(value, mean)</th>\n",
              "      <th>(value, mean)</th>\n",
              "      <th>(value, mean)</th>\n",
              "      <th>(value, mean)</th>\n",
              "      <th>(value, mean)</th>\n",
              "      <th>(value, mean)</th>\n",
              "      <th>(value, mean)</th>\n",
              "      <th>(value, mean)</th>\n",
              "      <th>(value, mean)</th>\n",
              "      <th>(value, mean)</th>\n",
              "      <th>(value, mean)</th>\n",
              "      <th>(value, mean)</th>\n",
              "      <th>(value, mean)</th>\n",
              "      <th>(value, mean)</th>\n",
              "      <th>(value, mean)</th>\n",
              "      <th>(value, mean)</th>\n",
              "      <th>(value, mean)</th>\n",
              "      <th>(value, mean)</th>\n",
              "      <th>(value, mean)</th>\n",
              "      <th>(value, mean)</th>\n",
              "      <th>(value, mean)</th>\n",
              "      <th>(value, mean)</th>\n",
              "      <th>(value, mean)</th>\n",
              "      <th>(value, mean)</th>\n",
              "      <th>(value, mean)</th>\n",
              "      <th>(value, mean)</th>\n",
              "      <th>(value, mean)</th>\n",
              "      <th>(value, mean)</th>\n",
              "      <th>(value, mean)</th>\n",
              "      <th>(value, mean)</th>\n",
              "      <th>(value, mean)</th>\n",
              "      <th>(value, mean)</th>\n",
              "      <th>(value, mean)</th>\n",
              "      <th>(value, mean)</th>\n",
              "      <th>...</th>\n",
              "      <th>(value, mean)</th>\n",
              "      <th>(value, mean)</th>\n",
              "      <th>(value, mean)</th>\n",
              "      <th>(value, mean)</th>\n",
              "      <th>(value, mean)</th>\n",
              "      <th>(value, mean)</th>\n",
              "      <th>(value, mean)</th>\n",
              "      <th>(value, mean)</th>\n",
              "      <th>(value, mean)</th>\n",
              "      <th>(value, mean)</th>\n",
              "      <th>(value, mean)</th>\n",
              "      <th>(value, mean)</th>\n",
              "      <th>(value, mean)</th>\n",
              "      <th>(value, mean)</th>\n",
              "      <th>(value, mean)</th>\n",
              "      <th>(value, mean)</th>\n",
              "      <th>(value, mean)</th>\n",
              "      <th>(value, mean)</th>\n",
              "      <th>(value, mean)</th>\n",
              "      <th>(value, mean)</th>\n",
              "      <th>(value, mean)</th>\n",
              "      <th>(value, mean)</th>\n",
              "      <th>(value, mean)</th>\n",
              "      <th>(value, mean)</th>\n",
              "      <th>(value, mean)</th>\n",
              "      <th>(value, mean)</th>\n",
              "      <th>(value, mean)</th>\n",
              "      <th>(value, mean)</th>\n",
              "      <th>(value, mean)</th>\n",
              "      <th>(value, mean)</th>\n",
              "      <th>(value, mean)</th>\n",
              "      <th>(value, mean)</th>\n",
              "      <th>(value, mean)</th>\n",
              "      <th>(value, mean)</th>\n",
              "      <th>(value, mean)</th>\n",
              "      <th>(value, mean)</th>\n",
              "      <th>(value, mean)</th>\n",
              "      <th>(value, mean)</th>\n",
              "      <th>(value, mean)</th>\n",
              "      <th>(value, mean)</th>\n",
              "    </tr>\n",
              "  </thead>\n",
              "  <tbody>\n",
              "    <tr>\n",
              "      <th>0</th>\n",
              "      <td>1983</td>\n",
              "      <td>20.250000</td>\n",
              "      <td>-1.000000</td>\n",
              "      <td>23.750000</td>\n",
              "      <td>2.000000</td>\n",
              "      <td>-28.750000</td>\n",
              "      <td>25.000000</td>\n",
              "      <td>43.750000</td>\n",
              "      <td>3.500000</td>\n",
              "      <td>4.500000</td>\n",
              "      <td>-2.250000</td>\n",
              "      <td>-0.500000</td>\n",
              "      <td>-1.500000</td>\n",
              "      <td>-22.000000</td>\n",
              "      <td>2.000000</td>\n",
              "      <td>5.250000</td>\n",
              "      <td>6.000000</td>\n",
              "      <td>5.250000</td>\n",
              "      <td>20.000000</td>\n",
              "      <td>3.750000</td>\n",
              "      <td>-3.750000</td>\n",
              "      <td>-28.000000</td>\n",
              "      <td>-17.000000</td>\n",
              "      <td>23.750000</td>\n",
              "      <td>21.500000</td>\n",
              "      <td>-3.500000</td>\n",
              "      <td>-21.000000</td>\n",
              "      <td>-14.750000</td>\n",
              "      <td>-6.000000</td>\n",
              "      <td>-9.000000</td>\n",
              "      <td>32.000000</td>\n",
              "      <td>7.500000</td>\n",
              "      <td>1.750000</td>\n",
              "      <td>5.500000</td>\n",
              "      <td>-16.000000</td>\n",
              "      <td>-2.000000</td>\n",
              "      <td>0.250000</td>\n",
              "      <td>-23.250000</td>\n",
              "      <td>-44.000000</td>\n",
              "      <td>-42.000000</td>\n",
              "      <td>...</td>\n",
              "      <td>19.750000</td>\n",
              "      <td>0.750000</td>\n",
              "      <td>-21.000000</td>\n",
              "      <td>27.500000</td>\n",
              "      <td>2.000000</td>\n",
              "      <td>-16.000000</td>\n",
              "      <td>42.750000</td>\n",
              "      <td>11.000000</td>\n",
              "      <td>5.750000</td>\n",
              "      <td>3.250000</td>\n",
              "      <td>14.000000</td>\n",
              "      <td>18.250000</td>\n",
              "      <td>-10.500000</td>\n",
              "      <td>23.000000</td>\n",
              "      <td>21.000000</td>\n",
              "      <td>-19.750000</td>\n",
              "      <td>18.500000</td>\n",
              "      <td>1.250000</td>\n",
              "      <td>20.750000</td>\n",
              "      <td>21.750000</td>\n",
              "      <td>0.250000</td>\n",
              "      <td>-1.750000</td>\n",
              "      <td>-15.000000</td>\n",
              "      <td>3.000000</td>\n",
              "      <td>8.000000</td>\n",
              "      <td>21.250000</td>\n",
              "      <td>-20.000000</td>\n",
              "      <td>6.250000</td>\n",
              "      <td>-5.000000</td>\n",
              "      <td>7.250000</td>\n",
              "      <td>-15.750000</td>\n",
              "      <td>-3.500000</td>\n",
              "      <td>24.250000</td>\n",
              "      <td>17.000000</td>\n",
              "      <td>3.250000</td>\n",
              "      <td>20.250000</td>\n",
              "      <td>22.750000</td>\n",
              "      <td>8.000000</td>\n",
              "      <td>-22.250000</td>\n",
              "      <td>-1.500000</td>\n",
              "    </tr>\n",
              "    <tr>\n",
              "      <th>1</th>\n",
              "      <td>1984</td>\n",
              "      <td>27.000000</td>\n",
              "      <td>12.750000</td>\n",
              "      <td>-2.250000</td>\n",
              "      <td>6.750000</td>\n",
              "      <td>5.500000</td>\n",
              "      <td>-3.000000</td>\n",
              "      <td>-4.250000</td>\n",
              "      <td>3.750000</td>\n",
              "      <td>-6.750000</td>\n",
              "      <td>4.250000</td>\n",
              "      <td>-2.000000</td>\n",
              "      <td>0.000000</td>\n",
              "      <td>10.250000</td>\n",
              "      <td>2.500000</td>\n",
              "      <td>-4.750000</td>\n",
              "      <td>-11.000000</td>\n",
              "      <td>5.250000</td>\n",
              "      <td>-11.750000</td>\n",
              "      <td>3.250000</td>\n",
              "      <td>6.750000</td>\n",
              "      <td>6.750000</td>\n",
              "      <td>0.000000</td>\n",
              "      <td>-11.000000</td>\n",
              "      <td>0.000000</td>\n",
              "      <td>1.000000</td>\n",
              "      <td>22.750000</td>\n",
              "      <td>-9.500000</td>\n",
              "      <td>-9.750000</td>\n",
              "      <td>30.750000</td>\n",
              "      <td>-2.750000</td>\n",
              "      <td>-4.750000</td>\n",
              "      <td>0.500000</td>\n",
              "      <td>7.750000</td>\n",
              "      <td>-3.000000</td>\n",
              "      <td>4.500000</td>\n",
              "      <td>27.000000</td>\n",
              "      <td>-1.250000</td>\n",
              "      <td>1.500000</td>\n",
              "      <td>-30.500000</td>\n",
              "      <td>...</td>\n",
              "      <td>-1.000000</td>\n",
              "      <td>23.500000</td>\n",
              "      <td>13.000000</td>\n",
              "      <td>23.750000</td>\n",
              "      <td>-34.000000</td>\n",
              "      <td>1.750000</td>\n",
              "      <td>-27.750000</td>\n",
              "      <td>6.750000</td>\n",
              "      <td>-13.250000</td>\n",
              "      <td>-9.000000</td>\n",
              "      <td>2.000000</td>\n",
              "      <td>1.250000</td>\n",
              "      <td>3.000000</td>\n",
              "      <td>45.000000</td>\n",
              "      <td>16.000000</td>\n",
              "      <td>-12.250000</td>\n",
              "      <td>2.000000</td>\n",
              "      <td>1.250000</td>\n",
              "      <td>25.500000</td>\n",
              "      <td>-3.000000</td>\n",
              "      <td>1.500000</td>\n",
              "      <td>7.250000</td>\n",
              "      <td>30.250000</td>\n",
              "      <td>7.750000</td>\n",
              "      <td>-2.500000</td>\n",
              "      <td>-6.000000</td>\n",
              "      <td>6.500000</td>\n",
              "      <td>11.500000</td>\n",
              "      <td>-28.500000</td>\n",
              "      <td>-1.500000</td>\n",
              "      <td>-1.500000</td>\n",
              "      <td>6.250000</td>\n",
              "      <td>-36.250000</td>\n",
              "      <td>31.000000</td>\n",
              "      <td>-2.000000</td>\n",
              "      <td>2.000000</td>\n",
              "      <td>-14.500000</td>\n",
              "      <td>-26.500000</td>\n",
              "      <td>-35.000000</td>\n",
              "      <td>6.250000</td>\n",
              "    </tr>\n",
              "    <tr>\n",
              "      <th>2</th>\n",
              "      <td>1985</td>\n",
              "      <td>7.088235</td>\n",
              "      <td>1.058824</td>\n",
              "      <td>-0.029412</td>\n",
              "      <td>4.911765</td>\n",
              "      <td>10.205882</td>\n",
              "      <td>-0.235294</td>\n",
              "      <td>-4.441176</td>\n",
              "      <td>0.647059</td>\n",
              "      <td>0.852941</td>\n",
              "      <td>-7.000000</td>\n",
              "      <td>-4.117647</td>\n",
              "      <td>-5.441176</td>\n",
              "      <td>-0.294118</td>\n",
              "      <td>-3.264706</td>\n",
              "      <td>3.588235</td>\n",
              "      <td>5.117647</td>\n",
              "      <td>2.794118</td>\n",
              "      <td>-5.735294</td>\n",
              "      <td>-15.117647</td>\n",
              "      <td>8.500000</td>\n",
              "      <td>-9.617647</td>\n",
              "      <td>-2.264706</td>\n",
              "      <td>4.441176</td>\n",
              "      <td>1.058824</td>\n",
              "      <td>0.470588</td>\n",
              "      <td>1.029412</td>\n",
              "      <td>3.470588</td>\n",
              "      <td>-4.970588</td>\n",
              "      <td>-0.852941</td>\n",
              "      <td>-2.823529</td>\n",
              "      <td>-6.911765</td>\n",
              "      <td>-2.500000</td>\n",
              "      <td>5.029412</td>\n",
              "      <td>1.147059</td>\n",
              "      <td>-1.441176</td>\n",
              "      <td>6.882353</td>\n",
              "      <td>-2.970588</td>\n",
              "      <td>0.882353</td>\n",
              "      <td>8.235294</td>\n",
              "      <td>...</td>\n",
              "      <td>-7.588235</td>\n",
              "      <td>0.264706</td>\n",
              "      <td>-5.970588</td>\n",
              "      <td>-3.411765</td>\n",
              "      <td>3.411765</td>\n",
              "      <td>2.941176</td>\n",
              "      <td>1.558824</td>\n",
              "      <td>6.088235</td>\n",
              "      <td>-0.735294</td>\n",
              "      <td>3.500000</td>\n",
              "      <td>1.058824</td>\n",
              "      <td>4.705882</td>\n",
              "      <td>-4.147059</td>\n",
              "      <td>-3.970588</td>\n",
              "      <td>0.558824</td>\n",
              "      <td>11.176471</td>\n",
              "      <td>-2.323529</td>\n",
              "      <td>2.970588</td>\n",
              "      <td>-3.558824</td>\n",
              "      <td>-1.205882</td>\n",
              "      <td>0.352941</td>\n",
              "      <td>5.352941</td>\n",
              "      <td>-1.352941</td>\n",
              "      <td>9.970588</td>\n",
              "      <td>-3.852941</td>\n",
              "      <td>-8.470588</td>\n",
              "      <td>-0.852941</td>\n",
              "      <td>-2.970588</td>\n",
              "      <td>-1.029412</td>\n",
              "      <td>-1.676471</td>\n",
              "      <td>9.352941</td>\n",
              "      <td>0.558824</td>\n",
              "      <td>11.058824</td>\n",
              "      <td>2.852941</td>\n",
              "      <td>-1.323529</td>\n",
              "      <td>-1.676471</td>\n",
              "      <td>5.176471</td>\n",
              "      <td>-12.352941</td>\n",
              "      <td>-1.352941</td>\n",
              "      <td>0.352941</td>\n",
              "    </tr>\n",
              "    <tr>\n",
              "      <th>3</th>\n",
              "      <td>1986</td>\n",
              "      <td>13.863014</td>\n",
              "      <td>2.013699</td>\n",
              "      <td>-0.945205</td>\n",
              "      <td>-7.000000</td>\n",
              "      <td>36.849315</td>\n",
              "      <td>6.904110</td>\n",
              "      <td>3.616438</td>\n",
              "      <td>-12.780822</td>\n",
              "      <td>0.068493</td>\n",
              "      <td>9.630137</td>\n",
              "      <td>-1.958904</td>\n",
              "      <td>-8.808219</td>\n",
              "      <td>-9.958904</td>\n",
              "      <td>-9.575342</td>\n",
              "      <td>1.397260</td>\n",
              "      <td>-0.205479</td>\n",
              "      <td>17.684932</td>\n",
              "      <td>-4.972603</td>\n",
              "      <td>-26.123288</td>\n",
              "      <td>5.904110</td>\n",
              "      <td>12.356164</td>\n",
              "      <td>3.260274</td>\n",
              "      <td>11.547945</td>\n",
              "      <td>-0.356164</td>\n",
              "      <td>-0.561644</td>\n",
              "      <td>-2.123288</td>\n",
              "      <td>-8.739726</td>\n",
              "      <td>-0.986301</td>\n",
              "      <td>-16.095890</td>\n",
              "      <td>-13.054795</td>\n",
              "      <td>0.273973</td>\n",
              "      <td>15.273973</td>\n",
              "      <td>-3.000000</td>\n",
              "      <td>-2.808219</td>\n",
              "      <td>8.876712</td>\n",
              "      <td>-4.589041</td>\n",
              "      <td>-4.424658</td>\n",
              "      <td>-0.931507</td>\n",
              "      <td>-1.547945</td>\n",
              "      <td>...</td>\n",
              "      <td>-2.684932</td>\n",
              "      <td>-23.000000</td>\n",
              "      <td>-11.986301</td>\n",
              "      <td>4.123288</td>\n",
              "      <td>-12.328767</td>\n",
              "      <td>-13.726027</td>\n",
              "      <td>5.068493</td>\n",
              "      <td>2.821918</td>\n",
              "      <td>-1.917808</td>\n",
              "      <td>-2.958904</td>\n",
              "      <td>6.027397</td>\n",
              "      <td>2.753425</td>\n",
              "      <td>-0.095890</td>\n",
              "      <td>-4.493151</td>\n",
              "      <td>4.726027</td>\n",
              "      <td>-5.589041</td>\n",
              "      <td>3.013699</td>\n",
              "      <td>-7.013699</td>\n",
              "      <td>3.260274</td>\n",
              "      <td>-1.849315</td>\n",
              "      <td>8.205479</td>\n",
              "      <td>-15.315068</td>\n",
              "      <td>-0.342466</td>\n",
              "      <td>-9.890411</td>\n",
              "      <td>-1.150685</td>\n",
              "      <td>2.698630</td>\n",
              "      <td>-1.328767</td>\n",
              "      <td>-9.164384</td>\n",
              "      <td>-0.191781</td>\n",
              "      <td>-5.246575</td>\n",
              "      <td>7.863014</td>\n",
              "      <td>-16.123288</td>\n",
              "      <td>1.821918</td>\n",
              "      <td>4.753425</td>\n",
              "      <td>0.082192</td>\n",
              "      <td>2.383562</td>\n",
              "      <td>1.424658</td>\n",
              "      <td>-9.849315</td>\n",
              "      <td>0.232877</td>\n",
              "      <td>2.534247</td>\n",
              "    </tr>\n",
              "    <tr>\n",
              "      <th>4</th>\n",
              "      <td>1987</td>\n",
              "      <td>2.476636</td>\n",
              "      <td>1.177570</td>\n",
              "      <td>0.401869</td>\n",
              "      <td>4.457944</td>\n",
              "      <td>2.635514</td>\n",
              "      <td>0.018692</td>\n",
              "      <td>1.177570</td>\n",
              "      <td>-5.906542</td>\n",
              "      <td>-2.018692</td>\n",
              "      <td>2.691589</td>\n",
              "      <td>-0.373832</td>\n",
              "      <td>6.719626</td>\n",
              "      <td>0.214953</td>\n",
              "      <td>1.990654</td>\n",
              "      <td>-3.093458</td>\n",
              "      <td>-3.710280</td>\n",
              "      <td>-0.700935</td>\n",
              "      <td>0.775701</td>\n",
              "      <td>-2.607477</td>\n",
              "      <td>-3.700935</td>\n",
              "      <td>3.046729</td>\n",
              "      <td>2.093458</td>\n",
              "      <td>-0.570093</td>\n",
              "      <td>-0.775701</td>\n",
              "      <td>-0.700935</td>\n",
              "      <td>1.971963</td>\n",
              "      <td>-0.018692</td>\n",
              "      <td>-2.205607</td>\n",
              "      <td>4.121495</td>\n",
              "      <td>3.196262</td>\n",
              "      <td>4.242991</td>\n",
              "      <td>4.261682</td>\n",
              "      <td>1.990654</td>\n",
              "      <td>2.186916</td>\n",
              "      <td>4.457944</td>\n",
              "      <td>-2.719626</td>\n",
              "      <td>-6.420561</td>\n",
              "      <td>-9.906542</td>\n",
              "      <td>1.355140</td>\n",
              "      <td>...</td>\n",
              "      <td>-6.158879</td>\n",
              "      <td>1.542056</td>\n",
              "      <td>-1.112150</td>\n",
              "      <td>1.317757</td>\n",
              "      <td>-3.663551</td>\n",
              "      <td>6.336449</td>\n",
              "      <td>-2.831776</td>\n",
              "      <td>-0.018692</td>\n",
              "      <td>-1.794393</td>\n",
              "      <td>-0.859813</td>\n",
              "      <td>-3.373832</td>\n",
              "      <td>-3.168224</td>\n",
              "      <td>3.439252</td>\n",
              "      <td>-3.364486</td>\n",
              "      <td>0.579439</td>\n",
              "      <td>-2.289720</td>\n",
              "      <td>3.383178</td>\n",
              "      <td>-0.504673</td>\n",
              "      <td>1.383178</td>\n",
              "      <td>-0.233645</td>\n",
              "      <td>-2.719626</td>\n",
              "      <td>2.570093</td>\n",
              "      <td>4.813084</td>\n",
              "      <td>6.616822</td>\n",
              "      <td>-4.616822</td>\n",
              "      <td>-0.654206</td>\n",
              "      <td>2.000000</td>\n",
              "      <td>2.345794</td>\n",
              "      <td>3.037383</td>\n",
              "      <td>2.859813</td>\n",
              "      <td>-0.728972</td>\n",
              "      <td>-3.149533</td>\n",
              "      <td>-4.140187</td>\n",
              "      <td>0.383178</td>\n",
              "      <td>-0.700935</td>\n",
              "      <td>-0.214953</td>\n",
              "      <td>-2.383178</td>\n",
              "      <td>3.392523</td>\n",
              "      <td>-3.532710</td>\n",
              "      <td>4.364486</td>\n",
              "    </tr>\n",
              "  </tbody>\n",
              "</table>\n",
              "<p>5 rows × 101 columns</p>\n",
              "</div>"
            ],
            "text/plain": [
              "   year  (value, mean)  ...  (value, mean)  (value, mean)\n",
              "0  1983      20.250000  ...     -22.250000      -1.500000\n",
              "1  1984      27.000000  ...     -35.000000       6.250000\n",
              "2  1985       7.088235  ...      -1.352941       0.352941\n",
              "3  1986      13.863014  ...       0.232877       2.534247\n",
              "4  1987       2.476636  ...      -3.532710       4.364486\n",
              "\n",
              "[5 rows x 101 columns]"
            ]
          },
          "metadata": {},
          "execution_count": 12
        }
      ]
    },
    {
      "cell_type": "code",
      "metadata": {
        "id": "ZhNzLZkAJm7E",
        "colab": {
          "base_uri": "https://localhost:8080/",
          "height": 886
        },
        "outputId": "2d8ffe92-909f-4d64-fa60-6cead7e385aa"
      },
      "source": [
        "mmpair = final_df.copy()\n",
        "\n",
        "list_1 = []\n",
        "list_2 = []\n",
        "list_3 = []\n",
        "list_4 = []\n",
        "mlist = []\n",
        "list_6 = []\n",
        "list_7 = []\n",
        "list_8 = []\n",
        "list_9 = []\n",
        "\n",
        "for i in range(len(mmpair)):\n",
        "  list_1.append(np.percentile(mmpair.iloc[i,1:],10))\n",
        "  list_2.append(np.percentile(mmpair.iloc[i,1:],20))\n",
        "  list_3.append(np.percentile(mmpair.iloc[i,1:],30))\n",
        "  list_4.append(np.percentile(mmpair.iloc[i,1:],40))\n",
        "  mlist.append(np.median(mmpair.iloc[i,1:]))\n",
        "  list_6.append(np.percentile(mmpair.iloc[i,1:],60))\n",
        "  list_7.append(np.percentile(mmpair.iloc[i,1:],70))\n",
        "  list_8.append(np.percentile(mmpair.iloc[i,1:],80))\n",
        "  list_9.append(np.percentile(mmpair.iloc[i,1:],90))\n",
        "\n",
        "mmpair['percentile_10'] = list_1\n",
        "mmpair['percentile_20'] = list_2\n",
        "mmpair['percentile_30'] = list_3\n",
        "mmpair['percentile_40'] = list_4\n",
        "mmpair['median'] = mlist\n",
        "mmpair['percentile_60'] = list_6\n",
        "mmpair['percentile_70'] = list_7\n",
        "mmpair['percentile_80'] = list_8\n",
        "mmpair['percentile_90'] = list_9\n",
        "\n",
        "mmpair = mmpair[['year', 'percentile_10','percentile_20','percentile_30','percentile_40','median','percentile_60','percentile_70','percentile_80','percentile_90']]\n",
        "mmpair"
      ],
      "execution_count": null,
      "outputs": [
        {
          "output_type": "execute_result",
          "data": {
            "text/html": [
              "<div>\n",
              "<style scoped>\n",
              "    .dataframe tbody tr th:only-of-type {\n",
              "        vertical-align: middle;\n",
              "    }\n",
              "\n",
              "    .dataframe tbody tr th {\n",
              "        vertical-align: top;\n",
              "    }\n",
              "\n",
              "    .dataframe thead th {\n",
              "        text-align: right;\n",
              "    }\n",
              "</style>\n",
              "<table border=\"1\" class=\"dataframe\">\n",
              "  <thead>\n",
              "    <tr style=\"text-align: right;\">\n",
              "      <th></th>\n",
              "      <th>year</th>\n",
              "      <th>percentile_10</th>\n",
              "      <th>percentile_20</th>\n",
              "      <th>percentile_30</th>\n",
              "      <th>percentile_40</th>\n",
              "      <th>median</th>\n",
              "      <th>percentile_60</th>\n",
              "      <th>percentile_70</th>\n",
              "      <th>percentile_80</th>\n",
              "      <th>percentile_90</th>\n",
              "    </tr>\n",
              "  </thead>\n",
              "  <tbody>\n",
              "    <tr>\n",
              "      <th>0</th>\n",
              "      <td>1983</td>\n",
              "      <td>-20.100000</td>\n",
              "      <td>-9.300000</td>\n",
              "      <td>-3.500000</td>\n",
              "      <td>0.250000</td>\n",
              "      <td>2.500000</td>\n",
              "      <td>5.350000</td>\n",
              "      <td>11.900000</td>\n",
              "      <td>20.800000</td>\n",
              "      <td>23.525000</td>\n",
              "    </tr>\n",
              "    <tr>\n",
              "      <th>1</th>\n",
              "      <td>1984</td>\n",
              "      <td>-11.800000</td>\n",
              "      <td>-7.400000</td>\n",
              "      <td>-3.000000</td>\n",
              "      <td>-1.500000</td>\n",
              "      <td>1.125000</td>\n",
              "      <td>2.100000</td>\n",
              "      <td>4.725000</td>\n",
              "      <td>6.850000</td>\n",
              "      <td>22.825000</td>\n",
              "    </tr>\n",
              "    <tr>\n",
              "      <th>2</th>\n",
              "      <td>1985</td>\n",
              "      <td>-5.891176</td>\n",
              "      <td>-4.000000</td>\n",
              "      <td>-2.376471</td>\n",
              "      <td>-1.217647</td>\n",
              "      <td>0.117647</td>\n",
              "      <td>0.941176</td>\n",
              "      <td>2.114706</td>\n",
              "      <td>4.494118</td>\n",
              "      <td>8.208824</td>\n",
              "    </tr>\n",
              "    <tr>\n",
              "      <th>3</th>\n",
              "      <td>1986</td>\n",
              "      <td>-12.373973</td>\n",
              "      <td>-7.358904</td>\n",
              "      <td>-3.050685</td>\n",
              "      <td>-1.871233</td>\n",
              "      <td>-0.458904</td>\n",
              "      <td>0.249315</td>\n",
              "      <td>2.715068</td>\n",
              "      <td>4.816438</td>\n",
              "      <td>10.832877</td>\n",
              "    </tr>\n",
              "    <tr>\n",
              "      <th>4</th>\n",
              "      <td>1987</td>\n",
              "      <td>-3.701869</td>\n",
              "      <td>-2.719626</td>\n",
              "      <td>-1.520561</td>\n",
              "      <td>-0.700935</td>\n",
              "      <td>-0.102804</td>\n",
              "      <td>1.177570</td>\n",
              "      <td>1.990654</td>\n",
              "      <td>2.725234</td>\n",
              "      <td>4.133645</td>\n",
              "    </tr>\n",
              "    <tr>\n",
              "      <th>5</th>\n",
              "      <td>1988</td>\n",
              "      <td>-3.240331</td>\n",
              "      <td>-1.690608</td>\n",
              "      <td>-1.117680</td>\n",
              "      <td>-0.758011</td>\n",
              "      <td>-0.320442</td>\n",
              "      <td>-0.015470</td>\n",
              "      <td>0.373481</td>\n",
              "      <td>0.803315</td>\n",
              "      <td>1.477348</td>\n",
              "    </tr>\n",
              "    <tr>\n",
              "      <th>6</th>\n",
              "      <td>1989</td>\n",
              "      <td>-2.922314</td>\n",
              "      <td>-2.176860</td>\n",
              "      <td>-1.333471</td>\n",
              "      <td>-0.825620</td>\n",
              "      <td>-0.221074</td>\n",
              "      <td>0.661983</td>\n",
              "      <td>1.031818</td>\n",
              "      <td>1.866116</td>\n",
              "      <td>2.797521</td>\n",
              "    </tr>\n",
              "    <tr>\n",
              "      <th>7</th>\n",
              "      <td>1990</td>\n",
              "      <td>-2.953975</td>\n",
              "      <td>-1.707950</td>\n",
              "      <td>-1.276151</td>\n",
              "      <td>-0.855230</td>\n",
              "      <td>-0.286611</td>\n",
              "      <td>0.280335</td>\n",
              "      <td>1.051883</td>\n",
              "      <td>1.868619</td>\n",
              "      <td>2.829289</td>\n",
              "    </tr>\n",
              "    <tr>\n",
              "      <th>8</th>\n",
              "      <td>1991</td>\n",
              "      <td>-1.985906</td>\n",
              "      <td>-1.529530</td>\n",
              "      <td>-0.679530</td>\n",
              "      <td>-0.138926</td>\n",
              "      <td>0.483221</td>\n",
              "      <td>0.938926</td>\n",
              "      <td>1.584228</td>\n",
              "      <td>2.075168</td>\n",
              "      <td>2.531544</td>\n",
              "    </tr>\n",
              "    <tr>\n",
              "      <th>9</th>\n",
              "      <td>1992</td>\n",
              "      <td>-2.204986</td>\n",
              "      <td>-1.649307</td>\n",
              "      <td>-1.318560</td>\n",
              "      <td>-0.772853</td>\n",
              "      <td>-0.138504</td>\n",
              "      <td>0.318006</td>\n",
              "      <td>0.774515</td>\n",
              "      <td>1.108033</td>\n",
              "      <td>2.181994</td>\n",
              "    </tr>\n",
              "    <tr>\n",
              "      <th>10</th>\n",
              "      <td>1993</td>\n",
              "      <td>-1.659102</td>\n",
              "      <td>-1.109693</td>\n",
              "      <td>-0.417494</td>\n",
              "      <td>-0.031678</td>\n",
              "      <td>0.374704</td>\n",
              "      <td>0.989125</td>\n",
              "      <td>1.546099</td>\n",
              "      <td>2.151300</td>\n",
              "      <td>2.749645</td>\n",
              "    </tr>\n",
              "    <tr>\n",
              "      <th>11</th>\n",
              "      <td>1994</td>\n",
              "      <td>-2.134252</td>\n",
              "      <td>-1.134252</td>\n",
              "      <td>-0.504134</td>\n",
              "      <td>-0.012205</td>\n",
              "      <td>0.312008</td>\n",
              "      <td>0.715354</td>\n",
              "      <td>0.966732</td>\n",
              "      <td>1.178346</td>\n",
              "      <td>1.890748</td>\n",
              "    </tr>\n",
              "    <tr>\n",
              "      <th>12</th>\n",
              "      <td>1995</td>\n",
              "      <td>-1.300858</td>\n",
              "      <td>-1.026609</td>\n",
              "      <td>-0.744778</td>\n",
              "      <td>-0.397139</td>\n",
              "      <td>-0.128040</td>\n",
              "      <td>0.113019</td>\n",
              "      <td>0.460086</td>\n",
              "      <td>0.748212</td>\n",
              "      <td>1.244206</td>\n",
              "    </tr>\n",
              "    <tr>\n",
              "      <th>13</th>\n",
              "      <td>1996</td>\n",
              "      <td>-8.364600</td>\n",
              "      <td>-6.115498</td>\n",
              "      <td>-4.060848</td>\n",
              "      <td>-2.304731</td>\n",
              "      <td>-0.378467</td>\n",
              "      <td>0.693964</td>\n",
              "      <td>2.706525</td>\n",
              "      <td>5.325938</td>\n",
              "      <td>8.365742</td>\n",
              "    </tr>\n",
              "    <tr>\n",
              "      <th>14</th>\n",
              "      <td>1997</td>\n",
              "      <td>-1.062213</td>\n",
              "      <td>-0.716667</td>\n",
              "      <td>-0.479598</td>\n",
              "      <td>-0.321839</td>\n",
              "      <td>-0.024425</td>\n",
              "      <td>0.210920</td>\n",
              "      <td>0.495546</td>\n",
              "      <td>0.796264</td>\n",
              "      <td>1.103017</td>\n",
              "    </tr>\n",
              "    <tr>\n",
              "      <th>15</th>\n",
              "      <td>1998</td>\n",
              "      <td>-4.889250</td>\n",
              "      <td>-2.572750</td>\n",
              "      <td>-1.538000</td>\n",
              "      <td>-0.514750</td>\n",
              "      <td>0.242500</td>\n",
              "      <td>0.916500</td>\n",
              "      <td>1.835875</td>\n",
              "      <td>3.089500</td>\n",
              "      <td>4.370125</td>\n",
              "    </tr>\n",
              "    <tr>\n",
              "      <th>16</th>\n",
              "      <td>1999</td>\n",
              "      <td>-2.624242</td>\n",
              "      <td>-1.731602</td>\n",
              "      <td>-1.185606</td>\n",
              "      <td>-0.829004</td>\n",
              "      <td>-0.156926</td>\n",
              "      <td>0.277922</td>\n",
              "      <td>0.684524</td>\n",
              "      <td>1.140909</td>\n",
              "      <td>1.768615</td>\n",
              "    </tr>\n",
              "    <tr>\n",
              "      <th>17</th>\n",
              "      <td>2000</td>\n",
              "      <td>-2.063462</td>\n",
              "      <td>-1.124301</td>\n",
              "      <td>-0.633566</td>\n",
              "      <td>-0.233217</td>\n",
              "      <td>0.208042</td>\n",
              "      <td>0.471154</td>\n",
              "      <td>0.817308</td>\n",
              "      <td>1.320455</td>\n",
              "      <td>1.811451</td>\n",
              "    </tr>\n",
              "    <tr>\n",
              "      <th>18</th>\n",
              "      <td>2001</td>\n",
              "      <td>-1.340524</td>\n",
              "      <td>-0.769892</td>\n",
              "      <td>-0.545901</td>\n",
              "      <td>-0.144758</td>\n",
              "      <td>0.115591</td>\n",
              "      <td>0.279704</td>\n",
              "      <td>0.494355</td>\n",
              "      <td>0.884409</td>\n",
              "      <td>1.376075</td>\n",
              "    </tr>\n",
              "    <tr>\n",
              "      <th>19</th>\n",
              "      <td>2002</td>\n",
              "      <td>-0.859197</td>\n",
              "      <td>-0.696105</td>\n",
              "      <td>-0.409706</td>\n",
              "      <td>-0.252966</td>\n",
              "      <td>-0.017675</td>\n",
              "      <td>0.072858</td>\n",
              "      <td>0.249910</td>\n",
              "      <td>0.494308</td>\n",
              "      <td>0.885500</td>\n",
              "    </tr>\n",
              "    <tr>\n",
              "      <th>20</th>\n",
              "      <td>2003</td>\n",
              "      <td>-0.728062</td>\n",
              "      <td>-0.477046</td>\n",
              "      <td>-0.209169</td>\n",
              "      <td>-0.040492</td>\n",
              "      <td>0.093538</td>\n",
              "      <td>0.217477</td>\n",
              "      <td>0.469846</td>\n",
              "      <td>0.753846</td>\n",
              "      <td>1.001600</td>\n",
              "    </tr>\n",
              "    <tr>\n",
              "      <th>21</th>\n",
              "      <td>2004</td>\n",
              "      <td>-0.511828</td>\n",
              "      <td>-0.341161</td>\n",
              "      <td>-0.230022</td>\n",
              "      <td>-0.124903</td>\n",
              "      <td>-0.011183</td>\n",
              "      <td>0.083183</td>\n",
              "      <td>0.211183</td>\n",
              "      <td>0.355097</td>\n",
              "      <td>0.535957</td>\n",
              "    </tr>\n",
              "    <tr>\n",
              "      <th>22</th>\n",
              "      <td>2005</td>\n",
              "      <td>-0.356657</td>\n",
              "      <td>-0.259059</td>\n",
              "      <td>-0.190290</td>\n",
              "      <td>-0.113447</td>\n",
              "      <td>0.007007</td>\n",
              "      <td>0.091825</td>\n",
              "      <td>0.171705</td>\n",
              "      <td>0.228896</td>\n",
              "      <td>0.388255</td>\n",
              "    </tr>\n",
              "    <tr>\n",
              "      <th>23</th>\n",
              "      <td>2006</td>\n",
              "      <td>-0.430553</td>\n",
              "      <td>-0.293976</td>\n",
              "      <td>-0.149768</td>\n",
              "      <td>0.042200</td>\n",
              "      <td>0.101019</td>\n",
              "      <td>0.220884</td>\n",
              "      <td>0.361353</td>\n",
              "      <td>0.467285</td>\n",
              "      <td>0.715230</td>\n",
              "    </tr>\n",
              "    <tr>\n",
              "      <th>24</th>\n",
              "      <td>2007</td>\n",
              "      <td>-0.371440</td>\n",
              "      <td>-0.238626</td>\n",
              "      <td>-0.161162</td>\n",
              "      <td>-0.110700</td>\n",
              "      <td>-0.025760</td>\n",
              "      <td>0.048983</td>\n",
              "      <td>0.098970</td>\n",
              "      <td>0.159630</td>\n",
              "      <td>0.229326</td>\n",
              "    </tr>\n",
              "    <tr>\n",
              "      <th>25</th>\n",
              "      <td>2008</td>\n",
              "      <td>-0.326778</td>\n",
              "      <td>-0.234808</td>\n",
              "      <td>-0.132898</td>\n",
              "      <td>-0.062795</td>\n",
              "      <td>0.016079</td>\n",
              "      <td>0.063496</td>\n",
              "      <td>0.107581</td>\n",
              "      <td>0.218983</td>\n",
              "      <td>0.314617</td>\n",
              "    </tr>\n",
              "    <tr>\n",
              "      <th>26</th>\n",
              "      <td>2009</td>\n",
              "      <td>-0.201567</td>\n",
              "      <td>-0.105233</td>\n",
              "      <td>-0.066021</td>\n",
              "      <td>-0.024935</td>\n",
              "      <td>-0.005168</td>\n",
              "      <td>0.030265</td>\n",
              "      <td>0.077342</td>\n",
              "      <td>0.108236</td>\n",
              "      <td>0.164438</td>\n",
              "    </tr>\n",
              "  </tbody>\n",
              "</table>\n",
              "</div>"
            ],
            "text/plain": [
              "    year  percentile_10  ...  percentile_80  percentile_90\n",
              "0   1983     -20.100000  ...      20.800000      23.525000\n",
              "1   1984     -11.800000  ...       6.850000      22.825000\n",
              "2   1985      -5.891176  ...       4.494118       8.208824\n",
              "3   1986     -12.373973  ...       4.816438      10.832877\n",
              "4   1987      -3.701869  ...       2.725234       4.133645\n",
              "5   1988      -3.240331  ...       0.803315       1.477348\n",
              "6   1989      -2.922314  ...       1.866116       2.797521\n",
              "7   1990      -2.953975  ...       1.868619       2.829289\n",
              "8   1991      -1.985906  ...       2.075168       2.531544\n",
              "9   1992      -2.204986  ...       1.108033       2.181994\n",
              "10  1993      -1.659102  ...       2.151300       2.749645\n",
              "11  1994      -2.134252  ...       1.178346       1.890748\n",
              "12  1995      -1.300858  ...       0.748212       1.244206\n",
              "13  1996      -8.364600  ...       5.325938       8.365742\n",
              "14  1997      -1.062213  ...       0.796264       1.103017\n",
              "15  1998      -4.889250  ...       3.089500       4.370125\n",
              "16  1999      -2.624242  ...       1.140909       1.768615\n",
              "17  2000      -2.063462  ...       1.320455       1.811451\n",
              "18  2001      -1.340524  ...       0.884409       1.376075\n",
              "19  2002      -0.859197  ...       0.494308       0.885500\n",
              "20  2003      -0.728062  ...       0.753846       1.001600\n",
              "21  2004      -0.511828  ...       0.355097       0.535957\n",
              "22  2005      -0.356657  ...       0.228896       0.388255\n",
              "23  2006      -0.430553  ...       0.467285       0.715230\n",
              "24  2007      -0.371440  ...       0.159630       0.229326\n",
              "25  2008      -0.326778  ...       0.218983       0.314617\n",
              "26  2009      -0.201567  ...       0.108236       0.164438\n",
              "\n",
              "[27 rows x 10 columns]"
            ]
          },
          "metadata": {},
          "execution_count": 13
        }
      ]
    },
    {
      "cell_type": "code",
      "metadata": {
        "colab": {
          "base_uri": "https://localhost:8080/",
          "height": 333
        },
        "id": "otHLiI7VG7JN",
        "outputId": "d48225e3-9d1e-4600-a672-1a634ec67619"
      },
      "source": [
        "fig, ax = plt.subplots(figsize=(6,4.5))\n",
        "right_side = ax.spines[\"right\"]\n",
        "top_side = ax.spines[\"top\"]\n",
        "right_side.set_visible(False)\n",
        "top_side.set_visible(False)\n",
        "\n",
        "cm2 = sns.color_palette(\"Blues\",10)\n",
        "\n",
        "plt.axhline(y=0, color='black', linestyle='dotted', lw=3)\n",
        "# sns.lineplot(data=mfpair, x=\"year\", y='countd',ax=ax,ci=None,color=\"black\")\n",
        "plt.plot(mmpair.year,mmpair[\"median\"],\"-\",label=\"M-M Median\", color=cm2[9], lw=3)\n",
        "\n",
        "plt.fill_between(mmpair.year, mmpair[\"percentile_10\"], mmpair[\"percentile_20\"], color=cm2[1])\n",
        "plt.fill_between(mmpair.year, mmpair[\"percentile_20\"], mmpair[\"percentile_30\"], color=cm2[3])\n",
        "plt.fill_between(mmpair.year, mmpair[\"percentile_30\"], mmpair[\"percentile_40\"], color=cm2[5])\n",
        "plt.fill_between(mmpair.year, mmpair[\"percentile_40\"], mmpair[\"median\"], color=cm2[7])\n",
        "plt.fill_between(mmpair.year, mmpair[\"median\"], mmpair[\"percentile_60\"], color=cm2[7])\n",
        "plt.fill_between(mmpair.year, mmpair[\"percentile_60\"], mmpair[\"percentile_70\"], color=cm2[5])\n",
        "plt.fill_between(mmpair.year, mmpair[\"percentile_70\"], mmpair[\"percentile_80\"], color=cm2[3])\n",
        "plt.fill_between(mmpair.year, mmpair[\"percentile_80\"], mmpair[\"percentile_90\"], color=cm2[1])\n",
        "\n",
        "plt.xticks(fontsize=20)\n",
        "plt.yticks(fontsize=20)\n",
        "plt.xlabel(\"Publication Year\", fontsize=20)\n",
        "plt.ylabel(\"\\u0394(Citation)\", fontsize=20)\n",
        "\n",
        "plt.xlim(xmin=1983, xmax=2009)\n",
        "\n",
        "plt.tight_layout()\n",
        "#fig.savefig(f\"drive/My Drive/codes/mmpair.pdf\")"
      ],
      "execution_count": null,
      "outputs": [
        {
          "output_type": "display_data",
          "data": {
            "image/png": "[encoded data removed]",
            "text/plain": [
              "<Figure size 432x324 with 1 Axes>"
            ]
          },
          "metadata": {
            "needs_background": "light"
          }
        }
      ]
    },
    {
      "cell_type": "code",
      "metadata": {
        "colab": {
          "base_uri": "https://localhost:8080/",
          "height": 333
        },
        "id": "otT4tsrFHauV",
        "outputId": "6f633d28-59e8-4983-b9a2-bc2d86db7501"
      },
      "source": [
        "fig, ax = plt.subplots(figsize=(6,4.5))\n",
        "right_side = ax.spines[\"right\"]\n",
        "top_side = ax.spines[\"top\"]\n",
        "right_side.set_visible(False)\n",
        "top_side.set_visible(False)\n",
        "\n",
        "cm = sns.color_palette(\"Reds\",10)\n",
        "\n",
        "plt.axhline(y=0, color='black', linestyle='dotted', lw=3)\n",
        "# sns.lineplot(data=mfpair, x=\"year\", y='countd',ax=ax,ci=None,color=\"black\")\n",
        "plt.plot(mfpair.year,mfpair.countd[\"median\"],\"-\",label=\"M-F Median\", color=cm[9], lw=3)\n",
        "\n",
        "plt.fill_between(mfpair.year, mfpair.countd[\"percentile_10\"], mfpair.countd[\"percentile_20\"], color=cm[2], alpha = 0.5)\n",
        "plt.fill_between(mfpair.year, mfpair.countd[\"percentile_20\"], mfpair.countd[\"percentile_30\"], color=cm[3], alpha = 0.5)\n",
        "plt.fill_between(mfpair.year, mfpair.countd[\"percentile_30\"], mfpair.countd[\"percentile_40\"], color=cm[5], alpha = 0.5)\n",
        "plt.fill_between(mfpair.year, mfpair.countd[\"percentile_40\"], mfpair.countd[\"median\"], color=cm[7], alpha = 0.5)\n",
        "plt.fill_between(mfpair.year, mfpair.countd[\"median\"], mfpair.countd[\"percentile_60\"], color=cm[7], alpha = 0.5)\n",
        "plt.fill_between(mfpair.year, mfpair.countd[\"percentile_60\"], mfpair.countd[\"percentile_70\"], color=cm[5], alpha = 0.5)\n",
        "plt.fill_between(mfpair.year, mfpair.countd[\"percentile_70\"], mfpair.countd[\"percentile_80\"], color=cm[3], alpha = 0.5)\n",
        "plt.fill_between(mfpair.year, mfpair.countd[\"percentile_80\"], mfpair.countd[\"percentile_90\"], color=cm[2], alpha = 0.5)\n",
        "\n",
        "cm2 = sns.color_palette(\"Blues\",10)\n",
        "\n",
        "plt.plot(mmpair.year,mmpair[\"median\"],\"-\",label=\"M-M Median\", color=cm2[9], lw=3)\n",
        "\n",
        "plt.fill_between(mmpair.year, mmpair[\"percentile_10\"], mmpair[\"percentile_20\"], color=cm2[2], alpha = 0.5)\n",
        "plt.fill_between(mmpair.year, mmpair[\"percentile_20\"], mmpair[\"percentile_30\"], color=cm2[3], alpha = 0.5)\n",
        "plt.fill_between(mmpair.year, mmpair[\"percentile_30\"], mmpair[\"percentile_40\"], color=cm2[5], alpha = 0.5)\n",
        "plt.fill_between(mmpair.year, mmpair[\"percentile_40\"], mmpair[\"median\"], color=cm2[7], alpha = 0.5)\n",
        "plt.fill_between(mmpair.year, mmpair[\"median\"], mmpair[\"percentile_60\"], color=cm2[7], alpha = 0.5)\n",
        "plt.fill_between(mmpair.year, mmpair[\"percentile_60\"], mmpair[\"percentile_70\"], color=cm2[5], alpha = 0.5)\n",
        "plt.fill_between(mmpair.year, mmpair[\"percentile_70\"], mmpair[\"percentile_80\"], color=cm2[3], alpha = 0.5)\n",
        "plt.fill_between(mmpair.year, mmpair[\"percentile_80\"], mmpair[\"percentile_90\"], color=cm2[2], alpha = 0.5)\n",
        "\n",
        "plt.xticks(fontsize=20)\n",
        "plt.yticks(fontsize=20)\n",
        "plt.xlabel(\"Publication Year\", fontsize=20)\n",
        "plt.ylabel(\"\\u0394(Citation)\", fontsize=20)\n",
        "\n",
        "plt.xlim(xmin=1983, xmax=2009)\n",
        "\n",
        "plt.tight_layout()\n",
        "# fig.savefig(f\"drive/My Drive/codes/paircomp.pdf\")"
      ],
      "execution_count": null,
      "outputs": [
        {
          "output_type": "display_data",
          "data": {
            "image/png": "[encoded data removed]",
            "text/plain": [
              "<Figure size 432x324 with 1 Axes>"
            ]
          },
          "metadata": {
            "needs_background": "light"
          }
        }
      ]
    },
    {
      "cell_type": "code",
      "metadata": {
        "id": "XH9-px5cMf7M"
      },
      "source": [
        "meanlist = final_df.iloc[:,1:].mean(axis=1).tolist()\n",
        "sdlist = final_df.iloc[:,1:].std(axis=1).tolist()\n",
        "\n",
        "final_df['avg'] = meanlist\n",
        "final_df['sd'] = sdlist\n",
        "final_df = final_df[['year','avg','sd']]"
      ],
      "execution_count": null,
      "outputs": []
    },
    {
      "cell_type": "code",
      "metadata": {
        "id": "5KAVPPIfV5PT"
      },
      "source": [
        "test_df = plot_hom.groupby(\"year\").agg(['count', np.mean, np.std]).reset_index()"
      ],
      "execution_count": null,
      "outputs": []
    },
    {
      "cell_type": "code",
      "metadata": {
        "id": "tIOuZtMT1PEP",
        "colab": {
          "base_uri": "https://localhost:8080/",
          "height": 917
        },
        "outputId": "8b0de1c8-84b8-4133-a156-1c95bf7aba14"
      },
      "source": [
        "semlist = []\n",
        "\n",
        "for i in range(len(test_df)):\n",
        "  semlist.append(test_df.countd['std'][i]/math.sqrt(test_df.countd['count'][i]))\n",
        "\n",
        "test_df['sem'] = semlist\n",
        "\n",
        "#test_df.countd.sem = test_df.countd.std/math.sqrt(test_df.countd.count)\n",
        "test_df"
      ],
      "execution_count": null,
      "outputs": [
        {
          "output_type": "execute_result",
          "data": {
            "text/html": [
              "<div>\n",
              "<style scoped>\n",
              "    .dataframe tbody tr th:only-of-type {\n",
              "        vertical-align: middle;\n",
              "    }\n",
              "\n",
              "    .dataframe tbody tr th {\n",
              "        vertical-align: top;\n",
              "    }\n",
              "\n",
              "    .dataframe thead tr th {\n",
              "        text-align: left;\n",
              "    }\n",
              "</style>\n",
              "<table border=\"1\" class=\"dataframe\">\n",
              "  <thead>\n",
              "    <tr>\n",
              "      <th></th>\n",
              "      <th>year</th>\n",
              "      <th colspan=\"3\" halign=\"left\">countd</th>\n",
              "      <th>sem</th>\n",
              "    </tr>\n",
              "    <tr>\n",
              "      <th></th>\n",
              "      <th></th>\n",
              "      <th>count</th>\n",
              "      <th>mean</th>\n",
              "      <th>std</th>\n",
              "      <th></th>\n",
              "    </tr>\n",
              "  </thead>\n",
              "  <tbody>\n",
              "    <tr>\n",
              "      <th>0</th>\n",
              "      <td>1983</td>\n",
              "      <td>4</td>\n",
              "      <td>2.250000</td>\n",
              "      <td>3.201562</td>\n",
              "      <td>1.600781</td>\n",
              "    </tr>\n",
              "    <tr>\n",
              "      <th>1</th>\n",
              "      <td>1984</td>\n",
              "      <td>4</td>\n",
              "      <td>13.250000</td>\n",
              "      <td>14.591664</td>\n",
              "      <td>7.295832</td>\n",
              "    </tr>\n",
              "    <tr>\n",
              "      <th>2</th>\n",
              "      <td>1985</td>\n",
              "      <td>34</td>\n",
              "      <td>-2.529412</td>\n",
              "      <td>18.452618</td>\n",
              "      <td>3.164598</td>\n",
              "    </tr>\n",
              "    <tr>\n",
              "      <th>3</th>\n",
              "      <td>1986</td>\n",
              "      <td>73</td>\n",
              "      <td>8.232877</td>\n",
              "      <td>20.200055</td>\n",
              "      <td>2.364238</td>\n",
              "    </tr>\n",
              "    <tr>\n",
              "      <th>4</th>\n",
              "      <td>1987</td>\n",
              "      <td>107</td>\n",
              "      <td>-2.336449</td>\n",
              "      <td>34.303293</td>\n",
              "      <td>3.316225</td>\n",
              "    </tr>\n",
              "    <tr>\n",
              "      <th>5</th>\n",
              "      <td>1988</td>\n",
              "      <td>181</td>\n",
              "      <td>2.635359</td>\n",
              "      <td>20.506900</td>\n",
              "      <td>1.524266</td>\n",
              "    </tr>\n",
              "    <tr>\n",
              "      <th>6</th>\n",
              "      <td>1989</td>\n",
              "      <td>242</td>\n",
              "      <td>-0.016529</td>\n",
              "      <td>26.932830</td>\n",
              "      <td>1.731308</td>\n",
              "    </tr>\n",
              "    <tr>\n",
              "      <th>7</th>\n",
              "      <td>1990</td>\n",
              "      <td>239</td>\n",
              "      <td>-0.958159</td>\n",
              "      <td>32.462621</td>\n",
              "      <td>2.099832</td>\n",
              "    </tr>\n",
              "    <tr>\n",
              "      <th>8</th>\n",
              "      <td>1991</td>\n",
              "      <td>298</td>\n",
              "      <td>2.382550</td>\n",
              "      <td>25.605423</td>\n",
              "      <td>1.483282</td>\n",
              "    </tr>\n",
              "    <tr>\n",
              "      <th>9</th>\n",
              "      <td>1992</td>\n",
              "      <td>361</td>\n",
              "      <td>3.831025</td>\n",
              "      <td>21.148857</td>\n",
              "      <td>1.113098</td>\n",
              "    </tr>\n",
              "    <tr>\n",
              "      <th>10</th>\n",
              "      <td>1993</td>\n",
              "      <td>423</td>\n",
              "      <td>1.810875</td>\n",
              "      <td>17.303184</td>\n",
              "      <td>0.841310</td>\n",
              "    </tr>\n",
              "    <tr>\n",
              "      <th>11</th>\n",
              "      <td>1994</td>\n",
              "      <td>508</td>\n",
              "      <td>2.444882</td>\n",
              "      <td>20.142268</td>\n",
              "      <td>0.893669</td>\n",
              "    </tr>\n",
              "    <tr>\n",
              "      <th>12</th>\n",
              "      <td>1995</td>\n",
              "      <td>699</td>\n",
              "      <td>3.346209</td>\n",
              "      <td>21.790229</td>\n",
              "      <td>0.824182</td>\n",
              "    </tr>\n",
              "    <tr>\n",
              "      <th>13</th>\n",
              "      <td>1996</td>\n",
              "      <td>613</td>\n",
              "      <td>-0.065253</td>\n",
              "      <td>18.393635</td>\n",
              "      <td>0.742912</td>\n",
              "    </tr>\n",
              "    <tr>\n",
              "      <th>14</th>\n",
              "      <td>1997</td>\n",
              "      <td>696</td>\n",
              "      <td>1.701149</td>\n",
              "      <td>20.178051</td>\n",
              "      <td>0.764847</td>\n",
              "    </tr>\n",
              "    <tr>\n",
              "      <th>15</th>\n",
              "      <td>1998</td>\n",
              "      <td>800</td>\n",
              "      <td>3.005000</td>\n",
              "      <td>35.129226</td>\n",
              "      <td>1.242006</td>\n",
              "    </tr>\n",
              "    <tr>\n",
              "      <th>16</th>\n",
              "      <td>1999</td>\n",
              "      <td>924</td>\n",
              "      <td>-1.676407</td>\n",
              "      <td>18.976471</td>\n",
              "      <td>0.624280</td>\n",
              "    </tr>\n",
              "    <tr>\n",
              "      <th>17</th>\n",
              "      <td>2000</td>\n",
              "      <td>1144</td>\n",
              "      <td>-0.466783</td>\n",
              "      <td>18.450395</td>\n",
              "      <td>0.545497</td>\n",
              "    </tr>\n",
              "    <tr>\n",
              "      <th>18</th>\n",
              "      <td>2001</td>\n",
              "      <td>1488</td>\n",
              "      <td>1.430108</td>\n",
              "      <td>21.741693</td>\n",
              "      <td>0.563627</td>\n",
              "    </tr>\n",
              "    <tr>\n",
              "      <th>19</th>\n",
              "      <td>2002</td>\n",
              "      <td>1669</td>\n",
              "      <td>-6.052726</td>\n",
              "      <td>50.283509</td>\n",
              "      <td>1.230828</td>\n",
              "    </tr>\n",
              "    <tr>\n",
              "      <th>20</th>\n",
              "      <td>2003</td>\n",
              "      <td>1625</td>\n",
              "      <td>-0.501538</td>\n",
              "      <td>21.443422</td>\n",
              "      <td>0.531946</td>\n",
              "    </tr>\n",
              "    <tr>\n",
              "      <th>21</th>\n",
              "      <td>2004</td>\n",
              "      <td>2325</td>\n",
              "      <td>-0.797849</td>\n",
              "      <td>27.944845</td>\n",
              "      <td>0.579549</td>\n",
              "    </tr>\n",
              "    <tr>\n",
              "      <th>22</th>\n",
              "      <td>2005</td>\n",
              "      <td>2997</td>\n",
              "      <td>-1.057057</td>\n",
              "      <td>24.758185</td>\n",
              "      <td>0.452247</td>\n",
              "    </tr>\n",
              "    <tr>\n",
              "      <th>23</th>\n",
              "      <td>2006</td>\n",
              "      <td>3237</td>\n",
              "      <td>0.757183</td>\n",
              "      <td>12.837425</td>\n",
              "      <td>0.225635</td>\n",
              "    </tr>\n",
              "    <tr>\n",
              "      <th>24</th>\n",
              "      <td>2007</td>\n",
              "      <td>3785</td>\n",
              "      <td>0.203170</td>\n",
              "      <td>9.264363</td>\n",
              "      <td>0.150585</td>\n",
              "    </tr>\n",
              "    <tr>\n",
              "      <th>25</th>\n",
              "      <td>2008</td>\n",
              "      <td>5131</td>\n",
              "      <td>0.785617</td>\n",
              "      <td>8.541998</td>\n",
              "      <td>0.119250</td>\n",
              "    </tr>\n",
              "    <tr>\n",
              "      <th>26</th>\n",
              "      <td>2009</td>\n",
              "      <td>6192</td>\n",
              "      <td>0.610465</td>\n",
              "      <td>5.310766</td>\n",
              "      <td>0.067490</td>\n",
              "    </tr>\n",
              "  </tbody>\n",
              "</table>\n",
              "</div>"
            ],
            "text/plain": [
              "    year countd                             sem\n",
              "          count       mean        std          \n",
              "0   1983      4   2.250000   3.201562  1.600781\n",
              "1   1984      4  13.250000  14.591664  7.295832\n",
              "2   1985     34  -2.529412  18.452618  3.164598\n",
              "3   1986     73   8.232877  20.200055  2.364238\n",
              "4   1987    107  -2.336449  34.303293  3.316225\n",
              "5   1988    181   2.635359  20.506900  1.524266\n",
              "6   1989    242  -0.016529  26.932830  1.731308\n",
              "7   1990    239  -0.958159  32.462621  2.099832\n",
              "8   1991    298   2.382550  25.605423  1.483282\n",
              "9   1992    361   3.831025  21.148857  1.113098\n",
              "10  1993    423   1.810875  17.303184  0.841310\n",
              "11  1994    508   2.444882  20.142268  0.893669\n",
              "12  1995    699   3.346209  21.790229  0.824182\n",
              "13  1996    613  -0.065253  18.393635  0.742912\n",
              "14  1997    696   1.701149  20.178051  0.764847\n",
              "15  1998    800   3.005000  35.129226  1.242006\n",
              "16  1999    924  -1.676407  18.976471  0.624280\n",
              "17  2000   1144  -0.466783  18.450395  0.545497\n",
              "18  2001   1488   1.430108  21.741693  0.563627\n",
              "19  2002   1669  -6.052726  50.283509  1.230828\n",
              "20  2003   1625  -0.501538  21.443422  0.531946\n",
              "21  2004   2325  -0.797849  27.944845  0.579549\n",
              "22  2005   2997  -1.057057  24.758185  0.452247\n",
              "23  2006   3237   0.757183  12.837425  0.225635\n",
              "24  2007   3785   0.203170   9.264363  0.150585\n",
              "25  2008   5131   0.785617   8.541998  0.119250\n",
              "26  2009   6192   0.610465   5.310766  0.067490"
            ]
          },
          "metadata": {},
          "execution_count": 13
        }
      ]
    },
    {
      "cell_type": "code",
      "metadata": {
        "colab": {
          "base_uri": "https://localhost:8080/",
          "height": 333
        },
        "id": "2mUQradH7gxX",
        "outputId": "1a74fba0-f071-4646-e223-58219adbb989"
      },
      "source": [
        "fig, ax = plt.subplots(figsize=(6,4.5))\n",
        "right_side = ax.spines[\"right\"]\n",
        "top_side = ax.spines[\"top\"]\n",
        "right_side.set_visible(False)\n",
        "top_side.set_visible(False)\n",
        "\n",
        "plt.axhline(y=0, color='black', linestyle='dotted', lw=3)\n",
        "\n",
        "# plt.plot(final_df.year,final_df.avg,\"-\",label=\"M-M Pair\", color='blue', lw=3)\n",
        "plt.plot(final_df.year,final_df.avg,\"-\",label=\"M-M Pair\", color='#67a9cf', lw=3)\n",
        "\n",
        "X  = np.linspace(min(final_df.year),max(final_df.year),final_df.year.nunique())\n",
        "plt.fill_between(X,\n",
        "                 final_df.avg + final_df.sd,\n",
        "                 final_df.avg - final_df.sd,\n",
        "                 color='C0',alpha=.4,edgecolor=\"none\")\n",
        "\n",
        "#sns.lineplot(data=plot_hom, x=\"year\", y=\"countd\",ax=ax,ci=None,color=\"red\", label='M-F', lw=3)\n",
        "\n",
        "# plt.plot(test_df.year,test_df.countd['mean'],\"-\",label=\"M-F Pair\", color='red', lw=3)\n",
        "plt.plot(test_df.year,test_df.countd['mean'],\"-\",label=\"M-F Pair\", color='#ef8a62', lw=3)\n",
        "\n",
        "plt.fill_between(X,\n",
        "                 test_df.countd['mean'] + test_df['sem'],\n",
        "                 test_df.countd['mean'] - test_df['sem'],\n",
        "                 color='C1',alpha=.4,edgecolor=\"none\")\n",
        "\n",
        "plt.xticks(fontsize=20)\n",
        "plt.yticks(fontsize=20)\n",
        "plt.xlabel(\"Year\",fontsize=20)\n",
        "# plt.ylabel(\"\\u0394(Citation)\",fontsize=20)\n",
        "plt.ylabel(\"Count\",fontsize=20)\n",
        "plt.xlim(xmin=1986, xmax=2009)\n",
        "plt.ylim(ymin=-15, ymax=15)\n",
        "\n",
        "plt.legend(loc='upper right', fontsize=20)\n",
        "\n",
        "plt.tight_layout()\n",
        "# fig.savefig(f\"drive/My Drive/codes/se_comp.pdf\")\n",
        "fig.savefig(f\"drive/My Drive/codes/se_comp_edit.pdf\")"
      ],
      "execution_count": null,
      "outputs": [
        {
          "output_type": "display_data",
          "data": {
            "image/png": "[encoded data removed]",
            "text/plain": [
              "<Figure size 432x324 with 1 Axes>"
            ]
          },
          "metadata": {
            "needs_background": "light"
          }
        }
      ]
    },
    {
      "cell_type": "markdown",
      "metadata": {
        "id": "4FCG21j8T9kU"
      },
      "source": [
        "## 1d. PageRank Centrality Difference Trend"
      ]
    },
    {
      "cell_type": "code",
      "metadata": {
        "colab": {
          "base_uri": "https://localhost:8080/"
        },
        "id": "p-_75jbTT80r",
        "outputId": "8a2ece65-e4f3-4c17-c7c4-5a014197af2f"
      },
      "source": [
        "# cdata = pd.read_csv('drive/My Drive/codes/cdata.csv')\n",
        "cen = pd.read_csv('drive/My Drive/codes/cen.csv')\n",
        "\n",
        "Graphtype = nx.DiGraph()\n",
        "\n",
        "C = nx.from_pandas_edgelist(cen, source='citing_doi',\n",
        "                            target='cited_doi', create_using=Graphtype)\n",
        "print(nx.info(C))"
      ],
      "execution_count": null,
      "outputs": [
        {
          "output_type": "stream",
          "text": [
            "Name: \n",
            "Type: DiGraph\n",
            "Number of nodes: 144813\n",
            "Number of edges: 703005\n",
            "Average in degree:   4.8546\n",
            "Average out degree:   4.8546\n"
          ],
          "name": "stdout"
        }
      ]
    },
    {
      "cell_type": "code",
      "metadata": {
        "colab": {
          "base_uri": "https://localhost:8080/",
          "height": 204
        },
        "id": "Z3AlBAxZULv6",
        "outputId": "fab0161a-08ac-4a72-83f6-f65819d0ae36"
      },
      "source": [
        "# observe author id & gender (primary author)\n",
        "nodedata = data.query('is_alpha == False & order == 1').drop(\n",
        "    ['order', 'numAuthor',\t'is_last',\t'is_alpha',\t'year',\n",
        "     'articleType',\t'journal', 'id'], axis=1).reset_index()\n",
        "nodedata.columns = ['id', 'Label', 'Gender']\n",
        "nodedata.tail()"
      ],
      "execution_count": null,
      "outputs": [
        {
          "output_type": "execute_result",
          "data": {
            "text/html": [
              "<div>\n",
              "<style scoped>\n",
              "    .dataframe tbody tr th:only-of-type {\n",
              "        vertical-align: middle;\n",
              "    }\n",
              "\n",
              "    .dataframe tbody tr th {\n",
              "        vertical-align: top;\n",
              "    }\n",
              "\n",
              "    .dataframe thead th {\n",
              "        text-align: right;\n",
              "    }\n",
              "</style>\n",
              "<table border=\"1\" class=\"dataframe\">\n",
              "  <thead>\n",
              "    <tr style=\"text-align: right;\">\n",
              "      <th></th>\n",
              "      <th>id</th>\n",
              "      <th>Label</th>\n",
              "      <th>Gender</th>\n",
              "    </tr>\n",
              "  </thead>\n",
              "  <tbody>\n",
              "    <tr>\n",
              "      <th>149622</th>\n",
              "      <td>531302</td>\n",
              "      <td>10.1103/PhysRevLett.98.068101</td>\n",
              "      <td>male</td>\n",
              "    </tr>\n",
              "    <tr>\n",
              "      <th>149623</th>\n",
              "      <td>531304</td>\n",
              "      <td>10.1103/PhysRevE.76.017301</td>\n",
              "      <td>female</td>\n",
              "    </tr>\n",
              "    <tr>\n",
              "      <th>149624</th>\n",
              "      <td>531305</td>\n",
              "      <td>10.1103/PhysRevSTPER.3.020101</td>\n",
              "      <td>male</td>\n",
              "    </tr>\n",
              "    <tr>\n",
              "      <th>149625</th>\n",
              "      <td>531310</td>\n",
              "      <td>10.1103/PhysRevSTPER.4.010102</td>\n",
              "      <td>male</td>\n",
              "    </tr>\n",
              "    <tr>\n",
              "      <th>149626</th>\n",
              "      <td>531311</td>\n",
              "      <td>10.1103/PhysRevSTPER.4.010108</td>\n",
              "      <td>male</td>\n",
              "    </tr>\n",
              "  </tbody>\n",
              "</table>\n",
              "</div>"
            ],
            "text/plain": [
              "            id                          Label  Gender\n",
              "149622  531302  10.1103/PhysRevLett.98.068101    male\n",
              "149623  531304     10.1103/PhysRevE.76.017301  female\n",
              "149624  531305  10.1103/PhysRevSTPER.3.020101    male\n",
              "149625  531310  10.1103/PhysRevSTPER.4.010102    male\n",
              "149626  531311  10.1103/PhysRevSTPER.4.010108    male"
            ]
          },
          "metadata": {
            "tags": []
          },
          "execution_count": 14
        }
      ]
    },
    {
      "cell_type": "code",
      "metadata": {
        "colab": {
          "base_uri": "https://localhost:8080/",
          "height": 204
        },
        "id": "7KA2jU64UPdb",
        "outputId": "912367ad-b83d-4a75-ecca-aa209886b573"
      },
      "source": [
        "# assign PageRank centrality to each paper\n",
        "pr = nx.pagerank(C)\n",
        "\n",
        "# create a centrality dataframe\n",
        "prs = pd.DataFrame()\n",
        "prs['doi'] = pr.keys()\n",
        "prs['centrality'] = pr.values()\n",
        "\n",
        "# merge and create a dataframe: id, gender, PageRank centrality\n",
        "prs_new = prs.merge(nodedata, left_on='doi', right_on='Label',\n",
        "                how='left').drop(['doi', 'Label'], axis=1)\n",
        "prs_new = prs_new[['id', 'Gender', 'centrality']].sort_values(\n",
        "    'centrality', ascending=False)\n",
        "prs_new.head()"
      ],
      "execution_count": null,
      "outputs": [
        {
          "output_type": "execute_result",
          "data": {
            "text/html": [
              "<div>\n",
              "<style scoped>\n",
              "    .dataframe tbody tr th:only-of-type {\n",
              "        vertical-align: middle;\n",
              "    }\n",
              "\n",
              "    .dataframe tbody tr th {\n",
              "        vertical-align: top;\n",
              "    }\n",
              "\n",
              "    .dataframe thead th {\n",
              "        text-align: right;\n",
              "    }\n",
              "</style>\n",
              "<table border=\"1\" class=\"dataframe\">\n",
              "  <thead>\n",
              "    <tr style=\"text-align: right;\">\n",
              "      <th></th>\n",
              "      <th>id</th>\n",
              "      <th>Gender</th>\n",
              "      <th>centrality</th>\n",
              "    </tr>\n",
              "  </thead>\n",
              "  <tbody>\n",
              "    <tr>\n",
              "      <th>3189</th>\n",
              "      <td>43633</td>\n",
              "      <td>male</td>\n",
              "      <td>0.001368</td>\n",
              "    </tr>\n",
              "    <tr>\n",
              "      <th>25816</th>\n",
              "      <td>87360</td>\n",
              "      <td>male</td>\n",
              "      <td>0.001325</td>\n",
              "    </tr>\n",
              "    <tr>\n",
              "      <th>49819</th>\n",
              "      <td>187598</td>\n",
              "      <td>male</td>\n",
              "      <td>0.001062</td>\n",
              "    </tr>\n",
              "    <tr>\n",
              "      <th>54770</th>\n",
              "      <td>187575</td>\n",
              "      <td>male</td>\n",
              "      <td>0.000961</td>\n",
              "    </tr>\n",
              "    <tr>\n",
              "      <th>20116</th>\n",
              "      <td>91551</td>\n",
              "      <td>male</td>\n",
              "      <td>0.000918</td>\n",
              "    </tr>\n",
              "  </tbody>\n",
              "</table>\n",
              "</div>"
            ],
            "text/plain": [
              "           id Gender  centrality\n",
              "3189    43633   male    0.001368\n",
              "25816   87360   male    0.001325\n",
              "49819  187598   male    0.001062\n",
              "54770  187575   male    0.000961\n",
              "20116   91551   male    0.000918"
            ]
          },
          "metadata": {
            "tags": []
          },
          "execution_count": 15
        }
      ]
    },
    {
      "cell_type": "code",
      "metadata": {
        "colab": {
          "base_uri": "https://localhost:8080/",
          "height": 240
        },
        "id": "bt-zlE8RURwi",
        "outputId": "c3f0b98a-4f7d-446d-935e-15f30d1d893f"
      },
      "source": [
        "# Calculate cen_d (male centrality - female centrality)\n",
        "\n",
        "prs_sim = prs.merge(nodedata, left_on='doi', right_on='Label',\n",
        "                    how='left').drop(['Label'], axis=1)\n",
        "prs_sim = prs_sim[[\"doi\", 'id', 'Gender', 'centrality']].sort_values(\n",
        "    'centrality', ascending=False)\n",
        "\n",
        "ph = pd.merge(pair, prs_sim, left_on = \"paper1\", right_on = \"doi\", how = \"left\")\n",
        "ph = ph.drop([\"doi\", \"id\", \"Gender\"], axis=1)\n",
        "ph = ph.rename(columns={\"centrality\": \"cen1\"})\n",
        "\n",
        "ph = ph.merge(prs_sim, left_on = \"paper2\", right_on = \"doi\", how = \"left\")\n",
        "ph = ph.drop([\"doi\", \"id\", \"Gender\"], axis=1)\n",
        "ph = ph.rename(columns={\"centrality\": \"cen2\"})\n",
        "print(len(ph))\n",
        "\n",
        "ph = ph[ph['gender1'] != ph['gender2']].reset_index(drop=True)\n",
        "\n",
        "listc = []\n",
        "\n",
        "for j in range(len(ph)):\n",
        "  listc.append(max(ph['year1'][j], ph['year2'][j]))\n",
        "\n",
        "ph['year'] = listc\n",
        "\n",
        "listd = []\n",
        "listy = []\n",
        "\n",
        "for c in range(len(ph)):\n",
        "  if ph['gender1'][c] == 'male':\n",
        "    listd.append(ph['cen1'][c] - ph['cen2'][c])\n",
        "    listy.append(ph['year1'][c] - ph['year2'][c])\n",
        "  else:\n",
        "    listd.append(ph['cen2'][c] - ph['cen1'][c])\n",
        "    listy.append(ph['year2'][c] - ph['year1'][c])\n",
        "\n",
        "ph['cen_d'] = listd\n",
        "ph['yeard'] = listy\n",
        "\n",
        "print(len(ph))\n",
        "ph.head()"
      ],
      "execution_count": null,
      "outputs": [
        {
          "output_type": "stream",
          "text": [
            "5856207\n",
            "991845\n"
          ],
          "name": "stdout"
        },
        {
          "output_type": "execute_result",
          "data": {
            "text/html": [
              "<div>\n",
              "<style scoped>\n",
              "    .dataframe tbody tr th:only-of-type {\n",
              "        vertical-align: middle;\n",
              "    }\n",
              "\n",
              "    .dataframe tbody tr th {\n",
              "        vertical-align: top;\n",
              "    }\n",
              "\n",
              "    .dataframe thead th {\n",
              "        text-align: right;\n",
              "    }\n",
              "</style>\n",
              "<table border=\"1\" class=\"dataframe\">\n",
              "  <thead>\n",
              "    <tr style=\"text-align: right;\">\n",
              "      <th></th>\n",
              "      <th>paper1</th>\n",
              "      <th>gender1</th>\n",
              "      <th>year1</th>\n",
              "      <th>paper2</th>\n",
              "      <th>gender2</th>\n",
              "      <th>year2</th>\n",
              "      <th>qval</th>\n",
              "      <th>k</th>\n",
              "      <th>cen1</th>\n",
              "      <th>cen2</th>\n",
              "      <th>year</th>\n",
              "      <th>cen_d</th>\n",
              "      <th>yeard</th>\n",
              "    </tr>\n",
              "  </thead>\n",
              "  <tbody>\n",
              "    <tr>\n",
              "      <th>0</th>\n",
              "      <td>10.1103/PhysRevA.30.336</td>\n",
              "      <td>male</td>\n",
              "      <td>1984</td>\n",
              "      <td>10.1103/PhysRevA.34.4472</td>\n",
              "      <td>female</td>\n",
              "      <td>1986</td>\n",
              "      <td>0.017857</td>\n",
              "      <td>False</td>\n",
              "      <td>0.000018</td>\n",
              "      <td>0.000004</td>\n",
              "      <td>1986</td>\n",
              "      <td>1.402271e-05</td>\n",
              "      <td>-2</td>\n",
              "    </tr>\n",
              "    <tr>\n",
              "      <th>1</th>\n",
              "      <td>10.1103/PhysRevA.34.4472</td>\n",
              "      <td>female</td>\n",
              "      <td>1986</td>\n",
              "      <td>10.1103/PhysRevA.41.784</td>\n",
              "      <td>male</td>\n",
              "      <td>1990</td>\n",
              "      <td>0.017857</td>\n",
              "      <td>False</td>\n",
              "      <td>0.000004</td>\n",
              "      <td>0.000005</td>\n",
              "      <td>1990</td>\n",
              "      <td>7.764608e-07</td>\n",
              "      <td>4</td>\n",
              "    </tr>\n",
              "    <tr>\n",
              "      <th>2</th>\n",
              "      <td>10.1103/PhysRevA.36.4950</td>\n",
              "      <td>female</td>\n",
              "      <td>1987</td>\n",
              "      <td>10.1103/PhysRevA.41.784</td>\n",
              "      <td>male</td>\n",
              "      <td>1990</td>\n",
              "      <td>0.006410</td>\n",
              "      <td>False</td>\n",
              "      <td>0.000002</td>\n",
              "      <td>0.000005</td>\n",
              "      <td>1990</td>\n",
              "      <td>2.824713e-06</td>\n",
              "      <td>3</td>\n",
              "    </tr>\n",
              "    <tr>\n",
              "      <th>3</th>\n",
              "      <td>10.1103/PhysRevA.39.5466</td>\n",
              "      <td>female</td>\n",
              "      <td>1989</td>\n",
              "      <td>10.1103/PhysRevA.41.784</td>\n",
              "      <td>male</td>\n",
              "      <td>1990</td>\n",
              "      <td>0.006410</td>\n",
              "      <td>False</td>\n",
              "      <td>0.000002</td>\n",
              "      <td>0.000005</td>\n",
              "      <td>1990</td>\n",
              "      <td>2.166712e-06</td>\n",
              "      <td>1</td>\n",
              "    </tr>\n",
              "    <tr>\n",
              "      <th>4</th>\n",
              "      <td>10.1103/PhysRevA.41.3081</td>\n",
              "      <td>female</td>\n",
              "      <td>1990</td>\n",
              "      <td>10.1103/PhysRevA.41.784</td>\n",
              "      <td>male</td>\n",
              "      <td>1990</td>\n",
              "      <td>0.000511</td>\n",
              "      <td>False</td>\n",
              "      <td>0.000002</td>\n",
              "      <td>0.000005</td>\n",
              "      <td>1990</td>\n",
              "      <td>2.824713e-06</td>\n",
              "      <td>0</td>\n",
              "    </tr>\n",
              "  </tbody>\n",
              "</table>\n",
              "</div>"
            ],
            "text/plain": [
              "                     paper1 gender1  year1  ...  year         cen_d  yeard\n",
              "0   10.1103/PhysRevA.30.336    male   1984  ...  1986  1.402271e-05     -2\n",
              "1  10.1103/PhysRevA.34.4472  female   1986  ...  1990  7.764608e-07      4\n",
              "2  10.1103/PhysRevA.36.4950  female   1987  ...  1990  2.824713e-06      3\n",
              "3  10.1103/PhysRevA.39.5466  female   1989  ...  1990  2.166712e-06      1\n",
              "4  10.1103/PhysRevA.41.3081  female   1990  ...  1990  2.824713e-06      0\n",
              "\n",
              "[5 rows x 13 columns]"
            ]
          },
          "metadata": {
            "tags": []
          },
          "execution_count": 16
        }
      ]
    },
    {
      "cell_type": "code",
      "metadata": {
        "id": "FonErDSYVW1j"
      },
      "source": [
        "ph = ph[ph['yeard'] > -4].sort_values('yeard').reset_index(drop=True)\n",
        "ph = ph[ph['yeard'] < 4].sort_values('yeard').reset_index(drop=True)"
      ],
      "execution_count": null,
      "outputs": []
    },
    {
      "cell_type": "code",
      "metadata": {
        "colab": {
          "base_uri": "https://localhost:8080/",
          "height": 222
        },
        "id": "7p6WZaKYURzY",
        "outputId": "53b70b39-5ff6-4f3e-ed30-b20178ad1a71"
      },
      "source": [
        "# Extract subDataFrame with q-value less than p threshold\n",
        "\n",
        "p = 0.002 # Select p thresholds with listed numbers in the paper\n",
        "\n",
        "phsub = ph[ph['qval'] < p].sort_values('cen_d').reset_index(drop=True)\n",
        "\n",
        "mlist = []\n",
        "fmlist = []\n",
        "\n",
        "for i in range(len(phsub)):\n",
        "  if phsub['gender1'][i] == 'male':\n",
        "    mlist.append(phsub['cen1'][i])\n",
        "    fmlist.append(phsub['cen2'][i])\n",
        "  else:\n",
        "    mlist.append(phsub['cen2'][i])\n",
        "    fmlist.append(phsub['cen1'][i])\n",
        "\n",
        "print(len(phsub)/len(ph))\n",
        "phsub.head()"
      ],
      "execution_count": null,
      "outputs": [
        {
          "output_type": "stream",
          "text": [
            "0.06485455326102513\n"
          ],
          "name": "stdout"
        },
        {
          "output_type": "execute_result",
          "data": {
            "text/html": [
              "<div>\n",
              "<style scoped>\n",
              "    .dataframe tbody tr th:only-of-type {\n",
              "        vertical-align: middle;\n",
              "    }\n",
              "\n",
              "    .dataframe tbody tr th {\n",
              "        vertical-align: top;\n",
              "    }\n",
              "\n",
              "    .dataframe thead th {\n",
              "        text-align: right;\n",
              "    }\n",
              "</style>\n",
              "<table border=\"1\" class=\"dataframe\">\n",
              "  <thead>\n",
              "    <tr style=\"text-align: right;\">\n",
              "      <th></th>\n",
              "      <th>paper1</th>\n",
              "      <th>gender1</th>\n",
              "      <th>year1</th>\n",
              "      <th>paper2</th>\n",
              "      <th>gender2</th>\n",
              "      <th>year2</th>\n",
              "      <th>qval</th>\n",
              "      <th>k</th>\n",
              "      <th>cen1</th>\n",
              "      <th>cen2</th>\n",
              "      <th>year</th>\n",
              "      <th>cen_d</th>\n",
              "      <th>yeard</th>\n",
              "    </tr>\n",
              "  </thead>\n",
              "  <tbody>\n",
              "    <tr>\n",
              "      <th>0</th>\n",
              "      <td>10.1103/PhysRevE.70.021913</td>\n",
              "      <td>male</td>\n",
              "      <td>2004</td>\n",
              "      <td>10.1103/RevModPhys.74.47</td>\n",
              "      <td>female</td>\n",
              "      <td>2002</td>\n",
              "      <td>0.001534</td>\n",
              "      <td>False</td>\n",
              "      <td>0.000002</td>\n",
              "      <td>0.000291</td>\n",
              "      <td>2004</td>\n",
              "      <td>-0.000289</td>\n",
              "      <td>2</td>\n",
              "    </tr>\n",
              "    <tr>\n",
              "      <th>1</th>\n",
              "      <td>10.1103/PhysRevE.69.066105</td>\n",
              "      <td>male</td>\n",
              "      <td>2004</td>\n",
              "      <td>10.1103/RevModPhys.74.47</td>\n",
              "      <td>female</td>\n",
              "      <td>2002</td>\n",
              "      <td>0.001672</td>\n",
              "      <td>True</td>\n",
              "      <td>0.000002</td>\n",
              "      <td>0.000291</td>\n",
              "      <td>2004</td>\n",
              "      <td>-0.000289</td>\n",
              "      <td>2</td>\n",
              "    </tr>\n",
              "    <tr>\n",
              "      <th>2</th>\n",
              "      <td>10.1103/PhysRevE.72.061901</td>\n",
              "      <td>male</td>\n",
              "      <td>2005</td>\n",
              "      <td>10.1103/RevModPhys.74.47</td>\n",
              "      <td>female</td>\n",
              "      <td>2002</td>\n",
              "      <td>0.000922</td>\n",
              "      <td>True</td>\n",
              "      <td>0.000002</td>\n",
              "      <td>0.000291</td>\n",
              "      <td>2005</td>\n",
              "      <td>-0.000289</td>\n",
              "      <td>3</td>\n",
              "    </tr>\n",
              "    <tr>\n",
              "      <th>3</th>\n",
              "      <td>10.1103/PhysRevE.66.036128</td>\n",
              "      <td>male</td>\n",
              "      <td>2002</td>\n",
              "      <td>10.1103/RevModPhys.74.47</td>\n",
              "      <td>female</td>\n",
              "      <td>2002</td>\n",
              "      <td>0.000450</td>\n",
              "      <td>True</td>\n",
              "      <td>0.000002</td>\n",
              "      <td>0.000291</td>\n",
              "      <td>2002</td>\n",
              "      <td>-0.000289</td>\n",
              "      <td>0</td>\n",
              "    </tr>\n",
              "    <tr>\n",
              "      <th>4</th>\n",
              "      <td>10.1103/PhysRevE.64.047103</td>\n",
              "      <td>male</td>\n",
              "      <td>2001</td>\n",
              "      <td>10.1103/RevModPhys.74.47</td>\n",
              "      <td>female</td>\n",
              "      <td>2002</td>\n",
              "      <td>0.001057</td>\n",
              "      <td>False</td>\n",
              "      <td>0.000002</td>\n",
              "      <td>0.000291</td>\n",
              "      <td>2002</td>\n",
              "      <td>-0.000289</td>\n",
              "      <td>-1</td>\n",
              "    </tr>\n",
              "  </tbody>\n",
              "</table>\n",
              "</div>"
            ],
            "text/plain": [
              "                       paper1 gender1  year1  ...  year     cen_d  yeard\n",
              "0  10.1103/PhysRevE.70.021913    male   2004  ...  2004 -0.000289      2\n",
              "1  10.1103/PhysRevE.69.066105    male   2004  ...  2004 -0.000289      2\n",
              "2  10.1103/PhysRevE.72.061901    male   2005  ...  2005 -0.000289      3\n",
              "3  10.1103/PhysRevE.66.036128    male   2002  ...  2002 -0.000289      0\n",
              "4  10.1103/PhysRevE.64.047103    male   2001  ...  2002 -0.000289     -1\n",
              "\n",
              "[5 rows x 13 columns]"
            ]
          },
          "metadata": {
            "tags": []
          },
          "execution_count": 18
        }
      ]
    },
    {
      "cell_type": "code",
      "metadata": {
        "colab": {
          "base_uri": "https://localhost:8080/",
          "height": 222
        },
        "id": "o6jdqAZjUR4Z",
        "outputId": "fc0ad985-dc80-46e1-b771-de97efc83be6"
      },
      "source": [
        "plot_ph = phsub[['year', 'cen_d']].sort_values(by=['year', 'cen_d'])\n",
        "plot_ph['normalized'] = plot_ph['cen_d'].div(plot_ph['cen_d'].abs().groupby(\n",
        "    plot_ph['year']).transform('max'))\n",
        "# plot_hom['gender'] = ['male' if x >=0 else 'female' for x in plot_hom['countd']]\n",
        "\n",
        "print(len(plot_ph))\n",
        "plot_ph.head()"
      ],
      "execution_count": null,
      "outputs": [
        {
          "output_type": "stream",
          "text": [
            "35799\n"
          ],
          "name": "stdout"
        },
        {
          "output_type": "execute_result",
          "data": {
            "text/html": [
              "<div>\n",
              "<style scoped>\n",
              "    .dataframe tbody tr th:only-of-type {\n",
              "        vertical-align: middle;\n",
              "    }\n",
              "\n",
              "    .dataframe tbody tr th {\n",
              "        vertical-align: top;\n",
              "    }\n",
              "\n",
              "    .dataframe thead th {\n",
              "        text-align: right;\n",
              "    }\n",
              "</style>\n",
              "<table border=\"1\" class=\"dataframe\">\n",
              "  <thead>\n",
              "    <tr style=\"text-align: right;\">\n",
              "      <th></th>\n",
              "      <th>year</th>\n",
              "      <th>cen_d</th>\n",
              "      <th>normalized</th>\n",
              "    </tr>\n",
              "  </thead>\n",
              "  <tbody>\n",
              "    <tr>\n",
              "      <th>10383</th>\n",
              "      <td>1983</td>\n",
              "      <td>-3.664231e-07</td>\n",
              "      <td>-0.040247</td>\n",
              "    </tr>\n",
              "    <tr>\n",
              "      <th>26617</th>\n",
              "      <td>1983</td>\n",
              "      <td>6.426475e-07</td>\n",
              "      <td>0.070587</td>\n",
              "    </tr>\n",
              "    <tr>\n",
              "      <th>26618</th>\n",
              "      <td>1983</td>\n",
              "      <td>6.426475e-07</td>\n",
              "      <td>0.070587</td>\n",
              "    </tr>\n",
              "    <tr>\n",
              "      <th>35045</th>\n",
              "      <td>1983</td>\n",
              "      <td>9.104276e-06</td>\n",
              "      <td>1.000000</td>\n",
              "    </tr>\n",
              "    <tr>\n",
              "      <th>32590</th>\n",
              "      <td>1984</td>\n",
              "      <td>2.462086e-06</td>\n",
              "      <td>0.100543</td>\n",
              "    </tr>\n",
              "  </tbody>\n",
              "</table>\n",
              "</div>"
            ],
            "text/plain": [
              "       year         cen_d  normalized\n",
              "10383  1983 -3.664231e-07   -0.040247\n",
              "26617  1983  6.426475e-07    0.070587\n",
              "26618  1983  6.426475e-07    0.070587\n",
              "35045  1983  9.104276e-06    1.000000\n",
              "32590  1984  2.462086e-06    0.100543"
            ]
          },
          "metadata": {
            "tags": []
          },
          "execution_count": 19
        }
      ]
    },
    {
      "cell_type": "code",
      "metadata": {
        "colab": {
          "base_uri": "https://localhost:8080/",
          "height": 585
        },
        "id": "j6Q6WC1fUR-j",
        "outputId": "7a459210-64c3-48ad-a52b-24d9859e0ccd"
      },
      "source": [
        "fig,ax = plt.subplots(1,1, figsize=[12,9])\n",
        "\n",
        "plt.axhline(y=0, color='black', linestyle='dotted')\n",
        "sns.lineplot(data=plot_ph, x=\"year\", y=\"cen_d\",ax=ax,ci=None,color=\"black\")\n",
        "\n",
        "cm = sns.color_palette(\"BrBG\",10)\n",
        "\n",
        "for ix,ci in enumerate(range(10,100,10)):\n",
        "    sns.lineplot(data=plot_ph, x=\"year\", y=\"cen_d\",\n",
        "                 ci = ci,\n",
        "                 ax=ax,linestyle='',\n",
        "                 hue = ci,palette={ci:cm[ix]})\n",
        "\n",
        "plt.title(\"Percentile Plot of PageRank Centrality Difference between Similar Pairs\")\n",
        "plt.xlabel(\"Publication Year\")\n",
        "plt.ylabel(\"\\u0394(Citation)\")"
      ],
      "execution_count": null,
      "outputs": [
        {
          "output_type": "execute_result",
          "data": {
            "text/plain": [
              "Text(0, 0.5, 'Δ(Citation)')"
            ]
          },
          "metadata": {
            "tags": []
          },
          "execution_count": 20
        },
        {
          "output_type": "display_data",
          "data": {
            "image/png": "[encoded data removed]",
            "text/plain": [
              "<Figure size 864x648 with 1 Axes>"
            ]
          },
          "metadata": {
            "tags": [],
            "needs_background": "light"
          }
        }
      ]
    },
    {
      "cell_type": "code",
      "metadata": {
        "colab": {
          "base_uri": "https://localhost:8080/"
        },
        "id": "7shpM-BUGfOa",
        "outputId": "26afe824-6e68-4ae0-a2e0-a810aee56141"
      },
      "source": [
        "mwu3 = plot_ph[plot_ph['year'] <= 1995]\n",
        "mwu4 = plot_ph[plot_ph['year'] > 1995]\n",
        "\n",
        "scipy.stats.mannwhitneyu(mwu3.cen_d, mwu4.cen_d)"
      ],
      "execution_count": null,
      "outputs": [
        {
          "output_type": "execute_result",
          "data": {
            "text/plain": [
              "MannwhitneyuResult(statistic=48270565.5, pvalue=1.655998477224141e-10)"
            ]
          },
          "metadata": {
            "tags": []
          },
          "execution_count": 27
        }
      ]
    },
    {
      "cell_type": "markdown",
      "metadata": {
        "id": "M6kB3bOCAloR"
      },
      "source": [
        "# 2a. Gender citing gender (setup)"
      ]
    },
    {
      "cell_type": "code",
      "metadata": {
        "id": "8l5-fmhgUY5-"
      },
      "source": [
        "def cit_count(g):\n",
        "\n",
        "    # count x2-> y2 pairs\n",
        "    df1 = g.drop_duplicates(subset=['cit1', 'paper1', 'pair'])\n",
        "    c1 = (df1['cgen1'] + '_' + df1['gender1']).value_counts()\n",
        "\n",
        "    # count x2-> y2 pairs\n",
        "    df2 = g.drop_duplicates(subset=['cit2', 'paper2', 'pair'])\n",
        "    c2 = (df2['cgen2'] + '_' + df2['gender2']).value_counts()\n",
        "\n",
        "    # add results\n",
        "    return c1.add(c2, fill_value=0)"
      ],
      "execution_count": null,
      "outputs": []
    },
    {
      "cell_type": "code",
      "metadata": {
        "id": "YkCNj_IxAdGC",
        "colab": {
          "base_uri": "https://localhost:8080/"
        },
        "outputId": "df18a16b-6e63-42a8-b239-e830cdf76f0b"
      },
      "source": [
        "############## SELECT DESIRED PACS (HOMOPHILY ONLY) ###############\n",
        "\n",
        "# homn = pd.read_csv(\"drive/My Drive/codes/hom0.csv\")\n",
        "# homn = pd.read_csv(\"drive/My Drive/codes/hom1.csv\")\n",
        "# homn = pd.read_csv(\"drive/My Drive/codes/hom2.csv\")\n",
        "# homn = pd.read_csv(\"drive/My Drive/codes/hom3.csv\")\n",
        "# homn = pd.read_csv(\"drive/My Drive/codes/hom4.csv\")\n",
        "# homn = pd.read_csv(\"drive/My Drive/codes/hom5.csv\")\n",
        "# homn = pd.read_csv(\"drive/My Drive/codes/hom6.csv\")\n",
        "# homn = pd.read_csv(\"drive/My Drive/codes/hom7.csv\")\n",
        "# homn = pd.read_csv(\"drive/My Drive/codes/hom8.csv\")\n",
        "homn = pd.read_csv(\"drive/My Drive/codes/hom9.csv\")"
      ],
      "execution_count": null,
      "outputs": [
        {
          "output_type": "stream",
          "text": [
            "time: 892 ms (started: 2021-03-30 06:44:46 +00:00)\n"
          ],
          "name": "stdout"
        }
      ]
    },
    {
      "cell_type": "code",
      "metadata": {
        "id": "j8TwxYKkaYwr",
        "colab": {
          "base_uri": "https://localhost:8080/"
        },
        "outputId": "d3dd4ccf-4396-4f21-8391-6c04f9bf393f"
      },
      "source": [
        "hom = homn.drop(['year1', 'year2', 'k'], axis=1)\n",
        "\n",
        "cen = cen.rename({'citing_doi': 'cit', 'citing_gender': 'cgender',\n",
        "                          'cited_doi': 'paper', 'cited_gender': 'pgender'},\n",
        "                          axis=1)\n",
        "\n",
        "hom = hom[hom['gender1'] != hom['gender2']]"
      ],
      "execution_count": null,
      "outputs": [
        {
          "output_type": "stream",
          "text": [
            "time: 62.9 ms (started: 2021-03-30 06:44:48 +00:00)\n"
          ],
          "name": "stdout"
        }
      ]
    },
    {
      "cell_type": "code",
      "metadata": {
        "id": "z5XeIv_Gad2i",
        "colab": {
          "base_uri": "https://localhost:8080/",
          "height": 240
        },
        "outputId": "9bc7dfbe-5e54-47aa-e9ec-8436642ffb4a"
      },
      "source": [
        "# DataFrame: cit1 cites paper1, cit2 cites paper2\n",
        "# where paper1 and paper 2 are similar pairs\n",
        "\n",
        "test = pd.merge(cen, hom, left_on='paper', right_on='paper1',\n",
        "                how='inner').drop(['paper', 'pgender'], axis=1).rename(\n",
        "                    {'cit': 'cit1', 'cgender': 'cgen1'}, axis=1)\n",
        "\n",
        "test = test.merge(cen, left_on='paper2',\n",
        "                  right_on='paper', how='inner').drop(\n",
        "                      ['paper', 'pgender'], axis=1).rename(\n",
        "                          {'cit': 'cit2', 'cgender': 'cgen2'}, axis=1)\n",
        "test = test[['cit1', 'cgen1', 'cit2', 'cgen2', 'paper1', 'gender1', 'paper2',\n",
        "             'gender2', 'qval']]\n",
        "\n",
        "print(len(test))\n",
        "test.head()"
      ],
      "execution_count": null,
      "outputs": [
        {
          "output_type": "stream",
          "text": [
            "731817\n"
          ],
          "name": "stdout"
        },
        {
          "output_type": "execute_result",
          "data": {
            "text/html": [
              "<div>\n",
              "<style scoped>\n",
              "    .dataframe tbody tr th:only-of-type {\n",
              "        vertical-align: middle;\n",
              "    }\n",
              "\n",
              "    .dataframe tbody tr th {\n",
              "        vertical-align: top;\n",
              "    }\n",
              "\n",
              "    .dataframe thead th {\n",
              "        text-align: right;\n",
              "    }\n",
              "</style>\n",
              "<table border=\"1\" class=\"dataframe\">\n",
              "  <thead>\n",
              "    <tr style=\"text-align: right;\">\n",
              "      <th></th>\n",
              "      <th>cit1</th>\n",
              "      <th>cgen1</th>\n",
              "      <th>cit2</th>\n",
              "      <th>cgen2</th>\n",
              "      <th>paper1</th>\n",
              "      <th>gender1</th>\n",
              "      <th>paper2</th>\n",
              "      <th>gender2</th>\n",
              "      <th>qval</th>\n",
              "    </tr>\n",
              "  </thead>\n",
              "  <tbody>\n",
              "    <tr>\n",
              "      <th>0</th>\n",
              "      <td>10.1103/PhysRevD.79.103502</td>\n",
              "      <td>male</td>\n",
              "      <td>10.1103/PhysRevD.77.063511</td>\n",
              "      <td>female</td>\n",
              "      <td>10.1103/PhysRevD.70.103518</td>\n",
              "      <td>male</td>\n",
              "      <td>10.1103/PhysRevD.77.063510</td>\n",
              "      <td>female</td>\n",
              "      <td>0.032609</td>\n",
              "    </tr>\n",
              "    <tr>\n",
              "      <th>1</th>\n",
              "      <td>10.1103/PhysRevD.79.103502</td>\n",
              "      <td>male</td>\n",
              "      <td>10.1103/PhysRevD.77.063510</td>\n",
              "      <td>female</td>\n",
              "      <td>10.1103/PhysRevD.70.103518</td>\n",
              "      <td>male</td>\n",
              "      <td>10.1103/PhysRevD.77.063510</td>\n",
              "      <td>female</td>\n",
              "      <td>0.032609</td>\n",
              "    </tr>\n",
              "    <tr>\n",
              "      <th>2</th>\n",
              "      <td>10.1103/RevModPhys.78.537</td>\n",
              "      <td>male</td>\n",
              "      <td>10.1103/PhysRevD.77.063511</td>\n",
              "      <td>female</td>\n",
              "      <td>10.1103/PhysRevD.70.103518</td>\n",
              "      <td>male</td>\n",
              "      <td>10.1103/PhysRevD.77.063510</td>\n",
              "      <td>female</td>\n",
              "      <td>0.032609</td>\n",
              "    </tr>\n",
              "    <tr>\n",
              "      <th>3</th>\n",
              "      <td>10.1103/RevModPhys.78.537</td>\n",
              "      <td>male</td>\n",
              "      <td>10.1103/PhysRevD.77.063510</td>\n",
              "      <td>female</td>\n",
              "      <td>10.1103/PhysRevD.70.103518</td>\n",
              "      <td>male</td>\n",
              "      <td>10.1103/PhysRevD.77.063510</td>\n",
              "      <td>female</td>\n",
              "      <td>0.032609</td>\n",
              "    </tr>\n",
              "    <tr>\n",
              "      <th>4</th>\n",
              "      <td>10.1103/PhysRevD.77.023514</td>\n",
              "      <td>male</td>\n",
              "      <td>10.1103/PhysRevD.77.063511</td>\n",
              "      <td>female</td>\n",
              "      <td>10.1103/PhysRevD.70.103518</td>\n",
              "      <td>male</td>\n",
              "      <td>10.1103/PhysRevD.77.063510</td>\n",
              "      <td>female</td>\n",
              "      <td>0.032609</td>\n",
              "    </tr>\n",
              "  </tbody>\n",
              "</table>\n",
              "</div>"
            ],
            "text/plain": [
              "                         cit1 cgen1  ... gender2      qval\n",
              "0  10.1103/PhysRevD.79.103502  male  ...  female  0.032609\n",
              "1  10.1103/PhysRevD.79.103502  male  ...  female  0.032609\n",
              "2   10.1103/RevModPhys.78.537  male  ...  female  0.032609\n",
              "3   10.1103/RevModPhys.78.537  male  ...  female  0.032609\n",
              "4  10.1103/PhysRevD.77.023514  male  ...  female  0.032609\n",
              "\n",
              "[5 rows x 9 columns]"
            ]
          },
          "metadata": {
            "tags": []
          },
          "execution_count": 41
        },
        {
          "output_type": "stream",
          "text": [
            "time: 607 ms (started: 2021-03-30 06:44:50 +00:00)\n"
          ],
          "name": "stdout"
        }
      ]
    },
    {
      "cell_type": "code",
      "metadata": {
        "colab": {
          "base_uri": "https://localhost:8080/",
          "height": 240
        },
        "id": "x2ekStJVvLFK",
        "outputId": "5d812fc5-993c-4caf-b7be-0429093eca37"
      },
      "source": [
        "test['pair'] = test.groupby(['paper1', 'paper2']).ngroup()\n",
        "test = test.sort_values(['pair','cit1','cit2'])\n",
        "\n",
        "print(test.pair.nunique())\n",
        "test.head()"
      ],
      "execution_count": null,
      "outputs": [
        {
          "output_type": "stream",
          "text": [
            "13632\n"
          ],
          "name": "stdout"
        },
        {
          "output_type": "execute_result",
          "data": {
            "text/html": [
              "<div>\n",
              "<style scoped>\n",
              "    .dataframe tbody tr th:only-of-type {\n",
              "        vertical-align: middle;\n",
              "    }\n",
              "\n",
              "    .dataframe tbody tr th {\n",
              "        vertical-align: top;\n",
              "    }\n",
              "\n",
              "    .dataframe thead th {\n",
              "        text-align: right;\n",
              "    }\n",
              "</style>\n",
              "<table border=\"1\" class=\"dataframe\">\n",
              "  <thead>\n",
              "    <tr style=\"text-align: right;\">\n",
              "      <th></th>\n",
              "      <th>cit1</th>\n",
              "      <th>cgen1</th>\n",
              "      <th>cit2</th>\n",
              "      <th>cgen2</th>\n",
              "      <th>paper1</th>\n",
              "      <th>gender1</th>\n",
              "      <th>paper2</th>\n",
              "      <th>gender2</th>\n",
              "      <th>qval</th>\n",
              "      <th>pair</th>\n",
              "    </tr>\n",
              "  </thead>\n",
              "  <tbody>\n",
              "    <tr>\n",
              "      <th>48018</th>\n",
              "      <td>10.1103/PhysRevA.46.3413</td>\n",
              "      <td>male</td>\n",
              "      <td>10.1103/PhysRevD.65.063004</td>\n",
              "      <td>female</td>\n",
              "      <td>10.1103/PhysRevA.42.3587</td>\n",
              "      <td>male</td>\n",
              "      <td>10.1103/PhysRevD.56.3296</td>\n",
              "      <td>female</td>\n",
              "      <td>0.009174</td>\n",
              "      <td>0</td>\n",
              "    </tr>\n",
              "    <tr>\n",
              "      <th>48019</th>\n",
              "      <td>10.1103/PhysRevA.46.3413</td>\n",
              "      <td>male</td>\n",
              "      <td>10.1103/PhysRevD.77.043529</td>\n",
              "      <td>male</td>\n",
              "      <td>10.1103/PhysRevA.42.3587</td>\n",
              "      <td>male</td>\n",
              "      <td>10.1103/PhysRevD.56.3296</td>\n",
              "      <td>female</td>\n",
              "      <td>0.009174</td>\n",
              "      <td>0</td>\n",
              "    </tr>\n",
              "    <tr>\n",
              "      <th>48020</th>\n",
              "      <td>10.1103/PhysRevA.46.3413</td>\n",
              "      <td>male</td>\n",
              "      <td>10.1103/PhysRevLett.82.4835</td>\n",
              "      <td>female</td>\n",
              "      <td>10.1103/PhysRevA.42.3587</td>\n",
              "      <td>male</td>\n",
              "      <td>10.1103/PhysRevD.56.3296</td>\n",
              "      <td>female</td>\n",
              "      <td>0.009174</td>\n",
              "      <td>0</td>\n",
              "    </tr>\n",
              "    <tr>\n",
              "      <th>48024</th>\n",
              "      <td>10.1103/PhysRevD.48.5655</td>\n",
              "      <td>male</td>\n",
              "      <td>10.1103/PhysRevD.65.063004</td>\n",
              "      <td>female</td>\n",
              "      <td>10.1103/PhysRevA.42.3587</td>\n",
              "      <td>male</td>\n",
              "      <td>10.1103/PhysRevD.56.3296</td>\n",
              "      <td>female</td>\n",
              "      <td>0.009174</td>\n",
              "      <td>0</td>\n",
              "    </tr>\n",
              "    <tr>\n",
              "      <th>48025</th>\n",
              "      <td>10.1103/PhysRevD.48.5655</td>\n",
              "      <td>male</td>\n",
              "      <td>10.1103/PhysRevD.77.043529</td>\n",
              "      <td>male</td>\n",
              "      <td>10.1103/PhysRevA.42.3587</td>\n",
              "      <td>male</td>\n",
              "      <td>10.1103/PhysRevD.56.3296</td>\n",
              "      <td>female</td>\n",
              "      <td>0.009174</td>\n",
              "      <td>0</td>\n",
              "    </tr>\n",
              "  </tbody>\n",
              "</table>\n",
              "</div>"
            ],
            "text/plain": [
              "                           cit1 cgen1  ...      qval pair\n",
              "48018  10.1103/PhysRevA.46.3413  male  ...  0.009174    0\n",
              "48019  10.1103/PhysRevA.46.3413  male  ...  0.009174    0\n",
              "48020  10.1103/PhysRevA.46.3413  male  ...  0.009174    0\n",
              "48024  10.1103/PhysRevD.48.5655  male  ...  0.009174    0\n",
              "48025  10.1103/PhysRevD.48.5655  male  ...  0.009174    0\n",
              "\n",
              "[5 rows x 10 columns]"
            ]
          },
          "metadata": {
            "tags": []
          },
          "execution_count": 42
        },
        {
          "output_type": "stream",
          "text": [
            "time: 600 ms (started: 2021-03-30 06:44:53 +00:00)\n"
          ],
          "name": "stdout"
        }
      ]
    },
    {
      "cell_type": "code",
      "metadata": {
        "colab": {
          "base_uri": "https://localhost:8080/"
        },
        "id": "gNvItv5JhXmw",
        "outputId": "d4eff65d-3dd9-44b8-ac19-94e209cc3bd2"
      },
      "source": [
        "genco = test.groupby('pair').apply(cit_count).unstack().fillna(0).astype(int)"
      ],
      "execution_count": null,
      "outputs": [
        {
          "output_type": "stream",
          "text": [
            "time: 1min 26s (started: 2021-03-30 06:44:56 +00:00)\n"
          ],
          "name": "stdout"
        }
      ]
    },
    {
      "cell_type": "code",
      "metadata": {
        "colab": {
          "base_uri": "https://localhost:8080/"
        },
        "id": "cbxAygR4khzP",
        "outputId": "3b888da1-606c-4cd2-80b0-85fd936c3901"
      },
      "source": [
        "# genco.to_csv(r'drive/My Drive/codes/genco00.csv',index=False)\n",
        "# genco.to_csv(r'drive/My Drive/codes/genco10.csv',index=False)\n",
        "# genco.to_csv(r'drive/My Drive/codes/genco20.csv',index=False)\n",
        "# genco.to_csv(r'drive/My Drive/codes/genco30.csv',index=False)\n",
        "# genco.to_csv(r'drive/My Drive/codes/genco40.csv',index=False)\n",
        "# genco.to_csv(r'drive/My Drive/codes/genco50.csv',index=False)\n",
        "# genco.to_csv(r'drive/My Drive/codes/genco60.csv',index=False)\n",
        "# genco.to_csv(r'drive/My Drive/codes/genco70.csv',index=False)\n",
        "# genco.to_csv(r'drive/My Drive/codes/genco80.csv',index=False)\n",
        "genco.to_csv(r'drive/My Drive/codes/genco90.csv',index=False)"
      ],
      "execution_count": null,
      "outputs": [
        {
          "output_type": "stream",
          "text": [
            "time: 32.7 ms (started: 2021-03-30 06:46:22 +00:00)\n"
          ],
          "name": "stdout"
        }
      ]
    },
    {
      "cell_type": "markdown",
      "metadata": {
        "id": "NbD8zw0pjBa8"
      },
      "source": [
        "# 2b. Gender citing gender"
      ]
    },
    {
      "cell_type": "code",
      "metadata": {
        "id": "hbqfzLFsM4L4",
        "colab": {
          "base_uri": "https://localhost:8080/"
        },
        "outputId": "b7b21b10-0523-4e72-833f-497a08e77efd"
      },
      "source": [
        "############## SELECT DESIRED PACS (HOMOPHILY ONLY) ###############\n",
        "\n",
        "# genco = pd.read_csv(\"drive/My Drive/codes/genco00.csv\")\n",
        "# genco = pd.read_csv(\"drive/My Drive/codes/genco10.csv\")\n",
        "# genco = pd.read_csv(\"drive/My Drive/codes/genco20.csv\")\n",
        "# genco = pd.read_csv(\"drive/My Drive/codes/genco30.csv\")\n",
        "# genco = pd.read_csv(\"drive/My Drive/codes/genco40.csv\")\n",
        "# genco = pd.read_csv(\"drive/My Drive/codes/genco50.csv\")\n",
        "# genco = pd.read_csv(\"drive/My Drive/codes/genco60.csv\")\n",
        "# genco = pd.read_csv(\"drive/My Drive/codes/genco70.csv\")\n",
        "# genco = pd.read_csv(\"drive/My Drive/codes/genco80.csv\")\n",
        "genco = pd.read_csv(\"drive/My Drive/codes/genco90.csv\")"
      ],
      "execution_count": null,
      "outputs": [
        {
          "output_type": "stream",
          "text": [
            "time: 16.4 ms (started: 2021-03-30 07:21:34 +00:00)\n"
          ],
          "name": "stdout"
        }
      ]
    },
    {
      "cell_type": "code",
      "metadata": {
        "colab": {
          "base_uri": "https://localhost:8080/"
        },
        "id": "0io6svzk6QaL",
        "outputId": "716a65d3-0018-4552-dc79-fd348696f8ea"
      },
      "source": [
        "genco['M'] = genco['male_male'] / (\n",
        "    genco['male_male'] + genco['male_female'])\n",
        "genco['F'] = genco['female_female'] / (\n",
        "    genco['female_male'] + genco['female_female'])\n",
        "genco = genco.fillna(0)"
      ],
      "execution_count": null,
      "outputs": [
        {
          "output_type": "stream",
          "text": [
            "time: 9.02 ms (started: 2021-03-30 07:13:33 +00:00)\n"
          ],
          "name": "stdout"
        }
      ]
    },
    {
      "cell_type": "code",
      "metadata": {
        "colab": {
          "base_uri": "https://localhost:8080/"
        },
        "id": "_vO7x2Hq7mfv",
        "outputId": "14845529-ea9e-4ce1-a625-a8474f9afe59"
      },
      "source": [
        "print(statistics.mean(genco['M']))\n",
        "print(scipy.stats.sem(genco['M'], axis=None))\n",
        "print(statistics.mean(genco['F']))\n",
        "print(scipy.stats.sem(genco['F'], axis=None))"
      ],
      "execution_count": null,
      "outputs": [
        {
          "output_type": "stream",
          "text": [
            "0.5764143237420447\n",
            "0.002423995004531813\n",
            "0.5052111363062443\n",
            "0.0037250616225795383\n",
            "time: 42.8 ms (started: 2021-03-30 07:13:33 +00:00)\n"
          ],
          "name": "stdout"
        }
      ]
    },
    {
      "cell_type": "markdown",
      "metadata": {
        "id": "uRWoQRFcLxZR"
      },
      "source": [
        "# 2c. Overall GCG Statistics"
      ]
    },
    {
      "cell_type": "code",
      "metadata": {
        "id": "v9DpqVhOJPFU",
        "colab": {
          "base_uri": "https://localhost:8080/"
        },
        "outputId": "a6be3b08-84bf-4609-c21c-5f9c8cf4d0a6"
      },
      "source": [
        "genco0 = pd.read_csv(\"drive/My Drive/codes/genco00.csv\")\n",
        "genco1 = pd.read_csv(\"drive/My Drive/codes/genco10.csv\")\n",
        "genco2 = pd.read_csv(\"drive/My Drive/codes/genco20.csv\")\n",
        "genco3 = pd.read_csv(\"drive/My Drive/codes/genco30.csv\")\n",
        "genco4 = pd.read_csv(\"drive/My Drive/codes/genco40.csv\")\n",
        "genco5 = pd.read_csv(\"drive/My Drive/codes/genco50.csv\")\n",
        "genco6 = pd.read_csv(\"drive/My Drive/codes/genco60.csv\")\n",
        "genco7 = pd.read_csv(\"drive/My Drive/codes/genco70.csv\")\n",
        "genco8 = pd.read_csv(\"drive/My Drive/codes/genco80.csv\")\n",
        "genco9 = pd.read_csv(\"drive/My Drive/codes/genco90.csv\")"
      ],
      "execution_count": null,
      "outputs": [
        {
          "output_type": "stream",
          "text": [
            "time: 193 ms (started: 2021-03-30 07:02:06 +00:00)\n"
          ],
          "name": "stdout"
        }
      ]
    },
    {
      "cell_type": "code",
      "metadata": {
        "id": "Nofgyv6iJ07E",
        "colab": {
          "base_uri": "https://localhost:8080/",
          "height": 222
        },
        "outputId": "bfd6dbe5-905b-4a4f-cff4-2c3529ed8ab8"
      },
      "source": [
        "genco_n = pd.concat([genco0, genco1, genco2, genco3, genco4, genco5,\n",
        "                     genco6, genco7, genco8, genco9])\n",
        "genco_n.head()"
      ],
      "execution_count": null,
      "outputs": [
        {
          "output_type": "execute_result",
          "data": {
            "text/html": [
              "<div>\n",
              "<style scoped>\n",
              "    .dataframe tbody tr th:only-of-type {\n",
              "        vertical-align: middle;\n",
              "    }\n",
              "\n",
              "    .dataframe tbody tr th {\n",
              "        vertical-align: top;\n",
              "    }\n",
              "\n",
              "    .dataframe thead th {\n",
              "        text-align: right;\n",
              "    }\n",
              "</style>\n",
              "<table border=\"1\" class=\"dataframe\">\n",
              "  <thead>\n",
              "    <tr style=\"text-align: right;\">\n",
              "      <th></th>\n",
              "      <th>female_female</th>\n",
              "      <th>female_male</th>\n",
              "      <th>male_female</th>\n",
              "      <th>male_male</th>\n",
              "    </tr>\n",
              "  </thead>\n",
              "  <tbody>\n",
              "    <tr>\n",
              "      <th>0</th>\n",
              "      <td>1</td>\n",
              "      <td>0</td>\n",
              "      <td>1</td>\n",
              "      <td>5</td>\n",
              "    </tr>\n",
              "    <tr>\n",
              "      <th>1</th>\n",
              "      <td>0</td>\n",
              "      <td>0</td>\n",
              "      <td>3</td>\n",
              "      <td>22</td>\n",
              "    </tr>\n",
              "    <tr>\n",
              "      <th>2</th>\n",
              "      <td>1</td>\n",
              "      <td>0</td>\n",
              "      <td>0</td>\n",
              "      <td>3</td>\n",
              "    </tr>\n",
              "    <tr>\n",
              "      <th>3</th>\n",
              "      <td>1</td>\n",
              "      <td>0</td>\n",
              "      <td>0</td>\n",
              "      <td>24</td>\n",
              "    </tr>\n",
              "    <tr>\n",
              "      <th>4</th>\n",
              "      <td>1</td>\n",
              "      <td>0</td>\n",
              "      <td>0</td>\n",
              "      <td>4</td>\n",
              "    </tr>\n",
              "  </tbody>\n",
              "</table>\n",
              "</div>"
            ],
            "text/plain": [
              "   female_female  female_male  male_female  male_male\n",
              "0              1            0            1          5\n",
              "1              0            0            3         22\n",
              "2              1            0            0          3\n",
              "3              1            0            0         24\n",
              "4              1            0            0          4"
            ]
          },
          "metadata": {
            "tags": []
          },
          "execution_count": 59
        },
        {
          "output_type": "stream",
          "text": [
            "time: 29.7 ms (started: 2021-03-30 07:02:35 +00:00)\n"
          ],
          "name": "stdout"
        }
      ]
    },
    {
      "cell_type": "code",
      "metadata": {
        "colab": {
          "base_uri": "https://localhost:8080/"
        },
        "id": "Ilm2YMz18cy5",
        "outputId": "436a2022-31f1-4425-d841-c3bf9db78242"
      },
      "source": [
        "genco_n['M'] = genco_n['male_male'] / (\n",
        "    genco_n['male_male'] + genco_n['male_female'])\n",
        "genco_n['F'] = genco_n['female_female'] / (\n",
        "    genco_n['female_male'] + genco_n['female_female'])\n",
        "genco_n = genco_n.fillna(0)"
      ],
      "execution_count": null,
      "outputs": [
        {
          "output_type": "stream",
          "text": [
            "time: 47.1 ms (started: 2021-03-30 07:03:58 +00:00)\n"
          ],
          "name": "stdout"
        }
      ]
    },
    {
      "cell_type": "code",
      "metadata": {
        "colab": {
          "base_uri": "https://localhost:8080/"
        },
        "id": "1rMIBW6M8Td5",
        "outputId": "3f236ebf-bd08-430f-ea72-5935374f5f9f"
      },
      "source": [
        "print(statistics.mean(genco_n['M']))\n",
        "print(statistics.stdev(genco_n['M']))\n",
        "print(scipy.stats.sem(genco_n['M'], axis=None))\n",
        "print(statistics.mean(genco_n['F']))\n",
        "print(statistics.stdev(genco_n['F']))\n",
        "print(scipy.stats.sem(genco_n['F'], axis=None))"
      ],
      "execution_count": null,
      "outputs": [
        {
          "output_type": "stream",
          "text": [
            "0.579407368379222\n",
            "0.29992456395122274\n",
            "0.00038316824833655924\n",
            "0.5473017630052013\n",
            "0.4437672136252252\n",
            "0.0005669342439775178\n",
            "time: 4.58 s (started: 2021-03-30 07:03:59 +00:00)\n"
          ],
          "name": "stdout"
        }
      ]
    },
    {
      "cell_type": "code",
      "metadata": {
        "id": "JCgu2irkLQyV"
      },
      "source": [
        ""
      ],
      "execution_count": null,
      "outputs": []
    }
  ]
}