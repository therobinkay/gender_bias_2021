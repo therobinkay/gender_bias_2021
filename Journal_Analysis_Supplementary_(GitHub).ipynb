{
  "nbformat": 4,
  "nbformat_minor": 0,
  "metadata": {
    "colab": {
      "name": "Journal Analysis Supplementary (GitHub)",
      "provenance": [],
      "collapsed_sections": [
        "vh9QfEkJSVXA",
        "rhzWuryOhfvK",
        "UjGNM-FNfS17",
        "xgUaqa6gjP8P",
        "vPg_22VlauFu",
        "LizwR7q17_tI"
      ],
      "include_colab_link": true
    },
    "kernelspec": {
      "name": "python3",
      "display_name": "Python 3"
    }
  },
  "cells": [
    {
      "cell_type": "markdown",
      "metadata": {
        "id": "view-in-github",
        "colab_type": "text"
      },
      "source": [
        "<a href=\"https://colab.research.google.com/github/therobinkay/gender_bias_2021/blob/main/Journal_Analysis_Supplementary_(GitHub).ipynb\" target=\"_parent\"><img src=\"https://colab.research.google.com/assets/colab-badge.svg\" alt=\"Open In Colab\"/></a>"
      ]
    },
    {
      "cell_type": "code",
      "metadata": {
        "id": "ddiEVDeSEfiS"
      },
      "source": [
        "# import all necessary packages\n",
        "\n",
        "import io\n",
        "import pandas as pd\n",
        "import os\n",
        "import itertools\n",
        "import numpy as np\n",
        "import scipy.stats\n",
        "import time\n",
        "\n",
        "import matplotlib.pyplot as plt\n",
        "import seaborn as sns\n",
        "\n",
        "from tqdm import tqdm\n",
        "\n",
        "import math\n",
        "\n",
        "from collections import defaultdict\n",
        "from itertools import combinations as comb\n",
        "\n",
        "import networkx as nx\n",
        "import random"
      ],
      "execution_count": 1,
      "outputs": []
    },
    {
      "cell_type": "code",
      "metadata": {
        "colab": {
          "base_uri": "https://localhost:8080/"
        },
        "id": "SQcbBIzbm3fP",
        "outputId": "76ed8c4d-1cd7-4e15-951d-23823cc8551a"
      },
      "source": [
        "from google.colab import drive\n",
        "drive.mount('/content/drive/')"
      ],
      "execution_count": 2,
      "outputs": [
        {
          "output_type": "stream",
          "text": [
            "Mounted at /content/drive/\n"
          ],
          "name": "stdout"
        }
      ]
    },
    {
      "cell_type": "code",
      "metadata": {
        "id": "gXIay7x8m43v"
      },
      "source": [
        "!cd \"drive/My Drive\""
      ],
      "execution_count": 3,
      "outputs": []
    },
    {
      "cell_type": "code",
      "metadata": {
        "id": "dl3dGhekFBYi"
      },
      "source": [
        "# read all necessary .csv files\n",
        "\n",
        "data = pd.read_csv(\"drive/My Drive/codes/data.csv\")\n",
        "dp = pd.read_csv(\"drive/My Drive/codes/doipacs.csv\")\n",
        "cen = pd.read_csv('drive/My Drive/codes/cen.csv')\n",
        "\n",
        "cdata = pd.read_csv('drive/My Drive/codes/cdata.csv')\n",
        "\n",
        "cb = pd.read_csv(\"drive/My Drive/codes/citationBara.csv\")\n",
        "# extra modification for future analyses\n",
        "cb['pair'] = \"(\" + cb[\"citing_doi\"] + \", \" + cb[\"cited_doi\"] + \")\"\n",
        "cb['pair2'] = \"(\" + cb[\"cited_doi\"] + \", \" + cb[\"citing_doi\"] + \")\"\n",
        "\n",
        "rhom = pd.read_csv(\"drive/My Drive/codes/rhom.csv\")"
      ],
      "execution_count": 4,
      "outputs": []
    },
    {
      "cell_type": "code",
      "metadata": {
        "colab": {
          "base_uri": "https://localhost:8080/",
          "height": 222
        },
        "id": "_Qckl4YMnG8C",
        "outputId": "eb6272a1-8457-4efd-f46f-8e6207f85a48"
      },
      "source": [
        "############## SELECT DESIRED PACS (HOMOPHILY ONLY) ###############\n",
        "\n",
        "homn = pd.read_csv(\"drive/My Drive/codes/hom0.csv\")\n",
        "# homn = pd.read_csv(\"drive/My Drive/codes/hom1.csv\")\n",
        "# homn = pd.read_csv(\"drive/My Drive/codes/hom2.csv\")\n",
        "# homn = pd.read_csv(\"drive/My Drive/codes/hom3.csv\")\n",
        "# homn = pd.read_csv(\"drive/My Drive/codes/hom4.csv\")\n",
        "# homn = pd.read_csv(\"drive/My Drive/codes/hom5.csv\")\n",
        "# homn = pd.read_csv(\"drive/My Drive/codes/hom6.csv\")\n",
        "# homn = pd.read_csv(\"drive/My Drive/codes/hom7.csv\")\n",
        "# homn = pd.read_csv(\"drive/My Drive/codes/hom8.csv\")\n",
        "# homn = pd.read_csv(\"drive/My Drive/codes/hom9.csv\")\n",
        "\n",
        "print(len(homn))\n",
        "homn.head()"
      ],
      "execution_count": 17,
      "outputs": [
        {
          "output_type": "stream",
          "text": [
            "1189255\n"
          ],
          "name": "stdout"
        },
        {
          "output_type": "execute_result",
          "data": {
            "text/html": [
              "<div>\n",
              "<style scoped>\n",
              "    .dataframe tbody tr th:only-of-type {\n",
              "        vertical-align: middle;\n",
              "    }\n",
              "\n",
              "    .dataframe tbody tr th {\n",
              "        vertical-align: top;\n",
              "    }\n",
              "\n",
              "    .dataframe thead th {\n",
              "        text-align: right;\n",
              "    }\n",
              "</style>\n",
              "<table border=\"1\" class=\"dataframe\">\n",
              "  <thead>\n",
              "    <tr style=\"text-align: right;\">\n",
              "      <th></th>\n",
              "      <th>paper1</th>\n",
              "      <th>gender1</th>\n",
              "      <th>year1</th>\n",
              "      <th>paper2</th>\n",
              "      <th>gender2</th>\n",
              "      <th>year2</th>\n",
              "      <th>qval</th>\n",
              "      <th>k</th>\n",
              "    </tr>\n",
              "  </thead>\n",
              "  <tbody>\n",
              "    <tr>\n",
              "      <th>0</th>\n",
              "      <td>10.1103/PhysRevA.30.336</td>\n",
              "      <td>male</td>\n",
              "      <td>1984</td>\n",
              "      <td>10.1103/PhysRevA.34.1617</td>\n",
              "      <td>male</td>\n",
              "      <td>1986</td>\n",
              "      <td>0.001230</td>\n",
              "      <td>False</td>\n",
              "    </tr>\n",
              "    <tr>\n",
              "      <th>1</th>\n",
              "      <td>10.1103/PhysRevA.30.336</td>\n",
              "      <td>male</td>\n",
              "      <td>1984</td>\n",
              "      <td>10.1103/PhysRevA.34.4472</td>\n",
              "      <td>female</td>\n",
              "      <td>1986</td>\n",
              "      <td>0.017857</td>\n",
              "      <td>False</td>\n",
              "    </tr>\n",
              "    <tr>\n",
              "      <th>2</th>\n",
              "      <td>10.1103/PhysRevA.30.336</td>\n",
              "      <td>male</td>\n",
              "      <td>1984</td>\n",
              "      <td>10.1103/PhysRevA.41.784</td>\n",
              "      <td>male</td>\n",
              "      <td>1990</td>\n",
              "      <td>0.017857</td>\n",
              "      <td>False</td>\n",
              "    </tr>\n",
              "    <tr>\n",
              "      <th>3</th>\n",
              "      <td>10.1103/PhysRevA.34.4472</td>\n",
              "      <td>female</td>\n",
              "      <td>1986</td>\n",
              "      <td>10.1103/PhysRevA.41.784</td>\n",
              "      <td>male</td>\n",
              "      <td>1990</td>\n",
              "      <td>0.017857</td>\n",
              "      <td>False</td>\n",
              "    </tr>\n",
              "    <tr>\n",
              "      <th>4</th>\n",
              "      <td>10.1103/PhysRevA.36.4950</td>\n",
              "      <td>female</td>\n",
              "      <td>1987</td>\n",
              "      <td>10.1103/PhysRevA.41.784</td>\n",
              "      <td>male</td>\n",
              "      <td>1990</td>\n",
              "      <td>0.006410</td>\n",
              "      <td>False</td>\n",
              "    </tr>\n",
              "  </tbody>\n",
              "</table>\n",
              "</div>"
            ],
            "text/plain": [
              "                     paper1 gender1  year1  ... year2      qval      k\n",
              "0   10.1103/PhysRevA.30.336    male   1984  ...  1986  0.001230  False\n",
              "1   10.1103/PhysRevA.30.336    male   1984  ...  1986  0.017857  False\n",
              "2   10.1103/PhysRevA.30.336    male   1984  ...  1990  0.017857  False\n",
              "3  10.1103/PhysRevA.34.4472  female   1986  ...  1990  0.017857  False\n",
              "4  10.1103/PhysRevA.36.4950  female   1987  ...  1990  0.006410  False\n",
              "\n",
              "[5 rows x 8 columns]"
            ]
          },
          "metadata": {
            "tags": []
          },
          "execution_count": 17
        }
      ]
    },
    {
      "cell_type": "markdown",
      "metadata": {
        "id": "TW-mK5DWnEHh"
      },
      "source": [
        "## Missing Links"
      ]
    },
    {
      "cell_type": "code",
      "metadata": {
        "colab": {
          "base_uri": "https://localhost:8080/"
        },
        "id": "g-bySsBMnFwx",
        "outputId": "c1a2d515-b227-4ca9-8142-f68358543831"
      },
      "source": [
        "# evaluate similar pairs by different p*\n",
        "# evaluate the citation relationship within pairs\n",
        "\n",
        "homn_qval = np.array(homn['qval'])\n",
        "\n",
        "plist = np.unique(homn_qval)\n",
        "klist = []\n",
        "mlist = []\n",
        "\n",
        "for pstar in tqdm(plist):\n",
        "    result = homn_qval < pstar\n",
        "    sim = homn[result]\n",
        "    mlist.append(len(sim))\n",
        "    klist.append(sum(sim[\"k\"]))"
      ],
      "execution_count": 18,
      "outputs": [
        {
          "output_type": "stream",
          "text": [
            "100%|██████████| 794/794 [00:34<00:00, 22.86it/s]\n"
          ],
          "name": "stderr"
        }
      ]
    },
    {
      "cell_type": "code",
      "metadata": {
        "colab": {
          "base_uri": "https://localhost:8080/",
          "height": 349
        },
        "id": "jnnejk75nKGp",
        "outputId": "b0c134d3-b29e-483c-8559-59290547e2e9"
      },
      "source": [
        "# create a P(p*) plot - manual PACS modification required\n",
        "\n",
        "y_low = 0.15\n",
        "y_high = 0.65\n",
        "title = 'Atomic and Molecular Physics' \n",
        "\n",
        "plt.figure(1)\n",
        "plt.plot(plist, np.array(klist)/np.array(mlist), color ='red')\n",
        "\n",
        "plt.title(title)\n",
        "plt.xlabel(\"p*\")\n",
        "plt.xlim(0.0000001,0.01)\n",
        "plt.ylabel(\"P(p*)\")\n",
        "plt.ylim(ymin=y_low, ymax=y_high)"
      ],
      "execution_count": 19,
      "outputs": [
        {
          "output_type": "stream",
          "text": [
            "/usr/local/lib/python3.7/dist-packages/ipykernel_launcher.py:8: RuntimeWarning: invalid value encountered in true_divide\n",
            "  \n"
          ],
          "name": "stderr"
        },
        {
          "output_type": "execute_result",
          "data": {
            "text/plain": [
              "(0.15, 0.65)"
            ]
          },
          "metadata": {
            "tags": []
          },
          "execution_count": 19
        },
        {
          "output_type": "display_data",
          "data": {
            "image/png": "[encoded data removed]",
            "text/plain": [
              "<Figure size 432x288 with 1 Axes>"
            ]
          },
          "metadata": {
            "tags": [],
            "needs_background": "light"
          }
        }
      ]
    },
    {
      "cell_type": "markdown",
      "metadata": {
        "id": "FxbKdBA_nXXK"
      },
      "source": [
        "## Toy Example"
      ]
    },
    {
      "cell_type": "code",
      "metadata": {
        "id": "rzYro7zrnYwq"
      },
      "source": [
        "# Reproduction of the toy example listed in the supplementary materials\n",
        "\n",
        "# find several papers with high relations to each other\n",
        "\n",
        "otoy = pd.DataFrame([['10.1103/PhysRevA.49.1637'],\n",
        "  ['10.1103/PhysRevA.33.3706'],\n",
        "  ['10.1103/PhysRevA.71.032514'],\n",
        "  ['10.1103/PhysRevA.73.022503'],\n",
        "  ['10.1103/PhysRevA.70.032502'],\n",
        "  ['10.1103/PhysRevA.77.032511'],\n",
        "  ['10.1103/PhysRevLett.99.240402'],\n",
        "  ['10.1103/PhysRevA.72.062502'],\n",
        "  ['10.1103/PhysRevLett.95.050407'],\n",
        "  ['10.1103/PhysRevLett.101.240406'],\n",
        "  ['10.1103/PhysRevA.53.168'],\n",
        "  ['10.1103/PhysRevA.77.044501'],\n",
        "  ['10.1103/PhysRevE.53.4236'],\n",
        "  ['10.1103/PhysRevD.64.036007'],\n",
        "  ['10.1103/PhysRevA.56.139'],\n",
        "  ['10.1103/PhysRevD.76.125028'],\n",
        "  ['10.1103/PhysRevD.63.056002'],\n",
        "  ['10.1103/PhysRevLett.64.2733'],\n",
        "  ['10.1103/PhysRevD.50.5443'],\n",
        "  ['10.1103/PhysRevD.45.1233'],\n",
        "  ['10.1103/PhysRevA.54.3790'],\n",
        "  ['10.1103/PhysRevD.46.1088'],\n",
        "  ['10.1103/PhysRevA.51.4419'],\n",
        "  ['10.1103/PhysRevA.60.5091'],\n",
        "  ['10.1103/PhysRevD.46.5177'],\n",
        "  ['10.1103/PhysRevA.44.4728'],\n",
        "  ['10.1103/PhysRevE.71.026705'],\n",
        "  ['10.1103/PhysRevD.50.4611'],\n",
        "  ['10.1103/PhysRevE.75.026705'],\n",
        "  ['10.1103/PhysRevE.64.016703'],\n",
        "  ['10.1103/PhysRevD.79.114007'],\n",
        "  ['10.1103/PhysRevE.59.1207'],\n",
        "  ['10.1103/PhysRevD.79.094020']], columns=['doi'])"
      ],
      "execution_count": 20,
      "outputs": []
    },
    {
      "cell_type": "code",
      "metadata": {
        "colab": {
          "base_uri": "https://localhost:8080/"
        },
        "id": "KyHRHT_unZIK",
        "outputId": "c4bfd837-a082-4d8a-a0b0-cfbc86634ade"
      },
      "source": [
        "# Assign code number to the pairs\n",
        "\n",
        "otoy_test = otoy.merge(rhom, left_on='doi', right_on='paper',\n",
        "                       how='inner').drop(['doi'], axis=1)\n",
        "print(len(otoy_test))\n",
        "\n",
        "code = [\"A\", \"B\", \"C\", \"D\", \"E\", \"F\", \"G\", \"H\", \"I\", \"J\", \"K\", \"L\", \"M\", \"N\",\n",
        "        \"O\", \"P\", \"Q\", \"R\", \"S\", \"T\", \"U\", \"V\", \"W\", \"X\", \"Y\", \"Z\", \"AA\", \"AB\",\n",
        "        \"AC\", \"AD\", \"AE\", \"AF\"]\n",
        "\n",
        "otoy_test = otoy_test.sort_values('year')\n",
        "otoy_test['code'] = code"
      ],
      "execution_count": 21,
      "outputs": [
        {
          "output_type": "stream",
          "text": [
            "32\n"
          ],
          "name": "stdout"
        }
      ]
    },
    {
      "cell_type": "code",
      "metadata": {
        "id": "FlQFVAsRnZKS"
      },
      "source": [
        "# Create a Master DataFrame for the toy example (doi, gender, year, code)\n",
        "\n",
        "cb = cb[['citing_doi', 'cited_doi']]\n",
        "toytest = pd.merge(otoy_test, cb, left_on='paper', right_on='citing_doi',\n",
        "                   how='left').drop(['citing_doi'], axis=1)\n",
        "toytest.columns = ['paper', 'pgender', 'pyear', 'pcode', 'cited_doi']\n",
        "toytest = toytest.merge(rhom, left_on='cited_doi', right_on='paper',\n",
        "                        how='inner').drop(['cited_doi'], axis=1)\n",
        "toytest.columns = ['paper', 'pgender', 'pyear', 'pcode', 'reference', 'rgender',\n",
        "                   'ryear']\n",
        "toytest = toytest.merge(otoy_test, left_on='reference', right_on='paper',\n",
        "                        how='inner').drop(['paper_y', 'gender', 'year'], axis=1)\n",
        "toytest.columns = ['paper', 'pgender', 'pyear', 'pcode', 'reference', 'rgender',\n",
        "                   'ryear', 'rcode']\n",
        "\n",
        "toytest = toytest[toytest['reference'].isin(otoy_test.paper)]\n",
        "\n",
        "toytest['count'] = toytest.groupby('reference')['reference'].transform('count')\n",
        "toytest.sort_values(\"count\", axis = 0, ascending = True, inplace = True,\n",
        "                    na_position ='first')"
      ],
      "execution_count": 22,
      "outputs": []
    },
    {
      "cell_type": "code",
      "metadata": {
        "id": "VnCp2kaInZMr"
      },
      "source": [
        "# Calculate the frequency of the appearance of the reference for similarity\n",
        "\n",
        "cb = cb[['citing_doi', 'cited_doi']]\n",
        "toy = pd.merge(otoy, cb, left_on='doi', right_on='citing_doi',\n",
        "               how='left').drop(['citing_doi'], axis=1)\n",
        "toy.columns = ['paper', 'reference']\n",
        "toy = toy[toy['reference'].isin(otoy.doi)]\n",
        "\n",
        "toy['count'] = toy.groupby('reference')['reference'].transform('count')\n",
        "toy.sort_values(\"count\", axis = 0, ascending = True, inplace = True,\n",
        "                na_position ='first')"
      ],
      "execution_count": 23,
      "outputs": []
    },
    {
      "cell_type": "code",
      "metadata": {
        "id": "Ba_vJqKcnZO1"
      },
      "source": [
        "# Run the exactly identical similarity algorithm introduced earlier\n",
        "\n",
        "toy_s={key:toy[toy['count']==key] for key in toy['count'].unique()}\n",
        "\n",
        "toyy = {}\n",
        "tunique_list = {}\n",
        "for key, sub_toy_s in toy_s.items():\n",
        "  cbt = sub_toy_s\n",
        "  from_doi = cbt[\"paper\"]\n",
        "  to_doi = cbt[\"reference\"]\n",
        "\n",
        "  tunique_list[key] = len(to_doi.unique())\n",
        "\n",
        "  parent = {}\n",
        "  for ref in to_doi.unique():\n",
        "    parent[ref] = []\n",
        "  for a, b in zip(from_doi, to_doi):\n",
        "    parent[b].append(a)\n",
        "\n",
        "  pair_count = {}\n",
        "  for l in parent.values():\n",
        "    for tp in comb(sorted(l), 2):\n",
        "      if tp in pair_count:\n",
        "        pair_count[tp] += 1\n",
        "      else:\n",
        "        pair_count[tp] = 1\n",
        "  dfc = []\n",
        "  for p, value in pair_count.items():\n",
        "    dfc.append([p[0], p[1], value])\n",
        "  dfc = pd.DataFrame(dfc, columns=['paper1', 'paper2', 'common'])\n",
        "  toyy[key] = dfc\n",
        "\n",
        "freq = {}\n",
        "\n",
        "for key, tables in toyy.items():\n",
        "  ftable = toy_s[key].groupby([\"paper\"]).size().reset_index(name='frequency')\n",
        "  freq[key] = ftable\n",
        "\n",
        "fin = {}\n",
        "for key, tables in toyy.items():\n",
        "  if len(tables) > 0:\n",
        "    tcount = freq[key]\n",
        "    final_table = tables.merge(tcount, left_on='paper1', right_on='paper')\n",
        "    final_table = final_table.merge(tcount, left_on='paper2', right_on='paper')\n",
        "    final_table = final_table.drop(['paper_x', 'paper_y'], axis=1)\n",
        "    \n",
        "    fin[key] = final_table\n",
        "\n",
        "H_func = scipy.stats.hypergeom.pmf\n",
        "\n",
        "for key, table in fin.items():\n",
        "  qval = []\n",
        "  _dp = {}\n",
        "  nbk = tunique_list[key]\n",
        "\n",
        "  for i, r in table.iterrows():\n",
        "    Hs = []\n",
        "    di, dj = r['frequency_x'], r['frequency_y']\n",
        "    nijk = r['common']\n",
        "\n",
        "    for X in range(nijk):\n",
        "      _ref = (X, nbk, di, dj)\n",
        "      if _ref in _dp:\n",
        "        H = _dp[_ref]\n",
        "      else:\n",
        "        H = H_func(X, nbk, di, dj)\n",
        "        _dp[_ref] = H\n",
        "      Hs.append(H)\n",
        "\n",
        "    qval.append(1-sum(Hs))\n",
        "\n",
        "  fin[key]['qval'] = qval\n",
        "\n",
        "df = pd.concat(fin.values())\n",
        "df.groupby(['paper1', 'paper2']).size()\n",
        "df = df.sort_values(['paper1', 'paper2'])\n",
        "\n",
        "dff = df.drop([\"common\", \"frequency_x\", \"frequency_y\"],\n",
        "              axis=1).sort_values([\"paper1\", \"paper2\",\n",
        "                                   \"qval\"]).reset_index(drop=True)\n",
        "dff_min = dff.groupby([\"paper1\", \"paper2\"], as_index=False).min()\n",
        "dff_min_qval = np.array(dff_min['qval'])\n",
        "\n",
        "cb['pair'] = \"(\" + cb[\"citing_doi\"] + \", \" + cb[\"cited_doi\"] + \")\"\n",
        "cb['pair2'] = \"(\" + cb[\"cited_doi\"] + \", \" + cb[\"citing_doi\"] + \")\"\n",
        "\n",
        "pairs = \"(\" + dff_min[\"paper1\"] + \", \" + dff_min[\"paper2\"] + \")\"\n",
        "dff_min['k'] = pairs.isin(cb.pair) | pairs.isin(cb.pair2)\n",
        "\n",
        "dff_min = dff_min.merge(rhom, left_on='paper1', right_on='paper', how='inner')\n",
        "dff_min = dff_min.drop(['paper'], axis=1)\n",
        "dff_min = dff_min.rename({'gender': 'gender1', 'year': 'year1'}, axis=1)\n",
        "\n",
        "dff_min = dff_min.merge(rhom, left_on='paper2', right_on='paper', how='inner')\n",
        "dff_min = dff_min.drop(['paper'], axis=1)\n",
        "dff_min = dff_min.rename({'gender': 'gender2', 'year': 'year2'}, axis=1)\n",
        "\n",
        "cols = ['paper1', 'gender1', 'year1', 'paper2', 'gender2', 'year2', 'qval', 'k']\n",
        "\n",
        "dff_min = dff_min.reindex(columns=cols)\n",
        "\n",
        "df_test = dff_min.merge(otoy_test, left_on = 'paper1', right_on = 'paper',\n",
        "                        how='inner').drop(['paper', 'gender', 'year'], axis=1)\n",
        "df_test.columns = ['paper1', 'gender1', 'year1', 'paper2', 'gender2', 'year2',\n",
        "                   'qval', 'k', 'code1']\n",
        "\n",
        "df_test = df_test.merge(otoy_test, left_on = 'paper2', right_on = 'paper',\n",
        "                        how='inner').drop(['paper', 'gender', 'year'], axis=1)\n",
        "df_test.columns = ['paper1', 'gender1', 'year1', 'paper2', 'gender2', 'year2',\n",
        "                   'qval', 'k', 'code1', 'code2']"
      ],
      "execution_count": 24,
      "outputs": []
    },
    {
      "cell_type": "code",
      "metadata": {
        "colab": {
          "base_uri": "https://localhost:8080/"
        },
        "id": "C2-Dd7funZRY",
        "outputId": "71fcf542-d8bf-443b-b15b-ecf37560da42"
      },
      "source": [
        "homn = dff_min\n",
        "\n",
        "homn_qval = np.array(homn['qval'])\n",
        "\n",
        "plist = np.unique(homn_qval)\n",
        "klist = []\n",
        "mlist = []\n",
        "\n",
        "for pstar in tqdm(plist):\n",
        "    result = homn_qval < pstar\n",
        "    sim = homn[result]\n",
        "    mlist.append(len(sim))\n",
        "    klist.append(sum(sim[\"k\"]))"
      ],
      "execution_count": 25,
      "outputs": [
        {
          "output_type": "stream",
          "text": [
            "100%|██████████| 7/7 [00:00<00:00, 405.12it/s]\n"
          ],
          "name": "stderr"
        }
      ]
    },
    {
      "cell_type": "code",
      "metadata": {
        "colab": {
          "base_uri": "https://localhost:8080/",
          "height": 313
        },
        "id": "3h-FpOtZngfT",
        "outputId": "edf9119d-63f6-4799-d99a-257b2914737a"
      },
      "source": [
        "# Find K(p*) and M(p*)\n",
        "\n",
        "plt.plot(plist, klist)\n",
        "plt.plot(plist, mlist)\n",
        "\n",
        "plt.title('Toy')\n",
        "plt.legend(['K(p*)', 'M(p*)'], loc='upper left')\n",
        "plt.xlabel(\"p*\")\n",
        "# plt.xlim(0,0.01)\n",
        "plt.ylabel(\"count\")\n",
        "# plt.ylim(0,1500)"
      ],
      "execution_count": 26,
      "outputs": [
        {
          "output_type": "execute_result",
          "data": {
            "text/plain": [
              "Text(0, 0.5, 'count')"
            ]
          },
          "metadata": {
            "tags": []
          },
          "execution_count": 26
        },
        {
          "output_type": "display_data",
          "data": {
            "image/png": "[encoded data removed]",
            "text/plain": [
              "<Figure size 432x288 with 1 Axes>"
            ]
          },
          "metadata": {
            "tags": [],
            "needs_background": "light"
          }
        }
      ]
    },
    {
      "cell_type": "code",
      "metadata": {
        "colab": {
          "base_uri": "https://localhost:8080/",
          "height": 349
        },
        "id": "MXWUevEfngji",
        "outputId": "bc58eab4-afba-4b90-a182-b7b9a13a1665"
      },
      "source": [
        "# Find P(p*)\n",
        "\n",
        "plt.plot(plist, np.array(klist)/np.array(mlist))\n",
        "\n",
        "plt.title('Toy')\n",
        "# plt.legend(['total', 'paired'], loc='upper right')\n",
        "plt.xlabel(\"p*\")\n",
        "# plt.xlim(0.2,0.4)\n",
        "plt.ylabel(\"P(p*)\")\n",
        "# plt.ylim(ymin=0, ymax=0.0002)"
      ],
      "execution_count": 27,
      "outputs": [
        {
          "output_type": "stream",
          "text": [
            "/usr/local/lib/python3.7/dist-packages/ipykernel_launcher.py:3: RuntimeWarning: invalid value encountered in true_divide\n",
            "  This is separate from the ipykernel package so we can avoid doing imports until\n"
          ],
          "name": "stderr"
        },
        {
          "output_type": "execute_result",
          "data": {
            "text/plain": [
              "Text(0, 0.5, 'P(p*)')"
            ]
          },
          "metadata": {
            "tags": []
          },
          "execution_count": 27
        },
        {
          "output_type": "display_data",
          "data": {
            "image/png": "[encoded data removed]",
            "text/plain": [
              "<Figure size 432x288 with 1 Axes>"
            ]
          },
          "metadata": {
            "tags": [],
            "needs_background": "light"
          }
        }
      ]
    },
    {
      "cell_type": "markdown",
      "metadata": {
        "id": "UjGNM-FNfS17"
      },
      "source": [
        "## Pairwise Count (Future Works)"
      ]
    },
    {
      "cell_type": "code",
      "metadata": {
        "id": "dDvzEYd_Q8Bs"
      },
      "source": [
        "# Create a DataFrame: citing_doi, citing_year, cited_doi\n",
        "\n",
        "## NOTE THAT: citing_year is not used in this paper but is extracted anyway\n",
        "##            for convenience, in case future projects want to apply restriction\n",
        "##            on publication year\n",
        "\n",
        "dc = data[[\"doi\", \"year\"]].drop_duplicates(subset = 'doi')\n",
        "dc = dc.merge(cb, left_on = 'doi', right_on = 'citing_doi', how = 'inner')\n",
        "dc = dc.drop(['doi'], axis=1)\n",
        "dc = dc.rename({'year': 'citing_year'}, axis=1)\n",
        "\n",
        "cols = ['citing_doi', 'citing_year', 'cited_doi']\n",
        "dc = dc.reindex(columns=cols).sort_values('cited_doi')"
      ],
      "execution_count": null,
      "outputs": []
    },
    {
      "cell_type": "code",
      "metadata": {
        "id": "yoAqGsluEHrP"
      },
      "source": [
        "# Observe pairs with different primary author gender\n",
        "\n",
        "hom_mf = homn[homn[\"gender1\"] != homn[\"gender2\"]].reset_index(drop=True)\n",
        "\n",
        "test = hom_mf.merge(dc, left_on = 'paper1', right_on = 'cited_doi',\n",
        "                    how = 'left')\n",
        "test = test.drop([\"cited_doi\", \"citing_year\"], axis=1).drop_duplicates(\n",
        "    subset=['paper1', 'citing_doi'])\n",
        "test['count'] = test.groupby(['paper1'])['paper1'].transform('count')\n",
        "test = test.drop([\"citing_doi\"], axis=1)\n",
        "test = test.rename({'count': 'count1'}, axis=1)\n",
        "\n",
        "test = test.drop_duplicates(subset=['paper1', 'paper2']).drop(\n",
        "    ['gender1', 'year1', 'paper2', 'gender2', 'year2', 'qval', 'k'], axis=1)\n",
        "hom_mf = hom_mf.merge(test, on='paper1', how='inner')\n",
        "\n",
        "test = hom_mf.merge(dc, left_on = 'paper2',\n",
        "                    right_on = 'cited_doi', how = 'left')\n",
        "test = test.drop([\"cited_doi\", \"citing_year\"], axis=1).drop_duplicates(\n",
        "    subset=['paper2', 'citing_doi'])\n",
        "test['count'] = test.groupby(['paper2'])['paper2'].transform('count')\n",
        "test = test.drop([\"citing_doi\"], axis=1)\n",
        "test = test.rename({'count': 'count2'}, axis=1)\n",
        "\n",
        "test = test.drop_duplicates(subset=['paper1', 'paper2']).drop(\n",
        "    ['gender1', 'year1', 'paper1', 'gender2', 'count1', 'year2',\n",
        "     'qval', 'k'], axis=1)\n",
        "hom_mf = hom_mf.merge(test, on='paper2', how='inner')"
      ],
      "execution_count": null,
      "outputs": []
    },
    {
      "cell_type": "code",
      "metadata": {
        "id": "GBhg0WNHfatC"
      },
      "source": [
        "# Calculate c_d (male citation count - female citation count)\n",
        "\n",
        "listd = []\n",
        "\n",
        "for c in range(len(hom_mf)):\n",
        "  if hom_mf['gender1'][c] == 'male':\n",
        "    listd.append(hom_mf['count1'][c] - hom_mf['count2'][c])\n",
        "  else:\n",
        "    listd.append(hom_mf['count2'][c] - hom_mf['count1'][c])\n",
        "\n",
        "hom_mf['countd'] = listd"
      ],
      "execution_count": null,
      "outputs": []
    },
    {
      "cell_type": "code",
      "metadata": {
        "id": "o1CFA4Vdfgsm"
      },
      "source": [
        "# Extract subDataFrame with q-value less than p threshold\n",
        "\n",
        "p = 0.002 # Select p thresholds with listed numbers in the paper\n",
        "\n",
        "homp = hom_mf[hom_mf['qval'] < p].sort_values('countd').reset_index(drop=True)\n",
        "\n",
        "mlist = []\n",
        "fmlist = []\n",
        "\n",
        "for i in range(len(homp)):\n",
        "  if homp['gender1'][i] == 'male':\n",
        "    mlist.append(homp['count1'][i])\n",
        "    fmlist.append(homp['count2'][i])\n",
        "  else:\n",
        "    mlist.append(homp['count2'][i])\n",
        "    fmlist.append(homp['count1'][i])\n",
        "\n",
        "# Find the standard deviation\n",
        "sd = math.sqrt((np.std(mlist) ** 2 + np.std(fmlist) ** 2)/len(homp))\n",
        "\n",
        "# Find z-scores (for p-values)\n",
        "print((np.mean(mlist)-np.mean(fmlist))/sd)"
      ],
      "execution_count": null,
      "outputs": []
    },
    {
      "cell_type": "code",
      "metadata": {
        "id": "O9nLldXBt6xp"
      },
      "source": [
        ""
      ],
      "execution_count": null,
      "outputs": []
    }
  ]
}