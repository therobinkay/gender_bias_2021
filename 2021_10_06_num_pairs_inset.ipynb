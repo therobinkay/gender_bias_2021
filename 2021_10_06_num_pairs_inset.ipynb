{
  "nbformat": 4,
  "nbformat_minor": 5,
  "metadata": {
    "kernelspec": {
      "display_name": "Python 3",
      "language": "python",
      "name": "python3"
    },
    "language_info": {
      "codemirror_mode": {
        "name": "ipython",
        "version": 3
      },
      "file_extension": ".py",
      "mimetype": "text/x-python",
      "name": "python",
      "nbconvert_exporter": "python",
      "pygments_lexer": "ipython3",
      "version": "3.7.6"
    },
    "colab": {
      "name": "2021_10_06_num_pairs_inset.ipynb",
      "provenance": [],
      "include_colab_link": true
    }
  },
  "cells": [
    {
      "cell_type": "markdown",
      "metadata": {
        "id": "view-in-github",
        "colab_type": "text"
      },
      "source": [
        "<a href=\"https://colab.research.google.com/github/therobinkay/gender_bias_2021/blob/main/2021_10_06_num_pairs_inset.ipynb\" target=\"_parent\"><img src=\"https://colab.research.google.com/assets/colab-badge.svg\" alt=\"Open In Colab\"/></a>"
      ]
    },
    {
      "cell_type": "code",
      "metadata": {
        "id": "81cf8aa4"
      },
      "source": [
        "import numpy as np\n",
        "import matplotlib.pyplot as plt\n",
        "from mpl_toolkits.axes_grid1.inset_locator import mark_inset, inset_axes"
      ],
      "id": "81cf8aa4",
      "execution_count": null,
      "outputs": []
    },
    {
      "cell_type": "code",
      "metadata": {
        "id": "faa3eb11",
        "outputId": "3ae81c1b-7684-471a-f6e4-607656a8f1d8"
      },
      "source": [
        "## Load data\n",
        "y_lst = []\n",
        "n_lst = []\n",
        "with open(\"../data/se_count.csv\",\"r\") as f:\n",
        "    print (next(f))\n",
        "    for l in f.readlines():\n",
        "        l_lst = l.split(\",\")\n",
        "        y_lst.append(int(l_lst[0]))\n",
        "        n_lst.append(int(l_lst[1]))"
      ],
      "id": "faa3eb11",
      "execution_count": null,
      "outputs": [
        {
          "name": "stdout",
          "output_type": "stream",
          "text": [
            "year,count\n",
            "\n"
          ]
        }
      ]
    },
    {
      "cell_type": "code",
      "metadata": {
        "id": "595f71a6",
        "outputId": "b60c03ec-2a07-45ec-fba1-e30e1940f4a9"
      },
      "source": [
        "## Create small figure so typography is scaled up\n",
        "plt.figure(figsize=(.5*8,.5*6))\n",
        "\n",
        "ax = plt.axes()\n",
        "plt.plot(y_lst[3:], n_lst[3:], \"-o\",color=\"k\")\n",
        "\n",
        "## I force the lower xlim to be a bit smaller than the one of the inset axis so that the full rectangle is seen\n",
        "## I think this was the problem with the strange lines in your zoomed inset\n",
        "plt.xlim(1985,2010)\n",
        "\n",
        "plt.xlabel(\"Year\")\n",
        "plt.ylabel(\"Count\")\n",
        "\n",
        "ax.spines['right'].set_visible(False)\n",
        "ax.spines['top'].set_visible(False)\n",
        "\n",
        "## Create inset axis\n",
        "axins = inset_axes(ax, \n",
        "                   width=\"70%\",\n",
        "                   height=\"70%\", \n",
        "                   bbox_to_anchor=(-.00, .3, .6, .7),\n",
        "                   bbox_transform=ax.transAxes)\n",
        "plt.sca(axins) ## sca=set current axes\n",
        "\n",
        "plt.plot(y_lst[3:9], n_lst[3:9], \"-o\",color=\"k\")\n",
        "\n",
        "## ylim and xlim will control both the span of the inset axes and the rectangle drawn in main axes\n",
        "plt.ylim(0,350)\n",
        "plt.xlim(1985.5,1991.5)\n",
        "\n",
        "plt.xticks([1986,1988,1990],rotation=45) ## note the rotation\n",
        "plt.locator_params(axis='y', nbins=4)\n",
        "\n",
        "## Tool to mark the zoomed part\n",
        "mark_inset(ax, axins, \n",
        "           loc1=2, loc2=4, \n",
        "           fc=\"none\", \n",
        "           ec=\"0.5\",\n",
        "           zorder=0,\n",
        "          lw=1)\n",
        "\n",
        "plt.tight_layout()\n",
        "\n",
        "# plt.savefig(\"../figures/count_sampled_pairs.pdf\",transparent=True)\n",
        "# plt.savefig(\"../figures/count_sampled_pairs.eps\",transparent=True)\n",
        "# plt.savefig(\"../figures/count_sampled_pairs.png\",transparent=True,dpi=600)\n",
        "plt.show()"
      ],
      "id": "595f71a6",
      "execution_count": null,
      "outputs": [
        {
          "name": "stderr",
          "output_type": "stream",
          "text": [
            "C:\\Users\\gsc\\Anaconda3\\lib\\site-packages\\ipykernel_launcher.py:42: UserWarning: This figure includes Axes that are not compatible with tight_layout, so results might be incorrect.\n"
          ]
        },
        {
          "data": {
            "image/png": "[encoded data removed]",
            "text/plain": [
              "<Figure size 288x216 with 2 Axes>"
            ]
          },
          "metadata": {
            "needs_background": "light"
          },
          "output_type": "display_data"
        }
      ]
    },
    {
      "cell_type": "code",
      "metadata": {
        "id": "4d94941a"
      },
      "source": [
        ""
      ],
      "id": "4d94941a",
      "execution_count": null,
      "outputs": []
    }
  ]
}