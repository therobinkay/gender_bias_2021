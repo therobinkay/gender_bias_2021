{
  "nbformat": 4,
  "nbformat_minor": 0,
  "metadata": {
    "colab": {
      "name": "Journal Analysis 1 (GitHub)",
      "provenance": [],
      "collapsed_sections": [
        "-1GbVs6QSs1-",
        "Xg3b_eYxE_O9",
        "zBF0NSSIE_n_",
        "DVoglDodE_78",
        "DfrbUoNgQKVS",
        "-QY-g6b6j9pW"
      ],
      "machine_shape": "hm",
      "include_colab_link": true
    },
    "kernelspec": {
      "name": "python3",
      "display_name": "Python 3"
    }
  },
  "cells": [
    {
      "cell_type": "markdown",
      "metadata": {
        "id": "view-in-github",
        "colab_type": "text"
      },
      "source": [
        "<a href=\"https://colab.research.google.com/github/therobinkay/gender_bias_2021/blob/main/Journal_Analysis_1_(GitHub).ipynb\" target=\"_parent\"><img src=\"https://colab.research.google.com/assets/colab-badge.svg\" alt=\"Open In Colab\"/></a>"
      ]
    },
    {
      "cell_type": "code",
      "metadata": {
        "id": "8OfzAmkpGOjF"
      },
      "source": [
        "# import all necessary packages\n",
        "\n",
        "import io\n",
        "import pandas as pd\n",
        "import os\n",
        "import itertools\n",
        "import numpy as np\n",
        "import scipy.stats\n",
        "import time\n",
        "\n",
        "import matplotlib.pyplot as plt\n",
        "import seaborn as sns\n",
        "\n",
        "from tqdm import tqdm\n",
        "\n",
        "import networkx as nx\n",
        "import random\n",
        "\n",
        "import math"
      ],
      "execution_count": null,
      "outputs": []
    },
    {
      "cell_type": "code",
      "metadata": {
        "id": "Oa0lz0WxQJTD",
        "colab": {
          "base_uri": "https://localhost:8080/"
        },
        "outputId": "6dcf69b8-ac36-46bb-d08b-8f8f301f20a5"
      },
      "source": [
        "from google.colab import drive\n",
        "drive.mount('/content/drive/')"
      ],
      "execution_count": null,
      "outputs": [
        {
          "output_type": "stream",
          "name": "stdout",
          "text": [
            "Mounted at /content/drive/\n"
          ]
        }
      ]
    },
    {
      "cell_type": "code",
      "metadata": {
        "id": "Z1wT51OXQJCJ"
      },
      "source": [
        "!cd \"drive/My Drive\""
      ],
      "execution_count": null,
      "outputs": []
    },
    {
      "cell_type": "code",
      "metadata": {
        "id": "oh34V3C2xV0h"
      },
      "source": [
        "# read all necessary .csv files\n",
        "\n",
        "data = pd.read_csv(\"drive/My Drive/codes/data.csv\")\n",
        "dp = pd.read_csv(\"drive/My Drive/codes/doipacs.csv\")\n",
        "cdata = pd.read_csv('drive/My Drive/codes/cdata.csv')\n",
        "cb = pd.read_csv(\"drive/My Drive/codes/citationBara.csv\")\n",
        "cen = pd.read_csv(\"drive/My Drive/codes/cen.csv\")"
      ],
      "execution_count": null,
      "outputs": []
    },
    {
      "cell_type": "code",
      "metadata": {
        "colab": {
          "base_uri": "https://localhost:8080/"
        },
        "id": "esY0bazyk1lD",
        "outputId": "6a68df61-f3e3-46e3-fd9f-c80c66ae783c"
      },
      "source": [
        "prim = data[data['is_alpha'] == False]\n",
        "prim = prim[prim['order'] == 1]\n",
        "print(len(data))\n",
        "print(len(prim))"
      ],
      "execution_count": null,
      "outputs": [
        {
          "output_type": "stream",
          "text": [
            "531316\n",
            "149627\n"
          ],
          "name": "stdout"
        }
      ]
    },
    {
      "cell_type": "markdown",
      "metadata": {
        "id": "houN_SJKGhco"
      },
      "source": [
        "# Analyses\n"
      ]
    },
    {
      "cell_type": "markdown",
      "metadata": {
        "id": "TaqnsYSSJibt"
      },
      "source": [
        "## 0. Participation Growth"
      ]
    },
    {
      "cell_type": "code",
      "metadata": {
        "colab": {
          "base_uri": "https://localhost:8080/",
          "height": 204
        },
        "id": "eILm7R_lwiQC",
        "outputId": "a59dc10e-f4e6-485b-d1c2-3aea4010c5a6"
      },
      "source": [
        "data.head()"
      ],
      "execution_count": null,
      "outputs": [
        {
          "output_type": "execute_result",
          "data": {
            "text/html": [
              "<div>\n",
              "<style scoped>\n",
              "    .dataframe tbody tr th:only-of-type {\n",
              "        vertical-align: middle;\n",
              "    }\n",
              "\n",
              "    .dataframe tbody tr th {\n",
              "        vertical-align: top;\n",
              "    }\n",
              "\n",
              "    .dataframe thead th {\n",
              "        text-align: right;\n",
              "    }\n",
              "</style>\n",
              "<table border=\"1\" class=\"dataframe\">\n",
              "  <thead>\n",
              "    <tr style=\"text-align: right;\">\n",
              "      <th></th>\n",
              "      <th>doi</th>\n",
              "      <th>id</th>\n",
              "      <th>gender</th>\n",
              "      <th>order</th>\n",
              "      <th>numAuthor</th>\n",
              "      <th>is_last</th>\n",
              "      <th>is_alpha</th>\n",
              "      <th>year</th>\n",
              "      <th>articleType</th>\n",
              "      <th>journal</th>\n",
              "    </tr>\n",
              "  </thead>\n",
              "  <tbody>\n",
              "    <tr>\n",
              "      <th>0</th>\n",
              "      <td>10.1103/PhysRevSeriesI.17.267</td>\n",
              "      <td>127898</td>\n",
              "      <td>male</td>\n",
              "      <td>2</td>\n",
              "      <td>2</td>\n",
              "      <td>True</td>\n",
              "      <td>False</td>\n",
              "      <td>1903</td>\n",
              "      <td>article</td>\n",
              "      <td>PRI</td>\n",
              "    </tr>\n",
              "    <tr>\n",
              "      <th>1</th>\n",
              "      <td>10.1103/PhysRev.5.269</td>\n",
              "      <td>127898</td>\n",
              "      <td>male</td>\n",
              "      <td>3</td>\n",
              "      <td>3</td>\n",
              "      <td>True</td>\n",
              "      <td>False</td>\n",
              "      <td>1915</td>\n",
              "      <td>article</td>\n",
              "      <td>PR</td>\n",
              "    </tr>\n",
              "    <tr>\n",
              "      <th>2</th>\n",
              "      <td>10.1103/PhysRevSeriesI.16.279</td>\n",
              "      <td>127898</td>\n",
              "      <td>male</td>\n",
              "      <td>2</td>\n",
              "      <td>2</td>\n",
              "      <td>True</td>\n",
              "      <td>False</td>\n",
              "      <td>1903</td>\n",
              "      <td>article</td>\n",
              "      <td>PRI</td>\n",
              "    </tr>\n",
              "    <tr>\n",
              "      <th>3</th>\n",
              "      <td>10.1103/PhysRevSeriesI.16.279</td>\n",
              "      <td>59048</td>\n",
              "      <td>male</td>\n",
              "      <td>1</td>\n",
              "      <td>2</td>\n",
              "      <td>False</td>\n",
              "      <td>False</td>\n",
              "      <td>1903</td>\n",
              "      <td>article</td>\n",
              "      <td>PRI</td>\n",
              "    </tr>\n",
              "    <tr>\n",
              "      <th>4</th>\n",
              "      <td>10.1103/PhysRevSeriesI.5.294</td>\n",
              "      <td>9710</td>\n",
              "      <td>male</td>\n",
              "      <td>1</td>\n",
              "      <td>2</td>\n",
              "      <td>False</td>\n",
              "      <td>False</td>\n",
              "      <td>1897</td>\n",
              "      <td>article</td>\n",
              "      <td>PRI</td>\n",
              "    </tr>\n",
              "  </tbody>\n",
              "</table>\n",
              "</div>"
            ],
            "text/plain": [
              "                             doi      id gender  ...  year  articleType  journal\n",
              "0  10.1103/PhysRevSeriesI.17.267  127898   male  ...  1903      article      PRI\n",
              "1          10.1103/PhysRev.5.269  127898   male  ...  1915      article       PR\n",
              "2  10.1103/PhysRevSeriesI.16.279  127898   male  ...  1903      article      PRI\n",
              "3  10.1103/PhysRevSeriesI.16.279   59048   male  ...  1903      article      PRI\n",
              "4   10.1103/PhysRevSeriesI.5.294    9710   male  ...  1897      article      PRI\n",
              "\n",
              "[5 rows x 10 columns]"
            ]
          },
          "metadata": {
            "tags": []
          },
          "execution_count": 5
        }
      ]
    },
    {
      "cell_type": "code",
      "metadata": {
        "id": "c9GSPIo2Jgpa"
      },
      "source": [
        "data_male = data[data['gender'] == 'male']\n",
        "data_female = data[data['gender'] == 'female']\n",
        "\n",
        "plot_m = data_male[['order', 'year']].sort_values(by=['year', 'order'])\n",
        "plot_fm = data_female[['order', 'year']].sort_values(by=['year', 'order'])"
      ],
      "execution_count": null,
      "outputs": []
    },
    {
      "cell_type": "code",
      "metadata": {
        "id": "8pac9sHvCaqh"
      },
      "source": [
        "plt.style.use('seaborn-deep')\n",
        "\n",
        "# bins = np.linspace(1980, 2010, 50)\n",
        "\n",
        "plt.hist([plot_m['year'],plot_fm['year']], bins=50, label=['male', 'female'], color=('blue','orange'))\n",
        "plt.yscale('log')\n",
        "plt.legend(loc='upper left')\n",
        "plt.title('Participation by Publication Year')\n",
        "plt.xlabel('Publication Year')\n",
        "# plt.ylabel('Participation Rate')\n",
        "plt.ylabel('log(count)')\n",
        "plt.show()"
      ],
      "execution_count": null,
      "outputs": []
    },
    {
      "cell_type": "code",
      "metadata": {
        "id": "8Ez2sYwRut_n"
      },
      "source": [
        "plt.style.use('seaborn-deep')\n",
        "\n",
        "plot_mp = plot_m[plot_m['order'] == 1]\n",
        "\n",
        "plt.hist([plot_m['year'],plot_mp['year']], bins=50, label=['Total', 'Primary'], color=('blue','GREEN'))\n",
        "plt.yscale('log')\n",
        "plt.legend(loc='upper left')\n",
        "plt.title('Male Participation by Publication Year')\n",
        "plt.xlabel('Publication Year')\n",
        "# plt.ylabel('Participation Rate')\n",
        "plt.ylabel('log(count)')\n",
        "plt.show()"
      ],
      "execution_count": null,
      "outputs": []
    },
    {
      "cell_type": "code",
      "metadata": {
        "id": "0YFcmQqnvYKv"
      },
      "source": [
        "plt.style.use('seaborn-deep')\n",
        "\n",
        "plot_fmp = plot_fm[plot_fm['order'] == 1]\n",
        "\n",
        "plt.hist([plot_fm['year'],plot_fmp['year']], bins=50, label=['Total', 'Primary'], color=('orange','red'))\n",
        "plt.yscale('log')\n",
        "plt.legend(loc='upper left')\n",
        "plt.title('Female Participation by Publication Year')\n",
        "plt.xlabel('Publication Year')\n",
        "# plt.ylabel('Participation Rate')\n",
        "plt.ylabel('log(count)')\n",
        "plt.show()"
      ],
      "execution_count": null,
      "outputs": []
    },
    {
      "cell_type": "code",
      "metadata": {
        "id": "XlD824H6vgtZ"
      },
      "source": [
        "plt.style.use('seaborn-deep')\n",
        "\n",
        "plt.hist([plot_mp['year'],plot_fmp['year']], bins=50, label=['Male', 'Female'], color=('green','red'))\n",
        "plt.yscale('log')\n",
        "plt.legend(loc='upper left')\n",
        "plt.title('Primary Participation by Publication Year')\n",
        "plt.xlabel('Publication Year')\n",
        "# plt.ylabel('Participation Rate')\n",
        "plt.ylabel('log(count)')\n",
        "plt.show()"
      ],
      "execution_count": null,
      "outputs": []
    },
    {
      "cell_type": "code",
      "metadata": {
        "id": "CeaeQZd8xjmT"
      },
      "source": [
        "bardata = data[['order', 'year', 'gender']].sort_values(by=['year', 'order']).reset_index(drop=True)\n",
        "bardata.groupby(['year', 'gender']).size().unstack().plot.bar(stacked=True, logy=True)"
      ],
      "execution_count": null,
      "outputs": []
    },
    {
      "cell_type": "code",
      "metadata": {
        "colab": {
          "base_uri": "https://localhost:8080/",
          "height": 238
        },
        "id": "cYtAcAP4MSy2",
        "outputId": "6a6d759a-c578-4c9d-b389-7bbe6d639730"
      },
      "source": [
        "testdata = data\n",
        "print(len(testdata))\n",
        "\n",
        "testdata.sort_values(\"id\", inplace = True) \n",
        "\n",
        "testdata.drop_duplicates(subset = [\"id\", \"year\"], \n",
        "                     keep = \"first\", inplace = True)\n",
        "\n",
        "print(len(testdata))\n",
        "testdata.head()"
      ],
      "execution_count": null,
      "outputs": [
        {
          "output_type": "stream",
          "name": "stdout",
          "text": [
            "318489\n",
            "318489\n"
          ]
        },
        {
          "output_type": "execute_result",
          "data": {
            "text/html": [
              "<div>\n",
              "<style scoped>\n",
              "    .dataframe tbody tr th:only-of-type {\n",
              "        vertical-align: middle;\n",
              "    }\n",
              "\n",
              "    .dataframe tbody tr th {\n",
              "        vertical-align: top;\n",
              "    }\n",
              "\n",
              "    .dataframe thead th {\n",
              "        text-align: right;\n",
              "    }\n",
              "</style>\n",
              "<table border=\"1\" class=\"dataframe\">\n",
              "  <thead>\n",
              "    <tr style=\"text-align: right;\">\n",
              "      <th></th>\n",
              "      <th>doi</th>\n",
              "      <th>id</th>\n",
              "      <th>gender</th>\n",
              "      <th>order</th>\n",
              "      <th>numAuthor</th>\n",
              "      <th>is_last</th>\n",
              "      <th>is_alpha</th>\n",
              "      <th>year</th>\n",
              "      <th>articleType</th>\n",
              "      <th>journal</th>\n",
              "    </tr>\n",
              "  </thead>\n",
              "  <tbody>\n",
              "    <tr>\n",
              "      <th>515672</th>\n",
              "      <td>10.1103/PhysRevD.31.3183</td>\n",
              "      <td>3</td>\n",
              "      <td>male</td>\n",
              "      <td>1</td>\n",
              "      <td>2</td>\n",
              "      <td>False</td>\n",
              "      <td>False</td>\n",
              "      <td>1985</td>\n",
              "      <td>article</td>\n",
              "      <td>PRD</td>\n",
              "    </tr>\n",
              "    <tr>\n",
              "      <th>263539</th>\n",
              "      <td>10.1103/PhysRevB.79.184301</td>\n",
              "      <td>6</td>\n",
              "      <td>male</td>\n",
              "      <td>1</td>\n",
              "      <td>3</td>\n",
              "      <td>False</td>\n",
              "      <td>False</td>\n",
              "      <td>2009</td>\n",
              "      <td>article</td>\n",
              "      <td>PRB</td>\n",
              "    </tr>\n",
              "    <tr>\n",
              "      <th>348357</th>\n",
              "      <td>10.1103/PhysRevA.54.5133</td>\n",
              "      <td>7</td>\n",
              "      <td>male</td>\n",
              "      <td>1</td>\n",
              "      <td>3</td>\n",
              "      <td>False</td>\n",
              "      <td>False</td>\n",
              "      <td>1996</td>\n",
              "      <td>article</td>\n",
              "      <td>PRA</td>\n",
              "    </tr>\n",
              "    <tr>\n",
              "      <th>38588</th>\n",
              "      <td>10.1103/PhysRevA.60.450</td>\n",
              "      <td>7</td>\n",
              "      <td>male</td>\n",
              "      <td>1</td>\n",
              "      <td>3</td>\n",
              "      <td>False</td>\n",
              "      <td>False</td>\n",
              "      <td>1999</td>\n",
              "      <td>article</td>\n",
              "      <td>PRA</td>\n",
              "    </tr>\n",
              "    <tr>\n",
              "      <th>205980</th>\n",
              "      <td>10.1103/PhysRevB.44.5487</td>\n",
              "      <td>8</td>\n",
              "      <td>male</td>\n",
              "      <td>1</td>\n",
              "      <td>6</td>\n",
              "      <td>False</td>\n",
              "      <td>False</td>\n",
              "      <td>1991</td>\n",
              "      <td>article</td>\n",
              "      <td>PRB</td>\n",
              "    </tr>\n",
              "  </tbody>\n",
              "</table>\n",
              "</div>"
            ],
            "text/plain": [
              "                               doi  id gender  ...  year  articleType  journal\n",
              "515672    10.1103/PhysRevD.31.3183   3   male  ...  1985      article      PRD\n",
              "263539  10.1103/PhysRevB.79.184301   6   male  ...  2009      article      PRB\n",
              "348357    10.1103/PhysRevA.54.5133   7   male  ...  1996      article      PRA\n",
              "38588      10.1103/PhysRevA.60.450   7   male  ...  1999      article      PRA\n",
              "205980    10.1103/PhysRevB.44.5487   8   male  ...  1991      article      PRB\n",
              "\n",
              "[5 rows x 10 columns]"
            ]
          },
          "metadata": {},
          "execution_count": 50
        }
      ]
    },
    {
      "cell_type": "code",
      "metadata": {
        "colab": {
          "base_uri": "https://localhost:8080/",
          "height": 333
        },
        "id": "Z_EaFvQCMWr-",
        "outputId": "2203ce98-3380-4d54-d3f9-9f16e3354d1c"
      },
      "source": [
        "tdata_m = testdata[testdata['gender'] == 'male']\n",
        "tdata_fm = testdata[testdata['gender'] == 'female']\n",
        "\n",
        "mtdata = tdata_m.groupby(['year'])['year'].count()\n",
        "fmtdata = tdata_fm.groupby(['year'])['year'].count()\n",
        "\n",
        "fig, ax = plt.subplots(figsize=(6,4.5))\n",
        "right_side = ax.spines[\"right\"]\n",
        "top_side = ax.spines[\"top\"]\n",
        "right_side.set_visible(False)\n",
        "top_side.set_visible(False)\n",
        "\n",
        "mtdata.plot(style='.-',color='#67a9cf', lw=3)\n",
        "fmtdata.plot(style='.-',color='#ef8a62', lw=3)\n",
        "\n",
        "# plt.title('Number of Authors by Year (1950-2010)')\n",
        "plt.legend(('male', 'female'), loc='upper left', fontsize=20)\n",
        "plt.xticks(np.arange(1950, 2010, step=10), fontsize=20)\n",
        "# plt.xticks(np.arange(1960, 2010, step=10), fontsize=20)\n",
        "plt.xlabel('Year', fontsize=20)\n",
        "plt.xlim(xmin=1950, xmax=2010)\n",
        "# plt.xlim(xmin=1960, xmax=2010)\n",
        "plt.ylabel('Number of Authors', fontsize=20)\n",
        "plt.yticks(fontsize=20)\n",
        "plt.ylim(ymin=0)\n",
        "# plt.figure(figsize=(10,6))\n",
        "\n",
        "plt.tight_layout()\n",
        "# fig.savefig(f\"drive/My Drive/codes/Figure2_1.pdf\")"
      ],
      "execution_count": null,
      "outputs": [
        {
          "output_type": "display_data",
          "data": {
            "image/png": "[encoded data removed]",
            "text/plain": [
              "<Figure size 432x324 with 1 Axes>"
            ]
          },
          "metadata": {
            "needs_background": "light"
          }
        }
      ]
    },
    {
      "cell_type": "code",
      "metadata": {
        "colab": {
          "base_uri": "https://localhost:8080/",
          "height": 329
        },
        "id": "x0KKwex_MWuP",
        "outputId": "ec73425e-cb74-442e-cfc5-73dccbb431df"
      },
      "source": [
        "(fmtdata/testdata.groupby(['year'])['year'].count()).plot(style='.-', color='black')\n",
        "\n",
        "plt.title('Proportion of Female Authors by Year (1950-2010)')\n",
        "plt.xticks(np.arange(1950, 2010, step=5))\n",
        "plt.xlabel('Year')\n",
        "plt.xlim(xmin=1950, xmax=2010)\n",
        "plt.ylabel('% Female Authors')\n",
        "plt.ylim(ymin=0, ymax = 0.2)\n",
        "plt.figure(figsize=(10,6))"
      ],
      "execution_count": null,
      "outputs": [
        {
          "output_type": "execute_result",
          "data": {
            "text/plain": [
              "<Figure size 720x432 with 0 Axes>"
            ]
          },
          "metadata": {
            "tags": []
          },
          "execution_count": 9
        },
        {
          "output_type": "display_data",
          "data": {
            "image/png": "[encoded data removed]",
            "text/plain": [
              "<Figure size 432x288 with 1 Axes>"
            ]
          },
          "metadata": {
            "tags": [],
            "needs_background": "light"
          }
        },
        {
          "output_type": "display_data",
          "data": {
            "text/plain": [
              "<Figure size 720x432 with 0 Axes>"
            ]
          },
          "metadata": {
            "tags": []
          }
        }
      ]
    },
    {
      "cell_type": "code",
      "metadata": {
        "id": "_6bsVPaaMWwd"
      },
      "source": [
        "primdata = testdata[testdata['order'] == 1]\n",
        "\n",
        "pdata_m = primdata[primdata['gender'] == 'male']\n",
        "pdata_fm = primdata[primdata['gender'] == 'female']\n",
        "\n",
        "mpdata = pdata_m.groupby(['year'])['year'].count()\n",
        "fmpdata = pdata_fm.groupby(['year'])['year'].count()\n",
        "\n",
        "# mpdata.plot(style='.-')\n",
        "# fmpdata.plot(style='.-',color='orange')\n",
        "\n",
        "# plt.title('Number of Primary Authors by Year (1950-2010)')\n",
        "# plt.legend(('male', 'female'), loc='upper left')\n",
        "# plt.xticks(np.arange(1950, 2010, step=5))\n",
        "# plt.xlabel('Year')\n",
        "# plt.xlim(xmin=1950, xmax=2010)\n",
        "# plt.ylabel('Number of Primary Authors')\n",
        "# plt.ylim(ymin=0)\n",
        "# plt.figure(figsize=(10,6))"
      ],
      "execution_count": null,
      "outputs": []
    },
    {
      "cell_type": "code",
      "metadata": {
        "id": "U2FuYdPkI4CI"
      },
      "source": [
        "testdata = data.copy()\n",
        "# print(len(testdata))\n",
        "\n",
        "# testdata.sort_values(\"id\", inplace = True) \n",
        "# testdata.drop_duplicates(subset = [\"id\", \"year\"], \n",
        "#                     keep = \"first\", inplace = True)\n",
        "\n",
        "# print(len(testdata))\n",
        "# testdata.head()\n",
        "\n",
        "testdata = testdata[testdata['is_alpha'] == False]\n",
        "tdata_m = testdata[testdata['gender'] == 'male']\n",
        "tdata_fm = testdata[testdata['gender'] == 'female']\n",
        "fmtdata = tdata_fm.groupby(['year'])['year'].count()\n",
        "\n",
        "primdata = testdata[testdata['order'] > 2]\n",
        "# primdata = testdata[testdata['is_last'] == True]\n",
        "primdata = primdata[primdata['is_last'] == False]\n",
        "pdata_m = primdata[primdata['gender'] == 'male']\n",
        "pdata_fm = primdata[primdata['gender'] == 'female']\n",
        "fmpdata = pdata_fm.groupby(['year'])['year'].count()"
      ],
      "execution_count": null,
      "outputs": []
    },
    {
      "cell_type": "code",
      "metadata": {
        "colab": {
          "base_uri": "https://localhost:8080/"
        },
        "id": "wC1GhAi9WiNL",
        "outputId": "ca364ca1-1183-4b7a-faa2-12a8f36a76ab"
      },
      "source": [
        "len(pdata_fm)/len(tdata_fm)"
      ],
      "execution_count": null,
      "outputs": [
        {
          "output_type": "execute_result",
          "data": {
            "text/plain": [
              "0.28697250031681665"
            ]
          },
          "metadata": {},
          "execution_count": 53
        }
      ]
    },
    {
      "cell_type": "code",
      "metadata": {
        "colab": {
          "base_uri": "https://localhost:8080/"
        },
        "id": "nTrBd5BAT_pD",
        "outputId": "6b0213ce-96b8-4c9d-f829-9ab5db782512"
      },
      "source": [
        "p = (len(pdata_m)+len(pdata_fm))/(len(tdata_m)+len(tdata_fm))\n",
        "z = (len(pdata_m)/len(tdata_m) - len(pdata_fm)/len(tdata_fm))/math.sqrt(p*(1-p)*(1/len(tdata_m) + 1/len(tdata_fm)))\n",
        "\n",
        "z"
      ],
      "execution_count": null,
      "outputs": [
        {
          "output_type": "execute_result",
          "data": {
            "text/plain": [
              "5.398838550109903"
            ]
          },
          "metadata": {},
          "execution_count": 56
        }
      ]
    },
    {
      "cell_type": "code",
      "metadata": {
        "colab": {
          "base_uri": "https://localhost:8080/",
          "height": 341
        },
        "id": "ZdD2B0kXz9Nl",
        "outputId": "05a292ab-8621-43a4-d063-b7dfe8f0f5bf"
      },
      "source": [
        "fig, ax = plt.subplots(figsize=(6,4.5))\n",
        "right_side = ax.spines[\"right\"]\n",
        "top_side = ax.spines[\"top\"]\n",
        "right_side.set_visible(False)\n",
        "top_side.set_visible(False)\n",
        "\n",
        "(fmtdata/testdata.groupby(['year'])['year'].count()).plot(style='.-', color='black', lw=3)\n",
        "(fmpdata/primdata.groupby(['year'])['year'].count()).plot(style='.-', color='red', lw=3)\n",
        "\n",
        "# plt.title('Proportion of Female Authors by Year (1950-2010)')\n",
        "plt.legend(('overall', 'primary'), loc='upper left', fontsize=20)\n",
        "plt.xticks(np.arange(1950, 2010, step=10), fontsize=20)\n",
        "plt.xlabel('Year', fontsize=20)\n",
        "plt.xlim(xmin=1950, xmax=2010)\n",
        "plt.ylabel('Proportion of Female Authors', fontsize=20)\n",
        "plt.yticks(fontsize=20)\n",
        "plt.ylim(ymin=0, ymax = 0.2)\n",
        "\n",
        "plt.tight_layout()\n",
        "# fig.savefig(f\"drive/My Drive/codes/proportion.pdf\")"
      ],
      "execution_count": null,
      "outputs": [
        {
          "output_type": "display_data",
          "data": {
            "image/png": "[encoded data removed]",
            "text/plain": [
              "<Figure size 432x324 with 1 Axes>"
            ]
          },
          "metadata": {
            "needs_background": "light"
          }
        }
      ]
    },
    {
      "cell_type": "code",
      "metadata": {
        "colab": {
          "base_uri": "https://localhost:8080/",
          "height": 341
        },
        "id": "u5xdZx7sJVP-",
        "outputId": "f5b5d8d4-8f09-4dc1-dfdc-a6a38dbfb110"
      },
      "source": [
        "fig, ax = plt.subplots(figsize=(6,4.5))\n",
        "right_side = ax.spines[\"right\"]\n",
        "top_side = ax.spines[\"top\"]\n",
        "right_side.set_visible(False)\n",
        "top_side.set_visible(False)\n",
        "\n",
        "(fmtdata/testdata.groupby(['year'])['year'].count()).plot(style='.-', color='black', lw=3)\n",
        "(fmpdata/primdata.groupby(['year'])['year'].count()).plot(style='.-', color='red', lw=3)\n",
        "\n",
        "# plt.title('Proportion of Female Authors by Year (1950-2010)')\n",
        "plt.legend(('overall', 'primary'), loc='upper left', fontsize=20)\n",
        "plt.xticks(np.arange(1950, 2010, step=10), fontsize=20)\n",
        "plt.xlabel('Year', fontsize=20)\n",
        "plt.xlim(xmin=1950, xmax=2010)\n",
        "# plt.xlim(xmin=1960, xmax=2010)\n",
        "plt.ylabel('Proportion of Female Authors', fontsize=20)\n",
        "plt.yticks(fontsize=20)\n",
        "plt.ylim(ymin=0, ymax = 0.2)\n",
        "\n",
        "plt.tight_layout()\n",
        "# fig.savefig(f\"drive/My Drive/codes/Figure2_2.pdf\")\n",
        "# fig.savefig(f\"drive/My Drive/codes/4B_altered.pdf\")"
      ],
      "execution_count": null,
      "outputs": [
        {
          "output_type": "display_data",
          "data": {
            "image/png": "[encoded data removed]",
            "text/plain": [
              "<Figure size 432x324 with 1 Axes>"
            ]
          },
          "metadata": {
            "needs_background": "light"
          }
        }
      ]
    },
    {
      "cell_type": "markdown",
      "metadata": {
        "id": "-1GbVs6QSs1-"
      },
      "source": [
        "## 1. Order of Author Analysis"
      ]
    },
    {
      "cell_type": "code",
      "metadata": {
        "id": "Ns1voVHjSBd2"
      },
      "source": [
        "# excluding alphabetically sorted papers\n",
        "\n",
        "# splitting the authors by first, second, middle, last positions\n",
        "\n",
        "first = data.query('is_alpha == False & order == 1')\n",
        "second = data.query('is_alpha == False & order == 2 & is_last == False')\n",
        "middle = data.query('is_alpha == False & order > 2 & is_last == False')\n",
        "last = data.query('is_alpha == False & order != 1 & is_last == True')"
      ],
      "execution_count": null,
      "outputs": []
    },
    {
      "cell_type": "code",
      "metadata": {
        "colab": {
          "base_uri": "https://localhost:8080/"
        },
        "id": "YEuoPzTEUjps",
        "outputId": "b4005e95-020b-4721-bb06-1256d63d2ad3"
      },
      "source": [
        "# calculating gender ratio of each position\n",
        "\n",
        "print(first['gender'].value_counts(normalize=True))\n",
        "print(second['gender'].value_counts(normalize=True))\n",
        "print(middle['gender'].value_counts(normalize=True))\n",
        "print(last['gender'].value_counts(normalize=True))"
      ],
      "execution_count": null,
      "outputs": [
        {
          "output_type": "stream",
          "text": [
            "male      0.917101\n",
            "female    0.082899\n",
            "Name: gender, dtype: float64\n",
            "male      0.911277\n",
            "female    0.088723\n",
            "Name: gender, dtype: float64\n",
            "male      0.906659\n",
            "female    0.093341\n",
            "Name: gender, dtype: float64\n",
            "male      0.91497\n",
            "female    0.08503\n",
            "Name: gender, dtype: float64\n"
          ],
          "name": "stdout"
        }
      ]
    },
    {
      "cell_type": "markdown",
      "metadata": {
        "id": "Xg3b_eYxE_O9"
      },
      "source": [
        "## 2. Productivity by Gender\n"
      ]
    },
    {
      "cell_type": "code",
      "metadata": {
        "id": "bhgMYTczFVf8"
      },
      "source": [
        "# Creating a DataFrame with productivity calculated\n",
        "prod = data.groupby(['id', 'gender']).agg({'year': [min, max, 'count']})\n",
        "\n",
        "prod['career_age'] = prod['year']['max'] - prod['year']['min']\n",
        "prod['prod'] = prod['year']['count'] / (prod['career_age'])\n",
        "prod = prod[prod['career_age'] != 0]\n",
        "\n",
        "prod.sort_values([('year','count')], ascending=False).head()\n",
        "\n",
        "# Dividing the DataFrame by gender\n",
        "prod_m = prod.xs('male', level='gender').sort_values(\n",
        "    by=['prod'],ascending=False, ignore_index=True)\n",
        "prod_fm = prod.xs('female', level='gender').sort_values(\n",
        "    by=['prod'],ascending=False)"
      ],
      "execution_count": null,
      "outputs": []
    },
    {
      "cell_type": "code",
      "metadata": {
        "id": "Da0Ttr-bJjnA"
      },
      "source": [
        "camale = prod_m.groupby(['career_age'])['career_age'].count()\n",
        "cafemale = prod_fm.groupby(['career_age'])['career_age'].count()"
      ],
      "execution_count": null,
      "outputs": []
    },
    {
      "cell_type": "code",
      "metadata": {
        "colab": {
          "base_uri": "https://localhost:8080/",
          "height": 333
        },
        "id": "Q0eWuqlaKOCH",
        "outputId": "98a64e4d-dc33-4b16-c3e7-e3f958ebd723"
      },
      "source": [
        "fig, ax = plt.subplots(figsize=(6,4.5))\n",
        "right_side = ax.spines[\"right\"]\n",
        "top_side = ax.spines[\"top\"]\n",
        "right_side.set_visible(False)\n",
        "top_side.set_visible(False)\n",
        "\n",
        "camale.plot(color='#67a9cf', lw=3)\n",
        "cafemale.plot(color='#ef8a62', lw=3)\n",
        "plt.xticks(fontsize=20)\n",
        "plt.xlim(1,35)\n",
        "plt.yticks(fontsize=20)\n",
        "plt.legend(['male', 'female'], loc='upper right', fontsize=20)\n",
        "plt.xlabel('Career Age', fontsize=20)\n",
        "plt.ylabel('Number of authors', fontsize=20)\n",
        "plt.tight_layout()\n",
        "fig.savefig(\"drive/My Drive/codes/ca_count.pdf\")"
      ],
      "execution_count": null,
      "outputs": [
        {
          "output_type": "display_data",
          "data": {
            "image/png": "[encoded data removed]",
            "text/plain": [
              "<Figure size 432x324 with 1 Axes>"
            ]
          },
          "metadata": {
            "needs_background": "light"
          }
        }
      ]
    },
    {
      "cell_type": "code",
      "metadata": {
        "colab": {
          "base_uri": "https://localhost:8080/",
          "height": 333
        },
        "id": "yt41Jhc2aTUk",
        "outputId": "1643da17-fe4c-45c8-b7d4-7571c8702376"
      },
      "source": [
        "from scipy.interpolate import make_interp_spline, BSpline\n",
        "from scipy.interpolate import interp1d\n",
        "\n",
        "cdf1=np.arange(len(prod_m))/float(len(prod_m)-1)\n",
        "cdf2=np.arange(len(prod_fm))/float(len(prod_fm)-1)\n",
        "\n",
        "# plt.figure(figsize=(8,6))\n",
        "\n",
        "fig, ax = plt.subplots(figsize=(6,4.5))\n",
        "right_side = ax.spines[\"right\"]\n",
        "top_side = ax.spines[\"top\"]\n",
        "right_side.set_visible(False)\n",
        "top_side.set_visible(False)\n",
        "\n",
        "plt.plot(prod_m['prod'],1-cdf1, color='#67a9cf', lw=2)\n",
        "plt.plot(prod_fm['prod'],1-cdf2, color='#ef8a62', lw=2)\n",
        "\n",
        "# plt.title('Productivity of APS authors (CDF)')\n",
        "plt.xlabel('Productivity', fontsize=20)\n",
        "plt.xticks(fontsize=20)\n",
        "plt.xlim(xmin=0, xmax=4)\n",
        "plt.ylabel('Probability', fontsize=20)\n",
        "plt.yticks(fontsize=20)\n",
        "plt.legend(['male', 'female'], loc='lower right', fontsize=20)\n",
        "# plt.ylim(ymin=0, ymax=0.5)\n",
        "plt.tight_layout()\n",
        "fig.savefig(f\"drive/My Drive/codes/Figure3_1.pdf\")"
      ],
      "execution_count": null,
      "outputs": [
        {
          "output_type": "display_data",
          "data": {
            "image/png": "[encoded data removed]",
            "text/plain": [
              "<Figure size 432x324 with 1 Axes>"
            ]
          },
          "metadata": {
            "needs_background": "light"
          }
        }
      ]
    },
    {
      "cell_type": "code",
      "metadata": {
        "colab": {
          "base_uri": "https://localhost:8080/",
          "height": 333
        },
        "id": "M0WAzEnLEyz-",
        "outputId": "fc7e5638-3ea7-4835-8a90-b651e5c5265d"
      },
      "source": [
        "fig, ax = plt.subplots(figsize=(6,4.5))\n",
        "right_side = ax.spines[\"right\"]\n",
        "top_side = ax.spines[\"top\"]\n",
        "right_side.set_visible(False)\n",
        "top_side.set_visible(False)\n",
        "\n",
        "plt.plot(prod_m['prod'],1-cdf1, color='#67a9cf', lw=3)\n",
        "plt.plot(prod_fm['prod'],1-cdf2, color='#ef8a62', lw=3)\n",
        "\n",
        "# plt.title('Productivity of APS authors (CDF)')\n",
        "plt.xlabel('Productivity', fontsize=20)\n",
        "plt.xticks(fontsize=20)\n",
        "plt.xlim(xmin=0.45, xmax=0.55)\n",
        "plt.ylabel('Probability', fontsize=20)\n",
        "plt.yticks(fontsize=20)\n",
        "plt.legend(['male', 'female'], loc='lower right', fontsize=20)\n",
        "plt.ylim(ymin=0.15, ymax=0.25)\n",
        "plt.tight_layout()\n",
        "fig.savefig(\"drive/My Drive/codes/Figure3_2.pdf\")"
      ],
      "execution_count": null,
      "outputs": [
        {
          "output_type": "display_data",
          "data": {
            "image/png": "[encoded data removed]",
            "text/plain": [
              "<Figure size 432x324 with 1 Axes>"
            ]
          },
          "metadata": {
            "tags": [],
            "needs_background": "light"
          }
        }
      ]
    },
    {
      "cell_type": "code",
      "metadata": {
        "id": "UsOafqPI8l2q",
        "colab": {
          "base_uri": "https://localhost:8080/"
        },
        "outputId": "01558aee-42ec-403c-d74a-29a82555feef"
      },
      "source": [
        "#ks test (two-tailed)\n",
        "from scipy.stats import ks_2samp\n",
        "print(ks_2samp(prod_m['prod'], prod_fm['prod']))\n",
        "\n",
        "#ks test: male > female\n",
        "print(ks_2samp(prod_m['prod'], prod_fm['prod'], alternative='greater'))\n",
        "\n",
        "#ks test: male < female\n",
        "print(ks_2samp(prod_m['prod'], prod_fm['prod'], alternative='less'))"
      ],
      "execution_count": null,
      "outputs": [
        {
          "output_type": "stream",
          "text": [
            "Ks_2sampResult(statistic=0.06591095931643487, pvalue=3.2496236758858577e-17)\n",
            "Ks_2sampResult(statistic=0.06591095931643487, pvalue=1.546976225788144e-17)\n",
            "Ks_2sampResult(statistic=-0.0, pvalue=1.0)\n"
          ],
          "name": "stdout"
        }
      ]
    },
    {
      "cell_type": "code",
      "metadata": {
        "id": "hpBWapSiBKQS",
        "colab": {
          "base_uri": "https://localhost:8080/"
        },
        "outputId": "d331f8b4-8628-4fa4-ef64-32b79b99d818"
      },
      "source": [
        "# finding where the biggest difference occurs\n",
        "\n",
        "def ks_2samp_x(data1, data2, alternative=\"two-sided\"):\n",
        "    data1 = np.sort(data1)\n",
        "    data2 = np.sort(data2)\n",
        "    n1 = data1.shape[0]\n",
        "    n2 = data2.shape[0]\n",
        "\n",
        "    data_all = np.concatenate([data1, data2])\n",
        "    # using searchsorted solves equal data problem\n",
        "    cdf1 = np.searchsorted(data1, data_all, side='right') / n1\n",
        "    cdf2 = np.searchsorted(data2, data_all, side='right') / n2\n",
        "    cddiffs = cdf1 - cdf2\n",
        "    minS = np.argmin(cddiffs)   # ks_2samp uses np.min or np.max respectively \n",
        "    maxS = np.argmax(cddiffs)   # now we get instead the index in data_all\n",
        "    alt2Dvalue = {'less': minS, 'greater': maxS, 'two-sided': max(minS, maxS)}\n",
        "    d_arg = alt2Dvalue[alternative]\n",
        "    return data_all[d_arg]\n",
        "\n",
        "print(ks_2samp_x(prod_m['prod'], prod_fm['prod']))\n",
        "print(ks_2samp_x(prod_m['prod'], prod_fm['prod'], alternative=\"greater\"))\n",
        "print(ks_2samp_x(prod_m['prod'], prod_fm['prod'], alternative=\"less\"))"
      ],
      "execution_count": null,
      "outputs": [
        {
          "output_type": "stream",
          "text": [
            "2.0\n",
            "0.975609756097561\n",
            "2.0\n"
          ],
          "name": "stdout"
        }
      ]
    },
    {
      "cell_type": "markdown",
      "metadata": {
        "id": "zBF0NSSIE_n_"
      },
      "source": [
        "## 3. Dropout Authors by Career Age\n",
        "Don't include the authors who have not written anything before 1999.\n",
        "\n",
        "(annual year is only showing less accurate dropout)"
      ]
    },
    {
      "cell_type": "code",
      "metadata": {
        "id": "AHMxBv77cVcR",
        "colab": {
          "base_uri": "https://localhost:8080/",
          "height": 333
        },
        "outputId": "2af21424-e05b-4cc5-d218-8eebea4b2f7c"
      },
      "source": [
        "# exclude authors who enter APS publication after 2004\n",
        "# create (JADIDI) scatterplot of dropout authors by career age\n",
        "\n",
        "gb = prod[prod['year']['min'] < 2004].groupby(['gender', 'career_age'])['career_age'].count()\n",
        "\n",
        "gb_m = gb['male'].sort_index(ascending=False)\n",
        "gb_fm = gb['female'].sort_index(ascending=False)\n",
        "\n",
        "fig, ax = plt.subplots(figsize=(6,4.5))\n",
        "right_side = ax.spines[\"right\"]\n",
        "top_side = ax.spines[\"top\"]\n",
        "right_side.set_visible(False)\n",
        "top_side.set_visible(False)\n",
        "\n",
        "(gb_m/gb_m.cumsum()).iloc[::-1].plot(style='.-', color='#67a9cf', lw=3)\n",
        "(gb_fm/gb_fm.cumsum()).iloc[::-1].plot(style='.-',color='#ef8a62', lw=3)\n",
        "\n",
        "# plt.title('Dropout Author Ratio by Career Age')\n",
        "plt.legend(('male', 'female'), loc='upper left', fontsize=20)\n",
        "plt.xlabel('Career Age', fontsize=20)\n",
        "plt.xlim(0,30)\n",
        "plt.ylabel('Proportion of Dropout', fontsize=20)\n",
        "plt.ylim(0, 0.2)\n",
        "\n",
        "plt.xticks(fontsize=20)\n",
        "plt.yticks(fontsize=20)\n",
        "plt.tight_layout()\n",
        "# fig.savefig(\"drive/My Drive/codes/Figure5.pdf\")"
      ],
      "execution_count": null,
      "outputs": [
        {
          "output_type": "display_data",
          "data": {
            "image/png": "[encoded data removed]",
            "text/plain": [
              "<Figure size 432x324 with 1 Axes>"
            ]
          },
          "metadata": {
            "needs_background": "light"
          }
        }
      ]
    },
    {
      "cell_type": "code",
      "metadata": {
        "id": "hFFDsjxsmxiX"
      },
      "source": [
        "mser = (gb_m/gb_m.cumsum()).iloc[::-1]\n",
        "fser = (gb_fm/gb_fm.cumsum()).iloc[::-1]"
      ],
      "execution_count": null,
      "outputs": []
    },
    {
      "cell_type": "code",
      "metadata": {
        "colab": {
          "base_uri": "https://localhost:8080/"
        },
        "id": "CKB1rKEGm09P",
        "outputId": "a693369a-a9ea-49eb-b98b-f0627858b958"
      },
      "source": [
        "mser.subtract(fser)[:30]"
      ],
      "execution_count": null,
      "outputs": [
        {
          "output_type": "execute_result",
          "data": {
            "text/plain": [
              "career_age\n",
              "1    -0.030242\n",
              "2    -0.025981\n",
              "3    -0.014794\n",
              "4    -0.018973\n",
              "5    -0.036312\n",
              "6    -0.032558\n",
              "7    -0.029815\n",
              "8    -0.025122\n",
              "9    -0.021425\n",
              "10   -0.012801\n",
              "11   -0.032729\n",
              "12   -0.022255\n",
              "13   -0.016408\n",
              "14   -0.030743\n",
              "15   -0.020274\n",
              "16   -0.022726\n",
              "17   -0.018546\n",
              "18   -0.005501\n",
              "19   -0.010762\n",
              "20   -0.020503\n",
              "21   -0.043945\n",
              "22   -0.026675\n",
              "23   -0.005109\n",
              "24   -0.015998\n",
              "25   -0.036182\n",
              "26   -0.018302\n",
              "27    0.004104\n",
              "28   -0.018819\n",
              "29   -0.050971\n",
              "30    0.010312\n",
              "Name: career_age, dtype: float64"
            ]
          },
          "metadata": {
            "tags": []
          },
          "execution_count": 38
        }
      ]
    },
    {
      "cell_type": "markdown",
      "metadata": {
        "id": "DVoglDodE_78"
      },
      "source": [
        "## 4. Citation Analysis"
      ]
    },
    {
      "cell_type": "markdown",
      "metadata": {
        "id": "8IXGUzXTwaJq"
      },
      "source": [
        "### 4.1 Degree Centrality Analysis"
      ]
    },
    {
      "cell_type": "code",
      "metadata": {
        "id": "UNwxVJGmCIBZ"
      },
      "source": [
        "# exclude alphabetically ordered papers\n",
        "# only consider primary authors\n",
        "degcen = data.query('is_alpha == False & order == 1')\n",
        "\n",
        "# calculate degree centrality per paper\n",
        "vc = cb['cited_doi'].value_counts()\n",
        "cb_sub = vc[vc.to_numpy() > 0].to_frame()\n",
        "\n",
        "# create a DataFrame with degree centrality\n",
        "cited = pd.merge(cb_sub, degcen, left_index = True, right_on = 'doi')"
      ],
      "execution_count": null,
      "outputs": []
    },
    {
      "cell_type": "code",
      "metadata": {
        "id": "08stkpijQysM",
        "colab": {
          "base_uri": "https://localhost:8080/",
          "height": 333
        },
        "outputId": "81d60a1a-175d-4e4f-d2be-2dcb36567e4f"
      },
      "source": [
        "# Comparative graph for actual female proportion vs. expected female proportion\n",
        "cited_gender = cited['gender'].to_numpy()\n",
        "cumulate_cited_gender = np.cumsum(cited_gender == \"female\")\n",
        "\n",
        "fig, ax = plt.subplots(figsize=(6,4.5))\n",
        "right_side = ax.spines[\"right\"]\n",
        "top_side = ax.spines[\"top\"]\n",
        "right_side.set_visible(False)\n",
        "top_side.set_visible(False)\n",
        "\n",
        "plt.plot((np.arange(len(cited))*100)/len(cited), cumulate_cited_gender/np.arange(1, len(cited)+1), color='red', lw=3)\n",
        "plt.axhline(y=len(cited[cited['gender'] == 'female'])/len(cited), color='black', linestyle='dotted', lw=3)\n",
        "\n",
        "# plt.title(\"Proportion of Female Primary Authors per Degree Centrality %\")\n",
        "plt.xlabel(\"Top h% Degree Centrality\", fontsize=20)\n",
        "plt.ylim(ymax=0.1)\n",
        "plt.ylabel(\"Proportion of \\n Female Primary Authors\", fontsize=20)\n",
        "\n",
        "plt.xticks(fontsize=20)\n",
        "plt.yticks(fontsize=20)\n",
        "plt.tight_layout()\n",
        "fig.savefig(\"drive/My Drive/codes/Figure6_1.pdf\")"
      ],
      "execution_count": null,
      "outputs": [
        {
          "output_type": "display_data",
          "data": {
            "image/png": "[encoded data removed]",
            "text/plain": [
              "<Figure size 432x324 with 1 Axes>"
            ]
          },
          "metadata": {
            "tags": [],
            "needs_background": "light"
          }
        }
      ]
    },
    {
      "cell_type": "markdown",
      "metadata": {
        "id": "EnGw0fr0xeG3"
      },
      "source": [
        "### 4.2 Self-citation Analysis (general)\n"
      ]
    },
    {
      "cell_type": "code",
      "metadata": {
        "id": "_XTSJzbuAh8h"
      },
      "source": [
        "# create a DataFrame with self-citing authors by gender\n",
        "pop = cdata.groupby(['citing_year'])['citing_year'].count()\n",
        "\n",
        "male = cdata.loc[cdata['citing_gender'] == 'male'].groupby(['citing_year'])['citing_year'].count()\n",
        "female = cdata.loc[cdata['citing_gender'] == 'female'].groupby(['citing_year'])['citing_year'].count()\n",
        "\n",
        "sccit = cdata.loc[cdata['citing_id'] == cdata['cited_id']].groupby(['citing_year'])['citing_year'].count()\n",
        "\n",
        "malesc = cdata.loc[(cdata['citing_id'] == cdata['cited_id']) & (cdata['citing_gender'] == 'male')].groupby(['citing_year'])['citing_year'].count()\n",
        "femalesc = cdata.loc[(cdata['citing_id'] == cdata['cited_id']) & (cdata['citing_gender'] == 'female')].groupby(['citing_year'])['citing_year'].count()\n",
        "\n",
        "pop[np.isnan(pop)] = 0\n",
        "male[np.isnan(male)] = 0\n",
        "female[np.isnan(female)] = 0\n",
        "sccit[np.isnan(sccit)] = 0\n",
        "malesc[np.isnan(malesc)] = 0\n",
        "femalesc[np.isnan(femalesc)] = 0"
      ],
      "execution_count": null,
      "outputs": []
    },
    {
      "cell_type": "code",
      "metadata": {
        "id": "IbMqjMEWwHDU",
        "colab": {
          "base_uri": "https://localhost:8080/",
          "height": 331
        },
        "outputId": "f74bbb9f-30c2-477b-ae31-951e5594fd52"
      },
      "source": [
        "# create a self-citation ratio plot by year\n",
        "fig, ax = plt.subplots(figsize=(6,4.5))\n",
        "right_side = ax.spines[\"right\"]\n",
        "top_side = ax.spines[\"top\"]\n",
        "right_side.set_visible(False)\n",
        "top_side.set_visible(False)\n",
        "\n",
        "(malesc/male).plot(style='.-', color='#67a9cf', lw=3)\n",
        "(femalesc/female).plot(style='.-',color='#ef8a62', lw=3)\n",
        "\n",
        "# /plt.title('Self-citation Ratio by Year')\n",
        "plt.legend(('male', 'female'), loc='upper right', fontsize=20)\n",
        "plt.xlabel('Year', fontsize=20)\n",
        "plt.xlim(xmin=1950)\n",
        "plt.xlim(xmax=2010)\n",
        "plt.ylabel('Proportion of Self-citation', fontsize=20)\n",
        "plt.ylim(ymin=0, ymax=0.15)\n",
        "\n",
        "plt.xticks(fontsize=20)\n",
        "plt.yticks(fontsize=20)\n",
        "plt.tight_layout()\n",
        "# fig.savefig(\"drive/My Drive/codes/Figure7.pdf\")"
      ],
      "execution_count": null,
      "outputs": [
        {
          "output_type": "display_data",
          "data": {
            "image/png": "[encoded data removed]",
            "text/plain": [
              "<Figure size 432x324 with 1 Axes>"
            ]
          },
          "metadata": {
            "needs_background": "light"
          }
        }
      ]
    },
    {
      "cell_type": "code",
      "metadata": {
        "id": "qpFEb3JuwSFZ",
        "colab": {
          "base_uri": "https://localhost:8080/",
          "height": 333
        },
        "outputId": "8e194a3c-dc60-4fff-e21f-f23722098b0a"
      },
      "source": [
        "# calculate k-value\n",
        "k1 = ((malesc/sccit)/(femalesc/sccit))\n",
        "k2 = ((female/pop)/(male/pop))\n",
        "k = k1*k2\n",
        "\n",
        "# create k-value plot\n",
        "fig, ax = plt.subplots(figsize=(6,4.5))\n",
        "right_side = ax.spines[\"right\"]\n",
        "top_side = ax.spines[\"top\"]\n",
        "right_side.set_visible(False)\n",
        "top_side.set_visible(False)\n",
        "\n",
        "k.plot(style='.-', color='red', lw=3)\n",
        "\n",
        "# plt.title('k value by Year')\n",
        "plt.xlabel('Year', fontsize=20)\n",
        "# plt.xlim(xmin=1950)\n",
        "plt.xlim(xmin=1960)\n",
        "plt.xlim(xmax=2010)\n",
        "plt.ylabel('r-value', fontsize=20)\n",
        "# plt.ylim(ymin=0.5,ymax=5)\n",
        "plt.ylim(ymin=0.5,ymax=2.5)\n",
        "plt.hlines(1,xmin=1903,xmax=2010,linestyles='dashed', lw=3)\n",
        "\n",
        "plt.xticks(fontsize=20)\n",
        "plt.yticks(fontsize=20)\n",
        "plt.tight_layout()\n",
        "# fig.savefig(\"drive/My Drive/codes/2C_altered.pdf\")"
      ],
      "execution_count": null,
      "outputs": [
        {
          "output_type": "display_data",
          "data": {
            "image/png": "[encoded data removed]",
            "text/plain": [
              "<Figure size 432x324 with 1 Axes>"
            ]
          },
          "metadata": {
            "needs_background": "light"
          }
        }
      ]
    },
    {
      "cell_type": "markdown",
      "metadata": {
        "id": "DfrbUoNgQKVS"
      },
      "source": [
        "## 5 PageRank Centrality"
      ]
    },
    {
      "cell_type": "code",
      "metadata": {
        "id": "gMf26naTQKS_",
        "colab": {
          "base_uri": "https://localhost:8080/"
        },
        "outputId": "5e680182-9047-4bfc-e80b-934eaaba83d0"
      },
      "source": [
        "# apply nx.graph to citation relationship network\n",
        "Graphtype = nx.DiGraph()\n",
        "\n",
        "C = nx.from_pandas_edgelist(cen, source='citing_doi',\n",
        "                            target='cited_doi', create_using=Graphtype)\n",
        "print(nx.info(C))"
      ],
      "execution_count": null,
      "outputs": [
        {
          "output_type": "stream",
          "text": [
            "Name: \n",
            "Type: DiGraph\n",
            "Number of nodes: 144813\n",
            "Number of edges: 703005\n",
            "Average in degree:   4.8546\n",
            "Average out degree:   4.8546\n"
          ],
          "name": "stdout"
        }
      ]
    },
    {
      "cell_type": "code",
      "metadata": {
        "id": "S4PP2OqqQKS6",
        "colab": {
          "base_uri": "https://localhost:8080/",
          "height": 204
        },
        "outputId": "0f943e81-cc51-4223-c5c0-148f2a4501c4"
      },
      "source": [
        "# observe author id & gender (primary author)\n",
        "nodedata = data.query('is_alpha == False & order == 1').drop(\n",
        "    ['order', 'numAuthor',\t'is_last',\t'is_alpha',\t'year',\n",
        "    'articleType',\t'journal'], axis=1)\n",
        "# nodedata.columns = ['id', 'Label', 'Gender']\n",
        "nodedata.tail()"
      ],
      "execution_count": null,
      "outputs": [
        {
          "output_type": "execute_result",
          "data": {
            "text/html": [
              "<div>\n",
              "<style scoped>\n",
              "    .dataframe tbody tr th:only-of-type {\n",
              "        vertical-align: middle;\n",
              "    }\n",
              "\n",
              "    .dataframe tbody tr th {\n",
              "        vertical-align: top;\n",
              "    }\n",
              "\n",
              "    .dataframe thead th {\n",
              "        text-align: right;\n",
              "    }\n",
              "</style>\n",
              "<table border=\"1\" class=\"dataframe\">\n",
              "  <thead>\n",
              "    <tr style=\"text-align: right;\">\n",
              "      <th></th>\n",
              "      <th>doi</th>\n",
              "      <th>id</th>\n",
              "      <th>gender</th>\n",
              "    </tr>\n",
              "  </thead>\n",
              "  <tbody>\n",
              "    <tr>\n",
              "      <th>531302</th>\n",
              "      <td>10.1103/PhysRevLett.98.068101</td>\n",
              "      <td>13234</td>\n",
              "      <td>male</td>\n",
              "    </tr>\n",
              "    <tr>\n",
              "      <th>531304</th>\n",
              "      <td>10.1103/PhysRevE.76.017301</td>\n",
              "      <td>148679</td>\n",
              "      <td>female</td>\n",
              "    </tr>\n",
              "    <tr>\n",
              "      <th>531305</th>\n",
              "      <td>10.1103/PhysRevSTPER.3.020101</td>\n",
              "      <td>120132</td>\n",
              "      <td>male</td>\n",
              "    </tr>\n",
              "    <tr>\n",
              "      <th>531310</th>\n",
              "      <td>10.1103/PhysRevSTPER.4.010102</td>\n",
              "      <td>48834</td>\n",
              "      <td>male</td>\n",
              "    </tr>\n",
              "    <tr>\n",
              "      <th>531311</th>\n",
              "      <td>10.1103/PhysRevSTPER.4.010108</td>\n",
              "      <td>2668</td>\n",
              "      <td>male</td>\n",
              "    </tr>\n",
              "  </tbody>\n",
              "</table>\n",
              "</div>"
            ],
            "text/plain": [
              "                                  doi      id  gender\n",
              "531302  10.1103/PhysRevLett.98.068101   13234    male\n",
              "531304     10.1103/PhysRevE.76.017301  148679  female\n",
              "531305  10.1103/PhysRevSTPER.3.020101  120132    male\n",
              "531310  10.1103/PhysRevSTPER.4.010102   48834    male\n",
              "531311  10.1103/PhysRevSTPER.4.010108    2668    male"
            ]
          },
          "metadata": {
            "tags": []
          },
          "execution_count": 14
        }
      ]
    },
    {
      "cell_type": "code",
      "metadata": {
        "colab": {
          "base_uri": "https://localhost:8080/"
        },
        "id": "RYsKpcUzW7TE",
        "outputId": "afb4d16e-fd7f-4a5f-c860-be1817d5dfde"
      },
      "source": [
        "print(len(nodedata))\n",
        "nodedata.id.nunique()"
      ],
      "execution_count": null,
      "outputs": [
        {
          "output_type": "stream",
          "text": [
            "149627\n"
          ],
          "name": "stdout"
        },
        {
          "output_type": "execute_result",
          "data": {
            "text/plain": [
              "32827"
            ]
          },
          "metadata": {
            "tags": []
          },
          "execution_count": 17
        }
      ]
    },
    {
      "cell_type": "code",
      "metadata": {
        "colab": {
          "base_uri": "https://localhost:8080/",
          "height": 204
        },
        "id": "vpp05M_0y4r-",
        "outputId": "6f3b3617-6780-4432-9695-374d1e67f061"
      },
      "source": [
        "# assign PageRank centrality to each paper\n",
        "pr = nx.pagerank(C)\n",
        "\n",
        "# create a centrality dataframe\n",
        "prs = pd.DataFrame()\n",
        "prs['doi'] = pr.keys()\n",
        "prs['PRcen'] = pr.values()\n",
        "\n",
        "# merge and create a dataframe: id, gender, PageRank centrality\n",
        "prs_new = prs.merge(nodedata, left_on='doi', right_on='doi',\n",
        "                how='left')\n",
        "# prs_new = prs_new[['id', 'Gender', 'centrality']].sort_values(\n",
        "    # 'centrality', ascending=False)\n",
        "prs_new = prs_new.sort_values('PRcen', ascending=False)\n",
        "prs_new.head()"
      ],
      "execution_count": null,
      "outputs": [
        {
          "output_type": "execute_result",
          "data": {
            "text/html": [
              "<div>\n",
              "<style scoped>\n",
              "    .dataframe tbody tr th:only-of-type {\n",
              "        vertical-align: middle;\n",
              "    }\n",
              "\n",
              "    .dataframe tbody tr th {\n",
              "        vertical-align: top;\n",
              "    }\n",
              "\n",
              "    .dataframe thead th {\n",
              "        text-align: right;\n",
              "    }\n",
              "</style>\n",
              "<table border=\"1\" class=\"dataframe\">\n",
              "  <thead>\n",
              "    <tr style=\"text-align: right;\">\n",
              "      <th></th>\n",
              "      <th>doi</th>\n",
              "      <th>PRcen</th>\n",
              "      <th>id</th>\n",
              "      <th>gender</th>\n",
              "    </tr>\n",
              "  </thead>\n",
              "  <tbody>\n",
              "    <tr>\n",
              "      <th>3189</th>\n",
              "      <td>10.1103/PhysRev.47.777</td>\n",
              "      <td>0.001368</td>\n",
              "      <td>38494</td>\n",
              "      <td>male</td>\n",
              "    </tr>\n",
              "    <tr>\n",
              "      <th>25816</th>\n",
              "      <td>10.1103/PhysRevLett.55.2471</td>\n",
              "      <td>0.001325</td>\n",
              "      <td>187091</td>\n",
              "      <td>male</td>\n",
              "    </tr>\n",
              "    <tr>\n",
              "      <th>49819</th>\n",
              "      <td>10.1103/PhysRevLett.28.240</td>\n",
              "      <td>0.001062</td>\n",
              "      <td>80536</td>\n",
              "      <td>male</td>\n",
              "    </tr>\n",
              "    <tr>\n",
              "      <th>54770</th>\n",
              "      <td>10.1103/PhysRev.156.583</td>\n",
              "      <td>0.000961</td>\n",
              "      <td>118337</td>\n",
              "      <td>male</td>\n",
              "    </tr>\n",
              "    <tr>\n",
              "      <th>20116</th>\n",
              "      <td>10.1103/PhysRev.106.364</td>\n",
              "      <td>0.000918</td>\n",
              "      <td>73416</td>\n",
              "      <td>male</td>\n",
              "    </tr>\n",
              "  </tbody>\n",
              "</table>\n",
              "</div>"
            ],
            "text/plain": [
              "                               doi     PRcen      id gender\n",
              "3189        10.1103/PhysRev.47.777  0.001368   38494   male\n",
              "25816  10.1103/PhysRevLett.55.2471  0.001325  187091   male\n",
              "49819   10.1103/PhysRevLett.28.240  0.001062   80536   male\n",
              "54770      10.1103/PhysRev.156.583  0.000961  118337   male\n",
              "20116      10.1103/PhysRev.106.364  0.000918   73416   male"
            ]
          },
          "metadata": {
            "tags": []
          },
          "execution_count": 23
        }
      ]
    },
    {
      "cell_type": "code",
      "metadata": {
        "id": "vIGqV79MQKSw",
        "colab": {
          "base_uri": "https://localhost:8080/",
          "height": 333
        },
        "outputId": "af18a229-0ef9-40c9-b540-0150f8883a14"
      },
      "source": [
        "# Comparative graph for actual female proportion vs. expected female proportion\n",
        "\n",
        "prs_gender = prs_new['gender'].to_numpy()\n",
        "cumulate_prs_gender = np.cumsum(prs_gender == \"female\")\n",
        "\n",
        "fig, ax = plt.subplots(figsize=(6,4.5))\n",
        "right_side = ax.spines[\"right\"]\n",
        "top_side = ax.spines[\"top\"]\n",
        "right_side.set_visible(False)\n",
        "top_side.set_visible(False)\n",
        "\n",
        "plt.plot((np.arange(len(prs_new))*100)/len(prs_new),\n",
        "         cumulate_prs_gender/np.arange(1, len(prs_new)+1), color='red', lw=3)\n",
        "plt.axhline(y=0.08274119036274367, color='black', linestyle='dotted', lw=3)\n",
        "\n",
        "# plt.title(\"Proportion of Female Primary Authors per PageRank Centrality\")\n",
        "plt.xlabel(\"top h% PageRank Centrality\", fontsize=20)\n",
        "plt.ylim(ymax=0.1)\n",
        "plt.ylabel(\"Proportion of \\n Female Primary Authors\", fontsize = 20)\n",
        "\n",
        "plt.xticks(fontsize=20)\n",
        "plt.yticks(fontsize=20)\n",
        "plt.tight_layout()\n",
        "# fig.savefig(\"drive/My Drive/codes/Figure6_2.pdf\")"
      ],
      "execution_count": null,
      "outputs": [
        {
          "output_type": "display_data",
          "data": {
            "image/png": "[encoded data removed]",
            "text/plain": [
              "<Figure size 432x324 with 1 Axes>"
            ]
          },
          "metadata": {
            "tags": [],
            "needs_background": "light"
          }
        }
      ]
    },
    {
      "cell_type": "markdown",
      "metadata": {
        "id": "-QY-g6b6j9pW"
      },
      "source": [
        "## 5.1 PageRank Centrality among Similar Papers"
      ]
    },
    {
      "cell_type": "code",
      "metadata": {
        "id": "qarH0ioK1ph5",
        "colab": {
          "base_uri": "https://localhost:8080/",
          "height": 222
        },
        "outputId": "9e4a5c6e-1ac0-45b3-e882-5dacad30511a"
      },
      "source": [
        "############## SELECT DESIRED PACS (HOMOPHILY ONLY) ###############\n",
        "\n",
        "homn = pd.read_csv(\"drive/My Drive/codes/hom0.csv\")\n",
        "# homn = pd.read_csv(\"drive/My Drive/codes/hom1.csv\")\n",
        "# homn = pd.read_csv(\"drive/My Drive/codes/hom2.csv\")\n",
        "# homn = pd.read_csv(\"drive/My Drive/codes/hom3.csv\")\n",
        "# homn = pd.read_csv(\"drive/My Drive/codes/hom4.csv\")\n",
        "# homn = pd.read_csv(\"drive/My Drive/codes/hom5.csv\")\n",
        "# homn = pd.read_csv(\"drive/My Drive/codes/hom6.csv\")\n",
        "# homn = pd.read_csv(\"drive/My Drive/codes/hom7.csv\")\n",
        "# homn = pd.read_csv(\"drive/My Drive/codes/hom8.csv\")\n",
        "# homn = pd.read_csv(\"drive/My Drive/codes/hom9.csv\")\n",
        "\n",
        "print(len(homn))\n",
        "homn.head()"
      ],
      "execution_count": null,
      "outputs": [
        {
          "output_type": "stream",
          "text": [
            "1189255\n"
          ],
          "name": "stdout"
        },
        {
          "output_type": "execute_result",
          "data": {
            "text/html": [
              "<div>\n",
              "<style scoped>\n",
              "    .dataframe tbody tr th:only-of-type {\n",
              "        vertical-align: middle;\n",
              "    }\n",
              "\n",
              "    .dataframe tbody tr th {\n",
              "        vertical-align: top;\n",
              "    }\n",
              "\n",
              "    .dataframe thead th {\n",
              "        text-align: right;\n",
              "    }\n",
              "</style>\n",
              "<table border=\"1\" class=\"dataframe\">\n",
              "  <thead>\n",
              "    <tr style=\"text-align: right;\">\n",
              "      <th></th>\n",
              "      <th>paper1</th>\n",
              "      <th>gender1</th>\n",
              "      <th>year1</th>\n",
              "      <th>paper2</th>\n",
              "      <th>gender2</th>\n",
              "      <th>year2</th>\n",
              "      <th>qval</th>\n",
              "      <th>k</th>\n",
              "    </tr>\n",
              "  </thead>\n",
              "  <tbody>\n",
              "    <tr>\n",
              "      <th>0</th>\n",
              "      <td>10.1103/PhysRevA.30.336</td>\n",
              "      <td>male</td>\n",
              "      <td>1984</td>\n",
              "      <td>10.1103/PhysRevA.34.1617</td>\n",
              "      <td>male</td>\n",
              "      <td>1986</td>\n",
              "      <td>0.001230</td>\n",
              "      <td>False</td>\n",
              "    </tr>\n",
              "    <tr>\n",
              "      <th>1</th>\n",
              "      <td>10.1103/PhysRevA.30.336</td>\n",
              "      <td>male</td>\n",
              "      <td>1984</td>\n",
              "      <td>10.1103/PhysRevA.34.4472</td>\n",
              "      <td>female</td>\n",
              "      <td>1986</td>\n",
              "      <td>0.017857</td>\n",
              "      <td>False</td>\n",
              "    </tr>\n",
              "    <tr>\n",
              "      <th>2</th>\n",
              "      <td>10.1103/PhysRevA.30.336</td>\n",
              "      <td>male</td>\n",
              "      <td>1984</td>\n",
              "      <td>10.1103/PhysRevA.41.784</td>\n",
              "      <td>male</td>\n",
              "      <td>1990</td>\n",
              "      <td>0.017857</td>\n",
              "      <td>False</td>\n",
              "    </tr>\n",
              "    <tr>\n",
              "      <th>3</th>\n",
              "      <td>10.1103/PhysRevA.34.4472</td>\n",
              "      <td>female</td>\n",
              "      <td>1986</td>\n",
              "      <td>10.1103/PhysRevA.41.784</td>\n",
              "      <td>male</td>\n",
              "      <td>1990</td>\n",
              "      <td>0.017857</td>\n",
              "      <td>False</td>\n",
              "    </tr>\n",
              "    <tr>\n",
              "      <th>4</th>\n",
              "      <td>10.1103/PhysRevA.36.4950</td>\n",
              "      <td>female</td>\n",
              "      <td>1987</td>\n",
              "      <td>10.1103/PhysRevA.41.784</td>\n",
              "      <td>male</td>\n",
              "      <td>1990</td>\n",
              "      <td>0.006410</td>\n",
              "      <td>False</td>\n",
              "    </tr>\n",
              "  </tbody>\n",
              "</table>\n",
              "</div>"
            ],
            "text/plain": [
              "                     paper1 gender1  year1  ... year2      qval      k\n",
              "0   10.1103/PhysRevA.30.336    male   1984  ...  1986  0.001230  False\n",
              "1   10.1103/PhysRevA.30.336    male   1984  ...  1986  0.017857  False\n",
              "2   10.1103/PhysRevA.30.336    male   1984  ...  1990  0.017857  False\n",
              "3  10.1103/PhysRevA.34.4472  female   1986  ...  1990  0.017857  False\n",
              "4  10.1103/PhysRevA.36.4950  female   1987  ...  1990  0.006410  False\n",
              "\n",
              "[5 rows x 8 columns]"
            ]
          },
          "metadata": {
            "tags": []
          },
          "execution_count": 19
        }
      ]
    },
    {
      "cell_type": "code",
      "metadata": {
        "colab": {
          "base_uri": "https://localhost:8080/",
          "height": 240
        },
        "id": "fAPAsNbfkuZs",
        "outputId": "ca4c5e1d-5eb1-4223-901d-ad910d233409"
      },
      "source": [
        "# Calculate cen_d (male centrality - female centrality)\n",
        "\n",
        "prs_sim = prs.merge(nodedata, left_on='doi', right_on='Label',\n",
        "                    how='left').drop(['Label'], axis=1)\n",
        "prs_sim = prs_sim[[\"doi\", 'id', 'Gender', 'centrality']].sort_values(\n",
        "    'centrality', ascending=False)\n",
        "\n",
        "ph = pd.merge(homn, prs_sim, left_on = \"paper1\", right_on = \"doi\", how = \"left\")\n",
        "ph = ph.drop([\"doi\", \"id\", \"Gender\"], axis=1)\n",
        "ph = ph.rename(columns={\"centrality\": \"cen1\"})\n",
        "\n",
        "ph = ph.merge(prs_sim, left_on = \"paper2\", right_on = \"doi\", how = \"left\")\n",
        "ph = ph.drop([\"doi\", \"id\", \"Gender\"], axis=1)\n",
        "ph = ph.rename(columns={\"centrality\": \"cen2\"})\n",
        "print(len(ph))\n",
        "\n",
        "ph = ph[ph['gender1'] != ph['gender2']].reset_index(drop=True)\n",
        "\n",
        "listd = []\n",
        "\n",
        "for c in range(len(ph)):\n",
        "  if ph['gender1'][c] == 'male':\n",
        "    listd.append(ph['cen1'][c] - ph['cen2'][c])\n",
        "  else:\n",
        "    listd.append(ph['cen2'][c] - ph['cen1'][c])\n",
        "\n",
        "ph['cen_d'] = listd\n",
        "\n",
        "print(len(ph))\n",
        "ph.head()"
      ],
      "execution_count": null,
      "outputs": [
        {
          "output_type": "stream",
          "text": [
            "1189255\n",
            "184694\n"
          ],
          "name": "stdout"
        },
        {
          "output_type": "execute_result",
          "data": {
            "text/html": [
              "<div>\n",
              "<style scoped>\n",
              "    .dataframe tbody tr th:only-of-type {\n",
              "        vertical-align: middle;\n",
              "    }\n",
              "\n",
              "    .dataframe tbody tr th {\n",
              "        vertical-align: top;\n",
              "    }\n",
              "\n",
              "    .dataframe thead th {\n",
              "        text-align: right;\n",
              "    }\n",
              "</style>\n",
              "<table border=\"1\" class=\"dataframe\">\n",
              "  <thead>\n",
              "    <tr style=\"text-align: right;\">\n",
              "      <th></th>\n",
              "      <th>paper1</th>\n",
              "      <th>gender1</th>\n",
              "      <th>year1</th>\n",
              "      <th>paper2</th>\n",
              "      <th>gender2</th>\n",
              "      <th>year2</th>\n",
              "      <th>qval</th>\n",
              "      <th>k</th>\n",
              "      <th>cen1</th>\n",
              "      <th>cen2</th>\n",
              "      <th>cen_d</th>\n",
              "    </tr>\n",
              "  </thead>\n",
              "  <tbody>\n",
              "    <tr>\n",
              "      <th>0</th>\n",
              "      <td>10.1103/PhysRevA.30.336</td>\n",
              "      <td>male</td>\n",
              "      <td>1984</td>\n",
              "      <td>10.1103/PhysRevA.34.4472</td>\n",
              "      <td>female</td>\n",
              "      <td>1986</td>\n",
              "      <td>0.017857</td>\n",
              "      <td>False</td>\n",
              "      <td>0.000018</td>\n",
              "      <td>0.000004</td>\n",
              "      <td>1.402271e-05</td>\n",
              "    </tr>\n",
              "    <tr>\n",
              "      <th>1</th>\n",
              "      <td>10.1103/PhysRevA.34.4472</td>\n",
              "      <td>female</td>\n",
              "      <td>1986</td>\n",
              "      <td>10.1103/PhysRevA.41.784</td>\n",
              "      <td>male</td>\n",
              "      <td>1990</td>\n",
              "      <td>0.017857</td>\n",
              "      <td>False</td>\n",
              "      <td>0.000004</td>\n",
              "      <td>0.000005</td>\n",
              "      <td>7.764608e-07</td>\n",
              "    </tr>\n",
              "    <tr>\n",
              "      <th>2</th>\n",
              "      <td>10.1103/PhysRevA.36.4950</td>\n",
              "      <td>female</td>\n",
              "      <td>1987</td>\n",
              "      <td>10.1103/PhysRevA.41.784</td>\n",
              "      <td>male</td>\n",
              "      <td>1990</td>\n",
              "      <td>0.006410</td>\n",
              "      <td>False</td>\n",
              "      <td>0.000002</td>\n",
              "      <td>0.000005</td>\n",
              "      <td>2.824713e-06</td>\n",
              "    </tr>\n",
              "    <tr>\n",
              "      <th>3</th>\n",
              "      <td>10.1103/PhysRevA.39.5466</td>\n",
              "      <td>female</td>\n",
              "      <td>1989</td>\n",
              "      <td>10.1103/PhysRevA.41.784</td>\n",
              "      <td>male</td>\n",
              "      <td>1990</td>\n",
              "      <td>0.006410</td>\n",
              "      <td>False</td>\n",
              "      <td>0.000002</td>\n",
              "      <td>0.000005</td>\n",
              "      <td>2.166712e-06</td>\n",
              "    </tr>\n",
              "    <tr>\n",
              "      <th>4</th>\n",
              "      <td>10.1103/PhysRevA.41.3081</td>\n",
              "      <td>female</td>\n",
              "      <td>1990</td>\n",
              "      <td>10.1103/PhysRevA.41.784</td>\n",
              "      <td>male</td>\n",
              "      <td>1990</td>\n",
              "      <td>0.000511</td>\n",
              "      <td>False</td>\n",
              "      <td>0.000002</td>\n",
              "      <td>0.000005</td>\n",
              "      <td>2.824713e-06</td>\n",
              "    </tr>\n",
              "  </tbody>\n",
              "</table>\n",
              "</div>"
            ],
            "text/plain": [
              "                     paper1 gender1  year1  ...      cen1      cen2         cen_d\n",
              "0   10.1103/PhysRevA.30.336    male   1984  ...  0.000018  0.000004  1.402271e-05\n",
              "1  10.1103/PhysRevA.34.4472  female   1986  ...  0.000004  0.000005  7.764608e-07\n",
              "2  10.1103/PhysRevA.36.4950  female   1987  ...  0.000002  0.000005  2.824713e-06\n",
              "3  10.1103/PhysRevA.39.5466  female   1989  ...  0.000002  0.000005  2.166712e-06\n",
              "4  10.1103/PhysRevA.41.3081  female   1990  ...  0.000002  0.000005  2.824713e-06\n",
              "\n",
              "[5 rows x 11 columns]"
            ]
          },
          "metadata": {
            "tags": []
          },
          "execution_count": 20
        }
      ]
    },
    {
      "cell_type": "code",
      "metadata": {
        "colab": {
          "base_uri": "https://localhost:8080/"
        },
        "id": "CQ-TdpOtkyN7",
        "outputId": "35d7ef51-fc3f-4dc7-e1f6-80d6d8de58cc"
      },
      "source": [
        "# Extract subDataFrame with q-value less than p threshold\n",
        "\n",
        "p = 0.002 # Select p thresholds with listed numbers in the paper\n",
        "\n",
        "phsub = ph[ph['qval'] < p].sort_values('cen_d').reset_index(drop=True)\n",
        "\n",
        "mlist = []\n",
        "fmlist = []\n",
        "\n",
        "for i in range(len(phsub)):\n",
        "  if phsub['gender1'][i] == 'male':\n",
        "    mlist.append(phsub['cen1'][i])\n",
        "    fmlist.append(phsub['cen2'][i])\n",
        "  else:\n",
        "    mlist.append(phsub['cen2'][i])\n",
        "    fmlist.append(phsub['cen1'][i])\n",
        "\n",
        "# Find the standard deviation\n",
        "sd = math.sqrt((np.std(mlist) ** 2 + np.std(fmlist) ** 2)/len(phsub))\n",
        "\n",
        "# Find z-scores (for p-values)\n",
        "print((np.mean(mlist)-np.mean(fmlist))/sd)"
      ],
      "execution_count": null,
      "outputs": [
        {
          "output_type": "stream",
          "text": [
            "-0.6457704432323805\n"
          ],
          "name": "stdout"
        }
      ]
    },
    {
      "cell_type": "code",
      "metadata": {
        "id": "_hvv_In-mcNV"
      },
      "source": [
        ""
      ],
      "execution_count": null,
      "outputs": []
    }
  ]
}