{
  "nbformat": 4,
  "nbformat_minor": 0,
  "metadata": {
    "colab": {
      "name": "Journal Analysis 2 (GitHub)",
      "provenance": [],
      "collapsed_sections": [
        "vh9QfEkJSVXA",
        "rhzWuryOhfvK",
        "UjGNM-FNfS17",
        "xgUaqa6gjP8P",
        "vPg_22VlauFu",
        "LizwR7q17_tI"
      ],
      "include_colab_link": true
    },
    "kernelspec": {
      "name": "python3",
      "display_name": "Python 3"
    }
  },
  "cells": [
    {
      "cell_type": "markdown",
      "metadata": {
        "id": "view-in-github",
        "colab_type": "text"
      },
      "source": [
        "<a href=\"https://colab.research.google.com/github/therobinkay/gender_bias_2021/blob/main/Journal_Analysis_2_(GitHub).ipynb\" target=\"_parent\"><img src=\"https://colab.research.google.com/assets/colab-badge.svg\" alt=\"Open In Colab\"/></a>"
      ]
    },
    {
      "cell_type": "code",
      "metadata": {
        "id": "ddiEVDeSEfiS"
      },
      "source": [
        "# import all necessary packages\n",
        "\n",
        "import io\n",
        "import pandas as pd\n",
        "import os\n",
        "import itertools\n",
        "import numpy as np\n",
        "import scipy.stats\n",
        "import time\n",
        "\n",
        "import matplotlib.pyplot as plt\n",
        "import seaborn as sns\n",
        "\n",
        "from tqdm import tqdm\n",
        "\n",
        "import math\n",
        "\n",
        "import networkx as nx\n",
        "import random"
      ],
      "execution_count": null,
      "outputs": []
    },
    {
      "cell_type": "code",
      "metadata": {
        "id": "dl3dGhekFBYi"
      },
      "source": [
        "# read all necessary .csv files\n",
        "\n",
        "data = pd.read_csv(\"drive/My Drive/data.csv\")\n",
        "dp = pd.read_csv(\"drive/My Drive/doipacs.csv\")\n",
        "cen = pd.read_csv('drive/My Drive/cen.csv')\n",
        "\n",
        "cdata = pd.read_csv('drive/My Drive/cdata.csv')\n",
        "\n",
        "cb = pd.read_csv(\"drive/My Drive/citationBara.csv\")\n",
        "# extra modification for future analyses\n",
        "cb['pair'] = \"(\" + cb[\"citing_doi\"] + \", \" + cb[\"cited_doi\"] + \")\"\n",
        "cb['pair2'] = \"(\" + cb[\"cited_doi\"] + \", \" + cb[\"citing_doi\"] + \")\"\n",
        "\n",
        "rhom = pd.read_csv(\"drive/My Drive/rhom.csv\")"
      ],
      "execution_count": null,
      "outputs": []
    },
    {
      "cell_type": "markdown",
      "metadata": {
        "id": "vh9QfEkJSVXA"
      },
      "source": [
        "## Homophily Preset"
      ]
    },
    {
      "cell_type": "code",
      "metadata": {
        "id": "QtabuJypJmhs",
        "colab": {
          "base_uri": "https://localhost:8080/"
        },
        "outputId": "64d44714-c3cf-436d-f68a-6c4a3b4a015e"
      },
      "source": [
        "# Step 00a: Creating a DataFrame: p(doi, id, gender, year, PACS), r(doi, id, gender, year, PACS)\n",
        "\n",
        "hdata = cdata[cdata['citing_order'] == 1]\n",
        "hdata = hdata[hdata['cited_order'] == 1]\n",
        "\n",
        "hdata = hdata[hdata['citing_is_alpha'] == False]\n",
        "hdata = hdata[hdata['cited_is_alpha'] == False]\n",
        "hdata = hdata.drop(['citing_order', 'cited_order', 'citing_numAuthor', 'cited_numAuthor', 'citing_is_last', 'cited_is_last', 'citing_is_alpha', 'cited_is_alpha', 'cited_year', 'citing_articleType', 'cited_articleType', 'citing_journal', 'cited_journal', 'citing_exceptions', 'cited_exceptions'],axis=1)\n",
        "\n",
        "print(len(hdata))\n",
        "print(hdata['citing_doi'].nunique())\n",
        "\n",
        "hdata.head()"
      ],
      "execution_count": null,
      "outputs": [
        {
          "output_type": "stream",
          "text": [
            "703005\n",
            "134908\n"
          ],
          "name": "stdout"
        },
        {
          "output_type": "execute_result",
          "data": {
            "text/html": [
              "<div>\n",
              "<style scoped>\n",
              "    .dataframe tbody tr th:only-of-type {\n",
              "        vertical-align: middle;\n",
              "    }\n",
              "\n",
              "    .dataframe tbody tr th {\n",
              "        vertical-align: top;\n",
              "    }\n",
              "\n",
              "    .dataframe thead th {\n",
              "        text-align: right;\n",
              "    }\n",
              "</style>\n",
              "<table border=\"1\" class=\"dataframe\">\n",
              "  <thead>\n",
              "    <tr style=\"text-align: right;\">\n",
              "      <th></th>\n",
              "      <th>citing_doi</th>\n",
              "      <th>citing_id</th>\n",
              "      <th>citing_gender</th>\n",
              "      <th>citing_year</th>\n",
              "      <th>citing_0</th>\n",
              "      <th>citing_1</th>\n",
              "      <th>citing_2</th>\n",
              "      <th>citing_3</th>\n",
              "      <th>citing_4</th>\n",
              "      <th>citing_5</th>\n",
              "      <th>citing_6</th>\n",
              "      <th>citing_7</th>\n",
              "      <th>citing_8</th>\n",
              "      <th>citing_9</th>\n",
              "      <th>cited_doi</th>\n",
              "      <th>cited_id</th>\n",
              "      <th>cited_gender</th>\n",
              "      <th>cited_0</th>\n",
              "      <th>cited_1</th>\n",
              "      <th>cited_2</th>\n",
              "      <th>cited_3</th>\n",
              "      <th>cited_4</th>\n",
              "      <th>cited_5</th>\n",
              "      <th>cited_6</th>\n",
              "      <th>cited_7</th>\n",
              "      <th>cited_8</th>\n",
              "      <th>cited_9</th>\n",
              "    </tr>\n",
              "  </thead>\n",
              "  <tbody>\n",
              "    <tr>\n",
              "      <th>86</th>\n",
              "      <td>10.1103/PhysRevB.1.3614</td>\n",
              "      <td>48018</td>\n",
              "      <td>female</td>\n",
              "      <td>1970</td>\n",
              "      <td>False</td>\n",
              "      <td>False</td>\n",
              "      <td>False</td>\n",
              "      <td>False</td>\n",
              "      <td>False</td>\n",
              "      <td>False</td>\n",
              "      <td>False</td>\n",
              "      <td>False</td>\n",
              "      <td>False</td>\n",
              "      <td>False</td>\n",
              "      <td>10.1103/PhysRev.91.174</td>\n",
              "      <td>9374</td>\n",
              "      <td>male</td>\n",
              "      <td>False</td>\n",
              "      <td>False</td>\n",
              "      <td>False</td>\n",
              "      <td>False</td>\n",
              "      <td>False</td>\n",
              "      <td>False</td>\n",
              "      <td>False</td>\n",
              "      <td>False</td>\n",
              "      <td>False</td>\n",
              "      <td>False</td>\n",
              "    </tr>\n",
              "    <tr>\n",
              "      <th>88</th>\n",
              "      <td>10.1103/PhysRev.92.1367</td>\n",
              "      <td>9374</td>\n",
              "      <td>male</td>\n",
              "      <td>1953</td>\n",
              "      <td>False</td>\n",
              "      <td>False</td>\n",
              "      <td>False</td>\n",
              "      <td>False</td>\n",
              "      <td>False</td>\n",
              "      <td>False</td>\n",
              "      <td>False</td>\n",
              "      <td>False</td>\n",
              "      <td>False</td>\n",
              "      <td>False</td>\n",
              "      <td>10.1103/PhysRev.91.174</td>\n",
              "      <td>9374</td>\n",
              "      <td>male</td>\n",
              "      <td>False</td>\n",
              "      <td>False</td>\n",
              "      <td>False</td>\n",
              "      <td>False</td>\n",
              "      <td>False</td>\n",
              "      <td>False</td>\n",
              "      <td>False</td>\n",
              "      <td>False</td>\n",
              "      <td>False</td>\n",
              "      <td>False</td>\n",
              "    </tr>\n",
              "    <tr>\n",
              "      <th>90</th>\n",
              "      <td>10.1103/RevModPhys.62.251</td>\n",
              "      <td>81636</td>\n",
              "      <td>male</td>\n",
              "      <td>1990</td>\n",
              "      <td>False</td>\n",
              "      <td>False</td>\n",
              "      <td>False</td>\n",
              "      <td>False</td>\n",
              "      <td>False</td>\n",
              "      <td>False</td>\n",
              "      <td>False</td>\n",
              "      <td>False</td>\n",
              "      <td>False</td>\n",
              "      <td>False</td>\n",
              "      <td>10.1103/PhysRev.91.174</td>\n",
              "      <td>9374</td>\n",
              "      <td>male</td>\n",
              "      <td>False</td>\n",
              "      <td>False</td>\n",
              "      <td>False</td>\n",
              "      <td>False</td>\n",
              "      <td>False</td>\n",
              "      <td>False</td>\n",
              "      <td>False</td>\n",
              "      <td>False</td>\n",
              "      <td>False</td>\n",
              "      <td>False</td>\n",
              "    </tr>\n",
              "    <tr>\n",
              "      <th>93</th>\n",
              "      <td>10.1103/PhysRevA.10.1494</td>\n",
              "      <td>29373</td>\n",
              "      <td>male</td>\n",
              "      <td>1974</td>\n",
              "      <td>False</td>\n",
              "      <td>False</td>\n",
              "      <td>False</td>\n",
              "      <td>False</td>\n",
              "      <td>False</td>\n",
              "      <td>False</td>\n",
              "      <td>False</td>\n",
              "      <td>False</td>\n",
              "      <td>False</td>\n",
              "      <td>False</td>\n",
              "      <td>10.1103/PhysRev.91.174</td>\n",
              "      <td>9374</td>\n",
              "      <td>male</td>\n",
              "      <td>False</td>\n",
              "      <td>False</td>\n",
              "      <td>False</td>\n",
              "      <td>False</td>\n",
              "      <td>False</td>\n",
              "      <td>False</td>\n",
              "      <td>False</td>\n",
              "      <td>False</td>\n",
              "      <td>False</td>\n",
              "      <td>False</td>\n",
              "    </tr>\n",
              "    <tr>\n",
              "      <th>97</th>\n",
              "      <td>10.1103/PhysRevD.74.085005</td>\n",
              "      <td>57188</td>\n",
              "      <td>male</td>\n",
              "      <td>2006</td>\n",
              "      <td>True</td>\n",
              "      <td>True</td>\n",
              "      <td>False</td>\n",
              "      <td>False</td>\n",
              "      <td>False</td>\n",
              "      <td>False</td>\n",
              "      <td>False</td>\n",
              "      <td>False</td>\n",
              "      <td>False</td>\n",
              "      <td>False</td>\n",
              "      <td>10.1103/PhysRev.91.174</td>\n",
              "      <td>9374</td>\n",
              "      <td>male</td>\n",
              "      <td>False</td>\n",
              "      <td>False</td>\n",
              "      <td>False</td>\n",
              "      <td>False</td>\n",
              "      <td>False</td>\n",
              "      <td>False</td>\n",
              "      <td>False</td>\n",
              "      <td>False</td>\n",
              "      <td>False</td>\n",
              "      <td>False</td>\n",
              "    </tr>\n",
              "  </tbody>\n",
              "</table>\n",
              "</div>"
            ],
            "text/plain": [
              "                    citing_doi  citing_id  ... cited_8  cited_9\n",
              "86     10.1103/PhysRevB.1.3614      48018  ...   False    False\n",
              "88     10.1103/PhysRev.92.1367       9374  ...   False    False\n",
              "90   10.1103/RevModPhys.62.251      81636  ...   False    False\n",
              "93    10.1103/PhysRevA.10.1494      29373  ...   False    False\n",
              "97  10.1103/PhysRevD.74.085005      57188  ...   False    False\n",
              "\n",
              "[5 rows x 27 columns]"
            ]
          },
          "metadata": {
            "tags": []
          },
          "execution_count": 195
        }
      ]
    },
    {
      "cell_type": "code",
      "metadata": {
        "id": "egjDryUoJoAs",
        "colab": {
          "base_uri": "https://localhost:8080/"
        },
        "outputId": "48ef1bef-afd5-40a7-aa0f-8778afb64b25"
      },
      "source": [
        "# Step 00b: Creating a DataFrame: paper, gender, year\n",
        "\n",
        "rhom = hdata[['citing_doi', 'citing_gender', 'citing_year']]\n",
        "rhom = rhom.drop_duplicates(subset = 'citing_doi')\n",
        "rhom.columns = [\"paper\", \"gender\", \"year\"]\n",
        "\n",
        "print(len(rhom))\n",
        "rhom.head()"
      ],
      "execution_count": null,
      "outputs": [
        {
          "output_type": "stream",
          "text": [
            "134908\n"
          ],
          "name": "stdout"
        },
        {
          "output_type": "execute_result",
          "data": {
            "text/html": [
              "<div>\n",
              "<style scoped>\n",
              "    .dataframe tbody tr th:only-of-type {\n",
              "        vertical-align: middle;\n",
              "    }\n",
              "\n",
              "    .dataframe tbody tr th {\n",
              "        vertical-align: top;\n",
              "    }\n",
              "\n",
              "    .dataframe thead th {\n",
              "        text-align: right;\n",
              "    }\n",
              "</style>\n",
              "<table border=\"1\" class=\"dataframe\">\n",
              "  <thead>\n",
              "    <tr style=\"text-align: right;\">\n",
              "      <th></th>\n",
              "      <th>paper</th>\n",
              "      <th>gender</th>\n",
              "      <th>year</th>\n",
              "    </tr>\n",
              "  </thead>\n",
              "  <tbody>\n",
              "    <tr>\n",
              "      <th>86</th>\n",
              "      <td>10.1103/PhysRevB.1.3614</td>\n",
              "      <td>female</td>\n",
              "      <td>1970</td>\n",
              "    </tr>\n",
              "    <tr>\n",
              "      <th>88</th>\n",
              "      <td>10.1103/PhysRev.92.1367</td>\n",
              "      <td>male</td>\n",
              "      <td>1953</td>\n",
              "    </tr>\n",
              "    <tr>\n",
              "      <th>90</th>\n",
              "      <td>10.1103/RevModPhys.62.251</td>\n",
              "      <td>male</td>\n",
              "      <td>1990</td>\n",
              "    </tr>\n",
              "    <tr>\n",
              "      <th>93</th>\n",
              "      <td>10.1103/PhysRevA.10.1494</td>\n",
              "      <td>male</td>\n",
              "      <td>1974</td>\n",
              "    </tr>\n",
              "    <tr>\n",
              "      <th>97</th>\n",
              "      <td>10.1103/PhysRevD.74.085005</td>\n",
              "      <td>male</td>\n",
              "      <td>2006</td>\n",
              "    </tr>\n",
              "  </tbody>\n",
              "</table>\n",
              "</div>"
            ],
            "text/plain": [
              "                         paper  gender  year\n",
              "86     10.1103/PhysRevB.1.3614  female  1970\n",
              "88     10.1103/PhysRev.92.1367    male  1953\n",
              "90   10.1103/RevModPhys.62.251    male  1990\n",
              "93    10.1103/PhysRevA.10.1494    male  1974\n",
              "97  10.1103/PhysRevD.74.085005    male  2006"
            ]
          },
          "metadata": {
            "tags": []
          },
          "execution_count": 196
        }
      ]
    },
    {
      "cell_type": "code",
      "metadata": {
        "id": "yPKGNEehJqAa",
        "colab": {
          "base_uri": "https://localhost:8080/"
        },
        "outputId": "8efecf43-5aa5-457c-a65a-ac29f440a8c9"
      },
      "source": [
        "# Step 01: Creating a DataFrame: paper, reference, count (of reference)\n",
        "\n",
        "N = 9 #enter hom number\n",
        "for N in range(N+1):\n",
        "  cited = 'cited_'+str(N)\n",
        "  citing = 'citing_'+str(N)\n",
        "  \n",
        "  hom = hdata[hdata[cited] == True]\n",
        "  hom = hom[hom[citing] == True]\n",
        "  hom['count'] = hom.groupby('cited_doi')['cited_doi'].transform('count')\n",
        "  hom.sort_values(\"count\", axis = 0, ascending = True, inplace = True, na_position ='first')\n",
        "  hom = hom.drop(['citing_id', 'cited_id', 'citing_gender', 'citing_year', 'cited_gender', 'citing_0', 'citing_1', 'citing_2', 'citing_3', 'citing_4', 'citing_5', 'citing_6', 'citing_7', 'citing_8', 'citing_9', 'cited_0', 'cited_1', 'cited_2', 'cited_3', 'cited_4', 'cited_5', 'cited_6', 'cited_7', 'cited_8', 'cited_9'],axis=1)\n",
        "  hom.columns = [\"paper\", \"reference\", \"count\"]\n",
        "\n",
        "print(len(hom))\n",
        "hom.head()"
      ],
      "execution_count": null,
      "outputs": [
        {
          "output_type": "stream",
          "text": [
            "20686\n"
          ],
          "name": "stdout"
        },
        {
          "output_type": "execute_result",
          "data": {
            "text/html": [
              "<div>\n",
              "<style scoped>\n",
              "    .dataframe tbody tr th:only-of-type {\n",
              "        vertical-align: middle;\n",
              "    }\n",
              "\n",
              "    .dataframe tbody tr th {\n",
              "        vertical-align: top;\n",
              "    }\n",
              "\n",
              "    .dataframe thead th {\n",
              "        text-align: right;\n",
              "    }\n",
              "</style>\n",
              "<table border=\"1\" class=\"dataframe\">\n",
              "  <thead>\n",
              "    <tr style=\"text-align: right;\">\n",
              "      <th></th>\n",
              "      <th>paper</th>\n",
              "      <th>reference</th>\n",
              "      <th>count</th>\n",
              "    </tr>\n",
              "  </thead>\n",
              "  <tbody>\n",
              "    <tr>\n",
              "      <th>9383928</th>\n",
              "      <td>10.1103/PhysRevD.80.123524</td>\n",
              "      <td>10.1103/PhysRevD.79.063512</td>\n",
              "      <td>1</td>\n",
              "    </tr>\n",
              "    <tr>\n",
              "      <th>9127653</th>\n",
              "      <td>10.1103/PhysRevE.79.036314</td>\n",
              "      <td>10.1103/PhysRevE.50.2048</td>\n",
              "      <td>1</td>\n",
              "    </tr>\n",
              "    <tr>\n",
              "      <th>6051565</th>\n",
              "      <td>10.1103/PhysRevB.66.092103</td>\n",
              "      <td>10.1103/PhysRevB.65.193107</td>\n",
              "      <td>1</td>\n",
              "    </tr>\n",
              "    <tr>\n",
              "      <th>6059870</th>\n",
              "      <td>10.1103/PhysRevB.66.092103</td>\n",
              "      <td>10.1103/PhysRevB.63.104111</td>\n",
              "      <td>1</td>\n",
              "    </tr>\n",
              "    <tr>\n",
              "      <th>9128496</th>\n",
              "      <td>10.1103/PhysRevD.78.103007</td>\n",
              "      <td>10.1103/PhysRevD.76.125019</td>\n",
              "      <td>1</td>\n",
              "    </tr>\n",
              "  </tbody>\n",
              "</table>\n",
              "</div>"
            ],
            "text/plain": [
              "                              paper                   reference  count\n",
              "9383928  10.1103/PhysRevD.80.123524  10.1103/PhysRevD.79.063512      1\n",
              "9127653  10.1103/PhysRevE.79.036314    10.1103/PhysRevE.50.2048      1\n",
              "6051565  10.1103/PhysRevB.66.092103  10.1103/PhysRevB.65.193107      1\n",
              "6059870  10.1103/PhysRevB.66.092103  10.1103/PhysRevB.63.104111      1\n",
              "9128496  10.1103/PhysRevD.78.103007  10.1103/PhysRevD.76.125019      1"
            ]
          },
          "metadata": {
            "tags": []
          },
          "execution_count": 288
        }
      ]
    },
    {
      "cell_type": "code",
      "metadata": {
        "id": "QXSId_e_JqDG"
      },
      "source": [
        "# Step 02: Creating a dictionary of 'hom's by count\n",
        "\n",
        "hom_s={key:hom[hom['count']==key] for key in hom['count'].unique()}"
      ],
      "execution_count": null,
      "outputs": []
    },
    {
      "cell_type": "code",
      "metadata": {
        "id": "hXxn5F1oJqFX"
      },
      "source": [
        "# Step 03: Link papers with connections together as groups\n",
        "\n",
        "from collections import defaultdict\n",
        "from itertools import combinations as comb\n",
        "import random\n",
        "\n",
        "homy = {}\n",
        "nunique_list = {}\n",
        "for key, sub_hom_s in hom_s.items():\n",
        "  cbt = sub_hom_s\n",
        "  from_doi = cbt[\"paper\"]\n",
        "  to_doi = cbt[\"reference\"]\n",
        "\n",
        "  nunique_list[key] = len(to_doi.unique())\n",
        "\n",
        "  parent = {}\n",
        "  for ref in to_doi.unique():\n",
        "    parent[ref] = []\n",
        "  for a, b in zip(from_doi, to_doi):\n",
        "    parent[b].append(a)\n",
        "\n",
        "  pair_count = {}\n",
        "  for l in parent.values():\n",
        "    for tp in comb(sorted(l), 2):\n",
        "      if tp in pair_count:\n",
        "        pair_count[tp] += 1\n",
        "      else:\n",
        "        pair_count[tp] = 1\n",
        "  dfc = []\n",
        "  for p, value in pair_count.items():\n",
        "    dfc.append([p[0], p[1], value])\n",
        "  dfc = pd.DataFrame(dfc, columns=['paper1', 'paper2', 'common'])\n",
        "  homy[key] = dfc"
      ],
      "execution_count": null,
      "outputs": []
    },
    {
      "cell_type": "code",
      "metadata": {
        "id": "9H4-kXUWJqKA",
        "colab": {
          "base_uri": "https://localhost:8080/"
        },
        "outputId": "b9200a0d-a043-4f94-d7fb-99489b7a1395"
      },
      "source": [
        "# Step 04: Creating a dictionary: paper1, paper2, reference, common, freq1, freq2\n",
        "\n",
        "from itertools import combinations as comb\n",
        "\n",
        "freq = {}\n",
        "\n",
        "for key, tables in homy.items():\n",
        "  ftable = hom_s[key].groupby([\"paper\"]).size().reset_index(name='frequency')\n",
        "  freq[key] = ftable\n",
        "\n",
        "fin = {}\n",
        "for key, tables in homy.items():\n",
        "  if len(tables) > 0:\n",
        "    tcount = freq[key]\n",
        "    final_table = tables.merge(tcount, left_on='paper1', right_on='paper')\n",
        "    final_table = final_table.merge(tcount, left_on='paper2', right_on='paper')\n",
        "    final_table = final_table.drop(['paper_x', 'paper_y'], axis=1)\n",
        "    \n",
        "    fin[key] = final_table\n",
        "\n",
        "fin[9].head()"
      ],
      "execution_count": null,
      "outputs": [
        {
          "output_type": "execute_result",
          "data": {
            "text/html": [
              "<div>\n",
              "<style scoped>\n",
              "    .dataframe tbody tr th:only-of-type {\n",
              "        vertical-align: middle;\n",
              "    }\n",
              "\n",
              "    .dataframe tbody tr th {\n",
              "        vertical-align: top;\n",
              "    }\n",
              "\n",
              "    .dataframe thead th {\n",
              "        text-align: right;\n",
              "    }\n",
              "</style>\n",
              "<table border=\"1\" class=\"dataframe\">\n",
              "  <thead>\n",
              "    <tr style=\"text-align: right;\">\n",
              "      <th></th>\n",
              "      <th>paper1</th>\n",
              "      <th>paper2</th>\n",
              "      <th>common</th>\n",
              "      <th>frequency_x</th>\n",
              "      <th>frequency_y</th>\n",
              "    </tr>\n",
              "  </thead>\n",
              "  <tbody>\n",
              "    <tr>\n",
              "      <th>0</th>\n",
              "      <td>10.1103/PhysRevE.48.4250</td>\n",
              "      <td>10.1103/PhysRevE.50.2607</td>\n",
              "      <td>1</td>\n",
              "      <td>1</td>\n",
              "      <td>1</td>\n",
              "    </tr>\n",
              "    <tr>\n",
              "      <th>1</th>\n",
              "      <td>10.1103/PhysRevE.48.4250</td>\n",
              "      <td>10.1103/PhysRevE.51.884</td>\n",
              "      <td>1</td>\n",
              "      <td>1</td>\n",
              "      <td>1</td>\n",
              "    </tr>\n",
              "    <tr>\n",
              "      <th>2</th>\n",
              "      <td>10.1103/PhysRevE.50.2607</td>\n",
              "      <td>10.1103/PhysRevE.51.884</td>\n",
              "      <td>1</td>\n",
              "      <td>1</td>\n",
              "      <td>1</td>\n",
              "    </tr>\n",
              "    <tr>\n",
              "      <th>3</th>\n",
              "      <td>10.1103/PhysRevE.48.4250</td>\n",
              "      <td>10.1103/PhysRevE.52.3390</td>\n",
              "      <td>1</td>\n",
              "      <td>1</td>\n",
              "      <td>1</td>\n",
              "    </tr>\n",
              "    <tr>\n",
              "      <th>4</th>\n",
              "      <td>10.1103/PhysRevE.50.2607</td>\n",
              "      <td>10.1103/PhysRevE.52.3390</td>\n",
              "      <td>1</td>\n",
              "      <td>1</td>\n",
              "      <td>1</td>\n",
              "    </tr>\n",
              "  </tbody>\n",
              "</table>\n",
              "</div>"
            ],
            "text/plain": [
              "                     paper1                    paper2  ...  frequency_x  frequency_y\n",
              "0  10.1103/PhysRevE.48.4250  10.1103/PhysRevE.50.2607  ...            1            1\n",
              "1  10.1103/PhysRevE.48.4250   10.1103/PhysRevE.51.884  ...            1            1\n",
              "2  10.1103/PhysRevE.50.2607   10.1103/PhysRevE.51.884  ...            1            1\n",
              "3  10.1103/PhysRevE.48.4250  10.1103/PhysRevE.52.3390  ...            1            1\n",
              "4  10.1103/PhysRevE.50.2607  10.1103/PhysRevE.52.3390  ...            1            1\n",
              "\n",
              "[5 rows x 5 columns]"
            ]
          },
          "metadata": {
            "tags": []
          },
          "execution_count": 291
        }
      ]
    },
    {
      "cell_type": "code",
      "metadata": {
        "id": "7p5KH34pJqML"
      },
      "source": [
        "# Step 05: Assigning q-values to all pairs\n",
        "\n",
        "H_func = scipy.stats.hypergeom.pmf\n",
        "\n",
        "for key, table in fin.items():\n",
        "  qval = []\n",
        "  _dp = {}\n",
        "  nbk = nunique_list[key]\n",
        "\n",
        "  for i, r in table.iterrows():\n",
        "    Hs = []\n",
        "    di, dj = r['frequency_x'], r['frequency_y']\n",
        "    nijk = r['common']\n",
        "\n",
        "    for X in range(nijk):\n",
        "      _ref = (X, nbk, di, dj)\n",
        "      if _ref in _dp:\n",
        "        H = _dp[_ref]\n",
        "      else:\n",
        "        H = H_func(X, nbk, di, dj)\n",
        "        _dp[_ref] = H\n",
        "      Hs.append(H)\n",
        "\n",
        "    qval.append(1-sum(Hs))\n",
        "\n",
        "  fin[key]['qval'] = qval"
      ],
      "execution_count": null,
      "outputs": []
    },
    {
      "cell_type": "code",
      "metadata": {
        "id": "xRBlZgGTJqQ8",
        "colab": {
          "base_uri": "https://localhost:8080/"
        },
        "outputId": "d32d875d-6ad1-4ecd-c3ec-bd55ee06f379"
      },
      "source": [
        "# Step 06: Creating a DataFrame: paper1, paper2, common, freq1, freq2, qval\n",
        "\n",
        "df = pd.concat(fin.values())\n",
        "df.groupby(['paper1', 'paper2']).size()\n",
        "df = df.sort_values(['paper1', 'paper2'])\n",
        "print(len(df))\n",
        "df.sort_values('common', ascending=False).head()"
      ],
      "execution_count": null,
      "outputs": [
        {
          "output_type": "stream",
          "text": [
            "142222\n"
          ],
          "name": "stdout"
        },
        {
          "output_type": "execute_result",
          "data": {
            "text/html": [
              "<div>\n",
              "<style scoped>\n",
              "    .dataframe tbody tr th:only-of-type {\n",
              "        vertical-align: middle;\n",
              "    }\n",
              "\n",
              "    .dataframe tbody tr th {\n",
              "        vertical-align: top;\n",
              "    }\n",
              "\n",
              "    .dataframe thead th {\n",
              "        text-align: right;\n",
              "    }\n",
              "</style>\n",
              "<table border=\"1\" class=\"dataframe\">\n",
              "  <thead>\n",
              "    <tr style=\"text-align: right;\">\n",
              "      <th></th>\n",
              "      <th>paper1</th>\n",
              "      <th>paper2</th>\n",
              "      <th>common</th>\n",
              "      <th>frequency_x</th>\n",
              "      <th>frequency_y</th>\n",
              "      <th>qval</th>\n",
              "    </tr>\n",
              "  </thead>\n",
              "  <tbody>\n",
              "    <tr>\n",
              "      <th>2164</th>\n",
              "      <td>10.1103/PhysRevD.68.024016</td>\n",
              "      <td>10.1103/PhysRevD.68.103512</td>\n",
              "      <td>4</td>\n",
              "      <td>4</td>\n",
              "      <td>4</td>\n",
              "      <td>1.797510e-07</td>\n",
              "    </tr>\n",
              "    <tr>\n",
              "      <th>2177</th>\n",
              "      <td>10.1103/PhysRevD.68.103512</td>\n",
              "      <td>10.1103/PhysRevD.70.043513</td>\n",
              "      <td>4</td>\n",
              "      <td>4</td>\n",
              "      <td>4</td>\n",
              "      <td>1.797510e-07</td>\n",
              "    </tr>\n",
              "    <tr>\n",
              "      <th>2175</th>\n",
              "      <td>10.1103/PhysRevD.68.024016</td>\n",
              "      <td>10.1103/PhysRevD.70.043513</td>\n",
              "      <td>4</td>\n",
              "      <td>4</td>\n",
              "      <td>4</td>\n",
              "      <td>1.797510e-07</td>\n",
              "    </tr>\n",
              "    <tr>\n",
              "      <th>343</th>\n",
              "      <td>10.1103/PhysRevD.67.023509</td>\n",
              "      <td>10.1103/PhysRevD.67.123515</td>\n",
              "      <td>4</td>\n",
              "      <td>4</td>\n",
              "      <td>4</td>\n",
              "      <td>1.031845e-07</td>\n",
              "    </tr>\n",
              "    <tr>\n",
              "      <th>1030</th>\n",
              "      <td>10.1103/PhysRevD.72.023510</td>\n",
              "      <td>10.1103/PhysRevD.80.083002</td>\n",
              "      <td>3</td>\n",
              "      <td>3</td>\n",
              "      <td>4</td>\n",
              "      <td>1.258851e-05</td>\n",
              "    </tr>\n",
              "  </tbody>\n",
              "</table>\n",
              "</div>"
            ],
            "text/plain": [
              "                          paper1  ...          qval\n",
              "2164  10.1103/PhysRevD.68.024016  ...  1.797510e-07\n",
              "2177  10.1103/PhysRevD.68.103512  ...  1.797510e-07\n",
              "2175  10.1103/PhysRevD.68.024016  ...  1.797510e-07\n",
              "343   10.1103/PhysRevD.67.023509  ...  1.031845e-07\n",
              "1030  10.1103/PhysRevD.72.023510  ...  1.258851e-05\n",
              "\n",
              "[5 rows x 6 columns]"
            ]
          },
          "metadata": {
            "tags": []
          },
          "execution_count": 293
        }
      ]
    },
    {
      "cell_type": "code",
      "metadata": {
        "id": "7ATgMGogJqTe",
        "colab": {
          "base_uri": "https://localhost:8080/"
        },
        "outputId": "1033fcb4-7a43-450d-a72e-db24a8caa92a"
      },
      "source": [
        "# Step 07: Combining equivalent pairs together with the minimum qval\n",
        "\n",
        "dff = df.drop([\"common\", \"frequency_x\", \"frequency_y\"], axis=1).sort_values([\"paper1\", \"paper2\", \"qval\"]).reset_index(drop=True)\n",
        "dff_min = dff.groupby([\"paper1\", \"paper2\"], as_index=False).min()\n",
        "dff_min_qval = np.array(dff_min['qval'])\n",
        "\n",
        "print(len(dff_min))\n",
        "dff_min.sort_values('qval').head()"
      ],
      "execution_count": null,
      "outputs": [
        {
          "output_type": "stream",
          "text": [
            "103313\n"
          ],
          "name": "stdout"
        },
        {
          "output_type": "execute_result",
          "data": {
            "text/html": [
              "<div>\n",
              "<style scoped>\n",
              "    .dataframe tbody tr th:only-of-type {\n",
              "        vertical-align: middle;\n",
              "    }\n",
              "\n",
              "    .dataframe tbody tr th {\n",
              "        vertical-align: top;\n",
              "    }\n",
              "\n",
              "    .dataframe thead th {\n",
              "        text-align: right;\n",
              "    }\n",
              "</style>\n",
              "<table border=\"1\" class=\"dataframe\">\n",
              "  <thead>\n",
              "    <tr style=\"text-align: right;\">\n",
              "      <th></th>\n",
              "      <th>paper1</th>\n",
              "      <th>paper2</th>\n",
              "      <th>qval</th>\n",
              "    </tr>\n",
              "  </thead>\n",
              "  <tbody>\n",
              "    <tr>\n",
              "      <th>100335</th>\n",
              "      <td>10.1103/PhysRevD.80.083002</td>\n",
              "      <td>10.1103/PhysRevD.80.126018</td>\n",
              "      <td>6.411863e-08</td>\n",
              "    </tr>\n",
              "    <tr>\n",
              "      <th>20468</th>\n",
              "      <td>10.1103/PhysRevD.60.104040</td>\n",
              "      <td>10.1103/PhysRevD.69.084018</td>\n",
              "      <td>6.411863e-08</td>\n",
              "    </tr>\n",
              "    <tr>\n",
              "      <th>43693</th>\n",
              "      <td>10.1103/PhysRevD.67.023509</td>\n",
              "      <td>10.1103/PhysRevD.67.123515</td>\n",
              "      <td>1.031845e-07</td>\n",
              "    </tr>\n",
              "    <tr>\n",
              "      <th>88955</th>\n",
              "      <td>10.1103/PhysRevD.77.023513</td>\n",
              "      <td>10.1103/PhysRevLett.94.151601</td>\n",
              "      <td>1.233891e-07</td>\n",
              "    </tr>\n",
              "    <tr>\n",
              "      <th>57204</th>\n",
              "      <td>10.1103/PhysRevD.70.043513</td>\n",
              "      <td>10.1103/PhysRevD.70.044021</td>\n",
              "      <td>1.233891e-07</td>\n",
              "    </tr>\n",
              "  </tbody>\n",
              "</table>\n",
              "</div>"
            ],
            "text/plain": [
              "                            paper1                         paper2          qval\n",
              "100335  10.1103/PhysRevD.80.083002     10.1103/PhysRevD.80.126018  6.411863e-08\n",
              "20468   10.1103/PhysRevD.60.104040     10.1103/PhysRevD.69.084018  6.411863e-08\n",
              "43693   10.1103/PhysRevD.67.023509     10.1103/PhysRevD.67.123515  1.031845e-07\n",
              "88955   10.1103/PhysRevD.77.023513  10.1103/PhysRevLett.94.151601  1.233891e-07\n",
              "57204   10.1103/PhysRevD.70.043513     10.1103/PhysRevD.70.044021  1.233891e-07"
            ]
          },
          "metadata": {
            "tags": []
          },
          "execution_count": 294
        }
      ]
    },
    {
      "cell_type": "code",
      "metadata": {
        "id": "pldwDrrYJqV_",
        "colab": {
          "base_uri": "https://localhost:8080/"
        },
        "outputId": "d10bd8fe-c908-4806-c4fd-34ed0416f4dc"
      },
      "source": [
        "# Step 08: Assigning k to all pairs\n",
        "\n",
        "pairs = \"(\" + dff_min[\"paper1\"] + \", \" + dff_min[\"paper2\"] + \")\"\n",
        "dff_min['k'] = pairs.isin(cb.pair) | pairs.isin(cb.pair2)\n",
        "\n",
        "print(len(dff_min))\n",
        "print(sum(dff_min['k']))\n",
        "dff_min.head()"
      ],
      "execution_count": null,
      "outputs": [
        {
          "output_type": "stream",
          "text": [
            "103313\n",
            "10278\n"
          ],
          "name": "stdout"
        },
        {
          "output_type": "execute_result",
          "data": {
            "text/html": [
              "<div>\n",
              "<style scoped>\n",
              "    .dataframe tbody tr th:only-of-type {\n",
              "        vertical-align: middle;\n",
              "    }\n",
              "\n",
              "    .dataframe tbody tr th {\n",
              "        vertical-align: top;\n",
              "    }\n",
              "\n",
              "    .dataframe thead th {\n",
              "        text-align: right;\n",
              "    }\n",
              "</style>\n",
              "<table border=\"1\" class=\"dataframe\">\n",
              "  <thead>\n",
              "    <tr style=\"text-align: right;\">\n",
              "      <th></th>\n",
              "      <th>paper1</th>\n",
              "      <th>paper2</th>\n",
              "      <th>qval</th>\n",
              "      <th>k</th>\n",
              "    </tr>\n",
              "  </thead>\n",
              "  <tbody>\n",
              "    <tr>\n",
              "      <th>0</th>\n",
              "      <td>10.1103/PhysRevA.35.4035</td>\n",
              "      <td>10.1103/PhysRevA.36.4163</td>\n",
              "      <td>0.001441</td>\n",
              "      <td>False</td>\n",
              "    </tr>\n",
              "    <tr>\n",
              "      <th>1</th>\n",
              "      <td>10.1103/PhysRevA.36.4700</td>\n",
              "      <td>10.1103/PhysRevA.38.1839</td>\n",
              "      <td>0.003817</td>\n",
              "      <td>True</td>\n",
              "    </tr>\n",
              "    <tr>\n",
              "      <th>2</th>\n",
              "      <td>10.1103/PhysRevA.36.4700</td>\n",
              "      <td>10.1103/PhysRevA.40.6260</td>\n",
              "      <td>0.003817</td>\n",
              "      <td>True</td>\n",
              "    </tr>\n",
              "    <tr>\n",
              "      <th>3</th>\n",
              "      <td>10.1103/PhysRevA.36.4700</td>\n",
              "      <td>10.1103/PhysRevA.40.6931</td>\n",
              "      <td>0.003817</td>\n",
              "      <td>True</td>\n",
              "    </tr>\n",
              "    <tr>\n",
              "      <th>4</th>\n",
              "      <td>10.1103/PhysRevA.36.4700</td>\n",
              "      <td>10.1103/PhysRevA.47.4065</td>\n",
              "      <td>0.003817</td>\n",
              "      <td>True</td>\n",
              "    </tr>\n",
              "  </tbody>\n",
              "</table>\n",
              "</div>"
            ],
            "text/plain": [
              "                     paper1                    paper2      qval      k\n",
              "0  10.1103/PhysRevA.35.4035  10.1103/PhysRevA.36.4163  0.001441  False\n",
              "1  10.1103/PhysRevA.36.4700  10.1103/PhysRevA.38.1839  0.003817   True\n",
              "2  10.1103/PhysRevA.36.4700  10.1103/PhysRevA.40.6260  0.003817   True\n",
              "3  10.1103/PhysRevA.36.4700  10.1103/PhysRevA.40.6931  0.003817   True\n",
              "4  10.1103/PhysRevA.36.4700  10.1103/PhysRevA.47.4065  0.003817   True"
            ]
          },
          "metadata": {
            "tags": []
          },
          "execution_count": 295
        }
      ]
    },
    {
      "cell_type": "code",
      "metadata": {
        "id": "6K_7uT26JqY6",
        "colab": {
          "base_uri": "https://localhost:8080/"
        },
        "outputId": "549c7512-2e3d-4684-f6a8-a07043cdb2d7"
      },
      "source": [
        "# Step 09: Merging a DataFrame: adding gender & year\n",
        "\n",
        "dff_min = dff_min.merge(rhom, left_on='paper1', right_on='paper', how='inner')\n",
        "dff_min = dff_min.drop(['paper'], axis=1)\n",
        "dff_min = dff_min.rename({'gender': 'gender1', 'year': 'year1'}, axis=1)\n",
        "\n",
        "dff_min = dff_min.merge(rhom, left_on='paper2', right_on='paper', how='inner')\n",
        "dff_min = dff_min.drop(['paper'], axis=1)\n",
        "dff_min = dff_min.rename({'gender': 'gender2', 'year': 'year2'}, axis=1)\n",
        "\n",
        "cols = ['paper1', 'gender1', 'year1', 'paper2', 'gender2', 'year2', 'qval', 'k']\n",
        "\n",
        "dff_min = dff_min.reindex(columns=cols)\n",
        "\n",
        "print(len(dff_min))\n",
        "dff_min.head()"
      ],
      "execution_count": null,
      "outputs": [
        {
          "output_type": "stream",
          "text": [
            "103313\n"
          ],
          "name": "stdout"
        },
        {
          "output_type": "execute_result",
          "data": {
            "text/html": [
              "<div>\n",
              "<style scoped>\n",
              "    .dataframe tbody tr th:only-of-type {\n",
              "        vertical-align: middle;\n",
              "    }\n",
              "\n",
              "    .dataframe tbody tr th {\n",
              "        vertical-align: top;\n",
              "    }\n",
              "\n",
              "    .dataframe thead th {\n",
              "        text-align: right;\n",
              "    }\n",
              "</style>\n",
              "<table border=\"1\" class=\"dataframe\">\n",
              "  <thead>\n",
              "    <tr style=\"text-align: right;\">\n",
              "      <th></th>\n",
              "      <th>paper1</th>\n",
              "      <th>gender1</th>\n",
              "      <th>year1</th>\n",
              "      <th>paper2</th>\n",
              "      <th>gender2</th>\n",
              "      <th>year2</th>\n",
              "      <th>qval</th>\n",
              "      <th>k</th>\n",
              "    </tr>\n",
              "  </thead>\n",
              "  <tbody>\n",
              "    <tr>\n",
              "      <th>0</th>\n",
              "      <td>10.1103/PhysRevA.35.4035</td>\n",
              "      <td>male</td>\n",
              "      <td>1987</td>\n",
              "      <td>10.1103/PhysRevA.36.4163</td>\n",
              "      <td>male</td>\n",
              "      <td>1987</td>\n",
              "      <td>0.001441</td>\n",
              "      <td>False</td>\n",
              "    </tr>\n",
              "    <tr>\n",
              "      <th>1</th>\n",
              "      <td>10.1103/PhysRevA.36.4700</td>\n",
              "      <td>male</td>\n",
              "      <td>1987</td>\n",
              "      <td>10.1103/PhysRevA.38.1839</td>\n",
              "      <td>male</td>\n",
              "      <td>1988</td>\n",
              "      <td>0.003817</td>\n",
              "      <td>True</td>\n",
              "    </tr>\n",
              "    <tr>\n",
              "      <th>2</th>\n",
              "      <td>10.1103/PhysRevA.36.4700</td>\n",
              "      <td>male</td>\n",
              "      <td>1987</td>\n",
              "      <td>10.1103/PhysRevA.40.6260</td>\n",
              "      <td>male</td>\n",
              "      <td>1989</td>\n",
              "      <td>0.003817</td>\n",
              "      <td>True</td>\n",
              "    </tr>\n",
              "    <tr>\n",
              "      <th>3</th>\n",
              "      <td>10.1103/PhysRevA.38.1839</td>\n",
              "      <td>male</td>\n",
              "      <td>1988</td>\n",
              "      <td>10.1103/PhysRevA.40.6260</td>\n",
              "      <td>male</td>\n",
              "      <td>1989</td>\n",
              "      <td>0.000015</td>\n",
              "      <td>True</td>\n",
              "    </tr>\n",
              "    <tr>\n",
              "      <th>4</th>\n",
              "      <td>10.1103/PhysRevA.36.4700</td>\n",
              "      <td>male</td>\n",
              "      <td>1987</td>\n",
              "      <td>10.1103/PhysRevA.40.6931</td>\n",
              "      <td>male</td>\n",
              "      <td>1989</td>\n",
              "      <td>0.003817</td>\n",
              "      <td>True</td>\n",
              "    </tr>\n",
              "  </tbody>\n",
              "</table>\n",
              "</div>"
            ],
            "text/plain": [
              "                     paper1 gender1  year1  ... year2      qval      k\n",
              "0  10.1103/PhysRevA.35.4035    male   1987  ...  1987  0.001441  False\n",
              "1  10.1103/PhysRevA.36.4700    male   1987  ...  1988  0.003817   True\n",
              "2  10.1103/PhysRevA.36.4700    male   1987  ...  1989  0.003817   True\n",
              "3  10.1103/PhysRevA.38.1839    male   1988  ...  1989  0.000015   True\n",
              "4  10.1103/PhysRevA.36.4700    male   1987  ...  1989  0.003817   True\n",
              "\n",
              "[5 rows x 8 columns]"
            ]
          },
          "metadata": {
            "tags": []
          },
          "execution_count": 296
        }
      ]
    },
    {
      "cell_type": "code",
      "metadata": {
        "id": "lILxQiBMD68u"
      },
      "source": [
        "# Step XX: Converting to .csv file\n",
        "\n",
        "dff_min.to_csv(r'drive/My Drive/hom9.csv',index=False)"
      ],
      "execution_count": null,
      "outputs": []
    },
    {
      "cell_type": "markdown",
      "metadata": {
        "id": "rhzWuryOhfvK"
      },
      "source": [
        "## Analysis"
      ]
    },
    {
      "cell_type": "code",
      "metadata": {
        "id": "BmH_VnFzXZ6e"
      },
      "source": [
        "############## SELECT DESIRED PACS (HOMOPHILY ONLY) ###############\n",
        "\n",
        "homn = pd.read_csv(\"drive/My Drive/hom0.csv\")\n",
        "# homn = pd.read_csv(\"drive/My Drive/hom1.csv\")\n",
        "# homn = pd.read_csv(\"drive/My Drive/hom2.csv\")\n",
        "# homn = pd.read_csv(\"drive/My Drive/hom3.csv\")\n",
        "# homn = pd.read_csv(\"drive/My Drive/hom4.csv\")\n",
        "# homn = pd.read_csv(\"drive/My Drive/hom5.csv\")\n",
        "# homn = pd.read_csv(\"drive/My Drive/hom6.csv\")\n",
        "# homn = pd.read_csv(\"drive/My Drive/hom7.csv\")\n",
        "# homn = pd.read_csv(\"drive/My Drive/hom8.csv\")\n",
        "# homn = pd.read_csv(\"drive/My Drive/hom9.csv\")\n",
        "\n",
        "print(len(homn))\n",
        "homn.head()"
      ],
      "execution_count": null,
      "outputs": []
    },
    {
      "cell_type": "code",
      "metadata": {
        "id": "ZAoXxTMKKA9B",
        "colab": {
          "base_uri": "https://localhost:8080/",
          "height": 35
        },
        "outputId": "c628b555-afc4-4123-f189-48bb433aa50a"
      },
      "source": [
        "# evaluate similar pairs by different p*\n",
        "# evaluate the citation relationship within pairs\n",
        "\n",
        "homn_qval = np.array(homn['qval'])\n",
        "\n",
        "plist = np.unique(homn_qval)\n",
        "klist = []\n",
        "mlist = []\n",
        "\n",
        "for pstar in tqdm(plist):\n",
        "    result = homn_qval < pstar\n",
        "    sim = homn[result]\n",
        "    mlist.append(len(sim))\n",
        "    klist.append(sum(sim[\"k\"]))"
      ],
      "execution_count": null,
      "outputs": [
        {
          "output_type": "stream",
          "text": [
            "100%|██████████| 454/454 [00:04<00:00, 97.84it/s]\n"
          ],
          "name": "stderr"
        }
      ]
    },
    {
      "cell_type": "code",
      "metadata": {
        "id": "OyMq4LgeKtyD",
        "colab": {
          "base_uri": "https://localhost:8080/",
          "height": 347
        },
        "outputId": "5874285a-ee67-418b-a0f6-0f202054d137"
      },
      "source": [
        "# create a P(p*) plot - manual PACS modification required\n",
        "\n",
        "y_low = 0.15\n",
        "y_high = 0.65\n",
        "title = 'Atomic and Molecular Physics' \n",
        "\n",
        "plt.figure(1)\n",
        "plt.plot(plist, np.array(klist)/np.array(mlist), color ='red')\n",
        "\n",
        "plt.title(title)\n",
        "plt.xlabel(\"p*\")\n",
        "plt.xlim(0.0000001,0.01)\n",
        "plt.ylabel(\"P(p*)\")\n",
        "plt.ylim(ymin=y_low, ymax=y_high)"
      ],
      "execution_count": null,
      "outputs": [
        {
          "output_type": "stream",
          "text": [
            "/usr/local/lib/python3.6/dist-packages/ipykernel_launcher.py:6: RuntimeWarning: invalid value encountered in true_divide\n",
            "  \n"
          ],
          "name": "stderr"
        },
        {
          "output_type": "execute_result",
          "data": {
            "text/plain": [
              "(0.15, 0.65)"
            ]
          },
          "metadata": {
            "tags": []
          },
          "execution_count": 104
        },
        {
          "output_type": "display_data",
          "data": {
            "image/png": "[encoded data removed]",
            "text/plain": [
              "<Figure size 432x288 with 1 Axes>"
            ]
          },
          "metadata": {
            "tags": []
          }
        }
      ]
    },
    {
      "cell_type": "markdown",
      "metadata": {
        "id": "Y8Sgf_rssr25"
      },
      "source": [
        "## Toy"
      ]
    },
    {
      "cell_type": "code",
      "metadata": {
        "id": "GwEDfpFAiOk6"
      },
      "source": [
        "# Reproduction of the toy example listed in the thesis\n",
        "\n",
        "# find several papers with high relations to each other\n",
        "\n",
        "otoy = pd.DataFrame([['10.1103/PhysRevA.49.1637'],\n",
        "  ['10.1103/PhysRevA.33.3706'],\n",
        "  ['10.1103/PhysRevA.71.032514'],\n",
        "  ['10.1103/PhysRevA.73.022503'],\n",
        "  ['10.1103/PhysRevA.70.032502'],\n",
        "  ['10.1103/PhysRevA.77.032511'],\n",
        "  ['10.1103/PhysRevLett.99.240402'],\n",
        "  ['10.1103/PhysRevA.72.062502'],\n",
        "  ['10.1103/PhysRevLett.95.050407'],\n",
        "  ['10.1103/PhysRevLett.101.240406'],\n",
        "  ['10.1103/PhysRevA.53.168'],\n",
        "  ['10.1103/PhysRevA.77.044501'],\n",
        "  ['10.1103/PhysRevE.53.4236'],\n",
        "  ['10.1103/PhysRevD.64.036007'],\n",
        "  ['10.1103/PhysRevA.56.139'],\n",
        "  ['10.1103/PhysRevD.76.125028'],\n",
        "  ['10.1103/PhysRevD.63.056002'],\n",
        "  ['10.1103/PhysRevLett.64.2733'],\n",
        "  ['10.1103/PhysRevD.50.5443'],\n",
        "  ['10.1103/PhysRevD.45.1233'],\n",
        "  ['10.1103/PhysRevA.54.3790'],\n",
        "  ['10.1103/PhysRevD.46.1088'],\n",
        "  ['10.1103/PhysRevA.51.4419'],\n",
        "  ['10.1103/PhysRevA.60.5091'],\n",
        "  ['10.1103/PhysRevD.46.5177'],\n",
        "  ['10.1103/PhysRevA.44.4728'],\n",
        "  ['10.1103/PhysRevE.71.026705'],\n",
        "  ['10.1103/PhysRevD.50.4611'],\n",
        "  ['10.1103/PhysRevE.75.026705'],\n",
        "  ['10.1103/PhysRevE.64.016703'],\n",
        "  ['10.1103/PhysRevD.79.114007'],\n",
        "  ['10.1103/PhysRevE.59.1207'],\n",
        "  ['10.1103/PhysRevD.79.094020']], columns=['doi'])"
      ],
      "execution_count": null,
      "outputs": []
    },
    {
      "cell_type": "code",
      "metadata": {
        "id": "hfIUcwyV2R3M"
      },
      "source": [
        "# Assign code number to the pairs\n",
        "\n",
        "otoy_test = otoy.merge(rhom, left_on='doi', right_on='paper',\n",
        "                       how='inner').drop(['doi'], axis=1)\n",
        "print(len(otoy_test))\n",
        "\n",
        "code = [\"A\", \"B\", \"C\", \"D\", \"E\", \"F\", \"G\", \"H\", \"I\", \"J\", \"K\", \"L\", \"M\", \"N\",\n",
        "        \"O\", \"P\", \"Q\", \"R\", \"S\", \"T\", \"U\", \"V\", \"W\", \"X\", \"Y\", \"Z\", \"AA\", \"AB\",\n",
        "        \"AC\", \"AD\", \"AE\", \"AF\"]\n",
        "\n",
        "otoy_test = otoy_test.sort_values('year')\n",
        "otoy_test['code'] = code"
      ],
      "execution_count": null,
      "outputs": []
    },
    {
      "cell_type": "code",
      "metadata": {
        "id": "kAzpkH7e67r8"
      },
      "source": [
        "# Create a Master DataFrame for the toy example (doi, gender, year, code)\n",
        "\n",
        "cb = cb[['citing_doi', 'cited_doi']]\n",
        "toytest = pd.merge(otoy_test, cb, left_on='paper', right_on='citing_doi',\n",
        "                   how='left').drop(['citing_doi'], axis=1)\n",
        "toytest.columns = ['paper', 'pgender', 'pyear', 'pcode', 'cited_doi']\n",
        "toytest = toytest.merge(rhom, left_on='cited_doi', right_on='paper',\n",
        "                        how='inner').drop(['cited_doi'], axis=1)\n",
        "toytest.columns = ['paper', 'pgender', 'pyear', 'pcode', 'reference', 'rgender',\n",
        "                   'ryear']\n",
        "toytest = toytest.merge(otoy_test, left_on='reference', right_on='paper',\n",
        "                        how='inner').drop(['paper_y', 'gender', 'year'], axis=1)\n",
        "toytest.columns = ['paper', 'pgender', 'pyear', 'pcode', 'reference', 'rgender',\n",
        "                   'ryear', 'rcode']\n",
        "\n",
        "toytest = toytest[toytest['reference'].isin(otoy_test.paper)]\n",
        "\n",
        "toytest['count'] = toytest.groupby('reference')['reference'].transform('count')\n",
        "toytest.sort_values(\"count\", axis = 0, ascending = True, inplace = True,\n",
        "                    na_position ='first')"
      ],
      "execution_count": null,
      "outputs": []
    },
    {
      "cell_type": "code",
      "metadata": {
        "id": "J-CCccKljhU6"
      },
      "source": [
        "# Calculate the frequency of the appearance of the reference for similarity\n",
        "\n",
        "cb = cb[['citing_doi', 'cited_doi']]\n",
        "toy = pd.merge(otoy, cb, left_on='doi', right_on='citing_doi',\n",
        "               how='left').drop(['citing_doi'], axis=1)\n",
        "toy.columns = ['paper', 'reference']\n",
        "toy = toy[toy['reference'].isin(otoy.doi)]\n",
        "\n",
        "toy['count'] = toy.groupby('reference')['reference'].transform('count')\n",
        "toy.sort_values(\"count\", axis = 0, ascending = True, inplace = True,\n",
        "                na_position ='first')"
      ],
      "execution_count": null,
      "outputs": []
    },
    {
      "cell_type": "code",
      "metadata": {
        "id": "YnXIlEiqQEo6"
      },
      "source": [
        "# Run the exactly identical similarity algorithm introduced earlier\n",
        "\n",
        "toy_s={key:toy[toy['count']==key] for key in toy['count'].unique()}\n",
        "\n",
        "# from collections import defaultdict\n",
        "# from itertools import combinations as comb\n",
        "# import random\n",
        "\n",
        "toyy = {}\n",
        "tunique_list = {}\n",
        "for key, sub_toy_s in toy_s.items():\n",
        "  cbt = sub_toy_s\n",
        "  from_doi = cbt[\"paper\"]\n",
        "  to_doi = cbt[\"reference\"]\n",
        "\n",
        "  tunique_list[key] = len(to_doi.unique())\n",
        "\n",
        "  parent = {}\n",
        "  for ref in to_doi.unique():\n",
        "    parent[ref] = []\n",
        "  for a, b in zip(from_doi, to_doi):\n",
        "    parent[b].append(a)\n",
        "\n",
        "  pair_count = {}\n",
        "  for l in parent.values():\n",
        "    for tp in comb(sorted(l), 2):\n",
        "      if tp in pair_count:\n",
        "        pair_count[tp] += 1\n",
        "      else:\n",
        "        pair_count[tp] = 1\n",
        "  dfc = []\n",
        "  for p, value in pair_count.items():\n",
        "    dfc.append([p[0], p[1], value])\n",
        "  dfc = pd.DataFrame(dfc, columns=['paper1', 'paper2', 'common'])\n",
        "  toyy[key] = dfc\n",
        "\n",
        "# from itertools import combinations as comb\n",
        "\n",
        "freq = {}\n",
        "\n",
        "for key, tables in toyy.items():\n",
        "  ftable = toy_s[key].groupby([\"paper\"]).size().reset_index(name='frequency')\n",
        "  freq[key] = ftable\n",
        "\n",
        "fin = {}\n",
        "for key, tables in toyy.items():\n",
        "  if len(tables) > 0:\n",
        "    tcount = freq[key]\n",
        "    final_table = tables.merge(tcount, left_on='paper1', right_on='paper')\n",
        "    final_table = final_table.merge(tcount, left_on='paper2', right_on='paper')\n",
        "    final_table = final_table.drop(['paper_x', 'paper_y'], axis=1)\n",
        "    \n",
        "    fin[key] = final_table\n",
        "\n",
        "H_func = scipy.stats.hypergeom.pmf\n",
        "\n",
        "for key, table in fin.items():\n",
        "  qval = []\n",
        "  _dp = {}\n",
        "  nbk = tunique_list[key]\n",
        "\n",
        "  for i, r in table.iterrows():\n",
        "    Hs = []\n",
        "    di, dj = r['frequency_x'], r['frequency_y']\n",
        "    nijk = r['common']\n",
        "\n",
        "    for X in range(nijk):\n",
        "      _ref = (X, nbk, di, dj)\n",
        "      if _ref in _dp:\n",
        "        H = _dp[_ref]\n",
        "      else:\n",
        "        H = H_func(X, nbk, di, dj)\n",
        "        _dp[_ref] = H\n",
        "      Hs.append(H)\n",
        "\n",
        "    qval.append(1-sum(Hs))\n",
        "\n",
        "  fin[key]['qval'] = qval\n",
        "\n",
        "df = pd.concat(fin.values())\n",
        "df.groupby(['paper1', 'paper2']).size()\n",
        "df = df.sort_values(['paper1', 'paper2'])\n",
        "\n",
        "dff = df.drop([\"common\", \"frequency_x\", \"frequency_y\"],\n",
        "              axis=1).sort_values([\"paper1\", \"paper2\",\n",
        "                                   \"qval\"]).reset_index(drop=True)\n",
        "dff_min = dff.groupby([\"paper1\", \"paper2\"], as_index=False).min()\n",
        "dff_min_qval = np.array(dff_min['qval'])\n",
        "\n",
        "cb['pair'] = \"(\" + cb[\"citing_doi\"] + \", \" + cb[\"cited_doi\"] + \")\"\n",
        "cb['pair2'] = \"(\" + cb[\"cited_doi\"] + \", \" + cb[\"citing_doi\"] + \")\"\n",
        "\n",
        "pairs = \"(\" + dff_min[\"paper1\"] + \", \" + dff_min[\"paper2\"] + \")\"\n",
        "dff_min['k'] = pairs.isin(cb.pair) | pairs.isin(cb.pair2)\n",
        "\n",
        "dff_min = dff_min.merge(rhom, left_on='paper1', right_on='paper', how='inner')\n",
        "dff_min = dff_min.drop(['paper'], axis=1)\n",
        "dff_min = dff_min.rename({'gender': 'gender1', 'year': 'year1'}, axis=1)\n",
        "\n",
        "dff_min = dff_min.merge(rhom, left_on='paper2', right_on='paper', how='inner')\n",
        "dff_min = dff_min.drop(['paper'], axis=1)\n",
        "dff_min = dff_min.rename({'gender': 'gender2', 'year': 'year2'}, axis=1)\n",
        "\n",
        "cols = ['paper1', 'gender1', 'year1', 'paper2', 'gender2', 'year2', 'qval', 'k']\n",
        "\n",
        "dff_min = dff_min.reindex(columns=cols)\n",
        "\n",
        "df_test = dff_min.merge(otoy_test, left_on = 'paper1', right_on = 'paper',\n",
        "                        how='inner').drop(['paper', 'gender', 'year'], axis=1)\n",
        "df_test.columns = ['paper1', 'gender1', 'year1', 'paper2', 'gender2', 'year2',\n",
        "                   'qval', 'k', 'code1']\n",
        "\n",
        "df_test = df_test.merge(otoy_test, left_on = 'paper2', right_on = 'paper',\n",
        "                        how='inner').drop(['paper', 'gender', 'year'], axis=1)\n",
        "df_test.columns = ['paper1', 'gender1', 'year1', 'paper2', 'gender2', 'year2',\n",
        "                   'qval', 'k', 'code1', 'code2']"
      ],
      "execution_count": null,
      "outputs": []
    },
    {
      "cell_type": "code",
      "metadata": {
        "id": "ql2kbBeMR5lH",
        "colab": {
          "base_uri": "https://localhost:8080/"
        },
        "outputId": "c5b8b02c-bee7-4b6c-f6bc-b05f78d1e2bd"
      },
      "source": [
        "homn = dff_min\n",
        "\n",
        "homn_qval = np.array(homn['qval'])\n",
        "\n",
        "plist = np.unique(homn_qval)\n",
        "klist = []\n",
        "mlist = []\n",
        "\n",
        "for pstar in tqdm(plist):\n",
        "    result = homn_qval < pstar\n",
        "    sim = homn[result]\n",
        "    mlist.append(len(sim))\n",
        "    klist.append(sum(sim[\"k\"]))"
      ],
      "execution_count": null,
      "outputs": [
        {
          "output_type": "stream",
          "text": [
            "100%|██████████| 7/7 [00:00<00:00, 806.51it/s]\n"
          ],
          "name": "stderr"
        }
      ]
    },
    {
      "cell_type": "code",
      "metadata": {
        "id": "0u7oK3-wSBNq",
        "colab": {
          "base_uri": "https://localhost:8080/"
        },
        "outputId": "eb153e07-3ae4-4bfb-8bdf-7fe0e7bc8496"
      },
      "source": [
        "# Find K(p*) and M(p*)\n",
        "\n",
        "plt.plot(plist, klist)\n",
        "plt.plot(plist, mlist)\n",
        "\n",
        "plt.title('Toy')\n",
        "plt.legend(['K(p*)', 'M(p*)'], loc='upper left')\n",
        "plt.xlabel(\"p*\")\n",
        "# plt.xlim(0,0.01)\n",
        "plt.ylabel(\"count\")\n",
        "# plt.ylim(0,1500)"
      ],
      "execution_count": null,
      "outputs": [
        {
          "output_type": "execute_result",
          "data": {
            "text/plain": [
              "Text(0, 0.5, 'count')"
            ]
          },
          "metadata": {
            "tags": []
          },
          "execution_count": 164
        },
        {
          "output_type": "display_data",
          "data": {
            "image/png": "[encoded data removed]",
            "text/plain": [
              "<Figure size 432x288 with 1 Axes>"
            ]
          },
          "metadata": {
            "tags": []
          }
        }
      ]
    },
    {
      "cell_type": "code",
      "metadata": {
        "id": "WOQHheNVSMW6",
        "colab": {
          "base_uri": "https://localhost:8080/"
        },
        "outputId": "34ff998a-2d0e-4bd1-bb71-a9939421b1c1"
      },
      "source": [
        "# Find P(p*)\n",
        "\n",
        "plt.plot(plist, np.array(klist)/np.array(mlist))\n",
        "\n",
        "plt.title('Toy')\n",
        "# plt.legend(['total', 'paired'], loc='upper right')\n",
        "plt.xlabel(\"p*\")\n",
        "# plt.xlim(0.2,0.4)\n",
        "plt.ylabel(\"P(p*)\")\n",
        "# plt.ylim(ymin=0, ymax=0.0002)"
      ],
      "execution_count": null,
      "outputs": [
        {
          "output_type": "stream",
          "text": [
            "/usr/local/lib/python3.6/dist-packages/ipykernel_launcher.py:1: RuntimeWarning: invalid value encountered in true_divide\n",
            "  \"\"\"Entry point for launching an IPython kernel.\n"
          ],
          "name": "stderr"
        },
        {
          "output_type": "execute_result",
          "data": {
            "text/plain": [
              "Text(0, 0.5, 'P(p*)')"
            ]
          },
          "metadata": {
            "tags": []
          },
          "execution_count": 168
        },
        {
          "output_type": "display_data",
          "data": {
            "image/png": "[encoded data removed]",
            "text/plain": [
              "<Figure size 432x288 with 1 Axes>"
            ]
          },
          "metadata": {
            "tags": []
          }
        }
      ]
    },
    {
      "cell_type": "markdown",
      "metadata": {
        "id": "UjGNM-FNfS17"
      },
      "source": [
        "## Pairwise Count"
      ]
    },
    {
      "cell_type": "code",
      "metadata": {
        "id": "dDvzEYd_Q8Bs"
      },
      "source": [
        "# Create a DataFrame: citing_doi, citing_year, cited_doi\n",
        "\n",
        "## NOTE THAT: citing_year is not used in this thesis but is extracted anyway\n",
        "##            for convenience, in case future projects want to apply restriction\n",
        "##            on publication year\n",
        "\n",
        "dc = data[[\"doi\", \"year\"]].drop_duplicates(subset = 'doi')\n",
        "dc = dc.merge(cb, left_on = 'doi', right_on = 'citing_doi', how = 'inner')\n",
        "dc = dc.drop(['doi'], axis=1)\n",
        "dc = dc.rename({'year': 'citing_year'}, axis=1)\n",
        "\n",
        "cols = ['citing_doi', 'citing_year', 'cited_doi']\n",
        "dc = dc.reindex(columns=cols).sort_values('cited_doi')"
      ],
      "execution_count": null,
      "outputs": []
    },
    {
      "cell_type": "code",
      "metadata": {
        "id": "yoAqGsluEHrP"
      },
      "source": [
        "# Observe pairs with different primary author gender\n",
        "\n",
        "hom_mf = homn[homn[\"gender1\"] != homn[\"gender2\"]].reset_index(drop=True)\n",
        "\n",
        "test = hom_mf.merge(dc, left_on = 'paper1', right_on = 'cited_doi', how = 'left')\n",
        "test = test.drop([\"cited_doi\", \"citing_year\"], axis=1).drop_duplicates(subset=['paper1', 'citing_doi'])\n",
        "test['count'] = test.groupby(['paper1'])['paper1'].transform('count')\n",
        "test = test.drop([\"citing_doi\"], axis=1)\n",
        "test = test.rename({'count': 'count1'}, axis=1)\n",
        "\n",
        "test = test.drop_duplicates(subset=['paper1', 'paper2']).drop(['gender1', 'year1', 'paper2', 'gender2', 'year2', 'qval', 'k'], axis=1)\n",
        "hom_mf = hom_mf.merge(test, on='paper1', how='inner')\n",
        "\n",
        "test = hom_mf.merge(dc, left_on = 'paper2', right_on = 'cited_doi', how = 'left')\n",
        "test = test.drop([\"cited_doi\", \"citing_year\"], axis=1).drop_duplicates(subset=['paper2', 'citing_doi'])\n",
        "test['count'] = test.groupby(['paper2'])['paper2'].transform('count')\n",
        "test = test.drop([\"citing_doi\"], axis=1)\n",
        "test = test.rename({'count': 'count2'}, axis=1)\n",
        "\n",
        "test = test.drop_duplicates(subset=['paper1', 'paper2']).drop(['gender1', 'year1', 'paper1', 'gender2', 'count1', 'year2', 'qval', 'k'], axis=1)\n",
        "hom_mf = hom_mf.merge(test, on='paper2', how='inner')"
      ],
      "execution_count": null,
      "outputs": []
    },
    {
      "cell_type": "code",
      "metadata": {
        "id": "GBhg0WNHfatC"
      },
      "source": [
        "# Calculate c_d (male citation count - female citation count)\n",
        "\n",
        "listd = []\n",
        "\n",
        "for c in range(len(hom_mf)):\n",
        "  if hom_mf['gender1'][c] == 'male':\n",
        "    listd.append(hom_mf['count1'][c] - hom_mf['count2'][c])\n",
        "  else:\n",
        "    listd.append(hom_mf['count2'][c] - hom_mf['count1'][c])\n",
        "\n",
        "hom_mf['countd'] = listd"
      ],
      "execution_count": null,
      "outputs": []
    },
    {
      "cell_type": "code",
      "metadata": {
        "id": "o1CFA4Vdfgsm"
      },
      "source": [
        "# Extract subDataFrame with q-value less than p threshold\n",
        "\n",
        "p = 0.006 # Select p thresholds with listed numbers in the thesis\n",
        "\n",
        "homp = hom_mf[hom_mf['qval'] < p].sort_values('countd').reset_index(drop=True)\n",
        "\n",
        "mlist = []\n",
        "fmlist = []\n",
        "\n",
        "for i in range(len(homp)):\n",
        "  if homp['gender1'][i] == 'male':\n",
        "    mlist.append(homp['count1'][i])\n",
        "    fmlist.append(homp['count2'][i])\n",
        "  else:\n",
        "    mlist.append(homp['count2'][i])\n",
        "    fmlist.append(homp['count1'][i])\n",
        "\n",
        "# Find the standard deviation\n",
        "sd = math.sqrt((np.std(mlist) ** 2 + np.std(fmlist) ** 2)/len(homp))\n",
        "\n",
        "# Find z-scores (for p-values)\n",
        "print((np.mean(mlist)-np.mean(fmlist))/sd)"
      ],
      "execution_count": null,
      "outputs": []
    },
    {
      "cell_type": "code",
      "metadata": {
        "id": "51HQCIyPIxSR",
        "colab": {
          "base_uri": "https://localhost:8080/",
          "height": 296
        },
        "outputId": "cc10f0aa-f926-4257-f462-c169def1f2d8"
      },
      "source": [
        "# Plot a Density Function\n",
        "x = homp['countd']\n",
        "\n",
        "# Density Plot\n",
        "sns.distplot(x, hist=True, kde=True, bins=int((x.max()-x.min())/3),\n",
        "             hist_kws={'edgecolor':'black', 'color': 'r'},\n",
        "             kde_kws={'linewidth': 1, 'color': 'b'})\n",
        "\n",
        "plt.title('Geophysics, Astronomy, and Astrophysics')\n",
        "plt.xlim(-50, 50)\n",
        "plt.ylim(ymin=0)\n",
        "plt.xlabel(\"c_d\")\n",
        "plt.ylabel(\"Probability Density\")\n",
        "\n",
        "plt.show()"
      ],
      "execution_count": null,
      "outputs": [
        {
          "output_type": "display_data",
          "data": {
            "image/png": "[encoded data removed]",
            "text/plain": [
              "<Figure size 432x288 with 1 Axes>"
            ]
          },
          "metadata": {
            "tags": []
          }
        }
      ]
    },
    {
      "cell_type": "markdown",
      "metadata": {
        "id": "yCBWdyCeQAq-"
      },
      "source": [
        "## PageRank for Homophily"
      ]
    },
    {
      "cell_type": "markdown",
      "metadata": {
        "id": "vPg_22VlauFu"
      },
      "source": [
        "### Analysis"
      ]
    },
    {
      "cell_type": "code",
      "metadata": {
        "id": "2MI7xQF5YDHa"
      },
      "source": [
        "# Calculate PageRank Centrality for all network nodes\n",
        "Graphtype = nx.DiGraph()\n",
        "C = nx.from_pandas_edgelist(cen, source='citing_doi', target='cited_doi',\n",
        "                            create_using=Graphtype)\n",
        "pr = nx.pagerank(C)\n",
        "\n",
        "# Create DataFrame with doi, id, gender, and centrality\n",
        "prs = pd.DataFrame()\n",
        "prs['doi'] = pr.keys()\n",
        "prs['centrality'] = pr.values()\n",
        "# prs.sort_values('centrality', ascending=False).head()\n",
        "\n",
        "nodedata = data[data['is_alpha'] == False]\n",
        "nodedata = nodedata[nodedata['order'] == 1]\n",
        "nodedata = nodedata.drop(['order', 'numAuthor',\t'is_last',\t'is_alpha',\t'year',\n",
        "                          'articleType',\t'journal', 'id'], axis=1)\n",
        "nodedata = nodedata.reset_index()\n",
        "nodedata.columns = ['id', 'Label', 'Gender']\n",
        "\n",
        "prs = prs.merge(nodedata, left_on='doi', right_on='Label', how='left')\n",
        "prs = prs.drop(['Label'], axis=1)\n",
        "prs = prs[[\"doi\", 'id', 'Gender', 'centrality']]\n",
        "prs = prs.sort_values('centrality', ascending=False)\n",
        "\n",
        "# prs.head()"
      ],
      "execution_count": null,
      "outputs": []
    },
    {
      "cell_type": "code",
      "metadata": {
        "id": "MiuTTHk6ax8b",
        "colab": {
          "base_uri": "https://localhost:8080/",
          "height": 237
        },
        "outputId": "66d24bfe-f2c8-477c-dc21-567a5d268cbc"
      },
      "source": [
        "# Calculate cen_d (male centrality - female centrality)\n",
        "\n",
        "ph = pd.merge(homn, prs, left_on = \"paper1\", right_on = \"doi\", how = \"left\")\n",
        "ph = ph.drop([\"doi\", \"id\", \"Gender\"], axis=1)\n",
        "ph = ph.rename(columns={\"centrality\": \"cen1\"})\n",
        "\n",
        "ph = ph.merge(prs, left_on = \"paper2\", right_on = \"doi\", how = \"left\")\n",
        "ph = ph.drop([\"doi\", \"id\", \"Gender\"], axis=1)\n",
        "ph = ph.rename(columns={\"centrality\": \"cen2\"})\n",
        "print(len(ph))\n",
        "\n",
        "ph = ph[ph['gender1'] != ph['gender2']].reset_index(drop=True)\n",
        "\n",
        "listd = []\n",
        "\n",
        "for c in range(len(ph)):\n",
        "  if ph['gender1'][c] == 'male':\n",
        "    listd.append(ph['cen1'][c] - ph['cen2'][c])\n",
        "  else:\n",
        "    listd.append(ph['cen2'][c] - ph['cen1'][c])\n",
        "\n",
        "ph['cen_d'] = listd\n",
        "\n",
        "print(len(ph))\n",
        "ph.head()"
      ],
      "execution_count": null,
      "outputs": [
        {
          "output_type": "stream",
          "text": [
            "1189255\n",
            "184694\n"
          ],
          "name": "stdout"
        },
        {
          "output_type": "execute_result",
          "data": {
            "text/html": [
              "<div>\n",
              "<style scoped>\n",
              "    .dataframe tbody tr th:only-of-type {\n",
              "        vertical-align: middle;\n",
              "    }\n",
              "\n",
              "    .dataframe tbody tr th {\n",
              "        vertical-align: top;\n",
              "    }\n",
              "\n",
              "    .dataframe thead th {\n",
              "        text-align: right;\n",
              "    }\n",
              "</style>\n",
              "<table border=\"1\" class=\"dataframe\">\n",
              "  <thead>\n",
              "    <tr style=\"text-align: right;\">\n",
              "      <th></th>\n",
              "      <th>paper1</th>\n",
              "      <th>gender1</th>\n",
              "      <th>year1</th>\n",
              "      <th>paper2</th>\n",
              "      <th>gender2</th>\n",
              "      <th>year2</th>\n",
              "      <th>qval</th>\n",
              "      <th>k</th>\n",
              "      <th>cen1</th>\n",
              "      <th>cen2</th>\n",
              "      <th>cen_d</th>\n",
              "    </tr>\n",
              "  </thead>\n",
              "  <tbody>\n",
              "    <tr>\n",
              "      <th>0</th>\n",
              "      <td>10.1103/PhysRevA.30.336</td>\n",
              "      <td>male</td>\n",
              "      <td>1984</td>\n",
              "      <td>10.1103/PhysRevA.34.4472</td>\n",
              "      <td>female</td>\n",
              "      <td>1986</td>\n",
              "      <td>0.017857</td>\n",
              "      <td>False</td>\n",
              "      <td>0.000018</td>\n",
              "      <td>0.000004</td>\n",
              "      <td>1.402271e-05</td>\n",
              "    </tr>\n",
              "    <tr>\n",
              "      <th>1</th>\n",
              "      <td>10.1103/PhysRevA.34.4472</td>\n",
              "      <td>female</td>\n",
              "      <td>1986</td>\n",
              "      <td>10.1103/PhysRevA.41.784</td>\n",
              "      <td>male</td>\n",
              "      <td>1990</td>\n",
              "      <td>0.017857</td>\n",
              "      <td>False</td>\n",
              "      <td>0.000004</td>\n",
              "      <td>0.000005</td>\n",
              "      <td>7.764608e-07</td>\n",
              "    </tr>\n",
              "    <tr>\n",
              "      <th>2</th>\n",
              "      <td>10.1103/PhysRevA.36.4950</td>\n",
              "      <td>female</td>\n",
              "      <td>1987</td>\n",
              "      <td>10.1103/PhysRevA.41.784</td>\n",
              "      <td>male</td>\n",
              "      <td>1990</td>\n",
              "      <td>0.006410</td>\n",
              "      <td>False</td>\n",
              "      <td>0.000002</td>\n",
              "      <td>0.000005</td>\n",
              "      <td>2.824713e-06</td>\n",
              "    </tr>\n",
              "    <tr>\n",
              "      <th>3</th>\n",
              "      <td>10.1103/PhysRevA.39.5466</td>\n",
              "      <td>female</td>\n",
              "      <td>1989</td>\n",
              "      <td>10.1103/PhysRevA.41.784</td>\n",
              "      <td>male</td>\n",
              "      <td>1990</td>\n",
              "      <td>0.006410</td>\n",
              "      <td>False</td>\n",
              "      <td>0.000002</td>\n",
              "      <td>0.000005</td>\n",
              "      <td>2.166712e-06</td>\n",
              "    </tr>\n",
              "    <tr>\n",
              "      <th>4</th>\n",
              "      <td>10.1103/PhysRevA.41.3081</td>\n",
              "      <td>female</td>\n",
              "      <td>1990</td>\n",
              "      <td>10.1103/PhysRevA.41.784</td>\n",
              "      <td>male</td>\n",
              "      <td>1990</td>\n",
              "      <td>0.000511</td>\n",
              "      <td>False</td>\n",
              "      <td>0.000002</td>\n",
              "      <td>0.000005</td>\n",
              "      <td>2.824713e-06</td>\n",
              "    </tr>\n",
              "  </tbody>\n",
              "</table>\n",
              "</div>"
            ],
            "text/plain": [
              "                     paper1 gender1  year1  ...      cen1      cen2         cen_d\n",
              "0   10.1103/PhysRevA.30.336    male   1984  ...  0.000018  0.000004  1.402271e-05\n",
              "1  10.1103/PhysRevA.34.4472  female   1986  ...  0.000004  0.000005  7.764608e-07\n",
              "2  10.1103/PhysRevA.36.4950  female   1987  ...  0.000002  0.000005  2.824713e-06\n",
              "3  10.1103/PhysRevA.39.5466  female   1989  ...  0.000002  0.000005  2.166712e-06\n",
              "4  10.1103/PhysRevA.41.3081  female   1990  ...  0.000002  0.000005  2.824713e-06\n",
              "\n",
              "[5 rows x 11 columns]"
            ]
          },
          "metadata": {
            "tags": []
          },
          "execution_count": 215
        }
      ]
    },
    {
      "cell_type": "code",
      "metadata": {
        "id": "xJpPue-Ybfed",
        "colab": {
          "base_uri": "https://localhost:8080/",
          "height": 35
        },
        "outputId": "9461c9f8-8b2e-4483-9337-ca88d8449a0d"
      },
      "source": [
        "# Extract subDataFrame with q-value less than p threshold\n",
        "\n",
        "p = 0.002 # Select p thresholds with listed numbers in the thesis\n",
        "\n",
        "phsub = ph[ph['qval'] < p].sort_values('cen_d').reset_index(drop=True)\n",
        "\n",
        "mlist = []\n",
        "fmlist = []\n",
        "\n",
        "for i in range(len(phsub)):\n",
        "  if phsub['gender1'][i] == 'male':\n",
        "    mlist.append(phsub['cen1'][i])\n",
        "    fmlist.append(phsub['cen2'][i])\n",
        "  else:\n",
        "    mlist.append(phsub['cen2'][i])\n",
        "    fmlist.append(phsub['cen1'][i])\n",
        "\n",
        "# Find the standard deviation\n",
        "sd = math.sqrt((np.std(mlist) ** 2 + np.std(fmlist) ** 2)/len(phsub))\n",
        "\n",
        "# Find z-scores (for p-values)\n",
        "print((np.mean(mlist)-np.mean(fmlist))/sd)"
      ],
      "execution_count": null,
      "outputs": [
        {
          "output_type": "stream",
          "text": [
            "-0.6457704432323805\n"
          ],
          "name": "stdout"
        }
      ]
    },
    {
      "cell_type": "code",
      "metadata": {
        "id": "yQDXUAM67j5W",
        "colab": {
          "base_uri": "https://localhost:8080/",
          "height": 311
        },
        "outputId": "e8e03cce-1e01-497f-8ce6-79681f1134d6"
      },
      "source": [
        "# Plot a Density Function\n",
        "x = phsub['cen_d']\n",
        "\n",
        "# Density Plot\n",
        "sns.distplot(x, hist=True, kde=True, bins=300,\n",
        "             hist_kws={'edgecolor':'black', 'color': 'r'},\n",
        "             kde_kws={'linewidth': 1, 'color': 'b'})\n",
        "\n",
        "plt.title('Interdisciplinary Physics and Related Areas\\n of Science and Technology')\n",
        "plt.xlim(-0.00002, 0.00002)\n",
        "plt.ylim(ymin=0)\n",
        "plt.xlabel(\"pr_d\")\n",
        "plt.ylabel(\"Probability Density\")\n",
        "plt.ticklabel_format(style='sci', axis='x', scilimits=(0,0))\n",
        "plt.ticklabel_format(style='sci', axis='y', scilimits=(0,0))\n",
        "\n",
        "plt.show()"
      ],
      "execution_count": null,
      "outputs": [
        {
          "output_type": "display_data",
          "data": {
            "image/png": "[encoded data removed]",
            "text/plain": [
              "<Figure size 432x288 with 1 Axes>"
            ]
          },
          "metadata": {
            "tags": []
          }
        }
      ]
    },
    {
      "cell_type": "code",
      "metadata": {
        "id": "O9nLldXBt6xp"
      },
      "source": [
        ""
      ],
      "execution_count": null,
      "outputs": []
    }
  ]
}