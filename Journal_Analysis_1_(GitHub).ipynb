{
  "nbformat": 4,
  "nbformat_minor": 0,
  "metadata": {
    "colab": {
      "name": "Journal Analysis 1 (GitHub)",
      "provenance": [],
      "collapsed_sections": [
        "DfrbUoNgQKVS"
      ],
      "machine_shape": "hm",
      "include_colab_link": true
    },
    "kernelspec": {
      "name": "python3",
      "display_name": "Python 3"
    }
  },
  "cells": [
    {
      "cell_type": "markdown",
      "metadata": {
        "id": "view-in-github",
        "colab_type": "text"
      },
      "source": [
        "<a href=\"https://colab.research.google.com/github/therobinkay/gender_bias_2021/blob/main/Journal_Analysis_1_(GitHub).ipynb\" target=\"_parent\"><img src=\"https://colab.research.google.com/assets/colab-badge.svg\" alt=\"Open In Colab\"/></a>"
      ]
    },
    {
      "cell_type": "code",
      "metadata": {
        "id": "8OfzAmkpGOjF"
      },
      "source": [
        "# import all necessary packages\n",
        "\n",
        "import io\n",
        "import pandas as pd\n",
        "import os\n",
        "import itertools\n",
        "import numpy as np\n",
        "import scipy.stats\n",
        "import time\n",
        "\n",
        "import matplotlib.pyplot as plt\n",
        "import seaborn as sns\n",
        "\n",
        "from tqdm import tqdm\n",
        "\n",
        "import networkx as nx\n",
        "import random\n",
        "\n",
        "import math"
      ],
      "execution_count": 1,
      "outputs": []
    },
    {
      "cell_type": "code",
      "metadata": {
        "colab": {
          "base_uri": "https://localhost:8080/"
        },
        "id": "Oa0lz0WxQJTD",
        "outputId": "69291e21-d7ab-42ed-d4e9-37d0d3930f13"
      },
      "source": [
        "from google.colab import drive\n",
        "drive.mount('/content/drive/')"
      ],
      "execution_count": 2,
      "outputs": [
        {
          "output_type": "stream",
          "text": [
            "Mounted at /content/drive/\n"
          ],
          "name": "stdout"
        }
      ]
    },
    {
      "cell_type": "code",
      "metadata": {
        "id": "Z1wT51OXQJCJ"
      },
      "source": [
        "!cd \"drive/My Drive\""
      ],
      "execution_count": 3,
      "outputs": []
    },
    {
      "cell_type": "code",
      "metadata": {
        "id": "oh34V3C2xV0h"
      },
      "source": [
        "# read all necessary .csv files\n",
        "\n",
        "data = pd.read_csv(\"drive/My Drive/codes/data.csv\")\n",
        "dp = pd.read_csv(\"drive/My Drive/codes/doipacs.csv\")\n",
        "# cdata = pd.read_csv('drive/My Drive/codes/cdata.csv')\n",
        "cb = pd.read_csv(\"drive/My Drive/codes/citationBara.csv\")\n",
        "cen = pd.read_csv(\"drive/My Drive/codes/cen.csv\")"
      ],
      "execution_count": 4,
      "outputs": []
    },
    {
      "cell_type": "markdown",
      "metadata": {
        "id": "houN_SJKGhco"
      },
      "source": [
        "# Analyses\n"
      ]
    },
    {
      "cell_type": "markdown",
      "metadata": {
        "id": "-1GbVs6QSs1-"
      },
      "source": [
        "## 1. Order of Author Analysis"
      ]
    },
    {
      "cell_type": "code",
      "metadata": {
        "id": "Ns1voVHjSBd2"
      },
      "source": [
        "# excluding alphabetically sorted papers\n",
        "\n",
        "# splitting the authors by first, second, middle, last positions\n",
        "\n",
        "first = data.query('is_alpha == False & order == 1')\n",
        "second = data.query('is_alpha == False & order == 2 & is_last == False')\n",
        "middle = data.query('is_alpha == False & order > 2 & is_last == False')\n",
        "last = data.query('is_alpha == False & order != 1 & is_last == True')"
      ],
      "execution_count": null,
      "outputs": []
    },
    {
      "cell_type": "code",
      "metadata": {
        "colab": {
          "base_uri": "https://localhost:8080/"
        },
        "id": "YEuoPzTEUjps",
        "outputId": "b4005e95-020b-4721-bb06-1256d63d2ad3"
      },
      "source": [
        "# calculating gender ratio of each position\n",
        "\n",
        "print(first['gender'].value_counts(normalize=True))\n",
        "print(second['gender'].value_counts(normalize=True))\n",
        "print(middle['gender'].value_counts(normalize=True))\n",
        "print(last['gender'].value_counts(normalize=True))"
      ],
      "execution_count": null,
      "outputs": [
        {
          "output_type": "stream",
          "text": [
            "male      0.917101\n",
            "female    0.082899\n",
            "Name: gender, dtype: float64\n",
            "male      0.911277\n",
            "female    0.088723\n",
            "Name: gender, dtype: float64\n",
            "male      0.906659\n",
            "female    0.093341\n",
            "Name: gender, dtype: float64\n",
            "male      0.91497\n",
            "female    0.08503\n",
            "Name: gender, dtype: float64\n"
          ],
          "name": "stdout"
        }
      ]
    },
    {
      "cell_type": "markdown",
      "metadata": {
        "id": "Xg3b_eYxE_O9"
      },
      "source": [
        "## 2. Productivity by Gender\n"
      ]
    },
    {
      "cell_type": "code",
      "metadata": {
        "id": "bhgMYTczFVf8"
      },
      "source": [
        "# Creating a DataFrame with productivity calculated\n",
        "prod = data.groupby(['id', 'gender']).agg({'year': [min, max, 'count']})\n",
        "\n",
        "prod['career_age'] = prod['year']['max'] - prod['year']['min']\n",
        "prod['prod'] = prod['year']['count'] / (prod['career_age'])\n",
        "prod = prod[prod['career_age'] != 0]\n",
        "\n",
        "prod.sort_values([('year','count')], ascending=False).head()\n",
        "\n",
        "# Dividing the DataFrame by gender\n",
        "prod_m = prod.xs('male', level='gender').sort_values(\n",
        "    by=['prod'],ascending=False, ignore_index=True)\n",
        "prod_fm = prod.xs('female', level='gender').sort_values(\n",
        "    by=['prod'],ascending=False)"
      ],
      "execution_count": 5,
      "outputs": []
    },
    {
      "cell_type": "code",
      "metadata": {
        "colab": {
          "base_uri": "https://localhost:8080/",
          "height": 404
        },
        "id": "yt41Jhc2aTUk",
        "outputId": "bb3e1460-c5fd-458b-c61b-76b3c3d72ab9"
      },
      "source": [
        "from scipy.interpolate import make_interp_spline, BSpline\n",
        "from scipy.interpolate import interp1d\n",
        "\n",
        "cdf1=np.arange(len(prod_m))/float(len(prod_m)-1)\n",
        "cdf2=np.arange(len(prod_fm))/float(len(prod_fm)-1)\n",
        "\n",
        "plt.figure(figsize=(8,6))\n",
        "plt.plot(prod_m['prod'],1-cdf1)\n",
        "plt.plot(prod_fm['prod'],1-cdf2, color='orange')\n",
        "\n",
        "plt.title('Productivity of APS authors (CDF)')\n",
        "plt.xlabel('Productivity')\n",
        "plt.xlim(xmin=0, xmax=4)\n",
        "plt.ylabel('Probability')\n",
        "plt.legend(['male', 'female'], loc='lower right')\n",
        "# plt.ylim(ymin=0, ymax=0.5)\n",
        "\n",
        "plt.show()"
      ],
      "execution_count": null,
      "outputs": [
        {
          "output_type": "display_data",
          "data": {
            "image/png": "[encoded data removed]",
            "text/plain": [
              "<Figure size 576x432 with 1 Axes>"
            ]
          },
          "metadata": {
            "tags": [],
            "needs_background": "light"
          }
        }
      ]
    },
    {
      "cell_type": "code",
      "metadata": {
        "id": "UsOafqPI8l2q",
        "colab": {
          "base_uri": "https://localhost:8080/"
        },
        "outputId": "50bfd80e-c446-441d-d2ca-428d5aca5e4c"
      },
      "source": [
        "#ks test (two-tailed)\n",
        "from scipy.stats import ks_2samp\n",
        "print(ks_2samp(prod_m['prod'], prod_fm['prod']))\n",
        "\n",
        "#ks test: male > female\n",
        "print(ks_2samp(prod_m['prod'], prod_fm['prod'], alternative='greater'))\n",
        "\n",
        "#ks test: male < female\n",
        "print(ks_2samp(prod_m['prod'], prod_fm['prod'], alternative='less'))"
      ],
      "execution_count": null,
      "outputs": [
        {
          "output_type": "stream",
          "text": [
            "Ks_2sampResult(statistic=0.0329418537762845, pvalue=0.000127997328482532)\n",
            "Ks_2sampResult(statistic=0.0329418537762845, pvalue=6.244757804870422e-05)\n",
            "Ks_2sampResult(statistic=0.019882369577186365, pvalue=0.029229651385167425)\n"
          ],
          "name": "stdout"
        }
      ]
    },
    {
      "cell_type": "code",
      "metadata": {
        "id": "hpBWapSiBKQS",
        "colab": {
          "base_uri": "https://localhost:8080/"
        },
        "outputId": "8d91edb9-3257-4132-ac34-9a27328a49f1"
      },
      "source": [
        "# finding where the biggest difference occurs\n",
        "\n",
        "def ks_2samp_x(data1, data2, alternative=\"two-sided\"):\n",
        "    data1 = np.sort(data1)\n",
        "    data2 = np.sort(data2)\n",
        "    n1 = data1.shape[0]\n",
        "    n2 = data2.shape[0]\n",
        "\n",
        "    data_all = np.concatenate([data1, data2])\n",
        "    # using searchsorted solves equal data problem\n",
        "    cdf1 = np.searchsorted(data1, data_all, side='right') / n1\n",
        "    cdf2 = np.searchsorted(data2, data_all, side='right') / n2\n",
        "    cddiffs = cdf1 - cdf2\n",
        "    minS = np.argmin(cddiffs)   # ks_2samp uses np.min or np.max respectively \n",
        "    maxS = np.argmax(cddiffs)   # now we get instead the index in data_all\n",
        "    alt2Dvalue = {'less': minS, 'greater': maxS, 'two-sided': max(minS, maxS)}\n",
        "    d_arg = alt2Dvalue[alternative]\n",
        "    return data_all[d_arg]\n",
        "\n",
        "print(ks_2samp_x(prod_m['prod'], prod_fm['prod']))\n",
        "print(ks_2samp_x(prod_m['prod'], prod_fm['prod'], alternative=\"greater\"))\n",
        "print(ks_2samp_x(prod_m['prod'], prod_fm['prod'], alternative=\"less\"))"
      ],
      "execution_count": null,
      "outputs": [
        {
          "output_type": "stream",
          "text": [
            "2.0\n",
            "0.4857142857142857\n",
            "2.0\n"
          ],
          "name": "stdout"
        }
      ]
    },
    {
      "cell_type": "markdown",
      "metadata": {
        "id": "zBF0NSSIE_n_"
      },
      "source": [
        "## 3. Dropout Authors by Career Age\n",
        "Don't include the authors who have not written anything before 1999.\n",
        "\n",
        "(annual year is only showing less accurate dropout)"
      ]
    },
    {
      "cell_type": "code",
      "metadata": {
        "id": "AHMxBv77cVcR",
        "colab": {
          "base_uri": "https://localhost:8080/",
          "height": 313
        },
        "outputId": "23edd32b-ea6a-4720-99d3-d27b83ffab29"
      },
      "source": [
        "# exclude authors who enter APS publication after 2004\n",
        "# create (JADIDI) scatterplot of dropout authors by career age\n",
        "\n",
        "gb = prod[prod['year']['min'] < 2004].groupby(['gender', 'career_age'])['career_age'].count()\n",
        "\n",
        "gb_m = gb['male'].sort_index(ascending=False)\n",
        "gb_fm = gb['female'].sort_index(ascending=False)\n",
        "\n",
        "(gb_m/gb_m.cumsum()).iloc[::-1].plot(style='.-')\n",
        "(gb_fm/gb_fm.cumsum()).iloc[::-1].plot(style='.-',color='orange')\n",
        "\n",
        "plt.title('Dropout Author Ratio by Career Age')\n",
        "plt.legend(('male', 'female'), loc='upper left')\n",
        "plt.xlabel('Career Age')\n",
        "plt.xlim(0,30)\n",
        "plt.ylabel('% of Dropout')\n",
        "plt.ylim(0, 0.2)"
      ],
      "execution_count": 7,
      "outputs": [
        {
          "output_type": "execute_result",
          "data": {
            "text/plain": [
              "(0.0, 0.2)"
            ]
          },
          "metadata": {
            "tags": []
          },
          "execution_count": 7
        },
        {
          "output_type": "display_data",
          "data": {
            "image/png": "[encoded data removed]",
            "text/plain": [
              "<Figure size 432x288 with 1 Axes>"
            ]
          },
          "metadata": {
            "tags": [],
            "needs_background": "light"
          }
        }
      ]
    },
    {
      "cell_type": "markdown",
      "metadata": {
        "id": "DVoglDodE_78"
      },
      "source": [
        "## 4. Citation Analysis"
      ]
    },
    {
      "cell_type": "markdown",
      "metadata": {
        "id": "8IXGUzXTwaJq"
      },
      "source": [
        "### 4.1 Degree Centrality Analysis"
      ]
    },
    {
      "cell_type": "code",
      "metadata": {
        "id": "UNwxVJGmCIBZ"
      },
      "source": [
        "# exclude alphabetically ordered papers\n",
        "# only consider primary authors\n",
        "degcen = data.query('is_alpha == False & order == 1')\n",
        "\n",
        "# calculate degree centrality per paper\n",
        "vc = cb['cited_doi'].value_counts()\n",
        "cb_sub = vc[vc.to_numpy() > 0].to_frame()\n",
        "\n",
        "# create a DataFrame with degree centrality\n",
        "cited = pd.merge(cb_sub, degcen, left_index = True, right_on = 'doi')"
      ],
      "execution_count": null,
      "outputs": []
    },
    {
      "cell_type": "code",
      "metadata": {
        "id": "08stkpijQysM",
        "colab": {
          "base_uri": "https://localhost:8080/",
          "height": 313
        },
        "outputId": "6dd27c08-354b-474a-e181-ea46560a70b4"
      },
      "source": [
        "# Comparative graph for actual female proportion vs. expected female proportion\n",
        "cited_gender = cited['gender'].to_numpy()\n",
        "cumulate_cited_gender = np.cumsum(cited_gender == \"female\")\n",
        "\n",
        "plt.plot((np.arange(len(cited))*100)/len(cited), cumulate_cited_gender/np.arange(1, len(cited)+1), color='red')\n",
        "plt.axhline(y=len(cited[cited['gender'] == 'female'])/len(cited), color='black', linestyle='dotted')\n",
        "\n",
        "plt.title(\"Proportion of Female Primary Authors per Degree Centrality %\")\n",
        "plt.xlabel(\"Top k% Degree Centrality\")\n",
        "plt.ylim(ymax=0.1)\n",
        "plt.ylabel(\"Proportion of Female Primary Authors\")"
      ],
      "execution_count": null,
      "outputs": [
        {
          "output_type": "execute_result",
          "data": {
            "text/plain": [
              "Text(0, 0.5, 'Proportion of Female Primary Authors')"
            ]
          },
          "metadata": {
            "tags": []
          },
          "execution_count": 55
        },
        {
          "output_type": "display_data",
          "data": {
            "image/png": "[encoded data removed]",
            "text/plain": [
              "<Figure size 432x288 with 1 Axes>"
            ]
          },
          "metadata": {
            "tags": [],
            "needs_background": "light"
          }
        }
      ]
    },
    {
      "cell_type": "markdown",
      "metadata": {
        "id": "EnGw0fr0xeG3"
      },
      "source": [
        "### 4.2 Self-citation Analysis (general)\n"
      ]
    },
    {
      "cell_type": "code",
      "metadata": {
        "id": "_XTSJzbuAh8h"
      },
      "source": [
        "# create a DataFrame with self-citing authors by gender\n",
        "pop = cdata.groupby(['citing_year'])['citing_year'].count()\n",
        "\n",
        "male = cdata.loc[cdata['citing_gender'] == 'male'].groupby(['citing_year'])['citing_year'].count()\n",
        "female = cdata.loc[cdata['citing_gender'] == 'female'].groupby(['citing_year'])['citing_year'].count()\n",
        "\n",
        "sccit = cdata.loc[cdata['citing_id'] == cdata['cited_id']].groupby(['citing_year'])['citing_year'].count()\n",
        "\n",
        "malesc = cdata.loc[(cdata['citing_id'] == cdata['cited_id']) & (cdata['citing_gender'] == 'male')].groupby(['citing_year'])['citing_year'].count()\n",
        "femalesc = cdata.loc[(cdata['citing_id'] == cdata['cited_id']) & (cdata['citing_gender'] == 'female')].groupby(['citing_year'])['citing_year'].count()\n",
        "\n",
        "pop[np.isnan(pop)] = 0\n",
        "male[np.isnan(male)] = 0\n",
        "female[np.isnan(female)] = 0\n",
        "sccit[np.isnan(sccit)] = 0\n",
        "malesc[np.isnan(malesc)] = 0\n",
        "femalesc[np.isnan(femalesc)] = 0"
      ],
      "execution_count": null,
      "outputs": []
    },
    {
      "cell_type": "code",
      "metadata": {
        "id": "IbMqjMEWwHDU",
        "colab": {
          "base_uri": "https://localhost:8080/",
          "height": 313
        },
        "outputId": "3dcf859b-925f-4b10-e5e7-c82c1915431f"
      },
      "source": [
        "# create a self-citation ratio plot by year\n",
        "(malesc/male).plot(style='.-')\n",
        "(femalesc/female).plot(style='.-',color='orange')\n",
        "\n",
        "plt.title('Self-citation Ratio by Year')\n",
        "plt.legend(('male', 'female'), loc='upper right')\n",
        "plt.xlabel('Year')\n",
        "plt.xlim(xmin=1950)\n",
        "plt.xlim(xmax=2010)\n",
        "plt.ylabel('% of Self-citation')\n",
        "plt.ylim(ymin=0, ymax=0.15)"
      ],
      "execution_count": null,
      "outputs": [
        {
          "output_type": "execute_result",
          "data": {
            "text/plain": [
              "(0.0, 0.15)"
            ]
          },
          "metadata": {
            "tags": []
          },
          "execution_count": 14
        },
        {
          "output_type": "display_data",
          "data": {
            "image/png": "[encoded data removed]",
            "text/plain": [
              "<Figure size 432x288 with 1 Axes>"
            ]
          },
          "metadata": {
            "tags": [],
            "needs_background": "light"
          }
        }
      ]
    },
    {
      "cell_type": "code",
      "metadata": {
        "id": "qpFEb3JuwSFZ",
        "colab": {
          "base_uri": "https://localhost:8080/",
          "height": 313
        },
        "outputId": "70a5acd2-4707-4cae-8fa4-b3d3cf197020"
      },
      "source": [
        "# calculate k-value\n",
        "k1 = ((malesc/sccit)/(femalesc/sccit))\n",
        "k2 = ((female/pop)/(male/pop))\n",
        "k = k1*k2\n",
        "\n",
        "# create k-value plot\n",
        "k.plot(style='.-', color='red')\n",
        "\n",
        "plt.title('k value by Year')\n",
        "plt.xlabel('Year')\n",
        "plt.xlim(xmin=1960)\n",
        "plt.xlim(xmax=2010)\n",
        "plt.ylabel('k')\n",
        "plt.ylim(ymin=0.5,ymax=2.5)\n",
        "plt.hlines(1,xmin=1903,xmax=2010,linestyles='dashed')"
      ],
      "execution_count": null,
      "outputs": [
        {
          "output_type": "execute_result",
          "data": {
            "text/plain": [
              "<matplotlib.collections.LineCollection at 0x7f3ca62710d0>"
            ]
          },
          "metadata": {
            "tags": []
          },
          "execution_count": 15
        },
        {
          "output_type": "display_data",
          "data": {
            "image/png": "[encoded data removed]",
            "text/plain": [
              "<Figure size 432x288 with 1 Axes>"
            ]
          },
          "metadata": {
            "tags": [],
            "needs_background": "light"
          }
        }
      ]
    },
    {
      "cell_type": "markdown",
      "metadata": {
        "id": "DfrbUoNgQKVS"
      },
      "source": [
        "## 5 PageRank Centrality"
      ]
    },
    {
      "cell_type": "code",
      "metadata": {
        "id": "gMf26naTQKS_",
        "colab": {
          "base_uri": "https://localhost:8080/"
        },
        "outputId": "f7a9c6ba-a7ca-4db3-b7ae-7e0c04a1d14d"
      },
      "source": [
        "# apply nx.graph to citation relationship network\n",
        "Graphtype = nx.DiGraph()\n",
        "\n",
        "C = nx.from_pandas_edgelist(cen, source='citing_doi',\n",
        "                            target='cited_doi', create_using=Graphtype)\n",
        "print(nx.info(C))"
      ],
      "execution_count": null,
      "outputs": [
        {
          "output_type": "stream",
          "text": [
            "Name: \n",
            "Type: DiGraph\n",
            "Number of nodes: 144813\n",
            "Number of edges: 703005\n",
            "Average in degree:   4.8546\n",
            "Average out degree:   4.8546\n"
          ],
          "name": "stdout"
        }
      ]
    },
    {
      "cell_type": "code",
      "metadata": {
        "id": "S4PP2OqqQKS6",
        "colab": {
          "base_uri": "https://localhost:8080/",
          "height": 204
        },
        "outputId": "58dfcc7c-efe9-4d00-e99b-57f3abf37d87"
      },
      "source": [
        "# observe author id & gender (primary author)\n",
        "nodedata = data.query('is_alpha == False & order == 1').drop(\n",
        "    ['order', 'numAuthor',\t'is_last',\t'is_alpha',\t'year',\n",
        "     'articleType',\t'journal', 'id'], axis=1).reset_index()\n",
        "nodedata.columns = ['id', 'Label', 'Gender']\n",
        "nodedata.tail()"
      ],
      "execution_count": null,
      "outputs": [
        {
          "output_type": "execute_result",
          "data": {
            "text/html": [
              "<div>\n",
              "<style scoped>\n",
              "    .dataframe tbody tr th:only-of-type {\n",
              "        vertical-align: middle;\n",
              "    }\n",
              "\n",
              "    .dataframe tbody tr th {\n",
              "        vertical-align: top;\n",
              "    }\n",
              "\n",
              "    .dataframe thead th {\n",
              "        text-align: right;\n",
              "    }\n",
              "</style>\n",
              "<table border=\"1\" class=\"dataframe\">\n",
              "  <thead>\n",
              "    <tr style=\"text-align: right;\">\n",
              "      <th></th>\n",
              "      <th>id</th>\n",
              "      <th>Label</th>\n",
              "      <th>Gender</th>\n",
              "    </tr>\n",
              "  </thead>\n",
              "  <tbody>\n",
              "    <tr>\n",
              "      <th>149622</th>\n",
              "      <td>531302</td>\n",
              "      <td>10.1103/PhysRevLett.98.068101</td>\n",
              "      <td>male</td>\n",
              "    </tr>\n",
              "    <tr>\n",
              "      <th>149623</th>\n",
              "      <td>531304</td>\n",
              "      <td>10.1103/PhysRevE.76.017301</td>\n",
              "      <td>female</td>\n",
              "    </tr>\n",
              "    <tr>\n",
              "      <th>149624</th>\n",
              "      <td>531305</td>\n",
              "      <td>10.1103/PhysRevSTPER.3.020101</td>\n",
              "      <td>male</td>\n",
              "    </tr>\n",
              "    <tr>\n",
              "      <th>149625</th>\n",
              "      <td>531310</td>\n",
              "      <td>10.1103/PhysRevSTPER.4.010102</td>\n",
              "      <td>male</td>\n",
              "    </tr>\n",
              "    <tr>\n",
              "      <th>149626</th>\n",
              "      <td>531311</td>\n",
              "      <td>10.1103/PhysRevSTPER.4.010108</td>\n",
              "      <td>male</td>\n",
              "    </tr>\n",
              "  </tbody>\n",
              "</table>\n",
              "</div>"
            ],
            "text/plain": [
              "            id                          Label  Gender\n",
              "149622  531302  10.1103/PhysRevLett.98.068101    male\n",
              "149623  531304     10.1103/PhysRevE.76.017301  female\n",
              "149624  531305  10.1103/PhysRevSTPER.3.020101    male\n",
              "149625  531310  10.1103/PhysRevSTPER.4.010102    male\n",
              "149626  531311  10.1103/PhysRevSTPER.4.010108    male"
            ]
          },
          "metadata": {
            "tags": []
          },
          "execution_count": 6
        }
      ]
    },
    {
      "cell_type": "code",
      "metadata": {
        "colab": {
          "base_uri": "https://localhost:8080/",
          "height": 204
        },
        "id": "vpp05M_0y4r-",
        "outputId": "ea6b3515-e77e-47a7-9aa4-de075ef90de6"
      },
      "source": [
        "# assign PageRank centrality to each paper\n",
        "pr = nx.pagerank(C)\n",
        "\n",
        "# create a centrality dataframe\n",
        "prs = pd.DataFrame()\n",
        "prs['doi'] = pr.keys()\n",
        "prs['centrality'] = pr.values()\n",
        "\n",
        "# merge and create a dataframe: id, gender, PageRank centrality\n",
        "prs_new = prs.merge(nodedata, left_on='doi', right_on='Label',\n",
        "                how='left').drop(['doi', 'Label'], axis=1)\n",
        "prs_new = prs_new[['id', 'Gender', 'centrality']].sort_values(\n",
        "    'centrality', ascending=False)\n",
        "prs_new.head()"
      ],
      "execution_count": null,
      "outputs": [
        {
          "output_type": "execute_result",
          "data": {
            "text/html": [
              "<div>\n",
              "<style scoped>\n",
              "    .dataframe tbody tr th:only-of-type {\n",
              "        vertical-align: middle;\n",
              "    }\n",
              "\n",
              "    .dataframe tbody tr th {\n",
              "        vertical-align: top;\n",
              "    }\n",
              "\n",
              "    .dataframe thead th {\n",
              "        text-align: right;\n",
              "    }\n",
              "</style>\n",
              "<table border=\"1\" class=\"dataframe\">\n",
              "  <thead>\n",
              "    <tr style=\"text-align: right;\">\n",
              "      <th></th>\n",
              "      <th>id</th>\n",
              "      <th>Gender</th>\n",
              "      <th>centrality</th>\n",
              "    </tr>\n",
              "  </thead>\n",
              "  <tbody>\n",
              "    <tr>\n",
              "      <th>3189</th>\n",
              "      <td>43633</td>\n",
              "      <td>male</td>\n",
              "      <td>0.001368</td>\n",
              "    </tr>\n",
              "    <tr>\n",
              "      <th>25816</th>\n",
              "      <td>87360</td>\n",
              "      <td>male</td>\n",
              "      <td>0.001325</td>\n",
              "    </tr>\n",
              "    <tr>\n",
              "      <th>49819</th>\n",
              "      <td>187598</td>\n",
              "      <td>male</td>\n",
              "      <td>0.001062</td>\n",
              "    </tr>\n",
              "    <tr>\n",
              "      <th>54770</th>\n",
              "      <td>187575</td>\n",
              "      <td>male</td>\n",
              "      <td>0.000961</td>\n",
              "    </tr>\n",
              "    <tr>\n",
              "      <th>20116</th>\n",
              "      <td>91551</td>\n",
              "      <td>male</td>\n",
              "      <td>0.000918</td>\n",
              "    </tr>\n",
              "  </tbody>\n",
              "</table>\n",
              "</div>"
            ],
            "text/plain": [
              "           id Gender  centrality\n",
              "3189    43633   male    0.001368\n",
              "25816   87360   male    0.001325\n",
              "49819  187598   male    0.001062\n",
              "54770  187575   male    0.000961\n",
              "20116   91551   male    0.000918"
            ]
          },
          "metadata": {
            "tags": []
          },
          "execution_count": 17
        }
      ]
    },
    {
      "cell_type": "code",
      "metadata": {
        "id": "vIGqV79MQKSw",
        "colab": {
          "base_uri": "https://localhost:8080/",
          "height": 313
        },
        "outputId": "69a445ed-8cce-429e-eaa7-bbe5e639037d"
      },
      "source": [
        "# Comparative graph for actual female proportion vs. expected female proportion\n",
        "\n",
        "prs_gender = prs_new['Gender'].to_numpy()\n",
        "cumulate_prs_gender = np.cumsum(prs_gender == \"female\")\n",
        "\n",
        "plt.plot((np.arange(len(prs_new))*100)/len(prs_new),\n",
        "         cumulate_prs_gender/np.arange(1, len(prs_new)+1), color='red')\n",
        "plt.axhline(y=0.08274119036274367, color='black', linestyle='dotted')\n",
        "\n",
        "plt.title(\"Proportion of Female Primary Authors per PageRank Centrality\")\n",
        "plt.xlabel(\"top k% PageRank Centrality\")\n",
        "plt.ylim(ymax=0.1)\n",
        "plt.ylabel(\"Proportion of Female Primary Authors\")"
      ],
      "execution_count": null,
      "outputs": [
        {
          "output_type": "execute_result",
          "data": {
            "text/plain": [
              "Text(0, 0.5, 'Proportion of Female Primary Authors')"
            ]
          },
          "metadata": {
            "tags": []
          },
          "execution_count": 18
        },
        {
          "output_type": "display_data",
          "data": {
            "image/png": "[encoded data removed]",
            "text/plain": [
              "<Figure size 432x288 with 1 Axes>"
            ]
          },
          "metadata": {
            "tags": [],
            "needs_background": "light"
          }
        }
      ]
    },
    {
      "cell_type": "markdown",
      "metadata": {
        "id": "-QY-g6b6j9pW"
      },
      "source": [
        "## 5.1 PageRank Centrality among Similar Papers"
      ]
    },
    {
      "cell_type": "code",
      "metadata": {
        "id": "qarH0ioK1ph5",
        "colab": {
          "base_uri": "https://localhost:8080/",
          "height": 222
        },
        "outputId": "9e4a5c6e-1ac0-45b3-e882-5dacad30511a"
      },
      "source": [
        "############## SELECT DESIRED PACS (HOMOPHILY ONLY) ###############\n",
        "\n",
        "homn = pd.read_csv(\"drive/My Drive/codes/hom0.csv\")\n",
        "# homn = pd.read_csv(\"drive/My Drive/codes/hom1.csv\")\n",
        "# homn = pd.read_csv(\"drive/My Drive/codes/hom2.csv\")\n",
        "# homn = pd.read_csv(\"drive/My Drive/codes/hom3.csv\")\n",
        "# homn = pd.read_csv(\"drive/My Drive/codes/hom4.csv\")\n",
        "# homn = pd.read_csv(\"drive/My Drive/codes/hom5.csv\")\n",
        "# homn = pd.read_csv(\"drive/My Drive/codes/hom6.csv\")\n",
        "# homn = pd.read_csv(\"drive/My Drive/codes/hom7.csv\")\n",
        "# homn = pd.read_csv(\"drive/My Drive/codes/hom8.csv\")\n",
        "# homn = pd.read_csv(\"drive/My Drive/codes/hom9.csv\")\n",
        "\n",
        "print(len(homn))\n",
        "homn.head()"
      ],
      "execution_count": null,
      "outputs": [
        {
          "output_type": "stream",
          "text": [
            "1189255\n"
          ],
          "name": "stdout"
        },
        {
          "output_type": "execute_result",
          "data": {
            "text/html": [
              "<div>\n",
              "<style scoped>\n",
              "    .dataframe tbody tr th:only-of-type {\n",
              "        vertical-align: middle;\n",
              "    }\n",
              "\n",
              "    .dataframe tbody tr th {\n",
              "        vertical-align: top;\n",
              "    }\n",
              "\n",
              "    .dataframe thead th {\n",
              "        text-align: right;\n",
              "    }\n",
              "</style>\n",
              "<table border=\"1\" class=\"dataframe\">\n",
              "  <thead>\n",
              "    <tr style=\"text-align: right;\">\n",
              "      <th></th>\n",
              "      <th>paper1</th>\n",
              "      <th>gender1</th>\n",
              "      <th>year1</th>\n",
              "      <th>paper2</th>\n",
              "      <th>gender2</th>\n",
              "      <th>year2</th>\n",
              "      <th>qval</th>\n",
              "      <th>k</th>\n",
              "    </tr>\n",
              "  </thead>\n",
              "  <tbody>\n",
              "    <tr>\n",
              "      <th>0</th>\n",
              "      <td>10.1103/PhysRevA.30.336</td>\n",
              "      <td>male</td>\n",
              "      <td>1984</td>\n",
              "      <td>10.1103/PhysRevA.34.1617</td>\n",
              "      <td>male</td>\n",
              "      <td>1986</td>\n",
              "      <td>0.001230</td>\n",
              "      <td>False</td>\n",
              "    </tr>\n",
              "    <tr>\n",
              "      <th>1</th>\n",
              "      <td>10.1103/PhysRevA.30.336</td>\n",
              "      <td>male</td>\n",
              "      <td>1984</td>\n",
              "      <td>10.1103/PhysRevA.34.4472</td>\n",
              "      <td>female</td>\n",
              "      <td>1986</td>\n",
              "      <td>0.017857</td>\n",
              "      <td>False</td>\n",
              "    </tr>\n",
              "    <tr>\n",
              "      <th>2</th>\n",
              "      <td>10.1103/PhysRevA.30.336</td>\n",
              "      <td>male</td>\n",
              "      <td>1984</td>\n",
              "      <td>10.1103/PhysRevA.41.784</td>\n",
              "      <td>male</td>\n",
              "      <td>1990</td>\n",
              "      <td>0.017857</td>\n",
              "      <td>False</td>\n",
              "    </tr>\n",
              "    <tr>\n",
              "      <th>3</th>\n",
              "      <td>10.1103/PhysRevA.34.4472</td>\n",
              "      <td>female</td>\n",
              "      <td>1986</td>\n",
              "      <td>10.1103/PhysRevA.41.784</td>\n",
              "      <td>male</td>\n",
              "      <td>1990</td>\n",
              "      <td>0.017857</td>\n",
              "      <td>False</td>\n",
              "    </tr>\n",
              "    <tr>\n",
              "      <th>4</th>\n",
              "      <td>10.1103/PhysRevA.36.4950</td>\n",
              "      <td>female</td>\n",
              "      <td>1987</td>\n",
              "      <td>10.1103/PhysRevA.41.784</td>\n",
              "      <td>male</td>\n",
              "      <td>1990</td>\n",
              "      <td>0.006410</td>\n",
              "      <td>False</td>\n",
              "    </tr>\n",
              "  </tbody>\n",
              "</table>\n",
              "</div>"
            ],
            "text/plain": [
              "                     paper1 gender1  year1  ... year2      qval      k\n",
              "0   10.1103/PhysRevA.30.336    male   1984  ...  1986  0.001230  False\n",
              "1   10.1103/PhysRevA.30.336    male   1984  ...  1986  0.017857  False\n",
              "2   10.1103/PhysRevA.30.336    male   1984  ...  1990  0.017857  False\n",
              "3  10.1103/PhysRevA.34.4472  female   1986  ...  1990  0.017857  False\n",
              "4  10.1103/PhysRevA.36.4950  female   1987  ...  1990  0.006410  False\n",
              "\n",
              "[5 rows x 8 columns]"
            ]
          },
          "metadata": {
            "tags": []
          },
          "execution_count": 19
        }
      ]
    },
    {
      "cell_type": "code",
      "metadata": {
        "colab": {
          "base_uri": "https://localhost:8080/",
          "height": 240
        },
        "id": "fAPAsNbfkuZs",
        "outputId": "ca4c5e1d-5eb1-4223-901d-ad910d233409"
      },
      "source": [
        "# Calculate cen_d (male centrality - female centrality)\n",
        "\n",
        "prs_sim = prs.merge(nodedata, left_on='doi', right_on='Label',\n",
        "                    how='left').drop(['Label'], axis=1)\n",
        "prs_sim = prs_sim[[\"doi\", 'id', 'Gender', 'centrality']].sort_values(\n",
        "    'centrality', ascending=False)\n",
        "\n",
        "ph = pd.merge(homn, prs_sim, left_on = \"paper1\", right_on = \"doi\", how = \"left\")\n",
        "ph = ph.drop([\"doi\", \"id\", \"Gender\"], axis=1)\n",
        "ph = ph.rename(columns={\"centrality\": \"cen1\"})\n",
        "\n",
        "ph = ph.merge(prs_sim, left_on = \"paper2\", right_on = \"doi\", how = \"left\")\n",
        "ph = ph.drop([\"doi\", \"id\", \"Gender\"], axis=1)\n",
        "ph = ph.rename(columns={\"centrality\": \"cen2\"})\n",
        "print(len(ph))\n",
        "\n",
        "ph = ph[ph['gender1'] != ph['gender2']].reset_index(drop=True)\n",
        "\n",
        "listd = []\n",
        "\n",
        "for c in range(len(ph)):\n",
        "  if ph['gender1'][c] == 'male':\n",
        "    listd.append(ph['cen1'][c] - ph['cen2'][c])\n",
        "  else:\n",
        "    listd.append(ph['cen2'][c] - ph['cen1'][c])\n",
        "\n",
        "ph['cen_d'] = listd\n",
        "\n",
        "print(len(ph))\n",
        "ph.head()"
      ],
      "execution_count": null,
      "outputs": [
        {
          "output_type": "stream",
          "text": [
            "1189255\n",
            "184694\n"
          ],
          "name": "stdout"
        },
        {
          "output_type": "execute_result",
          "data": {
            "text/html": [
              "<div>\n",
              "<style scoped>\n",
              "    .dataframe tbody tr th:only-of-type {\n",
              "        vertical-align: middle;\n",
              "    }\n",
              "\n",
              "    .dataframe tbody tr th {\n",
              "        vertical-align: top;\n",
              "    }\n",
              "\n",
              "    .dataframe thead th {\n",
              "        text-align: right;\n",
              "    }\n",
              "</style>\n",
              "<table border=\"1\" class=\"dataframe\">\n",
              "  <thead>\n",
              "    <tr style=\"text-align: right;\">\n",
              "      <th></th>\n",
              "      <th>paper1</th>\n",
              "      <th>gender1</th>\n",
              "      <th>year1</th>\n",
              "      <th>paper2</th>\n",
              "      <th>gender2</th>\n",
              "      <th>year2</th>\n",
              "      <th>qval</th>\n",
              "      <th>k</th>\n",
              "      <th>cen1</th>\n",
              "      <th>cen2</th>\n",
              "      <th>cen_d</th>\n",
              "    </tr>\n",
              "  </thead>\n",
              "  <tbody>\n",
              "    <tr>\n",
              "      <th>0</th>\n",
              "      <td>10.1103/PhysRevA.30.336</td>\n",
              "      <td>male</td>\n",
              "      <td>1984</td>\n",
              "      <td>10.1103/PhysRevA.34.4472</td>\n",
              "      <td>female</td>\n",
              "      <td>1986</td>\n",
              "      <td>0.017857</td>\n",
              "      <td>False</td>\n",
              "      <td>0.000018</td>\n",
              "      <td>0.000004</td>\n",
              "      <td>1.402271e-05</td>\n",
              "    </tr>\n",
              "    <tr>\n",
              "      <th>1</th>\n",
              "      <td>10.1103/PhysRevA.34.4472</td>\n",
              "      <td>female</td>\n",
              "      <td>1986</td>\n",
              "      <td>10.1103/PhysRevA.41.784</td>\n",
              "      <td>male</td>\n",
              "      <td>1990</td>\n",
              "      <td>0.017857</td>\n",
              "      <td>False</td>\n",
              "      <td>0.000004</td>\n",
              "      <td>0.000005</td>\n",
              "      <td>7.764608e-07</td>\n",
              "    </tr>\n",
              "    <tr>\n",
              "      <th>2</th>\n",
              "      <td>10.1103/PhysRevA.36.4950</td>\n",
              "      <td>female</td>\n",
              "      <td>1987</td>\n",
              "      <td>10.1103/PhysRevA.41.784</td>\n",
              "      <td>male</td>\n",
              "      <td>1990</td>\n",
              "      <td>0.006410</td>\n",
              "      <td>False</td>\n",
              "      <td>0.000002</td>\n",
              "      <td>0.000005</td>\n",
              "      <td>2.824713e-06</td>\n",
              "    </tr>\n",
              "    <tr>\n",
              "      <th>3</th>\n",
              "      <td>10.1103/PhysRevA.39.5466</td>\n",
              "      <td>female</td>\n",
              "      <td>1989</td>\n",
              "      <td>10.1103/PhysRevA.41.784</td>\n",
              "      <td>male</td>\n",
              "      <td>1990</td>\n",
              "      <td>0.006410</td>\n",
              "      <td>False</td>\n",
              "      <td>0.000002</td>\n",
              "      <td>0.000005</td>\n",
              "      <td>2.166712e-06</td>\n",
              "    </tr>\n",
              "    <tr>\n",
              "      <th>4</th>\n",
              "      <td>10.1103/PhysRevA.41.3081</td>\n",
              "      <td>female</td>\n",
              "      <td>1990</td>\n",
              "      <td>10.1103/PhysRevA.41.784</td>\n",
              "      <td>male</td>\n",
              "      <td>1990</td>\n",
              "      <td>0.000511</td>\n",
              "      <td>False</td>\n",
              "      <td>0.000002</td>\n",
              "      <td>0.000005</td>\n",
              "      <td>2.824713e-06</td>\n",
              "    </tr>\n",
              "  </tbody>\n",
              "</table>\n",
              "</div>"
            ],
            "text/plain": [
              "                     paper1 gender1  year1  ...      cen1      cen2         cen_d\n",
              "0   10.1103/PhysRevA.30.336    male   1984  ...  0.000018  0.000004  1.402271e-05\n",
              "1  10.1103/PhysRevA.34.4472  female   1986  ...  0.000004  0.000005  7.764608e-07\n",
              "2  10.1103/PhysRevA.36.4950  female   1987  ...  0.000002  0.000005  2.824713e-06\n",
              "3  10.1103/PhysRevA.39.5466  female   1989  ...  0.000002  0.000005  2.166712e-06\n",
              "4  10.1103/PhysRevA.41.3081  female   1990  ...  0.000002  0.000005  2.824713e-06\n",
              "\n",
              "[5 rows x 11 columns]"
            ]
          },
          "metadata": {
            "tags": []
          },
          "execution_count": 20
        }
      ]
    },
    {
      "cell_type": "code",
      "metadata": {
        "colab": {
          "base_uri": "https://localhost:8080/"
        },
        "id": "CQ-TdpOtkyN7",
        "outputId": "35d7ef51-fc3f-4dc7-e1f6-80d6d8de58cc"
      },
      "source": [
        "# Extract subDataFrame with q-value less than p threshold\n",
        "\n",
        "p = 0.002 # Select p thresholds with listed numbers in the paper\n",
        "\n",
        "phsub = ph[ph['qval'] < p].sort_values('cen_d').reset_index(drop=True)\n",
        "\n",
        "mlist = []\n",
        "fmlist = []\n",
        "\n",
        "for i in range(len(phsub)):\n",
        "  if phsub['gender1'][i] == 'male':\n",
        "    mlist.append(phsub['cen1'][i])\n",
        "    fmlist.append(phsub['cen2'][i])\n",
        "  else:\n",
        "    mlist.append(phsub['cen2'][i])\n",
        "    fmlist.append(phsub['cen1'][i])\n",
        "\n",
        "# Find the standard deviation\n",
        "sd = math.sqrt((np.std(mlist) ** 2 + np.std(fmlist) ** 2)/len(phsub))\n",
        "\n",
        "# Find z-scores (for p-values)\n",
        "print((np.mean(mlist)-np.mean(fmlist))/sd)"
      ],
      "execution_count": null,
      "outputs": [
        {
          "output_type": "stream",
          "text": [
            "-0.6457704432323805\n"
          ],
          "name": "stdout"
        }
      ]
    },
    {
      "cell_type": "code",
      "metadata": {
        "id": "_hvv_In-mcNV"
      },
      "source": [
        ""
      ],
      "execution_count": null,
      "outputs": []
    }
  ]
}