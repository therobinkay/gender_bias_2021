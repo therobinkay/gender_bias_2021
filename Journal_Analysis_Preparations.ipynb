{
  "nbformat": 4,
  "nbformat_minor": 0,
  "metadata": {
    "colab": {
      "name": "Journal Analysis Preparations.ipynb",
      "provenance": [],
      "authorship_tag": "ABX9TyM/0KmaJnIk4eQ6fYY51H1I",
      "include_colab_link": true
    },
    "kernelspec": {
      "name": "python3",
      "display_name": "Python 3"
    },
    "language_info": {
      "name": "python"
    }
  },
  "cells": [
    {
      "cell_type": "markdown",
      "metadata": {
        "id": "view-in-github",
        "colab_type": "text"
      },
      "source": [
        "<a href=\"https://colab.research.google.com/github/therobinkay/gender_bias_2021/blob/main/Journal_Analysis_Preparations.ipynb\" target=\"_parent\"><img src=\"https://colab.research.google.com/assets/colab-badge.svg\" alt=\"Open In Colab\"/></a>"
      ]
    },
    {
      "cell_type": "code",
      "metadata": {
        "id": "vlI3P-Dl6eCF"
      },
      "source": [
        "# import all necessary packages\n",
        "\n",
        "import io\n",
        "import pandas as pd\n",
        "import os\n",
        "import itertools\n",
        "import numpy as np\n",
        "import scipy.stats\n",
        "import time\n",
        "\n",
        "import matplotlib.pyplot as plt\n",
        "import seaborn as sns\n",
        "\n",
        "from tqdm import tqdm\n",
        "\n",
        "import math\n",
        "\n",
        "from collections import defaultdict\n",
        "from itertools import combinations as comb\n",
        "\n",
        "import networkx as nx\n",
        "import random"
      ],
      "execution_count": 1,
      "outputs": []
    },
    {
      "cell_type": "code",
      "metadata": {
        "colab": {
          "base_uri": "https://localhost:8080/"
        },
        "id": "OR0Omp2E6i0G",
        "outputId": "f4b2c71e-5957-47db-ef45-523defd4fb9e"
      },
      "source": [
        "from google.colab import drive\n",
        "drive.mount('/content/drive/')"
      ],
      "execution_count": 2,
      "outputs": [
        {
          "output_type": "stream",
          "text": [
            "Mounted at /content/drive/\n"
          ],
          "name": "stdout"
        }
      ]
    },
    {
      "cell_type": "code",
      "metadata": {
        "id": "KYxtBAq36kRT"
      },
      "source": [
        "!cd \"drive/My Drive\""
      ],
      "execution_count": 3,
      "outputs": []
    },
    {
      "cell_type": "code",
      "metadata": {
        "colab": {
          "base_uri": "https://localhost:8080/",
          "height": 17
        },
        "id": "i9vifqLV6oe0",
        "outputId": "1f567900-9ac6-44c5-f5fc-5bd98bcf5a75"
      },
      "source": [
        "# read all necessary .csv files\n",
        "\n",
        "data = pd.read_csv(\"drive/My Drive/codes/data.csv\")\n",
        "dp = pd.read_csv(\"drive/My Drive/codes/doipacs.csv\")\n",
        "cen = pd.read_csv('drive/My Drive/codes/cen.csv')\n",
        "\n",
        "cdata = pd.read_csv('drive/My Drive/codes/cdata.csv')\n",
        "\n",
        "cb = pd.read_csv(\"drive/My Drive/codes/citationBara.csv\")\n",
        "# extra modification for future analyses\n",
        "cb['pair'] = \"(\" + cb[\"citing_doi\"] + \", \" + cb[\"cited_doi\"] + \")\"\n",
        "cb['pair2'] = \"(\" + cb[\"cited_doi\"] + \", \" + cb[\"citing_doi\"] + \")\""
      ],
      "execution_count": 75,
      "outputs": [
        {
          "output_type": "display_data",
          "data": {
            "text/html": [
              "\n",
              "  <style>\n",
              "    pre {\n",
              "        white-space: pre-wrap;\n",
              "    }\n",
              "  </style>\n",
              "  "
            ],
            "text/plain": [
              "<IPython.core.display.HTML object>"
            ]
          },
          "metadata": {
            "tags": []
          }
        }
      ]
    },
    {
      "cell_type": "markdown",
      "metadata": {
        "id": "UwKtuoSs6twd"
      },
      "source": [
        "# Similarity Preparations"
      ]
    },
    {
      "cell_type": "code",
      "metadata": {
        "colab": {
          "base_uri": "https://localhost:8080/",
          "height": 260
        },
        "id": "TZvy5sBj6qYj",
        "outputId": "8eca6d6e-4245-403d-cd99-c3957dabbdbb"
      },
      "source": [
        "# Step 00a: Creating a DataFrame:\n",
        "# p(doi, id, gender, year, PACS),\n",
        "# r(doi, id, gender, year, PACS)\n",
        "hdata = cdata.query('citing_order == 1 & cited_order == 1\\\n",
        " & citing_is_alpha == False & cited_is_alpha == False').drop(['citing_order',\n",
        "  'cited_order', 'citing_numAuthor', 'cited_numAuthor', 'citing_is_last',\n",
        "  'cited_is_last', 'citing_is_alpha', 'cited_is_alpha', 'cited_year',\n",
        "  'citing_articleType', 'cited_articleType', 'citing_journal', 'cited_journal',\n",
        "  'citing_exceptions', 'cited_exceptions'],axis=1)\n",
        "\n",
        "print(len(hdata))\n",
        "print(hdata['citing_doi'].nunique())\n",
        "\n",
        "hdata.head()"
      ],
      "execution_count": 79,
      "outputs": [
        {
          "output_type": "display_data",
          "data": {
            "text/html": [
              "\n",
              "  <style>\n",
              "    pre {\n",
              "        white-space: pre-wrap;\n",
              "    }\n",
              "  </style>\n",
              "  "
            ],
            "text/plain": [
              "<IPython.core.display.HTML object>"
            ]
          },
          "metadata": {
            "tags": []
          }
        },
        {
          "output_type": "stream",
          "text": [
            "703005\n",
            "134908\n"
          ],
          "name": "stdout"
        },
        {
          "output_type": "execute_result",
          "data": {
            "text/html": [
              "<div>\n",
              "<style scoped>\n",
              "    .dataframe tbody tr th:only-of-type {\n",
              "        vertical-align: middle;\n",
              "    }\n",
              "\n",
              "    .dataframe tbody tr th {\n",
              "        vertical-align: top;\n",
              "    }\n",
              "\n",
              "    .dataframe thead th {\n",
              "        text-align: right;\n",
              "    }\n",
              "</style>\n",
              "<table border=\"1\" class=\"dataframe\">\n",
              "  <thead>\n",
              "    <tr style=\"text-align: right;\">\n",
              "      <th></th>\n",
              "      <th>citing_doi</th>\n",
              "      <th>citing_id</th>\n",
              "      <th>citing_gender</th>\n",
              "      <th>citing_year</th>\n",
              "      <th>citing_0</th>\n",
              "      <th>citing_1</th>\n",
              "      <th>citing_2</th>\n",
              "      <th>citing_3</th>\n",
              "      <th>citing_4</th>\n",
              "      <th>citing_5</th>\n",
              "      <th>citing_6</th>\n",
              "      <th>citing_7</th>\n",
              "      <th>citing_8</th>\n",
              "      <th>citing_9</th>\n",
              "      <th>cited_doi</th>\n",
              "      <th>cited_id</th>\n",
              "      <th>cited_gender</th>\n",
              "      <th>cited_0</th>\n",
              "      <th>cited_1</th>\n",
              "      <th>cited_2</th>\n",
              "      <th>cited_3</th>\n",
              "      <th>cited_4</th>\n",
              "      <th>cited_5</th>\n",
              "      <th>cited_6</th>\n",
              "      <th>cited_7</th>\n",
              "      <th>cited_8</th>\n",
              "      <th>cited_9</th>\n",
              "    </tr>\n",
              "  </thead>\n",
              "  <tbody>\n",
              "    <tr>\n",
              "      <th>86</th>\n",
              "      <td>10.1103/PhysRevB.1.3614</td>\n",
              "      <td>48018</td>\n",
              "      <td>female</td>\n",
              "      <td>1970</td>\n",
              "      <td>False</td>\n",
              "      <td>False</td>\n",
              "      <td>False</td>\n",
              "      <td>False</td>\n",
              "      <td>False</td>\n",
              "      <td>False</td>\n",
              "      <td>False</td>\n",
              "      <td>False</td>\n",
              "      <td>False</td>\n",
              "      <td>False</td>\n",
              "      <td>10.1103/PhysRev.91.174</td>\n",
              "      <td>9374</td>\n",
              "      <td>male</td>\n",
              "      <td>False</td>\n",
              "      <td>False</td>\n",
              "      <td>False</td>\n",
              "      <td>False</td>\n",
              "      <td>False</td>\n",
              "      <td>False</td>\n",
              "      <td>False</td>\n",
              "      <td>False</td>\n",
              "      <td>False</td>\n",
              "      <td>False</td>\n",
              "    </tr>\n",
              "    <tr>\n",
              "      <th>88</th>\n",
              "      <td>10.1103/PhysRev.92.1367</td>\n",
              "      <td>9374</td>\n",
              "      <td>male</td>\n",
              "      <td>1953</td>\n",
              "      <td>False</td>\n",
              "      <td>False</td>\n",
              "      <td>False</td>\n",
              "      <td>False</td>\n",
              "      <td>False</td>\n",
              "      <td>False</td>\n",
              "      <td>False</td>\n",
              "      <td>False</td>\n",
              "      <td>False</td>\n",
              "      <td>False</td>\n",
              "      <td>10.1103/PhysRev.91.174</td>\n",
              "      <td>9374</td>\n",
              "      <td>male</td>\n",
              "      <td>False</td>\n",
              "      <td>False</td>\n",
              "      <td>False</td>\n",
              "      <td>False</td>\n",
              "      <td>False</td>\n",
              "      <td>False</td>\n",
              "      <td>False</td>\n",
              "      <td>False</td>\n",
              "      <td>False</td>\n",
              "      <td>False</td>\n",
              "    </tr>\n",
              "    <tr>\n",
              "      <th>90</th>\n",
              "      <td>10.1103/RevModPhys.62.251</td>\n",
              "      <td>81636</td>\n",
              "      <td>male</td>\n",
              "      <td>1990</td>\n",
              "      <td>False</td>\n",
              "      <td>False</td>\n",
              "      <td>False</td>\n",
              "      <td>False</td>\n",
              "      <td>False</td>\n",
              "      <td>False</td>\n",
              "      <td>False</td>\n",
              "      <td>False</td>\n",
              "      <td>False</td>\n",
              "      <td>False</td>\n",
              "      <td>10.1103/PhysRev.91.174</td>\n",
              "      <td>9374</td>\n",
              "      <td>male</td>\n",
              "      <td>False</td>\n",
              "      <td>False</td>\n",
              "      <td>False</td>\n",
              "      <td>False</td>\n",
              "      <td>False</td>\n",
              "      <td>False</td>\n",
              "      <td>False</td>\n",
              "      <td>False</td>\n",
              "      <td>False</td>\n",
              "      <td>False</td>\n",
              "    </tr>\n",
              "    <tr>\n",
              "      <th>93</th>\n",
              "      <td>10.1103/PhysRevA.10.1494</td>\n",
              "      <td>29373</td>\n",
              "      <td>male</td>\n",
              "      <td>1974</td>\n",
              "      <td>False</td>\n",
              "      <td>False</td>\n",
              "      <td>False</td>\n",
              "      <td>False</td>\n",
              "      <td>False</td>\n",
              "      <td>False</td>\n",
              "      <td>False</td>\n",
              "      <td>False</td>\n",
              "      <td>False</td>\n",
              "      <td>False</td>\n",
              "      <td>10.1103/PhysRev.91.174</td>\n",
              "      <td>9374</td>\n",
              "      <td>male</td>\n",
              "      <td>False</td>\n",
              "      <td>False</td>\n",
              "      <td>False</td>\n",
              "      <td>False</td>\n",
              "      <td>False</td>\n",
              "      <td>False</td>\n",
              "      <td>False</td>\n",
              "      <td>False</td>\n",
              "      <td>False</td>\n",
              "      <td>False</td>\n",
              "    </tr>\n",
              "    <tr>\n",
              "      <th>97</th>\n",
              "      <td>10.1103/PhysRevD.74.085005</td>\n",
              "      <td>57188</td>\n",
              "      <td>male</td>\n",
              "      <td>2006</td>\n",
              "      <td>True</td>\n",
              "      <td>True</td>\n",
              "      <td>False</td>\n",
              "      <td>False</td>\n",
              "      <td>False</td>\n",
              "      <td>False</td>\n",
              "      <td>False</td>\n",
              "      <td>False</td>\n",
              "      <td>False</td>\n",
              "      <td>False</td>\n",
              "      <td>10.1103/PhysRev.91.174</td>\n",
              "      <td>9374</td>\n",
              "      <td>male</td>\n",
              "      <td>False</td>\n",
              "      <td>False</td>\n",
              "      <td>False</td>\n",
              "      <td>False</td>\n",
              "      <td>False</td>\n",
              "      <td>False</td>\n",
              "      <td>False</td>\n",
              "      <td>False</td>\n",
              "      <td>False</td>\n",
              "      <td>False</td>\n",
              "    </tr>\n",
              "  </tbody>\n",
              "</table>\n",
              "</div>"
            ],
            "text/plain": [
              "                    citing_doi  citing_id  ... cited_8  cited_9\n",
              "86     10.1103/PhysRevB.1.3614      48018  ...   False    False\n",
              "88     10.1103/PhysRev.92.1367       9374  ...   False    False\n",
              "90   10.1103/RevModPhys.62.251      81636  ...   False    False\n",
              "93    10.1103/PhysRevA.10.1494      29373  ...   False    False\n",
              "97  10.1103/PhysRevD.74.085005      57188  ...   False    False\n",
              "\n",
              "[5 rows x 27 columns]"
            ]
          },
          "metadata": {
            "tags": []
          },
          "execution_count": 79
        }
      ]
    },
    {
      "cell_type": "code",
      "metadata": {
        "colab": {
          "base_uri": "https://localhost:8080/",
          "height": 222
        },
        "id": "sB9avBBv6wc7",
        "outputId": "cfea34df-b7d5-4bb3-d9c5-c0ed531f4615"
      },
      "source": [
        "# Step 00b: Creating a DataFrame: paper, gender, year\n",
        "\n",
        "rhom = hdata[['citing_doi', 'citing_gender', 'citing_year']].drop_duplicates(\n",
        "    subset = 'citing_doi')\n",
        "rhom.columns = [\"paper\", \"gender\", \"year\"]\n",
        "\n",
        "print(len(rhom))\n",
        "rhom.head()"
      ],
      "execution_count": 80,
      "outputs": [
        {
          "output_type": "display_data",
          "data": {
            "text/html": [
              "\n",
              "  <style>\n",
              "    pre {\n",
              "        white-space: pre-wrap;\n",
              "    }\n",
              "  </style>\n",
              "  "
            ],
            "text/plain": [
              "<IPython.core.display.HTML object>"
            ]
          },
          "metadata": {
            "tags": []
          }
        },
        {
          "output_type": "stream",
          "text": [
            "134908\n"
          ],
          "name": "stdout"
        },
        {
          "output_type": "execute_result",
          "data": {
            "text/html": [
              "<div>\n",
              "<style scoped>\n",
              "    .dataframe tbody tr th:only-of-type {\n",
              "        vertical-align: middle;\n",
              "    }\n",
              "\n",
              "    .dataframe tbody tr th {\n",
              "        vertical-align: top;\n",
              "    }\n",
              "\n",
              "    .dataframe thead th {\n",
              "        text-align: right;\n",
              "    }\n",
              "</style>\n",
              "<table border=\"1\" class=\"dataframe\">\n",
              "  <thead>\n",
              "    <tr style=\"text-align: right;\">\n",
              "      <th></th>\n",
              "      <th>paper</th>\n",
              "      <th>gender</th>\n",
              "      <th>year</th>\n",
              "    </tr>\n",
              "  </thead>\n",
              "  <tbody>\n",
              "    <tr>\n",
              "      <th>86</th>\n",
              "      <td>10.1103/PhysRevB.1.3614</td>\n",
              "      <td>female</td>\n",
              "      <td>1970</td>\n",
              "    </tr>\n",
              "    <tr>\n",
              "      <th>88</th>\n",
              "      <td>10.1103/PhysRev.92.1367</td>\n",
              "      <td>male</td>\n",
              "      <td>1953</td>\n",
              "    </tr>\n",
              "    <tr>\n",
              "      <th>90</th>\n",
              "      <td>10.1103/RevModPhys.62.251</td>\n",
              "      <td>male</td>\n",
              "      <td>1990</td>\n",
              "    </tr>\n",
              "    <tr>\n",
              "      <th>93</th>\n",
              "      <td>10.1103/PhysRevA.10.1494</td>\n",
              "      <td>male</td>\n",
              "      <td>1974</td>\n",
              "    </tr>\n",
              "    <tr>\n",
              "      <th>97</th>\n",
              "      <td>10.1103/PhysRevD.74.085005</td>\n",
              "      <td>male</td>\n",
              "      <td>2006</td>\n",
              "    </tr>\n",
              "  </tbody>\n",
              "</table>\n",
              "</div>"
            ],
            "text/plain": [
              "                         paper  gender  year\n",
              "86     10.1103/PhysRevB.1.3614  female  1970\n",
              "88     10.1103/PhysRev.92.1367    male  1953\n",
              "90   10.1103/RevModPhys.62.251    male  1990\n",
              "93    10.1103/PhysRevA.10.1494    male  1974\n",
              "97  10.1103/PhysRevD.74.085005    male  2006"
            ]
          },
          "metadata": {
            "tags": []
          },
          "execution_count": 80
        }
      ]
    },
    {
      "cell_type": "code",
      "metadata": {
        "colab": {
          "base_uri": "https://localhost:8080/",
          "height": 222
        },
        "id": "CqkAMiMB6xob",
        "outputId": "d4d4a831-aded-4de5-eb76-fc6693cb9c9f"
      },
      "source": [
        "# Step 01: Creating a DataFrame: paper, reference, count (of reference)\n",
        "\n",
        "N = 9 #enter hom number\n",
        "for N in range(N+1):\n",
        "  cited = 'cited_'+str(N)\n",
        "  citing = 'citing_'+str(N)\n",
        "  \n",
        "  hom = hdata[hdata[cited] == True]\n",
        "  hom = hom[hom[citing] == True]\n",
        "  hom['count'] = hom.groupby('cited_doi')['cited_doi'].transform('count')\n",
        "  hom.sort_values(\"count\", axis = 0, ascending = True, inplace = True,\n",
        "                  na_position ='first')\n",
        "  hom = hom[['citing_doi', 'cited_doi', 'count']]\n",
        "  hom.columns = [\"paper\", \"reference\", \"count\"]\n",
        "\n",
        "print(len(hom))\n",
        "hom.head()"
      ],
      "execution_count": 81,
      "outputs": [
        {
          "output_type": "display_data",
          "data": {
            "text/html": [
              "\n",
              "  <style>\n",
              "    pre {\n",
              "        white-space: pre-wrap;\n",
              "    }\n",
              "  </style>\n",
              "  "
            ],
            "text/plain": [
              "<IPython.core.display.HTML object>"
            ]
          },
          "metadata": {
            "tags": []
          }
        },
        {
          "output_type": "stream",
          "text": [
            "20686\n"
          ],
          "name": "stdout"
        },
        {
          "output_type": "execute_result",
          "data": {
            "text/html": [
              "<div>\n",
              "<style scoped>\n",
              "    .dataframe tbody tr th:only-of-type {\n",
              "        vertical-align: middle;\n",
              "    }\n",
              "\n",
              "    .dataframe tbody tr th {\n",
              "        vertical-align: top;\n",
              "    }\n",
              "\n",
              "    .dataframe thead th {\n",
              "        text-align: right;\n",
              "    }\n",
              "</style>\n",
              "<table border=\"1\" class=\"dataframe\">\n",
              "  <thead>\n",
              "    <tr style=\"text-align: right;\">\n",
              "      <th></th>\n",
              "      <th>paper</th>\n",
              "      <th>reference</th>\n",
              "      <th>count</th>\n",
              "    </tr>\n",
              "  </thead>\n",
              "  <tbody>\n",
              "    <tr>\n",
              "      <th>9383928</th>\n",
              "      <td>10.1103/PhysRevD.80.123524</td>\n",
              "      <td>10.1103/PhysRevD.79.063512</td>\n",
              "      <td>1</td>\n",
              "    </tr>\n",
              "    <tr>\n",
              "      <th>9127653</th>\n",
              "      <td>10.1103/PhysRevE.79.036314</td>\n",
              "      <td>10.1103/PhysRevE.50.2048</td>\n",
              "      <td>1</td>\n",
              "    </tr>\n",
              "    <tr>\n",
              "      <th>6051565</th>\n",
              "      <td>10.1103/PhysRevB.66.092103</td>\n",
              "      <td>10.1103/PhysRevB.65.193107</td>\n",
              "      <td>1</td>\n",
              "    </tr>\n",
              "    <tr>\n",
              "      <th>6059870</th>\n",
              "      <td>10.1103/PhysRevB.66.092103</td>\n",
              "      <td>10.1103/PhysRevB.63.104111</td>\n",
              "      <td>1</td>\n",
              "    </tr>\n",
              "    <tr>\n",
              "      <th>9128496</th>\n",
              "      <td>10.1103/PhysRevD.78.103007</td>\n",
              "      <td>10.1103/PhysRevD.76.125019</td>\n",
              "      <td>1</td>\n",
              "    </tr>\n",
              "  </tbody>\n",
              "</table>\n",
              "</div>"
            ],
            "text/plain": [
              "                              paper                   reference  count\n",
              "9383928  10.1103/PhysRevD.80.123524  10.1103/PhysRevD.79.063512      1\n",
              "9127653  10.1103/PhysRevE.79.036314    10.1103/PhysRevE.50.2048      1\n",
              "6051565  10.1103/PhysRevB.66.092103  10.1103/PhysRevB.65.193107      1\n",
              "6059870  10.1103/PhysRevB.66.092103  10.1103/PhysRevB.63.104111      1\n",
              "9128496  10.1103/PhysRevD.78.103007  10.1103/PhysRevD.76.125019      1"
            ]
          },
          "metadata": {
            "tags": []
          },
          "execution_count": 81
        }
      ]
    },
    {
      "cell_type": "code",
      "metadata": {
        "colab": {
          "base_uri": "https://localhost:8080/",
          "height": 17
        },
        "id": "ONhGmhA-6y9c",
        "outputId": "b6ef602c-9317-48e2-a34e-dd7641a7fb57"
      },
      "source": [
        "# Step 02: Creating a dictionary of 'hom's by count\n",
        "\n",
        "hom_x={key:hom[hom['count']==key] for key in hom['count'].unique()}"
      ],
      "execution_count": 82,
      "outputs": [
        {
          "output_type": "display_data",
          "data": {
            "text/html": [
              "\n",
              "  <style>\n",
              "    pre {\n",
              "        white-space: pre-wrap;\n",
              "    }\n",
              "  </style>\n",
              "  "
            ],
            "text/plain": [
              "<IPython.core.display.HTML object>"
            ]
          },
          "metadata": {
            "tags": []
          }
        }
      ]
    },
    {
      "cell_type": "code",
      "metadata": {
        "colab": {
          "base_uri": "https://localhost:8080/",
          "height": 17
        },
        "id": "RQdbA-LM68_8",
        "outputId": "68a955fe-b748-48ab-82ca-0f398348012a"
      },
      "source": [
        "# Step 03: Link papers with connections together as groups\n",
        "\n",
        "hom_y = {}\n",
        "nunique_list = {}\n",
        "for key, hom_x_sub in hom_x.items():\n",
        "  cbt = hom_x_sub\n",
        "  from_doi = cbt[\"paper\"]\n",
        "  to_doi = cbt[\"reference\"]\n",
        "\n",
        "  nunique_list[key] = len(to_doi.unique())\n",
        "\n",
        "  parent = {}\n",
        "  for ref in to_doi.unique():\n",
        "    parent[ref] = []\n",
        "  for a, b in zip(from_doi, to_doi):\n",
        "    parent[b].append(a)\n",
        "\n",
        "  pair_count = {}\n",
        "  for l in parent.values():\n",
        "    for tp in comb(sorted(l), 2):\n",
        "      if tp in pair_count:\n",
        "        pair_count[tp] += 1\n",
        "      else:\n",
        "        pair_count[tp] = 1\n",
        "  dfc = []\n",
        "  for p, value in pair_count.items():\n",
        "    dfc.append([p[0], p[1], value])\n",
        "  dfc = pd.DataFrame(dfc, columns=['paper1', 'paper2', 'common'])\n",
        "  hom_y[key] = dfc"
      ],
      "execution_count": 83,
      "outputs": [
        {
          "output_type": "display_data",
          "data": {
            "text/html": [
              "\n",
              "  <style>\n",
              "    pre {\n",
              "        white-space: pre-wrap;\n",
              "    }\n",
              "  </style>\n",
              "  "
            ],
            "text/plain": [
              "<IPython.core.display.HTML object>"
            ]
          },
          "metadata": {
            "tags": []
          }
        }
      ]
    },
    {
      "cell_type": "code",
      "metadata": {
        "colab": {
          "base_uri": "https://localhost:8080/",
          "height": 204
        },
        "id": "QNnEyWVZ6-Ds",
        "outputId": "0a1858ec-1854-47d6-f3f6-7649295f45e5"
      },
      "source": [
        "# Step 04: Creating a dictionary: paper1, paper2, reference, common, freq1, freq2\n",
        "\n",
        "from itertools import combinations as comb\n",
        "\n",
        "freq = {}\n",
        "\n",
        "for key, tables in hom_y.items():\n",
        "  ftable = hom_x[key].groupby([\"paper\"]).size().reset_index(name='frequency')\n",
        "  freq[key] = ftable\n",
        "\n",
        "fin = {}\n",
        "for key, tables in hom_y.items():\n",
        "  if len(tables) > 0:\n",
        "    tcount = freq[key]\n",
        "    final_table = tables.merge(tcount, left_on='paper1', right_on='paper')\n",
        "    final_table = final_table.merge(tcount, left_on='paper2', right_on='paper')\n",
        "    final_table = final_table.drop(['paper_x', 'paper_y'], axis=1)\n",
        "    \n",
        "    fin[key] = final_table\n",
        "\n",
        "fin[9].head()"
      ],
      "execution_count": 84,
      "outputs": [
        {
          "output_type": "display_data",
          "data": {
            "text/html": [
              "\n",
              "  <style>\n",
              "    pre {\n",
              "        white-space: pre-wrap;\n",
              "    }\n",
              "  </style>\n",
              "  "
            ],
            "text/plain": [
              "<IPython.core.display.HTML object>"
            ]
          },
          "metadata": {
            "tags": []
          }
        },
        {
          "output_type": "execute_result",
          "data": {
            "text/html": [
              "<div>\n",
              "<style scoped>\n",
              "    .dataframe tbody tr th:only-of-type {\n",
              "        vertical-align: middle;\n",
              "    }\n",
              "\n",
              "    .dataframe tbody tr th {\n",
              "        vertical-align: top;\n",
              "    }\n",
              "\n",
              "    .dataframe thead th {\n",
              "        text-align: right;\n",
              "    }\n",
              "</style>\n",
              "<table border=\"1\" class=\"dataframe\">\n",
              "  <thead>\n",
              "    <tr style=\"text-align: right;\">\n",
              "      <th></th>\n",
              "      <th>paper1</th>\n",
              "      <th>paper2</th>\n",
              "      <th>common</th>\n",
              "      <th>frequency_x</th>\n",
              "      <th>frequency_y</th>\n",
              "    </tr>\n",
              "  </thead>\n",
              "  <tbody>\n",
              "    <tr>\n",
              "      <th>0</th>\n",
              "      <td>10.1103/PhysRevE.48.4250</td>\n",
              "      <td>10.1103/PhysRevE.50.2607</td>\n",
              "      <td>1</td>\n",
              "      <td>1</td>\n",
              "      <td>1</td>\n",
              "    </tr>\n",
              "    <tr>\n",
              "      <th>1</th>\n",
              "      <td>10.1103/PhysRevE.48.4250</td>\n",
              "      <td>10.1103/PhysRevE.51.884</td>\n",
              "      <td>1</td>\n",
              "      <td>1</td>\n",
              "      <td>1</td>\n",
              "    </tr>\n",
              "    <tr>\n",
              "      <th>2</th>\n",
              "      <td>10.1103/PhysRevE.50.2607</td>\n",
              "      <td>10.1103/PhysRevE.51.884</td>\n",
              "      <td>1</td>\n",
              "      <td>1</td>\n",
              "      <td>1</td>\n",
              "    </tr>\n",
              "    <tr>\n",
              "      <th>3</th>\n",
              "      <td>10.1103/PhysRevE.48.4250</td>\n",
              "      <td>10.1103/PhysRevE.52.3390</td>\n",
              "      <td>1</td>\n",
              "      <td>1</td>\n",
              "      <td>1</td>\n",
              "    </tr>\n",
              "    <tr>\n",
              "      <th>4</th>\n",
              "      <td>10.1103/PhysRevE.50.2607</td>\n",
              "      <td>10.1103/PhysRevE.52.3390</td>\n",
              "      <td>1</td>\n",
              "      <td>1</td>\n",
              "      <td>1</td>\n",
              "    </tr>\n",
              "  </tbody>\n",
              "</table>\n",
              "</div>"
            ],
            "text/plain": [
              "                     paper1                    paper2  ...  frequency_x  frequency_y\n",
              "0  10.1103/PhysRevE.48.4250  10.1103/PhysRevE.50.2607  ...            1            1\n",
              "1  10.1103/PhysRevE.48.4250   10.1103/PhysRevE.51.884  ...            1            1\n",
              "2  10.1103/PhysRevE.50.2607   10.1103/PhysRevE.51.884  ...            1            1\n",
              "3  10.1103/PhysRevE.48.4250  10.1103/PhysRevE.52.3390  ...            1            1\n",
              "4  10.1103/PhysRevE.50.2607  10.1103/PhysRevE.52.3390  ...            1            1\n",
              "\n",
              "[5 rows x 5 columns]"
            ]
          },
          "metadata": {
            "tags": []
          },
          "execution_count": 84
        }
      ]
    },
    {
      "cell_type": "code",
      "metadata": {
        "colab": {
          "base_uri": "https://localhost:8080/",
          "height": 17
        },
        "id": "L762ydE26_uc",
        "outputId": "717615b2-7952-4714-ce81-dbd2c96441bc"
      },
      "source": [
        "# Step 05: Assigning q-values to all pairs\n",
        "\n",
        "H_func = scipy.stats.hypergeom.pmf\n",
        "\n",
        "for key, table in fin.items():\n",
        "  qval = []\n",
        "  _dp = {}\n",
        "  nbk = nunique_list[key]\n",
        "\n",
        "  for i, r in table.iterrows():\n",
        "    Hs = []\n",
        "    di, dj = r['frequency_x'], r['frequency_y']\n",
        "    nijk = r['common']\n",
        "\n",
        "    for X in range(nijk):\n",
        "      _ref = (X, nbk, di, dj)\n",
        "      if _ref in _dp:\n",
        "        H = _dp[_ref]\n",
        "      else:\n",
        "        H = H_func(X, nbk, di, dj)\n",
        "        _dp[_ref] = H\n",
        "      Hs.append(H)\n",
        "\n",
        "    qval.append(1-sum(Hs))\n",
        "\n",
        "  fin[key]['qval'] = qval"
      ],
      "execution_count": 85,
      "outputs": [
        {
          "output_type": "display_data",
          "data": {
            "text/html": [
              "\n",
              "  <style>\n",
              "    pre {\n",
              "        white-space: pre-wrap;\n",
              "    }\n",
              "  </style>\n",
              "  "
            ],
            "text/plain": [
              "<IPython.core.display.HTML object>"
            ]
          },
          "metadata": {
            "tags": []
          }
        }
      ]
    },
    {
      "cell_type": "code",
      "metadata": {
        "colab": {
          "base_uri": "https://localhost:8080/",
          "height": 222
        },
        "id": "e6CDY-4O7BEE",
        "outputId": "d5d933ff-8ae9-4525-f0e0-67f6a75a6480"
      },
      "source": [
        "# Step 06: Creating a DataFrame: paper1, paper2, common, freq1, freq2, qval\n",
        "\n",
        "df = pd.concat(fin.values())\n",
        "df.groupby(['paper1', 'paper2']).size()\n",
        "df = df.sort_values(['paper1', 'paper2'])\n",
        "print(len(df))\n",
        "df.sort_values('common', ascending=False).head()"
      ],
      "execution_count": 86,
      "outputs": [
        {
          "output_type": "display_data",
          "data": {
            "text/html": [
              "\n",
              "  <style>\n",
              "    pre {\n",
              "        white-space: pre-wrap;\n",
              "    }\n",
              "  </style>\n",
              "  "
            ],
            "text/plain": [
              "<IPython.core.display.HTML object>"
            ]
          },
          "metadata": {
            "tags": []
          }
        },
        {
          "output_type": "stream",
          "text": [
            "142222\n"
          ],
          "name": "stdout"
        },
        {
          "output_type": "execute_result",
          "data": {
            "text/html": [
              "<div>\n",
              "<style scoped>\n",
              "    .dataframe tbody tr th:only-of-type {\n",
              "        vertical-align: middle;\n",
              "    }\n",
              "\n",
              "    .dataframe tbody tr th {\n",
              "        vertical-align: top;\n",
              "    }\n",
              "\n",
              "    .dataframe thead th {\n",
              "        text-align: right;\n",
              "    }\n",
              "</style>\n",
              "<table border=\"1\" class=\"dataframe\">\n",
              "  <thead>\n",
              "    <tr style=\"text-align: right;\">\n",
              "      <th></th>\n",
              "      <th>paper1</th>\n",
              "      <th>paper2</th>\n",
              "      <th>common</th>\n",
              "      <th>frequency_x</th>\n",
              "      <th>frequency_y</th>\n",
              "      <th>qval</th>\n",
              "    </tr>\n",
              "  </thead>\n",
              "  <tbody>\n",
              "    <tr>\n",
              "      <th>2164</th>\n",
              "      <td>10.1103/PhysRevD.68.024016</td>\n",
              "      <td>10.1103/PhysRevD.68.103512</td>\n",
              "      <td>4</td>\n",
              "      <td>4</td>\n",
              "      <td>4</td>\n",
              "      <td>1.797510e-07</td>\n",
              "    </tr>\n",
              "    <tr>\n",
              "      <th>2177</th>\n",
              "      <td>10.1103/PhysRevD.68.103512</td>\n",
              "      <td>10.1103/PhysRevD.70.043513</td>\n",
              "      <td>4</td>\n",
              "      <td>4</td>\n",
              "      <td>4</td>\n",
              "      <td>1.797510e-07</td>\n",
              "    </tr>\n",
              "    <tr>\n",
              "      <th>2175</th>\n",
              "      <td>10.1103/PhysRevD.68.024016</td>\n",
              "      <td>10.1103/PhysRevD.70.043513</td>\n",
              "      <td>4</td>\n",
              "      <td>4</td>\n",
              "      <td>4</td>\n",
              "      <td>1.797510e-07</td>\n",
              "    </tr>\n",
              "    <tr>\n",
              "      <th>343</th>\n",
              "      <td>10.1103/PhysRevD.67.023509</td>\n",
              "      <td>10.1103/PhysRevD.67.123515</td>\n",
              "      <td>4</td>\n",
              "      <td>4</td>\n",
              "      <td>4</td>\n",
              "      <td>1.031845e-07</td>\n",
              "    </tr>\n",
              "    <tr>\n",
              "      <th>1030</th>\n",
              "      <td>10.1103/PhysRevD.72.023510</td>\n",
              "      <td>10.1103/PhysRevD.80.083002</td>\n",
              "      <td>3</td>\n",
              "      <td>3</td>\n",
              "      <td>4</td>\n",
              "      <td>1.258851e-05</td>\n",
              "    </tr>\n",
              "  </tbody>\n",
              "</table>\n",
              "</div>"
            ],
            "text/plain": [
              "                          paper1  ...          qval\n",
              "2164  10.1103/PhysRevD.68.024016  ...  1.797510e-07\n",
              "2177  10.1103/PhysRevD.68.103512  ...  1.797510e-07\n",
              "2175  10.1103/PhysRevD.68.024016  ...  1.797510e-07\n",
              "343   10.1103/PhysRevD.67.023509  ...  1.031845e-07\n",
              "1030  10.1103/PhysRevD.72.023510  ...  1.258851e-05\n",
              "\n",
              "[5 rows x 6 columns]"
            ]
          },
          "metadata": {
            "tags": []
          },
          "execution_count": 86
        }
      ]
    },
    {
      "cell_type": "code",
      "metadata": {
        "colab": {
          "base_uri": "https://localhost:8080/",
          "height": 222
        },
        "id": "6AqMTJ_N7CYM",
        "outputId": "4bebddc4-b7ef-45e1-857e-834110486deb"
      },
      "source": [
        "# Step 07: Combining equivalent pairs together with the minimum qval\n",
        "\n",
        "df = df.drop([\"common\", \"frequency_x\", \"frequency_y\"], axis=1).sort_values(\n",
        "    [\"paper1\", \"paper2\", \"qval\"]).reset_index(drop=True).groupby(\n",
        "        [\"paper1\", \"paper2\"], as_index=False).min()\n",
        "\n",
        "print(len(df))\n",
        "df.sort_values('qval').head()"
      ],
      "execution_count": 87,
      "outputs": [
        {
          "output_type": "display_data",
          "data": {
            "text/html": [
              "\n",
              "  <style>\n",
              "    pre {\n",
              "        white-space: pre-wrap;\n",
              "    }\n",
              "  </style>\n",
              "  "
            ],
            "text/plain": [
              "<IPython.core.display.HTML object>"
            ]
          },
          "metadata": {
            "tags": []
          }
        },
        {
          "output_type": "stream",
          "text": [
            "103313\n"
          ],
          "name": "stdout"
        },
        {
          "output_type": "execute_result",
          "data": {
            "text/html": [
              "<div>\n",
              "<style scoped>\n",
              "    .dataframe tbody tr th:only-of-type {\n",
              "        vertical-align: middle;\n",
              "    }\n",
              "\n",
              "    .dataframe tbody tr th {\n",
              "        vertical-align: top;\n",
              "    }\n",
              "\n",
              "    .dataframe thead th {\n",
              "        text-align: right;\n",
              "    }\n",
              "</style>\n",
              "<table border=\"1\" class=\"dataframe\">\n",
              "  <thead>\n",
              "    <tr style=\"text-align: right;\">\n",
              "      <th></th>\n",
              "      <th>paper1</th>\n",
              "      <th>paper2</th>\n",
              "      <th>qval</th>\n",
              "    </tr>\n",
              "  </thead>\n",
              "  <tbody>\n",
              "    <tr>\n",
              "      <th>100335</th>\n",
              "      <td>10.1103/PhysRevD.80.083002</td>\n",
              "      <td>10.1103/PhysRevD.80.126018</td>\n",
              "      <td>6.411863e-08</td>\n",
              "    </tr>\n",
              "    <tr>\n",
              "      <th>20468</th>\n",
              "      <td>10.1103/PhysRevD.60.104040</td>\n",
              "      <td>10.1103/PhysRevD.69.084018</td>\n",
              "      <td>6.411863e-08</td>\n",
              "    </tr>\n",
              "    <tr>\n",
              "      <th>43693</th>\n",
              "      <td>10.1103/PhysRevD.67.023509</td>\n",
              "      <td>10.1103/PhysRevD.67.123515</td>\n",
              "      <td>1.031845e-07</td>\n",
              "    </tr>\n",
              "    <tr>\n",
              "      <th>88955</th>\n",
              "      <td>10.1103/PhysRevD.77.023513</td>\n",
              "      <td>10.1103/PhysRevLett.94.151601</td>\n",
              "      <td>1.233891e-07</td>\n",
              "    </tr>\n",
              "    <tr>\n",
              "      <th>57204</th>\n",
              "      <td>10.1103/PhysRevD.70.043513</td>\n",
              "      <td>10.1103/PhysRevD.70.044021</td>\n",
              "      <td>1.233891e-07</td>\n",
              "    </tr>\n",
              "  </tbody>\n",
              "</table>\n",
              "</div>"
            ],
            "text/plain": [
              "                            paper1                         paper2          qval\n",
              "100335  10.1103/PhysRevD.80.083002     10.1103/PhysRevD.80.126018  6.411863e-08\n",
              "20468   10.1103/PhysRevD.60.104040     10.1103/PhysRevD.69.084018  6.411863e-08\n",
              "43693   10.1103/PhysRevD.67.023509     10.1103/PhysRevD.67.123515  1.031845e-07\n",
              "88955   10.1103/PhysRevD.77.023513  10.1103/PhysRevLett.94.151601  1.233891e-07\n",
              "57204   10.1103/PhysRevD.70.043513     10.1103/PhysRevD.70.044021  1.233891e-07"
            ]
          },
          "metadata": {
            "tags": []
          },
          "execution_count": 87
        }
      ]
    },
    {
      "cell_type": "code",
      "metadata": {
        "colab": {
          "base_uri": "https://localhost:8080/",
          "height": 240
        },
        "id": "KHjH755C7Dqs",
        "outputId": "2c2a3178-e178-4ce8-83ba-e1610bc39d7c"
      },
      "source": [
        "# Step 08: Assigning k to all pairs\n",
        "\n",
        "pairs = \"(\" + df[\"paper1\"] + \", \" + df[\"paper2\"] + \")\"\n",
        "df['k'] = pairs.isin(cb.pair) | pairs.isin(cb.pair2)\n",
        "\n",
        "print(len(df))\n",
        "print(sum(df['k']))\n",
        "df.head()"
      ],
      "execution_count": 88,
      "outputs": [
        {
          "output_type": "display_data",
          "data": {
            "text/html": [
              "\n",
              "  <style>\n",
              "    pre {\n",
              "        white-space: pre-wrap;\n",
              "    }\n",
              "  </style>\n",
              "  "
            ],
            "text/plain": [
              "<IPython.core.display.HTML object>"
            ]
          },
          "metadata": {
            "tags": []
          }
        },
        {
          "output_type": "stream",
          "text": [
            "103313\n",
            "10278\n"
          ],
          "name": "stdout"
        },
        {
          "output_type": "execute_result",
          "data": {
            "text/html": [
              "<div>\n",
              "<style scoped>\n",
              "    .dataframe tbody tr th:only-of-type {\n",
              "        vertical-align: middle;\n",
              "    }\n",
              "\n",
              "    .dataframe tbody tr th {\n",
              "        vertical-align: top;\n",
              "    }\n",
              "\n",
              "    .dataframe thead th {\n",
              "        text-align: right;\n",
              "    }\n",
              "</style>\n",
              "<table border=\"1\" class=\"dataframe\">\n",
              "  <thead>\n",
              "    <tr style=\"text-align: right;\">\n",
              "      <th></th>\n",
              "      <th>paper1</th>\n",
              "      <th>paper2</th>\n",
              "      <th>qval</th>\n",
              "      <th>k</th>\n",
              "    </tr>\n",
              "  </thead>\n",
              "  <tbody>\n",
              "    <tr>\n",
              "      <th>0</th>\n",
              "      <td>10.1103/PhysRevA.35.4035</td>\n",
              "      <td>10.1103/PhysRevA.36.4163</td>\n",
              "      <td>0.001441</td>\n",
              "      <td>False</td>\n",
              "    </tr>\n",
              "    <tr>\n",
              "      <th>1</th>\n",
              "      <td>10.1103/PhysRevA.36.4700</td>\n",
              "      <td>10.1103/PhysRevA.38.1839</td>\n",
              "      <td>0.003817</td>\n",
              "      <td>True</td>\n",
              "    </tr>\n",
              "    <tr>\n",
              "      <th>2</th>\n",
              "      <td>10.1103/PhysRevA.36.4700</td>\n",
              "      <td>10.1103/PhysRevA.40.6260</td>\n",
              "      <td>0.003817</td>\n",
              "      <td>True</td>\n",
              "    </tr>\n",
              "    <tr>\n",
              "      <th>3</th>\n",
              "      <td>10.1103/PhysRevA.36.4700</td>\n",
              "      <td>10.1103/PhysRevA.40.6931</td>\n",
              "      <td>0.003817</td>\n",
              "      <td>True</td>\n",
              "    </tr>\n",
              "    <tr>\n",
              "      <th>4</th>\n",
              "      <td>10.1103/PhysRevA.36.4700</td>\n",
              "      <td>10.1103/PhysRevA.47.4065</td>\n",
              "      <td>0.003817</td>\n",
              "      <td>True</td>\n",
              "    </tr>\n",
              "  </tbody>\n",
              "</table>\n",
              "</div>"
            ],
            "text/plain": [
              "                     paper1                    paper2      qval      k\n",
              "0  10.1103/PhysRevA.35.4035  10.1103/PhysRevA.36.4163  0.001441  False\n",
              "1  10.1103/PhysRevA.36.4700  10.1103/PhysRevA.38.1839  0.003817   True\n",
              "2  10.1103/PhysRevA.36.4700  10.1103/PhysRevA.40.6260  0.003817   True\n",
              "3  10.1103/PhysRevA.36.4700  10.1103/PhysRevA.40.6931  0.003817   True\n",
              "4  10.1103/PhysRevA.36.4700  10.1103/PhysRevA.47.4065  0.003817   True"
            ]
          },
          "metadata": {
            "tags": []
          },
          "execution_count": 88
        }
      ]
    },
    {
      "cell_type": "code",
      "metadata": {
        "colab": {
          "base_uri": "https://localhost:8080/",
          "height": 222
        },
        "id": "nZItFJew7E-M",
        "outputId": "4d33b704-10f4-49b8-b260-a1c3537e7f26"
      },
      "source": [
        "# Step 09: Merging a DataFrame: adding gender & year\n",
        "\n",
        "df = df.merge(rhom, left_on='paper1', right_on='paper', how='inner').drop(\n",
        "    ['paper'], axis=1).rename({'gender': 'gender1', 'year': 'year1'}, axis=1)\n",
        "df = df.merge(rhom, left_on='paper2', right_on='paper', how='inner').drop(\n",
        "    ['paper'], axis=1).rename({'gender': 'gender2', 'year': 'year2'}, axis=1)\n",
        "\n",
        "cols = ['paper1', 'gender1', 'year1', 'paper2', 'gender2', 'year2', 'qval', 'k']\n",
        "df = df.reindex(columns=cols)\n",
        "\n",
        "print(len(df))\n",
        "df.head()"
      ],
      "execution_count": 89,
      "outputs": [
        {
          "output_type": "display_data",
          "data": {
            "text/html": [
              "\n",
              "  <style>\n",
              "    pre {\n",
              "        white-space: pre-wrap;\n",
              "    }\n",
              "  </style>\n",
              "  "
            ],
            "text/plain": [
              "<IPython.core.display.HTML object>"
            ]
          },
          "metadata": {
            "tags": []
          }
        },
        {
          "output_type": "stream",
          "text": [
            "103313\n"
          ],
          "name": "stdout"
        },
        {
          "output_type": "execute_result",
          "data": {
            "text/html": [
              "<div>\n",
              "<style scoped>\n",
              "    .dataframe tbody tr th:only-of-type {\n",
              "        vertical-align: middle;\n",
              "    }\n",
              "\n",
              "    .dataframe tbody tr th {\n",
              "        vertical-align: top;\n",
              "    }\n",
              "\n",
              "    .dataframe thead th {\n",
              "        text-align: right;\n",
              "    }\n",
              "</style>\n",
              "<table border=\"1\" class=\"dataframe\">\n",
              "  <thead>\n",
              "    <tr style=\"text-align: right;\">\n",
              "      <th></th>\n",
              "      <th>paper1</th>\n",
              "      <th>gender1</th>\n",
              "      <th>year1</th>\n",
              "      <th>paper2</th>\n",
              "      <th>gender2</th>\n",
              "      <th>year2</th>\n",
              "      <th>qval</th>\n",
              "      <th>k</th>\n",
              "    </tr>\n",
              "  </thead>\n",
              "  <tbody>\n",
              "    <tr>\n",
              "      <th>0</th>\n",
              "      <td>10.1103/PhysRevA.35.4035</td>\n",
              "      <td>male</td>\n",
              "      <td>1987</td>\n",
              "      <td>10.1103/PhysRevA.36.4163</td>\n",
              "      <td>male</td>\n",
              "      <td>1987</td>\n",
              "      <td>0.001441</td>\n",
              "      <td>False</td>\n",
              "    </tr>\n",
              "    <tr>\n",
              "      <th>1</th>\n",
              "      <td>10.1103/PhysRevA.36.4700</td>\n",
              "      <td>male</td>\n",
              "      <td>1987</td>\n",
              "      <td>10.1103/PhysRevA.38.1839</td>\n",
              "      <td>male</td>\n",
              "      <td>1988</td>\n",
              "      <td>0.003817</td>\n",
              "      <td>True</td>\n",
              "    </tr>\n",
              "    <tr>\n",
              "      <th>2</th>\n",
              "      <td>10.1103/PhysRevA.36.4700</td>\n",
              "      <td>male</td>\n",
              "      <td>1987</td>\n",
              "      <td>10.1103/PhysRevA.40.6260</td>\n",
              "      <td>male</td>\n",
              "      <td>1989</td>\n",
              "      <td>0.003817</td>\n",
              "      <td>True</td>\n",
              "    </tr>\n",
              "    <tr>\n",
              "      <th>3</th>\n",
              "      <td>10.1103/PhysRevA.38.1839</td>\n",
              "      <td>male</td>\n",
              "      <td>1988</td>\n",
              "      <td>10.1103/PhysRevA.40.6260</td>\n",
              "      <td>male</td>\n",
              "      <td>1989</td>\n",
              "      <td>0.000015</td>\n",
              "      <td>True</td>\n",
              "    </tr>\n",
              "    <tr>\n",
              "      <th>4</th>\n",
              "      <td>10.1103/PhysRevA.36.4700</td>\n",
              "      <td>male</td>\n",
              "      <td>1987</td>\n",
              "      <td>10.1103/PhysRevA.40.6931</td>\n",
              "      <td>male</td>\n",
              "      <td>1989</td>\n",
              "      <td>0.003817</td>\n",
              "      <td>True</td>\n",
              "    </tr>\n",
              "  </tbody>\n",
              "</table>\n",
              "</div>"
            ],
            "text/plain": [
              "                     paper1 gender1  year1  ... year2      qval      k\n",
              "0  10.1103/PhysRevA.35.4035    male   1987  ...  1987  0.001441  False\n",
              "1  10.1103/PhysRevA.36.4700    male   1987  ...  1988  0.003817   True\n",
              "2  10.1103/PhysRevA.36.4700    male   1987  ...  1989  0.003817   True\n",
              "3  10.1103/PhysRevA.38.1839    male   1988  ...  1989  0.000015   True\n",
              "4  10.1103/PhysRevA.36.4700    male   1987  ...  1989  0.003817   True\n",
              "\n",
              "[5 rows x 8 columns]"
            ]
          },
          "metadata": {
            "tags": []
          },
          "execution_count": 89
        }
      ]
    },
    {
      "cell_type": "code",
      "metadata": {
        "id": "P5w5ephF7G7t"
      },
      "source": [
        "# Step XX: Converting to .csv file\n",
        "\n",
        "df.to_csv(r'drive/My Drive/codes/hom9.csv',index=False)"
      ],
      "execution_count": 16,
      "outputs": []
    }
  ]
}