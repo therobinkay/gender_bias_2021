{
  "nbformat": 4,
  "nbformat_minor": 0,
  "metadata": {
    "colab": {
      "name": "Journal Analysis 1 (GitHub)",
      "provenance": [],
      "collapsed_sections": [
        "-1GbVs6QSs1-",
        "2tgeiCZLz1-O",
        "Xg3b_eYxE_O9",
        "VjNGDusbt2do",
        "zBF0NSSIE_n_",
        "DVoglDodE_78",
        "EQ2tBvqs3AFI",
        "EnGw0fr0xeG3",
        "BtdgXWkTSIuA",
        "30cbBLlampqP",
        "6ECkPN6be17s",
        "DfrbUoNgQKVS"
      ],
      "machine_shape": "hm",
      "include_colab_link": true
    },
    "kernelspec": {
      "name": "python3",
      "display_name": "Python 3"
    }
  },
  "cells": [
    {
      "cell_type": "markdown",
      "metadata": {
        "id": "view-in-github",
        "colab_type": "text"
      },
      "source": [
        "<a href=\"https://colab.research.google.com/github/therobinkay/gender_bias_2021/blob/main/Journal_Analysis_1_(GitHub).ipynb\" target=\"_parent\"><img src=\"https://colab.research.google.com/assets/colab-badge.svg\" alt=\"Open In Colab\"/></a>"
      ]
    },
    {
      "cell_type": "code",
      "metadata": {
        "id": "8OfzAmkpGOjF"
      },
      "source": [
        "# import all necessary packages\n",
        "\n",
        "import io\n",
        "import pandas as pd\n",
        "import os\n",
        "import itertools\n",
        "import numpy as np\n",
        "import scipy.stats\n",
        "import time\n",
        "\n",
        "import matplotlib.pyplot as plt\n",
        "import seaborn as sns\n",
        "\n",
        "from tqdm import tqdm\n",
        "\n",
        "import networkx as nx\n",
        "import random"
      ],
      "execution_count": null,
      "outputs": []
    },
    {
      "cell_type": "code",
      "metadata": {
        "colab": {
          "base_uri": "https://localhost:8080/"
        },
        "id": "Oa0lz0WxQJTD",
        "outputId": "bbf544f4-3f49-4e37-b9de-259a6ae3d655"
      },
      "source": [
        "from google.colab import drive\n",
        "drive.mount('/content/drive/')"
      ],
      "execution_count": null,
      "outputs": [
        {
          "output_type": "stream",
          "text": [
            "Mounted at /content/drive/\n"
          ],
          "name": "stdout"
        }
      ]
    },
    {
      "cell_type": "code",
      "metadata": {
        "id": "Z1wT51OXQJCJ"
      },
      "source": [
        "!cd \"drive/My Drive\""
      ],
      "execution_count": null,
      "outputs": []
    },
    {
      "cell_type": "code",
      "metadata": {
        "id": "oh34V3C2xV0h"
      },
      "source": [
        "# read all necessary .csv files\n",
        "\n",
        "data = pd.read_csv(\"drive/My Drive/codes/data.csv\")\n",
        "dp = pd.read_csv(\"drive/My Drive/codes/doipacs.csv\")\n",
        "cdata = pd.read_csv('drive/My Drive/codes/cdata.csv')\n",
        "cb = pd.read_csv(\"drive/My Drive/codes/citationBara.csv\")\n",
        "cen = pd.read_csv(\"drive/My Drive/codes/cen.csv\")"
      ],
      "execution_count": null,
      "outputs": []
    },
    {
      "cell_type": "markdown",
      "metadata": {
        "id": "houN_SJKGhco"
      },
      "source": [
        "# Analyses\n"
      ]
    },
    {
      "cell_type": "markdown",
      "metadata": {
        "id": "-1GbVs6QSs1-"
      },
      "source": [
        "## 1. Order of Author Analysis"
      ]
    },
    {
      "cell_type": "code",
      "metadata": {
        "id": "Ns1voVHjSBd2"
      },
      "source": [
        "# excluding alphabetically sorted papers\n",
        "\n",
        "# splitting the authors by first, second, middle, last positions\n",
        "\n",
        "first = data.query('is_alpha == False & order == 1')\n",
        "second = data.query('is_alpha == False & order == 2 & is_last == False')\n",
        "middle = data.query('is_alpha == False & order > 2 & is_last == False')\n",
        "last = data.query('is_alpha == False & order != 1 & is_last == True')"
      ],
      "execution_count": null,
      "outputs": []
    },
    {
      "cell_type": "code",
      "metadata": {
        "colab": {
          "base_uri": "https://localhost:8080/"
        },
        "id": "YEuoPzTEUjps",
        "outputId": "b4005e95-020b-4721-bb06-1256d63d2ad3"
      },
      "source": [
        "# calculating gender ratio of each position\n",
        "\n",
        "print(first['gender'].value_counts(normalize=True))\n",
        "print(second['gender'].value_counts(normalize=True))\n",
        "print(middle['gender'].value_counts(normalize=True))\n",
        "print(last['gender'].value_counts(normalize=True))"
      ],
      "execution_count": null,
      "outputs": [
        {
          "output_type": "stream",
          "text": [
            "male      0.917101\n",
            "female    0.082899\n",
            "Name: gender, dtype: float64\n",
            "male      0.911277\n",
            "female    0.088723\n",
            "Name: gender, dtype: float64\n",
            "male      0.906659\n",
            "female    0.093341\n",
            "Name: gender, dtype: float64\n",
            "male      0.91497\n",
            "female    0.08503\n",
            "Name: gender, dtype: float64\n"
          ],
          "name": "stdout"
        }
      ]
    },
    {
      "cell_type": "markdown",
      "metadata": {
        "id": "Xg3b_eYxE_O9"
      },
      "source": [
        "## 2. Productivity by Gender\n"
      ]
    },
    {
      "cell_type": "code",
      "metadata": {
        "colab": {
          "base_uri": "https://localhost:8080/",
          "height": 204
        },
        "id": "MNHuA0NUmiSQ",
        "outputId": "d9fa7306-2474-4472-fd4b-f55fb3bcf8ff"
      },
      "source": [
        "data.head()"
      ],
      "execution_count": 12,
      "outputs": [
        {
          "output_type": "execute_result",
          "data": {
            "text/html": [
              "<div>\n",
              "<style scoped>\n",
              "    .dataframe tbody tr th:only-of-type {\n",
              "        vertical-align: middle;\n",
              "    }\n",
              "\n",
              "    .dataframe tbody tr th {\n",
              "        vertical-align: top;\n",
              "    }\n",
              "\n",
              "    .dataframe thead th {\n",
              "        text-align: right;\n",
              "    }\n",
              "</style>\n",
              "<table border=\"1\" class=\"dataframe\">\n",
              "  <thead>\n",
              "    <tr style=\"text-align: right;\">\n",
              "      <th></th>\n",
              "      <th>doi</th>\n",
              "      <th>id</th>\n",
              "      <th>gender</th>\n",
              "      <th>order</th>\n",
              "      <th>numAuthor</th>\n",
              "      <th>is_last</th>\n",
              "      <th>is_alpha</th>\n",
              "      <th>year</th>\n",
              "      <th>articleType</th>\n",
              "      <th>journal</th>\n",
              "    </tr>\n",
              "  </thead>\n",
              "  <tbody>\n",
              "    <tr>\n",
              "      <th>0</th>\n",
              "      <td>10.1103/PhysRevSeriesI.17.267</td>\n",
              "      <td>127898</td>\n",
              "      <td>male</td>\n",
              "      <td>2</td>\n",
              "      <td>2</td>\n",
              "      <td>True</td>\n",
              "      <td>False</td>\n",
              "      <td>1903</td>\n",
              "      <td>article</td>\n",
              "      <td>PRI</td>\n",
              "    </tr>\n",
              "    <tr>\n",
              "      <th>1</th>\n",
              "      <td>10.1103/PhysRev.5.269</td>\n",
              "      <td>127898</td>\n",
              "      <td>male</td>\n",
              "      <td>3</td>\n",
              "      <td>3</td>\n",
              "      <td>True</td>\n",
              "      <td>False</td>\n",
              "      <td>1915</td>\n",
              "      <td>article</td>\n",
              "      <td>PR</td>\n",
              "    </tr>\n",
              "    <tr>\n",
              "      <th>2</th>\n",
              "      <td>10.1103/PhysRevSeriesI.16.279</td>\n",
              "      <td>127898</td>\n",
              "      <td>male</td>\n",
              "      <td>2</td>\n",
              "      <td>2</td>\n",
              "      <td>True</td>\n",
              "      <td>False</td>\n",
              "      <td>1903</td>\n",
              "      <td>article</td>\n",
              "      <td>PRI</td>\n",
              "    </tr>\n",
              "    <tr>\n",
              "      <th>3</th>\n",
              "      <td>10.1103/PhysRevSeriesI.16.279</td>\n",
              "      <td>59048</td>\n",
              "      <td>male</td>\n",
              "      <td>1</td>\n",
              "      <td>2</td>\n",
              "      <td>False</td>\n",
              "      <td>False</td>\n",
              "      <td>1903</td>\n",
              "      <td>article</td>\n",
              "      <td>PRI</td>\n",
              "    </tr>\n",
              "    <tr>\n",
              "      <th>4</th>\n",
              "      <td>10.1103/PhysRevSeriesI.5.294</td>\n",
              "      <td>9710</td>\n",
              "      <td>male</td>\n",
              "      <td>1</td>\n",
              "      <td>2</td>\n",
              "      <td>False</td>\n",
              "      <td>False</td>\n",
              "      <td>1897</td>\n",
              "      <td>article</td>\n",
              "      <td>PRI</td>\n",
              "    </tr>\n",
              "  </tbody>\n",
              "</table>\n",
              "</div>"
            ],
            "text/plain": [
              "                             doi      id gender  ...  year  articleType  journal\n",
              "0  10.1103/PhysRevSeriesI.17.267  127898   male  ...  1903      article      PRI\n",
              "1          10.1103/PhysRev.5.269  127898   male  ...  1915      article       PR\n",
              "2  10.1103/PhysRevSeriesI.16.279  127898   male  ...  1903      article      PRI\n",
              "3  10.1103/PhysRevSeriesI.16.279   59048   male  ...  1903      article      PRI\n",
              "4   10.1103/PhysRevSeriesI.5.294    9710   male  ...  1897      article      PRI\n",
              "\n",
              "[5 rows x 10 columns]"
            ]
          },
          "metadata": {
            "tags": []
          },
          "execution_count": 12
        }
      ]
    },
    {
      "cell_type": "code",
      "metadata": {
        "id": "bhgMYTczFVf8"
      },
      "source": [
        "# Creating a DataFrame with productivity calculated\n",
        "prod = data.groupby(['id', 'gender']).agg({'year': [min, max, 'count']})\n",
        "\n",
        "prod['career_age'] = prod['year']['max'] - prod['year']['min']\n",
        "prod['prod'] = prod['year']['count'] / (prod['career_age'])\n",
        "prod = prod[prod['career_age'] != 0]\n",
        "\n",
        "prod.sort_values([('year','count')], ascending=False).head()\n",
        "\n",
        "# Dividing the DataFrame by gender\n",
        "prod_m = prod.xs('male', level='gender')\n",
        "prod_fm = prod.xs('female', level='gender')"
      ],
      "execution_count": 36,
      "outputs": []
    },
    {
      "cell_type": "code",
      "metadata": {
        "id": "UsOafqPI8l2q",
        "colab": {
          "base_uri": "https://localhost:8080/"
        },
        "outputId": "8a314cee-bb41-4439-af44-d9e1c13ac122"
      },
      "source": [
        "#ks test (two-tailed)\n",
        "from scipy.stats import ks_2samp\n",
        "print(ks_2samp(prod_m2['prod'], prod_fm2['prod']))\n",
        "\n",
        "#ks test: male > female\n",
        "print(ks_2samp(prod_m2['prod'], prod_fm2['prod'], alternative='greater'))\n",
        "\n",
        "#ks test: male < female\n",
        "print(ks_2samp(prod_m2['prod'], prod_fm2['prod'], alternative='less'))"
      ],
      "execution_count": 38,
      "outputs": [
        {
          "output_type": "stream",
          "text": [
            "Ks_2sampResult(statistic=0.0329418537762845, pvalue=0.000127997328482532)\n",
            "Ks_2sampResult(statistic=0.0329418537762845, pvalue=6.244757804870422e-05)\n",
            "Ks_2sampResult(statistic=0.019882369577186365, pvalue=0.029229651385167425)\n"
          ],
          "name": "stdout"
        }
      ]
    },
    {
      "cell_type": "code",
      "metadata": {
        "id": "hpBWapSiBKQS",
        "colab": {
          "base_uri": "https://localhost:8080/"
        },
        "outputId": "8d91edb9-3257-4132-ac34-9a27328a49f1"
      },
      "source": [
        "# finding where the biggest difference occurs\n",
        "\n",
        "def ks_2samp_x(data1, data2, alternative=\"two-sided\"):\n",
        "    data1 = np.sort(data1)\n",
        "    data2 = np.sort(data2)\n",
        "    n1 = data1.shape[0]\n",
        "    n2 = data2.shape[0]\n",
        "\n",
        "    data_all = np.concatenate([data1, data2])\n",
        "    # using searchsorted solves equal data problem\n",
        "    cdf1 = np.searchsorted(data1, data_all, side='right') / n1\n",
        "    cdf2 = np.searchsorted(data2, data_all, side='right') / n2\n",
        "    cddiffs = cdf1 - cdf2\n",
        "    minS = np.argmin(cddiffs)   # ks_2samp uses np.min or np.max respectively \n",
        "    maxS = np.argmax(cddiffs)   # now we get instead the index in data_all\n",
        "    alt2Dvalue = {'less': minS, 'greater': maxS, 'two-sided': max(minS, maxS)}\n",
        "    d_arg = alt2Dvalue[alternative]\n",
        "    return data_all[d_arg]\n",
        "\n",
        "print(ks_2samp_x(prod_m['prod'], prod_fm['prod']))\n",
        "print(ks_2samp_x(prod_m['prod'], prod_fm['prod'], alternative=\"greater\"))\n",
        "print(ks_2samp_x(prod_m['prod'], prod_fm['prod'], alternative=\"less\"))"
      ],
      "execution_count": 37,
      "outputs": [
        {
          "output_type": "stream",
          "text": [
            "2.0\n",
            "0.4857142857142857\n",
            "2.0\n"
          ],
          "name": "stdout"
        }
      ]
    },
    {
      "cell_type": "markdown",
      "metadata": {
        "id": "zBF0NSSIE_n_"
      },
      "source": [
        "## 3. Dropout Authors by Career Age\n",
        "Don't include the authors who have not written anything before 1999.\n",
        "\n",
        "(annual year is only showing less accurate dropout)"
      ]
    },
    {
      "cell_type": "code",
      "metadata": {
        "id": "AHMxBv77cVcR",
        "colab": {
          "base_uri": "https://localhost:8080/",
          "height": 313
        },
        "outputId": "53d7d291-01f8-434a-d625-65d6324e8b2f"
      },
      "source": [
        "# exclude authors who enter APS publication after 2004\n",
        "# create (JADIDI) scatterplot of dropout authors by career age\n",
        "\n",
        "gb = prod[prod['year']['min'] < 2004].groupby(['gender', 'career_age'])['career_age'].count()\n",
        "\n",
        "gb_m = gb['male'].sort_index(ascending=False)\n",
        "gb_fm = gb['female'].sort_index(ascending=False)\n",
        "\n",
        "(gb_m/gb_m.cumsum()).iloc[::-1].plot(style='.-')\n",
        "(gb_fm/gb_fm.cumsum()).iloc[::-1].plot(style='.-',color='orange')\n",
        "\n",
        "plt.title('Dropout Author Ratio by Career Age')\n",
        "plt.legend(('male', 'female'), loc='upper left')\n",
        "plt.xlabel('Career Age')\n",
        "plt.xlim(0,40)\n",
        "plt.ylabel('% of Dropout')\n",
        "plt.ylim(0, 0.2)"
      ],
      "execution_count": 53,
      "outputs": [
        {
          "output_type": "execute_result",
          "data": {
            "text/plain": [
              "(0.0, 0.2)"
            ]
          },
          "metadata": {
            "tags": []
          },
          "execution_count": 53
        },
        {
          "output_type": "display_data",
          "data": {
            "image/png": "[encoded data removed]",
            "text/plain": [
              "<Figure size 432x288 with 1 Axes>"
            ]
          },
          "metadata": {
            "tags": [],
            "needs_background": "light"
          }
        }
      ]
    },
    {
      "cell_type": "markdown",
      "metadata": {
        "id": "DVoglDodE_78"
      },
      "source": [
        "## 4. Frequently-cited Papers Analysis\n",
        "Only consider primary authors.\n",
        "\n",
        "How many of the top 10, 20, 30% belong to men first articles, female first articles?\n",
        "\n",
        "Are those statistically significant? Expected?\n",
        "\n",
        "If this is not expected, why? Productivity?"
      ]
    },
    {
      "cell_type": "code",
      "metadata": {
        "id": "UNwxVJGmCIBZ"
      },
      "source": [
        "# exclude alphabetically ordered papers\n",
        "na = data[data['is_alpha'] == False]\n",
        "\n",
        "# only consider primary authors\n",
        "na_p = na[na['order'] == 1]\n",
        "\n",
        "# calculate degree centrality per paper\n",
        "vc = cb['cited_doi'].value_counts()\n",
        "cb_sub = vc[vc.to_numpy() > 0].to_frame()\n",
        "\n",
        "# create a DataFrame with degree centrality\n",
        "cited = pd.merge(cb_sub, na_p, left_index = True, right_on = 'doi')\n",
        "\n",
        "# split the DataFrame by gender\n",
        "cited_m = cited[cited['gender'] == 'male']\n",
        "cited_fm = cited[cited['gender'] == 'female']"
      ],
      "execution_count": null,
      "outputs": []
    },
    {
      "cell_type": "code",
      "metadata": {
        "id": "bdAlBxb1byZi",
        "colab": {
          "base_uri": "https://localhost:8080/",
          "height": 295
        },
        "outputId": "011c50b7-8ee1-4d7f-9837-22050ddd88f5"
      },
      "source": [
        "# create a comparative histogram for degree centrality by gender\n",
        "\n",
        "plt.style.use('seaborn-deep')\n",
        "\n",
        "x = cited_m['cited_doi']\n",
        "y = cited_fm['cited_doi']\n",
        "\n",
        "bins = np.linspace(0, 500, 50)\n",
        "\n",
        "plt.hist([x, y], bins, label=['male', 'female'], color=('blue','orange'))\n",
        "plt.yscale('log')\n",
        "plt.legend(loc='upper right')\n",
        "plt.title(\"Distribution of Citation Count\")\n",
        "plt.xlabel('# of citation')\n",
        "plt.ylabel('count')\n",
        "# plt.xlim(xmin=0)\n",
        "plt.show()"
      ],
      "execution_count": null,
      "outputs": [
        {
          "output_type": "display_data",
          "data": {
            "image/png": "[encoded data removed]",
            "text/plain": [
              "<Figure size 432x288 with 1 Axes>"
            ]
          },
          "metadata": {
            "tags": []
          }
        }
      ]
    },
    {
      "cell_type": "markdown",
      "metadata": {
        "id": "EQ2tBvqs3AFI"
      },
      "source": [
        "## 4b. Frequently-cited Papers Analysis 2"
      ]
    },
    {
      "cell_type": "code",
      "metadata": {
        "id": "Xyvia6Kq3KlP"
      },
      "source": [
        "# similar DataFrame setup to Section 4\n",
        "\n",
        "na = data[data['is_alpha'] == False]\n",
        "na_p = na[na['order'] == 1]\n",
        "\n",
        "vc = cb['cited_doi'].value_counts()\n",
        "cb_sub = vc[vc.to_numpy() > 0].to_frame()\n",
        "\n",
        "cited = pd.merge(cb_sub, na_p, left_index = True, right_on = 'doi')\n",
        "\n",
        "cited_m = cited[cited['gender'] == 'male']\n",
        "cited_fm = cited[cited['gender'] == 'female']"
      ],
      "execution_count": null,
      "outputs": []
    },
    {
      "cell_type": "code",
      "metadata": {
        "id": "08stkpijQysM",
        "colab": {
          "base_uri": "https://localhost:8080/",
          "height": 313
        },
        "outputId": "97e570eb-25f5-43d5-d9c2-f70b17e51383"
      },
      "source": [
        "# Comparative graph for actual female proportion vs. expected female proportion\n",
        "\n",
        "cited_gender = cited['gender'].to_numpy()\n",
        "cumulate_cited_gender = np.cumsum(cited_gender == \"female\")\n",
        "\n",
        "plt.plot((np.arange(len(cited))*100)/len(cited), cumulate_cited_gender/np.arange(1, len(cited)+1), color='red')\n",
        "plt.axhline(y=len(cited[cited['gender'] == 'female'])/len(cited), color='black', linestyle='dotted')\n",
        "\n",
        "plt.title(\"Proportion of Female Primary Authors per Citation Count\")\n",
        "plt.xlabel(\"Top k% Citation Count\")\n",
        "plt.ylim(ymax=0.1)\n",
        "plt.ylabel(\"Proportion of Female Primary Authors\")"
      ],
      "execution_count": null,
      "outputs": [
        {
          "output_type": "execute_result",
          "data": {
            "text/plain": [
              "Text(0, 0.5, 'Proportion of Female Primary Authors')"
            ]
          },
          "metadata": {
            "tags": []
          },
          "execution_count": 11
        },
        {
          "output_type": "display_data",
          "data": {
            "image/png": "[encoded data removed]",
            "text/plain": [
              "<Figure size 432x288 with 1 Axes>"
            ]
          },
          "metadata": {
            "tags": []
          }
        }
      ]
    },
    {
      "cell_type": "markdown",
      "metadata": {
        "id": "EnGw0fr0xeG3"
      },
      "source": [
        "## 5a. Self-citation Analysis (general)"
      ]
    },
    {
      "cell_type": "code",
      "metadata": {
        "id": "ZwIGsynhwhz5"
      },
      "source": [
        "# create a DataFrame with self-citing authors\n",
        "sc_list = cdata[cdata['citing_id'] == cdata['cited_id']]\n",
        "\n",
        "# split the DataFrame by gender\n",
        "sc_m = sc_list[sc_list['citing_gender'] == 'male']\n",
        "sc_fm = sc_list[sc_list['citing_gender'] == 'female']"
      ],
      "execution_count": null,
      "outputs": []
    },
    {
      "cell_type": "code",
      "metadata": {
        "id": "M8eOpf2-hCK3",
        "colab": {
          "base_uri": "https://localhost:8080/",
          "height": 295
        },
        "outputId": "170a0309-5f33-4e50-fdf0-98c75ce6a5d3"
      },
      "source": [
        "# create a comparative histogram for self-citation by gender\n",
        "plt.style.use('seaborn-deep')\n",
        "\n",
        "x = sc_m['citing_id'].value_counts()\n",
        "y = sc_fm['citing_id'].value_counts()\n",
        "bins = np.linspace(0, 500, 50) #remove outliers\n",
        "\n",
        "plt.hist([x, y], bins, label=['male', 'female'], color=('blue','orange'))\n",
        "plt.yscale('log')\n",
        "plt.legend(loc='upper right')\n",
        "plt.title('Self-citation Distribution of APS authors')\n",
        "plt.xlabel('Self-citation')\n",
        "plt.ylabel('log(count)')\n",
        "plt.show()"
      ],
      "execution_count": null,
      "outputs": [
        {
          "output_type": "display_data",
          "data": {
            "image/png": "[encoded data removed]",
            "text/plain": [
              "<Figure size 432x288 with 1 Axes>"
            ]
          },
          "metadata": {
            "tags": []
          }
        }
      ]
    },
    {
      "cell_type": "code",
      "metadata": {
        "id": "S8l9DMdd9ExU",
        "colab": {
          "base_uri": "https://localhost:8080/",
          "height": 295
        },
        "outputId": "6da8fbda-5e1f-4ef6-9972-7e3fb0689402"
      },
      "source": [
        "# CDF for self-citation per gender\n",
        "\n",
        "import statsmodels.api as sm\n",
        "\n",
        "sample = sc_m['citing_id'].value_counts()\n",
        "ecdf = sm.distributions.ECDF(sample)\n",
        "\n",
        "x = np.linspace(min(sample), max(sample))\n",
        "y = ecdf(x)\n",
        "plt.plot(x,y)\n",
        "\n",
        "sample_2 = sc_fm['citing_id'].value_counts()\n",
        "ecdf = sm.distributions.ECDF(sample_2)\n",
        "\n",
        "x_2 = np.linspace(min(sample_2), max(sample_2))\n",
        "y_2 = ecdf(x_2)\n",
        "plt.plot(x_2,y_2, color='orange')\n",
        "\n",
        "plt.title('Self-citation Cumulative Distribution of APS authors')\n",
        "plt.legend(('male', 'female'), loc='lower right')\n",
        "plt.xlabel('Self-citation')\n",
        "plt.xlim(0,100)\n",
        "plt.ylabel('Cumulative Probability')\n",
        "# plt.ylim(0,0.35)\n",
        "plt.show()"
      ],
      "execution_count": null,
      "outputs": [
        {
          "output_type": "display_data",
          "data": {
            "image/png": "[encoded data removed]",
            "text/plain": [
              "<Figure size 432x288 with 1 Axes>"
            ]
          },
          "metadata": {
            "tags": []
          }
        }
      ]
    },
    {
      "cell_type": "markdown",
      "metadata": {
        "id": "BtdgXWkTSIuA"
      },
      "source": [
        "## 5b. Self-citation Analysis (by year)"
      ]
    },
    {
      "cell_type": "code",
      "metadata": {
        "id": "_XTSJzbuAh8h"
      },
      "source": [
        "# self-citing author dataframes, by gender\n",
        "sc_list = cdata[cdata['citing_id'] == cdata['cited_id']]\n",
        "sc_m = sc_list[sc_list['citing_gender'] == 'male']\n",
        "sc_fm = sc_list[sc_list['citing_gender'] == 'female']\n",
        "\n",
        "# group data points by publication year\n",
        "msc = sc_m.groupby(['citing_year'])['citing_year'].count()\n",
        "fmsc = sc_fm.groupby(['citing_year'])['citing_year'].count()\n",
        "\n",
        "# create overall self-citing author dataframes for ratio calculation\n",
        "cdata_m = cdata[cdata['citing_gender'] == 'male']\n",
        "cdata_fm = cdata[cdata['citing_gender'] == 'female']\n",
        "mcdata = cdata_m.groupby(['citing_year'])['citing_year'].count()\n",
        "fmcdata = cdata_fm.groupby(['citing_year'])['citing_year'].count()"
      ],
      "execution_count": null,
      "outputs": []
    },
    {
      "cell_type": "code",
      "metadata": {
        "id": "IbMqjMEWwHDU",
        "colab": {
          "base_uri": "https://localhost:8080/",
          "height": 469
        },
        "outputId": "dbc0bef5-c865-47e8-ee49-393510722f91"
      },
      "source": [
        "# create a self-citation ratio plot by year\n",
        "(msc/mcdata).plot(style='.-')\n",
        "(fmsc/fmcdata).plot(style='.-',color='orange')\n",
        "\n",
        "plt.title('Self-citation Ratio by Year')\n",
        "plt.legend(('male', 'female'), loc='upper right')\n",
        "plt.xlabel('Year')\n",
        "plt.xlim(xmin=1950)\n",
        "plt.ylabel('% of Self-citation')\n",
        "plt.ylim(ymin=0, ymax=0.15)"
      ],
      "execution_count": null,
      "outputs": [
        {
          "output_type": "stream",
          "text": [
            "/usr/local/lib/python3.6/dist-packages/matplotlib/axes/_base.py:3215: MatplotlibDeprecationWarning: \n",
            "The `xmin` argument was deprecated in Matplotlib 3.0 and will be removed in 3.2. Use `left` instead.\n",
            "  alternative='`left`', obj_type='argument')\n",
            "/usr/local/lib/python3.6/dist-packages/matplotlib/axes/_base.py:3604: MatplotlibDeprecationWarning: \n",
            "The `ymin` argument was deprecated in Matplotlib 3.0 and will be removed in 3.2. Use `bottom` instead.\n",
            "  alternative='`bottom`', obj_type='argument')\n",
            "/usr/local/lib/python3.6/dist-packages/matplotlib/axes/_base.py:3610: MatplotlibDeprecationWarning: \n",
            "The `ymax` argument was deprecated in Matplotlib 3.0 and will be removed in 3.2. Use `top` instead.\n",
            "  alternative='`top`', obj_type='argument')\n"
          ],
          "name": "stderr"
        },
        {
          "output_type": "execute_result",
          "data": {
            "text/plain": [
              "(0, 0.15)"
            ]
          },
          "metadata": {
            "tags": []
          },
          "execution_count": 198
        },
        {
          "output_type": "display_data",
          "data": {
            "image/png": "[encoded data removed]",
            "text/plain": [
              "<Figure size 432x288 with 1 Axes>"
            ]
          },
          "metadata": {
            "tags": []
          }
        }
      ]
    },
    {
      "cell_type": "code",
      "metadata": {
        "id": "qpFEb3JuwSFZ",
        "colab": {
          "base_uri": "https://localhost:8080/",
          "height": 469
        },
        "outputId": "ca6998f8-7946-497e-cd6e-a2a0bdc89d7c"
      },
      "source": [
        "# create overall self-citing author dataframes for ratio calculation with 0s\n",
        "cdatacit = cdata.groupby(['citing_year'])['citing_year'].count()\n",
        "cdatacit[np.isnan(cdatacit)] = 0\n",
        "mcdata = cdata_m.groupby(['citing_year'])['citing_year'].count()\n",
        "mcdata[np.isnan(mcdata)] = 0\n",
        "fmcdata = cdata_fm.groupby(['citing_year'])['citing_year'].count()\n",
        "fmcdata[np.isnan(fmcdata)] = 0\n",
        "\n",
        "# create self-citing author by year dataframes for ratio calculation with 0s\n",
        "sccit = sc_list.groupby(['citing_year'])['citing_year'].count()\n",
        "sccit[np.isnan(sccit)] = 0\n",
        "msc = sc_m.groupby(['citing_year'])['citing_year'].count()\n",
        "msc[np.isnan(msc)] = 0\n",
        "fmsc = sc_fm.groupby(['citing_year'])['citing_year'].count()\n",
        "fmsc[np.isnan(fmsc)] = 0\n",
        "\n",
        "# calculate k-value from Section 5.2\n",
        "k1 = ((msc/sccit)/(fmsc/sccit))\n",
        "k2 = ((fmcdata/cdatacit)/(mcdata/cdatacit))\n",
        "k = k1*k2\n",
        "\n",
        "# create k-value plot\n",
        "k.plot(style='.-', color='red')\n",
        "\n",
        "plt.title('k value by Year')\n",
        "plt.xlabel('Year')\n",
        "plt.xlim(xmin=1960)\n",
        "plt.ylabel('k')\n",
        "plt.ylim(ymin=0.5,ymax=2.5)\n",
        "plt.hlines(1,xmin=1903,xmax=2009,linestyles='dashed')"
      ],
      "execution_count": null,
      "outputs": [
        {
          "output_type": "stream",
          "text": [
            "/usr/local/lib/python3.6/dist-packages/matplotlib/axes/_base.py:3215: MatplotlibDeprecationWarning: \n",
            "The `xmin` argument was deprecated in Matplotlib 3.0 and will be removed in 3.2. Use `left` instead.\n",
            "  alternative='`left`', obj_type='argument')\n",
            "/usr/local/lib/python3.6/dist-packages/matplotlib/axes/_base.py:3604: MatplotlibDeprecationWarning: \n",
            "The `ymin` argument was deprecated in Matplotlib 3.0 and will be removed in 3.2. Use `bottom` instead.\n",
            "  alternative='`bottom`', obj_type='argument')\n",
            "/usr/local/lib/python3.6/dist-packages/matplotlib/axes/_base.py:3610: MatplotlibDeprecationWarning: \n",
            "The `ymax` argument was deprecated in Matplotlib 3.0 and will be removed in 3.2. Use `top` instead.\n",
            "  alternative='`top`', obj_type='argument')\n"
          ],
          "name": "stderr"
        },
        {
          "output_type": "execute_result",
          "data": {
            "text/plain": [
              "<matplotlib.collections.LineCollection at 0x7f0a1f71db70>"
            ]
          },
          "metadata": {
            "tags": []
          },
          "execution_count": 27
        },
        {
          "output_type": "display_data",
          "data": {
            "image/png": "[encoded data removed]",
            "text/plain": [
              "<Figure size 432x288 with 1 Axes>"
            ]
          },
          "metadata": {
            "tags": []
          }
        }
      ]
    },
    {
      "cell_type": "markdown",
      "metadata": {
        "id": "30cbBLlampqP"
      },
      "source": [
        "## 5c. Self-citation Analysis (by Author Number)"
      ]
    },
    {
      "cell_type": "code",
      "metadata": {
        "id": "nKBiKDf3G7Kf"
      },
      "source": [
        "# create self-citation dataframes\n",
        "cdata_m = cdata[cdata['citing_gender'] == 'male']\n",
        "cdata_fm = cdata[cdata['citing_gender'] == 'female']\n",
        "sc_list = cdata[cdata['citing_id'] == cdata['cited_id']]\n",
        "sc_m = sc_list[sc_list['citing_gender'] == 'male']\n",
        "sc_fm = sc_list[sc_list['citing_gender'] == 'female']\n",
        "\n",
        "# observe paper distribution by number of authors\n",
        "mcdata = cdata_m.groupby(['citing_numAuthor'])['citing_numAuthor'].count()\n",
        "fmcdata = cdata_fm.groupby(['citing_numAuthor'])['citing_numAuthor'].count()\n",
        "msc = sc_m.groupby(['citing_numAuthor'])['citing_numAuthor'].count()\n",
        "fmsc = sc_fm.groupby(['citing_numAuthor'])['citing_numAuthor'].count()"
      ],
      "execution_count": null,
      "outputs": []
    },
    {
      "cell_type": "code",
      "metadata": {
        "id": "31eaphH7nA6F",
        "colab": {
          "base_uri": "https://localhost:8080/",
          "height": 365
        },
        "outputId": "c4137b52-fc76-455e-9c1e-3338235565c6"
      },
      "source": [
        "# create a self-citation plot by number of author\n",
        "(msc/mcdata).plot(style='.-')\n",
        "(fmsc/fmcdata).plot(style='.-',color='orange')\n",
        "\n",
        "plt.title('Self-citation by Author Number')\n",
        "plt.legend(('male', 'female'), loc='upper left')\n",
        "plt.xlabel('Author Number')\n",
        "plt.xlim(xmin=1)\n",
        "plt.ylabel('% Self-citation')"
      ],
      "execution_count": null,
      "outputs": [
        {
          "output_type": "stream",
          "text": [
            "/usr/local/lib/python3.6/dist-packages/matplotlib/axes/_base.py:3215: MatplotlibDeprecationWarning: \n",
            "The `xmin` argument was deprecated in Matplotlib 3.0 and will be removed in 3.2. Use `left` instead.\n",
            "  alternative='`left`', obj_type='argument')\n"
          ],
          "name": "stderr"
        },
        {
          "output_type": "execute_result",
          "data": {
            "text/plain": [
              "Text(0, 0.5, '% Self-citation')"
            ]
          },
          "metadata": {
            "tags": []
          },
          "execution_count": 36
        },
        {
          "output_type": "display_data",
          "data": {
            "image/png": "[encoded data removed]",
            "text/plain": [
              "<Figure size 432x288 with 1 Axes>"
            ]
          },
          "metadata": {
            "tags": []
          }
        }
      ]
    },
    {
      "cell_type": "markdown",
      "metadata": {
        "id": "6ECkPN6be17s"
      },
      "source": [
        "## 5d. Self-citation Analysis (by PACS & Year)"
      ]
    },
    {
      "cell_type": "code",
      "metadata": {
        "id": "5pUsV4BPyjgp"
      },
      "source": [
        "# create self-citation dataframes\n",
        "\n",
        "cdata_m = cdata[cdata['citing_gender'] == 'male']\n",
        "cdata_fm = cdata[cdata['citing_gender'] == 'female']\n",
        "sc_list = cdata[cdata['citing_id'] == cdata['cited_id']]\n",
        "sc_m = sc_list[sc_list['citing_gender'] == 'male']\n",
        "sc_fm = sc_list[sc_list['citing_gender'] == 'female']"
      ],
      "execution_count": null,
      "outputs": []
    },
    {
      "cell_type": "code",
      "metadata": {
        "id": "9T3yX1lIXAdp"
      },
      "source": [
        "# divide the sample population dataframe by PACS and gender\n",
        "\n",
        "cdata_m_0 = cdata_m[cdata_m['citing_0'] == True]\n",
        "cdata_m_1 = cdata_m[cdata_m['citing_1'] == True]\n",
        "cdata_m_2 = cdata_m[cdata_m['citing_2'] == True]\n",
        "cdata_m_3 = cdata_m[cdata_m['citing_3'] == True]\n",
        "cdata_m_4 = cdata_m[cdata_m['citing_4'] == True]\n",
        "cdata_m_5 = cdata_m[cdata_m['citing_5'] == True]\n",
        "cdata_m_6 = cdata_m[cdata_m['citing_6'] == True]\n",
        "cdata_m_7 = cdata_m[cdata_m['citing_7'] == True]\n",
        "cdata_m_8 = cdata_m[cdata_m['citing_8'] == True]\n",
        "cdata_m_9 = cdata_m[cdata_m['citing_9'] == True]\n",
        "\n",
        "cdata_fm_0 = cdata_fm[cdata_fm['citing_0'] == True]\n",
        "cdata_fm_1 = cdata_fm[cdata_fm['citing_1'] == True]\n",
        "cdata_fm_2 = cdata_fm[cdata_fm['citing_2'] == True]\n",
        "cdata_fm_3 = cdata_fm[cdata_fm['citing_3'] == True]\n",
        "cdata_fm_4 = cdata_fm[cdata_fm['citing_4'] == True]\n",
        "cdata_fm_5 = cdata_fm[cdata_fm['citing_5'] == True]\n",
        "cdata_fm_6 = cdata_fm[cdata_fm['citing_6'] == True]\n",
        "cdata_fm_7 = cdata_fm[cdata_fm['citing_7'] == True]\n",
        "cdata_fm_8 = cdata_fm[cdata_fm['citing_8'] == True]\n",
        "cdata_fm_9 = cdata_fm[cdata_fm['citing_9'] == True]\n",
        "\n",
        "sc_m_0 = sc_m[sc_m['citing_0'] == True]\n",
        "sc_m_1 = sc_m[sc_m['citing_1'] == True]\n",
        "sc_m_2 = sc_m[sc_m['citing_2'] == True]\n",
        "sc_m_3 = sc_m[sc_m['citing_3'] == True]\n",
        "sc_m_4 = sc_m[sc_m['citing_4'] == True]\n",
        "sc_m_5 = sc_m[sc_m['citing_5'] == True]\n",
        "sc_m_6 = sc_m[sc_m['citing_6'] == True]\n",
        "sc_m_7 = sc_m[sc_m['citing_7'] == True]\n",
        "sc_m_8 = sc_m[sc_m['citing_8'] == True]\n",
        "sc_m_9 = sc_m[sc_m['citing_9'] == True]\n",
        "\n",
        "sc_fm_0 = sc_fm[sc_fm['citing_0'] == True]\n",
        "sc_fm_1 = sc_fm[sc_fm['citing_1'] == True]\n",
        "sc_fm_2 = sc_fm[sc_fm['citing_2'] == True]\n",
        "sc_fm_3 = sc_fm[sc_fm['citing_3'] == True]\n",
        "sc_fm_4 = sc_fm[sc_fm['citing_4'] == True]\n",
        "sc_fm_5 = sc_fm[sc_fm['citing_5'] == True]\n",
        "sc_fm_6 = sc_fm[sc_fm['citing_6'] == True]\n",
        "sc_fm_7 = sc_fm[sc_fm['citing_7'] == True]\n",
        "sc_fm_8 = sc_fm[sc_fm['citing_8'] == True]\n",
        "sc_fm_9 = sc_fm[sc_fm['citing_9'] == True]\n",
        "\n",
        "mcdata_0 = cdata_m_0.groupby(['citing_year'])['citing_year'].count()\n",
        "mcdata_1 = cdata_m_1.groupby(['citing_year'])['citing_year'].count()\n",
        "mcdata_2 = cdata_m_2.groupby(['citing_year'])['citing_year'].count()\n",
        "mcdata_3 = cdata_m_3.groupby(['citing_year'])['citing_year'].count()\n",
        "mcdata_4 = cdata_m_4.groupby(['citing_year'])['citing_year'].count()\n",
        "mcdata_5 = cdata_m_5.groupby(['citing_year'])['citing_year'].count()\n",
        "mcdata_6 = cdata_m_6.groupby(['citing_year'])['citing_year'].count()\n",
        "mcdata_7 = cdata_m_7.groupby(['citing_year'])['citing_year'].count()\n",
        "mcdata_8 = cdata_m_8.groupby(['citing_year'])['citing_year'].count()\n",
        "mcdata_9 = cdata_m_9.groupby(['citing_year'])['citing_year'].count()\n",
        "\n",
        "fmcdata_0 = cdata_fm_0.groupby(['citing_year'])['citing_year'].count()\n",
        "fmcdata_1 = cdata_fm_1.groupby(['citing_year'])['citing_year'].count()\n",
        "fmcdata_2 = cdata_fm_2.groupby(['citing_year'])['citing_year'].count()\n",
        "fmcdata_3 = cdata_fm_3.groupby(['citing_year'])['citing_year'].count()\n",
        "fmcdata_4 = cdata_fm_4.groupby(['citing_year'])['citing_year'].count()\n",
        "fmcdata_5 = cdata_fm_5.groupby(['citing_year'])['citing_year'].count()\n",
        "fmcdata_6 = cdata_fm_6.groupby(['citing_year'])['citing_year'].count()\n",
        "fmcdata_7 = cdata_fm_7.groupby(['citing_year'])['citing_year'].count()\n",
        "fmcdata_8 = cdata_fm_8.groupby(['citing_year'])['citing_year'].count()\n",
        "fmcdata_9 = cdata_fm_9.groupby(['citing_year'])['citing_year'].count()\n",
        "\n",
        "msc_0 = sc_m_0.groupby(['citing_year'])['citing_year'].count()\n",
        "msc_1 = sc_m_1.groupby(['citing_year'])['citing_year'].count()\n",
        "msc_2 = sc_m_2.groupby(['citing_year'])['citing_year'].count()\n",
        "msc_3 = sc_m_3.groupby(['citing_year'])['citing_year'].count()\n",
        "msc_4 = sc_m_4.groupby(['citing_year'])['citing_year'].count()\n",
        "msc_5 = sc_m_5.groupby(['citing_year'])['citing_year'].count()\n",
        "msc_6 = sc_m_6.groupby(['citing_year'])['citing_year'].count()\n",
        "msc_7 = sc_m_7.groupby(['citing_year'])['citing_year'].count()\n",
        "msc_8 = sc_m_8.groupby(['citing_year'])['citing_year'].count()\n",
        "msc_9 = sc_m_9.groupby(['citing_year'])['citing_year'].count()\n",
        "\n",
        "fmsc_0 = sc_fm_0.groupby(['citing_year'])['citing_year'].count()\n",
        "fmsc_1 = sc_fm_1.groupby(['citing_year'])['citing_year'].count()\n",
        "fmsc_2 = sc_fm_2.groupby(['citing_year'])['citing_year'].count()\n",
        "fmsc_3 = sc_fm_3.groupby(['citing_year'])['citing_year'].count()\n",
        "fmsc_4 = sc_fm_4.groupby(['citing_year'])['citing_year'].count()\n",
        "fmsc_5 = sc_fm_5.groupby(['citing_year'])['citing_year'].count()\n",
        "fmsc_6 = sc_fm_6.groupby(['citing_year'])['citing_year'].count()\n",
        "fmsc_7 = sc_fm_7.groupby(['citing_year'])['citing_year'].count()\n",
        "fmsc_8 = sc_fm_8.groupby(['citing_year'])['citing_year'].count()\n",
        "fmsc_9 = sc_fm_9.groupby(['citing_year'])['citing_year'].count()"
      ],
      "execution_count": null,
      "outputs": []
    },
    {
      "cell_type": "code",
      "metadata": {
        "id": "11vxPXY4XUBr"
      },
      "source": [
        "## Create plots for self-citations by PACS\n",
        "\n",
        "# PACS 00\n",
        "plt.figure(1)\n",
        "\n",
        "(msc_0/mcdata_0).plot(style='.-')\n",
        "(fmsc_0/fmcdata_0).plot(style='.-',color='orange')\n",
        "\n",
        "plt.title('General Physics')\n",
        "plt.legend(('male', 'female'), loc='upper right')\n",
        "plt.xlabel('Year')\n",
        "# plt.xlim(xmin=1950)\n",
        "plt.ylabel('% of Self-citation')\n",
        "plt.ylim(ymin=0, ymax=0.2)\n",
        "\n",
        "#-------------------------------------------------------------------------------\n",
        "# PACS 10\n",
        "plt.figure(2)\n",
        "\n",
        "(msc_1/mcdata_1).plot(style='.-')\n",
        "(fmsc_1/fmcdata_1).plot(style='.-',color='orange')\n",
        "\n",
        "plt.title('The Physics of Elementary Particles and Fields')\n",
        "plt.legend(('male', 'female'), loc='upper right')\n",
        "plt.xlabel('Year')\n",
        "# plt.xlim(xmin=1950)\n",
        "plt.ylabel('% of Self-citation')\n",
        "plt.ylim(ymin=0, ymax=0.2)\n",
        "\n",
        "#-------------------------------------------------------------------------------\n",
        "# PACS 20\n",
        "plt.figure(3)\n",
        "\n",
        "(msc_2/mcdata_2).plot(style='.-')\n",
        "(fmsc_2/fmcdata_2).plot(style='.-',color='orange')\n",
        "\n",
        "plt.title('Nuclear Physics')\n",
        "plt.legend(('male', 'female'), loc='upper right')\n",
        "plt.xlabel('Year')\n",
        "# plt.xlim(xmin=1950)\n",
        "plt.ylabel('% of Self-citation')\n",
        "plt.ylim(ymin=0, ymax=0.2)\n",
        "\n",
        "#-------------------------------------------------------------------------------\n",
        "# PACS 30\n",
        "plt.figure(4)\n",
        "\n",
        "(msc_3/mcdata_3).plot(style='.-')\n",
        "(fmsc_3/fmcdata_3).plot(style='.-',color='orange')\n",
        "\n",
        "plt.title('Atomic and Molecular Physics')\n",
        "plt.legend(('male', 'female'), loc='upper right')\n",
        "plt.xlabel('Year')\n",
        "# plt.xlim(xmin=1950)\n",
        "plt.ylabel('% of Self-citation')\n",
        "plt.ylim(ymin=0, ymax=0.2)\n",
        "\n",
        "#-------------------------------------------------------------------------------\n",
        "# PACS 40\n",
        "plt.figure(5)\n",
        "\n",
        "(msc_4/mcdata_4).plot(style='.-')\n",
        "(fmsc_4/fmcdata_4).plot(style='.-',color='orange')\n",
        "\n",
        "plt.title('Electromagnetism, Optics, Acoustics, Heat Transfer,\\n Classical Mechanics, and Fluid Dynamics')\n",
        "plt.legend(('male', 'female'), loc='upper right')\n",
        "plt.xlabel('Year')\n",
        "# plt.xlim(xmin=1950)\n",
        "plt.ylabel('% of Self-citation')\n",
        "plt.ylim(ymin=0, ymax=0.2)\n",
        "\n",
        "#-------------------------------------------------------------------------------\n",
        "# PACS 50\n",
        "plt.figure(6)\n",
        "\n",
        "(msc_5/mcdata_5).plot(style='.-')\n",
        "(fmsc_5/fmcdata_5).plot(style='.-',color='orange')\n",
        "\n",
        "plt.title('Physics of Gases, Plasmas, and Electric Discharges')\n",
        "plt.legend(('male', 'female'), loc='upper right')\n",
        "plt.xlabel('Year')\n",
        "# plt.xlim(xmin=1950)\n",
        "plt.ylabel('% of Self-citation')\n",
        "plt.ylim(ymin=0, ymax=0.2)\n",
        "\n",
        "#-------------------------------------------------------------------------------\n",
        "# PACS 60\n",
        "plt.figure(7)\n",
        "\n",
        "(msc_6/mcdata_6).plot(style='.-')\n",
        "(fmsc_6/fmcdata_6).plot(style='.-',color='orange')\n",
        "\n",
        "plt.title('Condensed Matter: Structural, Mechanical,\\n and Thermal Properties')\n",
        "plt.legend(('male', 'female'), loc='upper right')\n",
        "plt.xlabel('Year')\n",
        "# plt.xlim(xmin=1950)\n",
        "plt.ylabel('% of Self-citation')\n",
        "plt.ylim(ymin=0, ymax=0.2)\n",
        "\n",
        "#-------------------------------------------------------------------------------\n",
        "# PACS 70\n",
        "plt.figure(8)\n",
        "\n",
        "(msc_7/mcdata_7).plot(style='.-')\n",
        "(fmsc_7/fmcdata_7).plot(style='.-',color='orange')\n",
        "\n",
        "plt.title('Condensed Matter: Electronic Structure, Electrical,\\n Magnetic, and Optical Properties')\n",
        "plt.legend(('male', 'female'), loc='upper right')\n",
        "plt.xlabel('Year')\n",
        "# plt.xlim(xmin=1950)\n",
        "plt.ylabel('% of Self-citation')\n",
        "plt.ylim(ymin=0, ymax=0.2)\n",
        "\n",
        "#-------------------------------------------------------------------------------\n",
        "# PACS 80\n",
        "plt.figure(9)\n",
        "\n",
        "(msc_8/mcdata_8).plot(style='.-')\n",
        "(fmsc_8/fmcdata_8).plot(style='.-',color='orange')\n",
        "\n",
        "plt.title('Interdisciplinary Physics and Related Areas\\n of Science and Technology')\n",
        "plt.legend(('male', 'female'), loc='upper right')\n",
        "plt.xlabel('Year')\n",
        "# plt.xlim(xmin=1950)\n",
        "plt.ylabel('% of Self-citation')\n",
        "plt.ylim(ymin=0, ymax=0.2)\n",
        "\n",
        "#-------------------------------------------------------------------------------\n",
        "# PACS 90\n",
        "plt.figure(10)\n",
        "\n",
        "(msc_9/mcdata_9).plot(style='.-')\n",
        "(fmsc_9/fmcdata_9).plot(style='.-',color='orange')\n",
        "\n",
        "plt.title('Geophysics, Astronomy, and Astrophysics')\n",
        "plt.legend(('male', 'female'), loc='upper right')\n",
        "plt.xlabel('Year')\n",
        "# plt.xlim(xmin=1950)\n",
        "plt.ylabel('% of Self-citation')\n",
        "plt.ylim(ymin=0, ymax=0.2)"
      ],
      "execution_count": null,
      "outputs": []
    },
    {
      "cell_type": "markdown",
      "metadata": {
        "id": "DfrbUoNgQKVS"
      },
      "source": [
        "## 6 PageRank Centrality"
      ]
    },
    {
      "cell_type": "code",
      "metadata": {
        "id": "gMf26naTQKS_",
        "colab": {
          "base_uri": "https://localhost:8080/",
          "height": 121
        },
        "outputId": "696c3325-2815-4698-abcc-9818c21cc23a"
      },
      "source": [
        "# apply nx.graph to citation relationship network\n",
        "Graphtype = nx.DiGraph()\n",
        "\n",
        "C = nx.from_pandas_edgelist(cen, source='citing_doi', target='cited_doi', create_using=Graphtype)\n",
        "print(nx.info(C))"
      ],
      "execution_count": null,
      "outputs": [
        {
          "output_type": "stream",
          "text": [
            "Name: \n",
            "Type: DiGraph\n",
            "Number of nodes: 144813\n",
            "Number of edges: 703005\n",
            "Average in degree:   4.8546\n",
            "Average out degree:   4.8546\n"
          ],
          "name": "stdout"
        }
      ]
    },
    {
      "cell_type": "code",
      "metadata": {
        "id": "ihSavXoGQKS9"
      },
      "source": [
        "# assign PageRank centrality to each paper\n",
        "pr = nx.pagerank(C)\n",
        "\n",
        "# create a centrality dataframe\n",
        "prs = pd.DataFrame()\n",
        "prs['doi'] = pr.keys()\n",
        "prs['centrality'] = pr.values()"
      ],
      "execution_count": null,
      "outputs": []
    },
    {
      "cell_type": "code",
      "metadata": {
        "id": "S4PP2OqqQKS6"
      },
      "source": [
        "# observe author id & gender (primary author)\n",
        "nodedata = data[data['is_alpha'] == False]\n",
        "nodedata = nodedata[nodedata['order'] == 1]\n",
        "nodedata = nodedata.drop(['order', 'numAuthor',\t'is_last',\t'is_alpha',\t'year',\t'articleType',\t'journal', 'id'], axis=1)\n",
        "nodedata = nodedata.reset_index()\n",
        "nodedata.columns = ['id', 'Label', 'Gender']\n",
        "nodedata.head()\n",
        "\n",
        "# merge and create a dataframe: id, gender, PageRank centrality\n",
        "prs = prs.merge(nodedata, left_on='doi', right_on='Label', how='left')\n",
        "prs = prs.drop(['doi', 'Label'], axis=1)\n",
        "prs = prs[['id', 'Gender', 'centrality']]\n",
        "\n",
        "# split the dataframe by gender\n",
        "prs_m = prs[prs['Gender'] == 'male']\n",
        "prs_fm = prs[prs['Gender'] == 'female']"
      ],
      "execution_count": null,
      "outputs": []
    },
    {
      "cell_type": "code",
      "metadata": {
        "id": "j0aT50LyQKS3"
      },
      "source": [
        "# create a comparative histogram for PageRank centrality by gender\n",
        "plt.style.use('seaborn-deep')\n",
        "bins = np.linspace(0, 0.0015, 50)\n",
        "\n",
        "plt.hist([prs_m['centrality'], prs_fm['centrality']], bins, label=['male', 'female'], color=['blue','orange'])\n",
        "\n",
        "plt.title(\"PageRank Centrality for Primary Authors\")\n",
        "plt.legend(loc='upper right')\n",
        "plt.xlabel('Centrality')\n",
        "plt.yscale('log')\n",
        "plt.ylabel('log(count)')\n",
        "plt.show()"
      ],
      "execution_count": null,
      "outputs": []
    },
    {
      "cell_type": "code",
      "metadata": {
        "id": "vIGqV79MQKSw",
        "colab": {
          "base_uri": "https://localhost:8080/",
          "height": 313
        },
        "outputId": "6de32a9a-67d3-4956-992b-d95a94c754ff"
      },
      "source": [
        "# Comparative graph for actual female proportion vs. expected female proportion\n",
        "\n",
        "prs_gender = prs['Gender'].to_numpy()\n",
        "cumulate_prs_gender = np.cumsum(prs_gender == \"female\")\n",
        "\n",
        "plt.plot((np.arange(len(prs))*100)/len(prs), cumulate_prs_gender/np.arange(1, len(prs)+1), color='red')\n",
        "plt.axhline(y=0.08274119036274367, color='black', linestyle='dotted')\n",
        "\n",
        "plt.title(\"Proportion of Female Primary Authors per Centrality\")\n",
        "plt.xlabel(\"top k% Centrality\")\n",
        "plt.ylim(ymax=0.1)\n",
        "plt.ylabel(\"Proportion of Female Primary Authors\")"
      ],
      "execution_count": null,
      "outputs": [
        {
          "output_type": "execute_result",
          "data": {
            "text/plain": [
              "Text(0, 0.5, 'Proportion of Female Primary Authors')"
            ]
          },
          "metadata": {
            "tags": []
          },
          "execution_count": 127
        },
        {
          "output_type": "display_data",
          "data": {
            "image/png": "[encoded data removed]",
            "text/plain": [
              "<Figure size 432x288 with 1 Axes>"
            ]
          },
          "metadata": {
            "tags": []
          }
        }
      ]
    }
  ]
}