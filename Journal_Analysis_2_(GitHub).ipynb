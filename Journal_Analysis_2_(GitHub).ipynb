{
  "nbformat": 4,
  "nbformat_minor": 0,
  "metadata": {
    "colab": {
      "name": "Journal Analysis 2 (GitHub)",
      "provenance": [],
      "collapsed_sections": [
        "buoy01pJ_LRK",
        "rFMhtOjv_hGO"
      ],
      "authorship_tag": "ABX9TyPZrHQYOxJlKacJBE7jVbf4",
      "include_colab_link": true
    },
    "kernelspec": {
      "name": "python3",
      "display_name": "Python 3"
    }
  },
  "cells": [
    {
      "cell_type": "markdown",
      "metadata": {
        "id": "view-in-github",
        "colab_type": "text"
      },
      "source": [
        "<a href=\"https://colab.research.google.com/github/therobinkay/gender_bias_2021/blob/main/Journal_Analysis_2_(GitHub).ipynb\" target=\"_parent\"><img src=\"https://colab.research.google.com/assets/colab-badge.svg\" alt=\"Open In Colab\"/></a>"
      ]
    },
    {
      "cell_type": "code",
      "metadata": {
        "id": "M_l6RveS-5dY"
      },
      "source": [
        "import io\n",
        "import pandas as pd\n",
        "import os\n",
        "import itertools\n",
        "import numpy as np\n",
        "import scipy.stats\n",
        "import time\n",
        "\n",
        "import matplotlib.pyplot as plt\n",
        "import seaborn as sns\n",
        "\n",
        "import statistics\n",
        "import math\n",
        "\n",
        "from tqdm.auto import tqdm\n",
        "\n",
        "import networkx as nx\n",
        "import random"
      ],
      "execution_count": 1,
      "outputs": []
    },
    {
      "cell_type": "code",
      "metadata": {
        "id": "Kh1YLKIj--mj",
        "colab": {
          "base_uri": "https://localhost:8080/"
        },
        "outputId": "fc134a7c-2892-4384-8f8e-6fc4bb4bfaf6"
      },
      "source": [
        "from google.colab import drive\n",
        "drive.mount('/content/drive/')"
      ],
      "execution_count": 2,
      "outputs": [
        {
          "output_type": "stream",
          "text": [
            "Mounted at /content/drive/\n"
          ],
          "name": "stdout"
        }
      ]
    },
    {
      "cell_type": "code",
      "metadata": {
        "id": "Vhdw1UJu_AQ4"
      },
      "source": [
        "!cd \"drive/My Drive\""
      ],
      "execution_count": 3,
      "outputs": []
    },
    {
      "cell_type": "code",
      "metadata": {
        "id": "A4kI7H4G_GnA"
      },
      "source": [
        "data = pd.read_csv(\"drive/My Drive/codes/data.csv\")\n",
        "# dp = pd.read_csv(\"drive/My Drive/codes/doipacs.csv\")\n",
        "cen = pd.read_csv('drive/My Drive/codes/cen.csv')\n",
        "\n",
        "# cdata = pd.read_csv('drive/My Drive/codes/cdata.csv')\n",
        "\n",
        "cb = pd.read_csv(\"drive/My Drive/codes/citationBara.csv\")\n",
        "cb['pair'] = \"(\" + cb[\"citing_doi\"] + \", \" + cb[\"cited_doi\"] + \")\"\n",
        "cb['pair2'] = \"(\" + cb[\"cited_doi\"] + \", \" + cb[\"citing_doi\"] + \")\""
      ],
      "execution_count": 4,
      "outputs": []
    },
    {
      "cell_type": "markdown",
      "metadata": {
        "id": "rFMhtOjv_hGO"
      },
      "source": [
        "# 1. Year Diff. vs. Centrality Diff."
      ]
    },
    {
      "cell_type": "code",
      "metadata": {
        "id": "5MhhRxpe_c6r",
        "colab": {
          "base_uri": "https://localhost:8080/",
          "height": 222
        },
        "outputId": "809f95ea-47f0-48fd-c3f4-b34dbec12af7"
      },
      "source": [
        "############## SELECT DESIRED PACS (HOMOPHILY ONLY) ###############\n",
        "\n",
        "# homn = pd.read_csv(\"drive/My Drive/codes/hom0.csv\")\n",
        "# homn = pd.read_csv(\"drive/My Drive/codes/hom1.csv\")\n",
        "# homn = pd.read_csv(\"drive/My Drive/codes/hom2.csv\")\n",
        "# homn = pd.read_csv(\"drive/My Drive/codes/hom3.csv\")\n",
        "# homn = pd.read_csv(\"drive/My Drive/codes/hom4.csv\")\n",
        "# homn = pd.read_csv(\"drive/My Drive/codes/hom5.csv\")\n",
        "# homn = pd.read_csv(\"drive/My Drive/codes/hom6.csv\")\n",
        "# homn = pd.read_csv(\"drive/My Drive/codes/hom7.csv\")\n",
        "# homn = pd.read_csv(\"drive/My Drive/codes/hom8.csv\")\n",
        "homn = pd.read_csv(\"drive/My Drive/codes/hom9.csv\")\n",
        "\n",
        "print(len(homn))\n",
        "homn.head()"
      ],
      "execution_count": 12,
      "outputs": [
        {
          "output_type": "stream",
          "text": [
            "103313\n"
          ],
          "name": "stdout"
        },
        {
          "output_type": "execute_result",
          "data": {
            "text/html": [
              "<div>\n",
              "<style scoped>\n",
              "    .dataframe tbody tr th:only-of-type {\n",
              "        vertical-align: middle;\n",
              "    }\n",
              "\n",
              "    .dataframe tbody tr th {\n",
              "        vertical-align: top;\n",
              "    }\n",
              "\n",
              "    .dataframe thead th {\n",
              "        text-align: right;\n",
              "    }\n",
              "</style>\n",
              "<table border=\"1\" class=\"dataframe\">\n",
              "  <thead>\n",
              "    <tr style=\"text-align: right;\">\n",
              "      <th></th>\n",
              "      <th>paper1</th>\n",
              "      <th>gender1</th>\n",
              "      <th>year1</th>\n",
              "      <th>paper2</th>\n",
              "      <th>gender2</th>\n",
              "      <th>year2</th>\n",
              "      <th>qval</th>\n",
              "      <th>k</th>\n",
              "    </tr>\n",
              "  </thead>\n",
              "  <tbody>\n",
              "    <tr>\n",
              "      <th>0</th>\n",
              "      <td>10.1103/PhysRevA.35.4035</td>\n",
              "      <td>male</td>\n",
              "      <td>1987</td>\n",
              "      <td>10.1103/PhysRevA.36.4163</td>\n",
              "      <td>male</td>\n",
              "      <td>1987</td>\n",
              "      <td>0.001441</td>\n",
              "      <td>False</td>\n",
              "    </tr>\n",
              "    <tr>\n",
              "      <th>1</th>\n",
              "      <td>10.1103/PhysRevA.36.4700</td>\n",
              "      <td>male</td>\n",
              "      <td>1987</td>\n",
              "      <td>10.1103/PhysRevA.38.1839</td>\n",
              "      <td>male</td>\n",
              "      <td>1988</td>\n",
              "      <td>0.003817</td>\n",
              "      <td>True</td>\n",
              "    </tr>\n",
              "    <tr>\n",
              "      <th>2</th>\n",
              "      <td>10.1103/PhysRevA.36.4700</td>\n",
              "      <td>male</td>\n",
              "      <td>1987</td>\n",
              "      <td>10.1103/PhysRevA.40.6260</td>\n",
              "      <td>male</td>\n",
              "      <td>1989</td>\n",
              "      <td>0.003817</td>\n",
              "      <td>True</td>\n",
              "    </tr>\n",
              "    <tr>\n",
              "      <th>3</th>\n",
              "      <td>10.1103/PhysRevA.38.1839</td>\n",
              "      <td>male</td>\n",
              "      <td>1988</td>\n",
              "      <td>10.1103/PhysRevA.40.6260</td>\n",
              "      <td>male</td>\n",
              "      <td>1989</td>\n",
              "      <td>0.000015</td>\n",
              "      <td>True</td>\n",
              "    </tr>\n",
              "    <tr>\n",
              "      <th>4</th>\n",
              "      <td>10.1103/PhysRevA.36.4700</td>\n",
              "      <td>male</td>\n",
              "      <td>1987</td>\n",
              "      <td>10.1103/PhysRevA.40.6931</td>\n",
              "      <td>male</td>\n",
              "      <td>1989</td>\n",
              "      <td>0.003817</td>\n",
              "      <td>True</td>\n",
              "    </tr>\n",
              "  </tbody>\n",
              "</table>\n",
              "</div>"
            ],
            "text/plain": [
              "                     paper1 gender1  year1  ... year2      qval      k\n",
              "0  10.1103/PhysRevA.35.4035    male   1987  ...  1987  0.001441  False\n",
              "1  10.1103/PhysRevA.36.4700    male   1987  ...  1988  0.003817   True\n",
              "2  10.1103/PhysRevA.36.4700    male   1987  ...  1989  0.003817   True\n",
              "3  10.1103/PhysRevA.38.1839    male   1988  ...  1989  0.000015   True\n",
              "4  10.1103/PhysRevA.36.4700    male   1987  ...  1989  0.003817   True\n",
              "\n",
              "[5 rows x 8 columns]"
            ]
          },
          "metadata": {
            "tags": []
          },
          "execution_count": 12
        }
      ]
    },
    {
      "cell_type": "code",
      "metadata": {
        "id": "xShVU-dK__2f"
      },
      "source": [
        "dc = data[[\"doi\", \"year\"]].drop_duplicates(subset = 'doi')\n",
        "dc = dc.merge(cb, left_on = 'doi',\n",
        "              right_on = 'citing_doi', how = 'inner').drop(\n",
        "                  ['doi'], axis=1).rename({'year': 'citing_year'}, axis=1)\n",
        "\n",
        "cols = ['citing_doi', 'citing_year', 'cited_doi']\n",
        "dc = dc.reindex(columns=cols).sort_values('cited_doi')"
      ],
      "execution_count": 13,
      "outputs": []
    },
    {
      "cell_type": "code",
      "metadata": {
        "id": "dOOYM-Pl_xC8",
        "colab": {
          "base_uri": "https://localhost:8080/",
          "height": 240
        },
        "outputId": "9e0302d4-d912-492c-f791-0513f141e49c"
      },
      "source": [
        "hom_mf = homn[homn[\"gender1\"] != homn[\"gender2\"]].reset_index(drop=True)\n",
        "\n",
        "test = hom_mf.merge(dc, left_on = 'paper1',\n",
        "                    right_on = 'cited_doi', how = 'left').drop(\n",
        "                        [\"cited_doi\", \"citing_year\"], axis=1).drop_duplicates(\n",
        "                            subset=['paper1', 'citing_doi'])\n",
        "test['count'] = test.groupby(['paper1'])['paper1'].transform('count')\n",
        "test = test.drop([\"citing_doi\"], axis=1).rename({'count': 'count1'}, axis=1)\n",
        "\n",
        "test = test.drop_duplicates(subset=['paper1', 'paper2']).drop(\n",
        "    ['gender1', 'year1', 'paper2', 'gender2', 'year2', 'qval', 'k'], axis=1)\n",
        "hom_mf = hom_mf.merge(test, on='paper1', how='inner')\n",
        "\n",
        "test = hom_mf.merge(dc, left_on = 'paper2',\n",
        "                    right_on = 'cited_doi', how = 'left').drop(\n",
        "                        [\"cited_doi\", \"citing_year\"], axis=1).drop_duplicates(\n",
        "                            subset=['paper2', 'citing_doi'])\n",
        "test['count'] = test.groupby(['paper2'])['paper2'].transform('count')\n",
        "test = test.drop([\"citing_doi\"], axis=1).rename(\n",
        "    {'count': 'count2'}, axis=1).drop_duplicates(\n",
        "        subset=['paper1', 'paper2']).drop(\n",
        "            ['gender1', 'year1', 'paper1', 'gender2', 'count1',\n",
        "             'year2', 'qval', 'k'], axis=1)\n",
        "hom_mf = hom_mf.merge(test, on='paper2', how='inner')\n",
        "\n",
        "del test\n",
        "\n",
        "print(len(hom_mf))\n",
        "print(hom_mf['paper1'].nunique())\n",
        "hom_mf.head()"
      ],
      "execution_count": 14,
      "outputs": [
        {
          "output_type": "stream",
          "text": [
            "18760\n",
            "2599\n"
          ],
          "name": "stdout"
        },
        {
          "output_type": "execute_result",
          "data": {
            "text/html": [
              "<div>\n",
              "<style scoped>\n",
              "    .dataframe tbody tr th:only-of-type {\n",
              "        vertical-align: middle;\n",
              "    }\n",
              "\n",
              "    .dataframe tbody tr th {\n",
              "        vertical-align: top;\n",
              "    }\n",
              "\n",
              "    .dataframe thead th {\n",
              "        text-align: right;\n",
              "    }\n",
              "</style>\n",
              "<table border=\"1\" class=\"dataframe\">\n",
              "  <thead>\n",
              "    <tr style=\"text-align: right;\">\n",
              "      <th></th>\n",
              "      <th>paper1</th>\n",
              "      <th>gender1</th>\n",
              "      <th>year1</th>\n",
              "      <th>paper2</th>\n",
              "      <th>gender2</th>\n",
              "      <th>year2</th>\n",
              "      <th>qval</th>\n",
              "      <th>k</th>\n",
              "      <th>count1</th>\n",
              "      <th>count2</th>\n",
              "    </tr>\n",
              "  </thead>\n",
              "  <tbody>\n",
              "    <tr>\n",
              "      <th>0</th>\n",
              "      <td>10.1103/PhysRevA.42.3587</td>\n",
              "      <td>male</td>\n",
              "      <td>1990</td>\n",
              "      <td>10.1103/PhysRevD.56.3296</td>\n",
              "      <td>female</td>\n",
              "      <td>1997</td>\n",
              "      <td>0.009174</td>\n",
              "      <td>False</td>\n",
              "      <td>14</td>\n",
              "      <td>3</td>\n",
              "    </tr>\n",
              "    <tr>\n",
              "      <th>1</th>\n",
              "      <td>10.1103/PhysRevD.48.5655</td>\n",
              "      <td>male</td>\n",
              "      <td>1993</td>\n",
              "      <td>10.1103/PhysRevD.56.3296</td>\n",
              "      <td>female</td>\n",
              "      <td>1997</td>\n",
              "      <td>0.009174</td>\n",
              "      <td>False</td>\n",
              "      <td>8</td>\n",
              "      <td>3</td>\n",
              "    </tr>\n",
              "    <tr>\n",
              "      <th>2</th>\n",
              "      <td>10.1103/PhysRevD.50.1161</td>\n",
              "      <td>male</td>\n",
              "      <td>1994</td>\n",
              "      <td>10.1103/PhysRevD.56.3296</td>\n",
              "      <td>female</td>\n",
              "      <td>1997</td>\n",
              "      <td>0.009174</td>\n",
              "      <td>False</td>\n",
              "      <td>1</td>\n",
              "      <td>3</td>\n",
              "    </tr>\n",
              "    <tr>\n",
              "      <th>3</th>\n",
              "      <td>10.1103/PhysRevD.50.3847</td>\n",
              "      <td>male</td>\n",
              "      <td>1994</td>\n",
              "      <td>10.1103/PhysRevD.56.3296</td>\n",
              "      <td>female</td>\n",
              "      <td>1997</td>\n",
              "      <td>0.009174</td>\n",
              "      <td>False</td>\n",
              "      <td>4</td>\n",
              "      <td>3</td>\n",
              "    </tr>\n",
              "    <tr>\n",
              "      <th>4</th>\n",
              "      <td>10.1103/PhysRevD.52.6901</td>\n",
              "      <td>male</td>\n",
              "      <td>1995</td>\n",
              "      <td>10.1103/PhysRevD.56.3296</td>\n",
              "      <td>female</td>\n",
              "      <td>1997</td>\n",
              "      <td>0.009174</td>\n",
              "      <td>False</td>\n",
              "      <td>4</td>\n",
              "      <td>3</td>\n",
              "    </tr>\n",
              "  </tbody>\n",
              "</table>\n",
              "</div>"
            ],
            "text/plain": [
              "                     paper1 gender1  year1  ...      k count1  count2\n",
              "0  10.1103/PhysRevA.42.3587    male   1990  ...  False     14       3\n",
              "1  10.1103/PhysRevD.48.5655    male   1993  ...  False      8       3\n",
              "2  10.1103/PhysRevD.50.1161    male   1994  ...  False      1       3\n",
              "3  10.1103/PhysRevD.50.3847    male   1994  ...  False      4       3\n",
              "4  10.1103/PhysRevD.52.6901    male   1995  ...  False      4       3\n",
              "\n",
              "[5 rows x 10 columns]"
            ]
          },
          "metadata": {
            "tags": []
          },
          "execution_count": 14
        }
      ]
    },
    {
      "cell_type": "code",
      "metadata": {
        "id": "_UWLgiGp_4qu",
        "colab": {
          "base_uri": "https://localhost:8080/",
          "height": 222
        },
        "outputId": "3765b989-24e5-4ddd-eeb8-ea5a1a520474"
      },
      "source": [
        "listd = []\n",
        "listy = []\n",
        "\n",
        "for c in range(len(hom_mf)):\n",
        "  if hom_mf['gender1'][c] == 'male':\n",
        "    listd.append(hom_mf['count1'][c] - hom_mf['count2'][c])\n",
        "    listy.append(hom_mf['year1'][c] - hom_mf['year2'][c])\n",
        "  else:\n",
        "    listd.append(hom_mf['count2'][c] - hom_mf['count1'][c])\n",
        "    listy.append(hom_mf['year2'][c] - hom_mf['year1'][c])\n",
        "\n",
        "hom_mf['countd'] = listd\n",
        "hom_mf['yeard'] = listy\n",
        "\n",
        "print(len(hom_mf))\n",
        "hom_mf.head()"
      ],
      "execution_count": 8,
      "outputs": [
        {
          "output_type": "stream",
          "text": [
            "18760\n"
          ],
          "name": "stdout"
        },
        {
          "output_type": "execute_result",
          "data": {
            "text/html": [
              "<div>\n",
              "<style scoped>\n",
              "    .dataframe tbody tr th:only-of-type {\n",
              "        vertical-align: middle;\n",
              "    }\n",
              "\n",
              "    .dataframe tbody tr th {\n",
              "        vertical-align: top;\n",
              "    }\n",
              "\n",
              "    .dataframe thead th {\n",
              "        text-align: right;\n",
              "    }\n",
              "</style>\n",
              "<table border=\"1\" class=\"dataframe\">\n",
              "  <thead>\n",
              "    <tr style=\"text-align: right;\">\n",
              "      <th></th>\n",
              "      <th>paper1</th>\n",
              "      <th>gender1</th>\n",
              "      <th>year1</th>\n",
              "      <th>paper2</th>\n",
              "      <th>gender2</th>\n",
              "      <th>year2</th>\n",
              "      <th>qval</th>\n",
              "      <th>k</th>\n",
              "      <th>count1</th>\n",
              "      <th>count2</th>\n",
              "      <th>countd</th>\n",
              "      <th>yeard</th>\n",
              "    </tr>\n",
              "  </thead>\n",
              "  <tbody>\n",
              "    <tr>\n",
              "      <th>0</th>\n",
              "      <td>10.1103/PhysRevA.42.3587</td>\n",
              "      <td>male</td>\n",
              "      <td>1990</td>\n",
              "      <td>10.1103/PhysRevD.56.3296</td>\n",
              "      <td>female</td>\n",
              "      <td>1997</td>\n",
              "      <td>0.009174</td>\n",
              "      <td>False</td>\n",
              "      <td>14</td>\n",
              "      <td>3</td>\n",
              "      <td>11</td>\n",
              "      <td>-7</td>\n",
              "    </tr>\n",
              "    <tr>\n",
              "      <th>1</th>\n",
              "      <td>10.1103/PhysRevD.48.5655</td>\n",
              "      <td>male</td>\n",
              "      <td>1993</td>\n",
              "      <td>10.1103/PhysRevD.56.3296</td>\n",
              "      <td>female</td>\n",
              "      <td>1997</td>\n",
              "      <td>0.009174</td>\n",
              "      <td>False</td>\n",
              "      <td>8</td>\n",
              "      <td>3</td>\n",
              "      <td>5</td>\n",
              "      <td>-4</td>\n",
              "    </tr>\n",
              "    <tr>\n",
              "      <th>2</th>\n",
              "      <td>10.1103/PhysRevD.50.1161</td>\n",
              "      <td>male</td>\n",
              "      <td>1994</td>\n",
              "      <td>10.1103/PhysRevD.56.3296</td>\n",
              "      <td>female</td>\n",
              "      <td>1997</td>\n",
              "      <td>0.009174</td>\n",
              "      <td>False</td>\n",
              "      <td>1</td>\n",
              "      <td>3</td>\n",
              "      <td>-2</td>\n",
              "      <td>-3</td>\n",
              "    </tr>\n",
              "    <tr>\n",
              "      <th>3</th>\n",
              "      <td>10.1103/PhysRevD.50.3847</td>\n",
              "      <td>male</td>\n",
              "      <td>1994</td>\n",
              "      <td>10.1103/PhysRevD.56.3296</td>\n",
              "      <td>female</td>\n",
              "      <td>1997</td>\n",
              "      <td>0.009174</td>\n",
              "      <td>False</td>\n",
              "      <td>4</td>\n",
              "      <td>3</td>\n",
              "      <td>1</td>\n",
              "      <td>-3</td>\n",
              "    </tr>\n",
              "    <tr>\n",
              "      <th>4</th>\n",
              "      <td>10.1103/PhysRevD.52.6901</td>\n",
              "      <td>male</td>\n",
              "      <td>1995</td>\n",
              "      <td>10.1103/PhysRevD.56.3296</td>\n",
              "      <td>female</td>\n",
              "      <td>1997</td>\n",
              "      <td>0.009174</td>\n",
              "      <td>False</td>\n",
              "      <td>4</td>\n",
              "      <td>3</td>\n",
              "      <td>1</td>\n",
              "      <td>-2</td>\n",
              "    </tr>\n",
              "  </tbody>\n",
              "</table>\n",
              "</div>"
            ],
            "text/plain": [
              "                     paper1 gender1  year1  ... count2 countd  yeard\n",
              "0  10.1103/PhysRevA.42.3587    male   1990  ...      3     11     -7\n",
              "1  10.1103/PhysRevD.48.5655    male   1993  ...      3      5     -4\n",
              "2  10.1103/PhysRevD.50.1161    male   1994  ...      3     -2     -3\n",
              "3  10.1103/PhysRevD.50.3847    male   1994  ...      3      1     -3\n",
              "4  10.1103/PhysRevD.52.6901    male   1995  ...      3      1     -2\n",
              "\n",
              "[5 rows x 12 columns]"
            ]
          },
          "metadata": {
            "tags": []
          },
          "execution_count": 8
        }
      ]
    },
    {
      "cell_type": "code",
      "metadata": {
        "id": "2dKx13S8ATfe"
      },
      "source": [
        "# use p-values from the paper\n",
        "p = 0.006\n",
        "\n",
        "homp = hom_mf[hom_mf['qval'] < p].sort_values('countd').reset_index(drop=True)"
      ],
      "execution_count": null,
      "outputs": []
    },
    {
      "cell_type": "code",
      "metadata": {
        "id": "wf2_YeiCj_es",
        "colab": {
          "base_uri": "https://localhost:8080/",
          "height": 312
        },
        "outputId": "b484b7f8-34f7-4d70-9dac-5005c1798caf"
      },
      "source": [
        "# build scatterplots\n",
        "\n",
        "# zeros are included for the graphic reasons - removed for analysis\n",
        "\n",
        "block13 = homp[homp['yeard'] >= 0]\n",
        "block24 = homp[homp['yeard'] < 0]\n",
        "\n",
        "block1 = block13[block13['countd'] >= 0]\n",
        "block3 = block13[block13['countd'] < 0]\n",
        "block4 = block24[block24['countd'] >= 0]\n",
        "block2 = block24[block24['countd'] < 0]\n",
        "\n",
        "plt.title(\"PACS 90, Centrality and Year Difference\")\n",
        "plt.scatter(block1.countd, block1.yeard, s=1, c='black')\n",
        "plt.scatter(block2.countd, block2.yeard, s=1, c='g')\n",
        "plt.scatter(block3.countd, block3.yeard, s=1, c='r')\n",
        "plt.scatter(block4.countd, block4.yeard, s=1, c='b')\n",
        "plt.axhline(y=0, linewidth=0.5, c='k')\n",
        "plt.axvline(x=0, linewidth=0.5, c='k')\n",
        "plt.xlabel(\"Centrality Difference\")\n",
        "plt.ylabel(\"Year Difference\")\n",
        "plt.xlim(xmax=60)\n",
        "# plt.xlim(xmin=-100)"
      ],
      "execution_count": null,
      "outputs": [
        {
          "output_type": "execute_result",
          "data": {
            "text/plain": [
              "(-54.0, 60.0)"
            ]
          },
          "metadata": {
            "tags": []
          },
          "execution_count": 15
        },
        {
          "output_type": "display_data",
          "data": {
            "image/png": "[encoded data removed]",
            "text/plain": [
              "<Figure size 432x288 with 1 Axes>"
            ]
          },
          "metadata": {
            "tags": [],
            "needs_background": "light"
          }
        }
      ]
    },
    {
      "cell_type": "code",
      "metadata": {
        "id": "7V0xbYwr8wVR"
      },
      "source": [
        "# remove zeros\n",
        "\n",
        "block13 = homp[homp['yeard'] > 0]\n",
        "block1 = block13[block13['countd'] > 0]\n",
        "block4 = block24[block24['countd'] > 0]"
      ],
      "execution_count": null,
      "outputs": []
    },
    {
      "cell_type": "code",
      "metadata": {
        "id": "MpLE5Wy10tbh",
        "colab": {
          "base_uri": "https://localhost:8080/"
        },
        "outputId": "58e9ab96-e086-433e-906b-59ad688ff6f5"
      },
      "source": [
        "comp13 = []\n",
        "\n",
        "for i in range(1,11):\n",
        "  b1 = block1[block1['yeard'] == i]\n",
        "  b3 = block3[block3['yeard'] == i]\n",
        "  if len(b1) < 2 or len(b3) < 2:\n",
        "    print('NA')\n",
        "    comp13.append('NA')\n",
        "  else:\n",
        "    xd = b1['countd'].mean() - b3['countd'].mean()\n",
        "    var = math.sqrt(statistics.stdev(b1['countd'])**2 +\n",
        "                    statistics.stdev(b3['countd'])**2)\n",
        "\n",
        "    print(xd/var)\n",
        "    comp13.append(xd/var)"
      ],
      "execution_count": null,
      "outputs": [
        {
          "output_type": "stream",
          "text": [
            "1.173904865318404\n",
            "1.3022159413231136\n",
            "1.1330136358908969\n",
            "1.7247474636694409\n",
            "1.568292470721645\n",
            "NA\n",
            "1.375597058468528\n",
            "0.9274746114093078\n",
            "NA\n",
            "NA\n"
          ],
          "name": "stdout"
        }
      ]
    },
    {
      "cell_type": "code",
      "metadata": {
        "id": "EQZq5HU23Fk0",
        "colab": {
          "base_uri": "https://localhost:8080/"
        },
        "outputId": "9b018cf2-6d32-4ed9-f93e-4e3d8bff7413"
      },
      "source": [
        "comp42 = []\n",
        "\n",
        "for i in range(1,11):\n",
        "  b4 = block4[block4['yeard'] == -i]\n",
        "  b2 = block2[block2['yeard'] == -i]\n",
        "  if len(b4) < 2 or len(b2) < 2:\n",
        "    print('NA')\n",
        "    comp13.append('NA')\n",
        "  else:\n",
        "    xd = b4['countd'].mean() - b2['countd'].mean()\n",
        "    var = math.sqrt(statistics.stdev(b4['countd'])**2 +\n",
        "                    statistics.stdev(b2['countd'])**2)\n",
        "\n",
        "    print(xd/var)\n",
        "    comp42.append(xd/var)"
      ],
      "execution_count": null,
      "outputs": [
        {
          "output_type": "stream",
          "text": [
            "1.1804039165593339\n",
            "0.6632428273111366\n",
            "1.5520982515720987\n",
            "0.846809132799925\n",
            "1.0160064584282458\n",
            "1.8980224257908334\n",
            "0.6300702520805452\n",
            "NA\n",
            "NA\n",
            "1.9654188579355578\n"
          ],
          "name": "stdout"
        }
      ]
    },
    {
      "cell_type": "markdown",
      "metadata": {
        "id": "2-a6l9DX3Cg0"
      },
      "source": [
        "# 1b. Centrality Difference Trend by Year"
      ]
    },
    {
      "cell_type": "code",
      "metadata": {
        "colab": {
          "base_uri": "https://localhost:8080/",
          "height": 222
        },
        "id": "25JN19US3HOT",
        "outputId": "ac324833-ea7c-4100-dc8d-0af41c9a56f6"
      },
      "source": [
        "############## SELECT DESIRED PACS (HOMOPHILY ONLY) ###############\n",
        "\n",
        "# homn = pd.read_csv(\"drive/My Drive/codes/hom0.csv\")\n",
        "# homn = pd.read_csv(\"drive/My Drive/codes/hom1.csv\")\n",
        "# homn = pd.read_csv(\"drive/My Drive/codes/hom2.csv\")\n",
        "# homn = pd.read_csv(\"drive/My Drive/codes/hom3.csv\")\n",
        "# homn = pd.read_csv(\"drive/My Drive/codes/hom4.csv\")\n",
        "# homn = pd.read_csv(\"drive/My Drive/codes/hom5.csv\")\n",
        "# homn = pd.read_csv(\"drive/My Drive/codes/hom6.csv\")\n",
        "# homn = pd.read_csv(\"drive/My Drive/codes/hom7.csv\")\n",
        "# homn = pd.read_csv(\"drive/My Drive/codes/hom8.csv\")\n",
        "homn = pd.read_csv(\"drive/My Drive/codes/hom9.csv\")\n",
        "\n",
        "print(len(homn))\n",
        "homn.head()"
      ],
      "execution_count": 9,
      "outputs": [
        {
          "output_type": "stream",
          "text": [
            "103313\n"
          ],
          "name": "stdout"
        },
        {
          "output_type": "execute_result",
          "data": {
            "text/html": [
              "<div>\n",
              "<style scoped>\n",
              "    .dataframe tbody tr th:only-of-type {\n",
              "        vertical-align: middle;\n",
              "    }\n",
              "\n",
              "    .dataframe tbody tr th {\n",
              "        vertical-align: top;\n",
              "    }\n",
              "\n",
              "    .dataframe thead th {\n",
              "        text-align: right;\n",
              "    }\n",
              "</style>\n",
              "<table border=\"1\" class=\"dataframe\">\n",
              "  <thead>\n",
              "    <tr style=\"text-align: right;\">\n",
              "      <th></th>\n",
              "      <th>paper1</th>\n",
              "      <th>gender1</th>\n",
              "      <th>year1</th>\n",
              "      <th>paper2</th>\n",
              "      <th>gender2</th>\n",
              "      <th>year2</th>\n",
              "      <th>qval</th>\n",
              "      <th>k</th>\n",
              "    </tr>\n",
              "  </thead>\n",
              "  <tbody>\n",
              "    <tr>\n",
              "      <th>0</th>\n",
              "      <td>10.1103/PhysRevA.35.4035</td>\n",
              "      <td>male</td>\n",
              "      <td>1987</td>\n",
              "      <td>10.1103/PhysRevA.36.4163</td>\n",
              "      <td>male</td>\n",
              "      <td>1987</td>\n",
              "      <td>0.001441</td>\n",
              "      <td>False</td>\n",
              "    </tr>\n",
              "    <tr>\n",
              "      <th>1</th>\n",
              "      <td>10.1103/PhysRevA.36.4700</td>\n",
              "      <td>male</td>\n",
              "      <td>1987</td>\n",
              "      <td>10.1103/PhysRevA.38.1839</td>\n",
              "      <td>male</td>\n",
              "      <td>1988</td>\n",
              "      <td>0.003817</td>\n",
              "      <td>True</td>\n",
              "    </tr>\n",
              "    <tr>\n",
              "      <th>2</th>\n",
              "      <td>10.1103/PhysRevA.36.4700</td>\n",
              "      <td>male</td>\n",
              "      <td>1987</td>\n",
              "      <td>10.1103/PhysRevA.40.6260</td>\n",
              "      <td>male</td>\n",
              "      <td>1989</td>\n",
              "      <td>0.003817</td>\n",
              "      <td>True</td>\n",
              "    </tr>\n",
              "    <tr>\n",
              "      <th>3</th>\n",
              "      <td>10.1103/PhysRevA.38.1839</td>\n",
              "      <td>male</td>\n",
              "      <td>1988</td>\n",
              "      <td>10.1103/PhysRevA.40.6260</td>\n",
              "      <td>male</td>\n",
              "      <td>1989</td>\n",
              "      <td>0.000015</td>\n",
              "      <td>True</td>\n",
              "    </tr>\n",
              "    <tr>\n",
              "      <th>4</th>\n",
              "      <td>10.1103/PhysRevA.36.4700</td>\n",
              "      <td>male</td>\n",
              "      <td>1987</td>\n",
              "      <td>10.1103/PhysRevA.40.6931</td>\n",
              "      <td>male</td>\n",
              "      <td>1989</td>\n",
              "      <td>0.003817</td>\n",
              "      <td>True</td>\n",
              "    </tr>\n",
              "  </tbody>\n",
              "</table>\n",
              "</div>"
            ],
            "text/plain": [
              "                     paper1 gender1  year1  ... year2      qval      k\n",
              "0  10.1103/PhysRevA.35.4035    male   1987  ...  1987  0.001441  False\n",
              "1  10.1103/PhysRevA.36.4700    male   1987  ...  1988  0.003817   True\n",
              "2  10.1103/PhysRevA.36.4700    male   1987  ...  1989  0.003817   True\n",
              "3  10.1103/PhysRevA.38.1839    male   1988  ...  1989  0.000015   True\n",
              "4  10.1103/PhysRevA.36.4700    male   1987  ...  1989  0.003817   True\n",
              "\n",
              "[5 rows x 8 columns]"
            ]
          },
          "metadata": {
            "tags": []
          },
          "execution_count": 9
        }
      ]
    },
    {
      "cell_type": "code",
      "metadata": {
        "colab": {
          "base_uri": "https://localhost:8080/",
          "height": 222
        },
        "id": "Sh5NC0RP3OyJ",
        "outputId": "46eac800-6ed5-4ca4-df54-7641166fc34f"
      },
      "source": [
        "dc = data[[\"doi\", \"year\"]].drop_duplicates(subset = 'doi')\n",
        "dc = dc.merge(cb, left_on = 'doi',\n",
        "              right_on = 'citing_doi', how = 'inner').drop(\n",
        "                  ['doi'], axis=1).rename({'year': 'citing_year'}, axis=1)\n",
        "\n",
        "cols = ['citing_doi', 'citing_year', 'cited_doi']\n",
        "dc = dc.reindex(columns=cols).sort_values('cited_doi')\n",
        "\n",
        "hom_mf = homn[homn[\"gender1\"] != homn[\"gender2\"]].reset_index(drop=True)\n",
        "\n",
        "test = hom_mf.merge(dc, left_on = 'paper1',\n",
        "                    right_on = 'cited_doi', how = 'left').drop(\n",
        "                        [\"cited_doi\", \"citing_year\"], axis=1).drop_duplicates(\n",
        "                            subset=['paper1', 'citing_doi'])\n",
        "test['count'] = test.groupby(['paper1'])['paper1'].transform('count')\n",
        "test = test.drop([\"citing_doi\"], axis=1).rename({'count': 'count1'}, axis=1)\n",
        "\n",
        "test = test.drop_duplicates(subset=['paper1', 'paper2']).drop(\n",
        "    ['gender1', 'year1', 'paper2', 'gender2', 'year2', 'qval', 'k'], axis=1)\n",
        "hom_mf = hom_mf.merge(test, on='paper1', how='inner')\n",
        "\n",
        "test = hom_mf.merge(dc, left_on = 'paper2',\n",
        "                    right_on = 'cited_doi', how = 'left').drop(\n",
        "                        [\"cited_doi\", \"citing_year\"], axis=1).drop_duplicates(\n",
        "                            subset=['paper2', 'citing_doi'])\n",
        "test['count'] = test.groupby(['paper2'])['paper2'].transform('count')\n",
        "test = test.drop([\"citing_doi\"], axis=1).rename(\n",
        "    {'count': 'count2'}, axis=1).drop_duplicates(\n",
        "        subset=['paper1', 'paper2']).drop(\n",
        "            ['gender1', 'year1', 'paper1', 'gender2', 'count1',\n",
        "             'year2', 'qval', 'k'], axis=1)\n",
        "hom_mf = hom_mf.merge(test, on='paper2', how='inner')\n",
        "\n",
        "del test\n",
        "\n",
        "listd = []\n",
        "listy = []\n",
        "\n",
        "for c in range(len(hom_mf)):\n",
        "  if hom_mf['gender1'][c] == 'male':\n",
        "    listd.append(hom_mf['count1'][c] - hom_mf['count2'][c])\n",
        "    listy.append(hom_mf['year1'][c] - hom_mf['year2'][c])\n",
        "  else:\n",
        "    listd.append(hom_mf['count2'][c] - hom_mf['count1'][c])\n",
        "    listy.append(hom_mf['year2'][c] - hom_mf['year1'][c])\n",
        "\n",
        "hom_mf['countd'] = listd\n",
        "hom_mf['yeard'] = listy\n",
        "\n",
        "print(len(hom_mf))\n",
        "hom_mf.head()"
      ],
      "execution_count": 15,
      "outputs": [
        {
          "output_type": "stream",
          "text": [
            "18760\n"
          ],
          "name": "stdout"
        },
        {
          "output_type": "execute_result",
          "data": {
            "text/html": [
              "<div>\n",
              "<style scoped>\n",
              "    .dataframe tbody tr th:only-of-type {\n",
              "        vertical-align: middle;\n",
              "    }\n",
              "\n",
              "    .dataframe tbody tr th {\n",
              "        vertical-align: top;\n",
              "    }\n",
              "\n",
              "    .dataframe thead th {\n",
              "        text-align: right;\n",
              "    }\n",
              "</style>\n",
              "<table border=\"1\" class=\"dataframe\">\n",
              "  <thead>\n",
              "    <tr style=\"text-align: right;\">\n",
              "      <th></th>\n",
              "      <th>paper1</th>\n",
              "      <th>gender1</th>\n",
              "      <th>year1</th>\n",
              "      <th>paper2</th>\n",
              "      <th>gender2</th>\n",
              "      <th>year2</th>\n",
              "      <th>qval</th>\n",
              "      <th>k</th>\n",
              "      <th>count1</th>\n",
              "      <th>count2</th>\n",
              "      <th>countd</th>\n",
              "      <th>yeard</th>\n",
              "    </tr>\n",
              "  </thead>\n",
              "  <tbody>\n",
              "    <tr>\n",
              "      <th>0</th>\n",
              "      <td>10.1103/PhysRevA.42.3587</td>\n",
              "      <td>male</td>\n",
              "      <td>1990</td>\n",
              "      <td>10.1103/PhysRevD.56.3296</td>\n",
              "      <td>female</td>\n",
              "      <td>1997</td>\n",
              "      <td>0.009174</td>\n",
              "      <td>False</td>\n",
              "      <td>14</td>\n",
              "      <td>3</td>\n",
              "      <td>11</td>\n",
              "      <td>-7</td>\n",
              "    </tr>\n",
              "    <tr>\n",
              "      <th>1</th>\n",
              "      <td>10.1103/PhysRevD.48.5655</td>\n",
              "      <td>male</td>\n",
              "      <td>1993</td>\n",
              "      <td>10.1103/PhysRevD.56.3296</td>\n",
              "      <td>female</td>\n",
              "      <td>1997</td>\n",
              "      <td>0.009174</td>\n",
              "      <td>False</td>\n",
              "      <td>8</td>\n",
              "      <td>3</td>\n",
              "      <td>5</td>\n",
              "      <td>-4</td>\n",
              "    </tr>\n",
              "    <tr>\n",
              "      <th>2</th>\n",
              "      <td>10.1103/PhysRevD.50.1161</td>\n",
              "      <td>male</td>\n",
              "      <td>1994</td>\n",
              "      <td>10.1103/PhysRevD.56.3296</td>\n",
              "      <td>female</td>\n",
              "      <td>1997</td>\n",
              "      <td>0.009174</td>\n",
              "      <td>False</td>\n",
              "      <td>1</td>\n",
              "      <td>3</td>\n",
              "      <td>-2</td>\n",
              "      <td>-3</td>\n",
              "    </tr>\n",
              "    <tr>\n",
              "      <th>3</th>\n",
              "      <td>10.1103/PhysRevD.50.3847</td>\n",
              "      <td>male</td>\n",
              "      <td>1994</td>\n",
              "      <td>10.1103/PhysRevD.56.3296</td>\n",
              "      <td>female</td>\n",
              "      <td>1997</td>\n",
              "      <td>0.009174</td>\n",
              "      <td>False</td>\n",
              "      <td>4</td>\n",
              "      <td>3</td>\n",
              "      <td>1</td>\n",
              "      <td>-3</td>\n",
              "    </tr>\n",
              "    <tr>\n",
              "      <th>4</th>\n",
              "      <td>10.1103/PhysRevD.52.6901</td>\n",
              "      <td>male</td>\n",
              "      <td>1995</td>\n",
              "      <td>10.1103/PhysRevD.56.3296</td>\n",
              "      <td>female</td>\n",
              "      <td>1997</td>\n",
              "      <td>0.009174</td>\n",
              "      <td>False</td>\n",
              "      <td>4</td>\n",
              "      <td>3</td>\n",
              "      <td>1</td>\n",
              "      <td>-2</td>\n",
              "    </tr>\n",
              "  </tbody>\n",
              "</table>\n",
              "</div>"
            ],
            "text/plain": [
              "                     paper1 gender1  year1  ... count2 countd  yeard\n",
              "0  10.1103/PhysRevA.42.3587    male   1990  ...      3     11     -7\n",
              "1  10.1103/PhysRevD.48.5655    male   1993  ...      3      5     -4\n",
              "2  10.1103/PhysRevD.50.1161    male   1994  ...      3     -2     -3\n",
              "3  10.1103/PhysRevD.50.3847    male   1994  ...      3      1     -3\n",
              "4  10.1103/PhysRevD.52.6901    male   1995  ...      3      1     -2\n",
              "\n",
              "[5 rows x 12 columns]"
            ]
          },
          "metadata": {
            "tags": []
          },
          "execution_count": 15
        }
      ]
    },
    {
      "cell_type": "code",
      "metadata": {
        "colab": {
          "base_uri": "https://localhost:8080/",
          "height": 419
        },
        "id": "ND-CZFx4HV4s",
        "outputId": "e06005dc-3f55-4765-ccea-6f618fe93697"
      },
      "source": [
        "plot_hom = hom_mf.groupby(['year2','countd']).size().reset_index(name='count')\n",
        "# plot_hom = plot_hom.astype(float)\n",
        "plot_hom"
      ],
      "execution_count": 55,
      "outputs": [
        {
          "output_type": "execute_result",
          "data": {
            "text/html": [
              "<div>\n",
              "<style scoped>\n",
              "    .dataframe tbody tr th:only-of-type {\n",
              "        vertical-align: middle;\n",
              "    }\n",
              "\n",
              "    .dataframe tbody tr th {\n",
              "        vertical-align: top;\n",
              "    }\n",
              "\n",
              "    .dataframe thead th {\n",
              "        text-align: right;\n",
              "    }\n",
              "</style>\n",
              "<table border=\"1\" class=\"dataframe\">\n",
              "  <thead>\n",
              "    <tr style=\"text-align: right;\">\n",
              "      <th></th>\n",
              "      <th>year2</th>\n",
              "      <th>countd</th>\n",
              "      <th>count</th>\n",
              "    </tr>\n",
              "  </thead>\n",
              "  <tbody>\n",
              "    <tr>\n",
              "      <th>0</th>\n",
              "      <td>1982</td>\n",
              "      <td>-6</td>\n",
              "      <td>1</td>\n",
              "    </tr>\n",
              "    <tr>\n",
              "      <th>1</th>\n",
              "      <td>1982</td>\n",
              "      <td>7</td>\n",
              "      <td>2</td>\n",
              "    </tr>\n",
              "    <tr>\n",
              "      <th>2</th>\n",
              "      <td>1983</td>\n",
              "      <td>5</td>\n",
              "      <td>2</td>\n",
              "    </tr>\n",
              "    <tr>\n",
              "      <th>3</th>\n",
              "      <td>1984</td>\n",
              "      <td>19</td>\n",
              "      <td>1</td>\n",
              "    </tr>\n",
              "    <tr>\n",
              "      <th>4</th>\n",
              "      <td>1986</td>\n",
              "      <td>-2</td>\n",
              "      <td>1</td>\n",
              "    </tr>\n",
              "    <tr>\n",
              "      <th>...</th>\n",
              "      <td>...</td>\n",
              "      <td>...</td>\n",
              "      <td>...</td>\n",
              "    </tr>\n",
              "    <tr>\n",
              "      <th>1608</th>\n",
              "      <td>2009</td>\n",
              "      <td>80</td>\n",
              "      <td>1</td>\n",
              "    </tr>\n",
              "    <tr>\n",
              "      <th>1609</th>\n",
              "      <td>2009</td>\n",
              "      <td>82</td>\n",
              "      <td>3</td>\n",
              "    </tr>\n",
              "    <tr>\n",
              "      <th>1610</th>\n",
              "      <td>2009</td>\n",
              "      <td>83</td>\n",
              "      <td>1</td>\n",
              "    </tr>\n",
              "    <tr>\n",
              "      <th>1611</th>\n",
              "      <td>2009</td>\n",
              "      <td>84</td>\n",
              "      <td>1</td>\n",
              "    </tr>\n",
              "    <tr>\n",
              "      <th>1612</th>\n",
              "      <td>2009</td>\n",
              "      <td>95</td>\n",
              "      <td>2</td>\n",
              "    </tr>\n",
              "  </tbody>\n",
              "</table>\n",
              "<p>1613 rows × 3 columns</p>\n",
              "</div>"
            ],
            "text/plain": [
              "      year2  countd  count\n",
              "0      1982      -6      1\n",
              "1      1982       7      2\n",
              "2      1983       5      2\n",
              "3      1984      19      1\n",
              "4      1986      -2      1\n",
              "...     ...     ...    ...\n",
              "1608   2009      80      1\n",
              "1609   2009      82      3\n",
              "1610   2009      83      1\n",
              "1611   2009      84      1\n",
              "1612   2009      95      2\n",
              "\n",
              "[1613 rows x 3 columns]"
            ]
          },
          "metadata": {
            "tags": []
          },
          "execution_count": 55
        }
      ]
    },
    {
      "cell_type": "code",
      "metadata": {
        "colab": {
          "base_uri": "https://localhost:8080/",
          "height": 567
        },
        "id": "T9JjLg5s3O0g",
        "outputId": "627b2b6c-1ed8-4460-8c51-922c94a6edaf"
      },
      "source": [
        "# ax1 = plot_hom.plot.scatter(x='year2',y='countd', c='red')\n",
        "\n",
        "# plt.title(\"PACS 90, Centrality Difference by Year\")\n",
        "# plt.scatter(plot_hom.year2, plot_hom.countd, s=plot_hom.count, c='r')\n",
        "# plt.xlabel(\"Year\")\n",
        "# plt.ylabel(\"Centrality Difference\")\n",
        "# plt.xlim(xmax=60)\n",
        "# plt.xlim(xmin=-100)\n",
        "\n",
        "ax1 = plot_hom.plot.scatter(x=\"year2\", y=\"countd\", c='red', s=\"count\",\n",
        "                            figsize=(12,9), grid=True, xlabel=\"Year\", \n",
        "                            ylabel=\"Centrality Difference\",\n",
        "                            title=\"PACS 90, Centrality Difference by Year\")"
      ],
      "execution_count": 69,
      "outputs": [
        {
          "output_type": "display_data",
          "data": {
            "image/png": "[encoded data removed]",
            "text/plain": [
              "<Figure size 864x648 with 1 Axes>"
            ]
          },
          "metadata": {
            "tags": [],
            "needs_background": "light"
          }
        }
      ]
    },
    {
      "cell_type": "code",
      "metadata": {
        "id": "E_Zfg_s33O39"
      },
      "source": [
        ""
      ],
      "execution_count": null,
      "outputs": []
    },
    {
      "cell_type": "code",
      "metadata": {
        "id": "mjKwY51T3O6g"
      },
      "source": [
        ""
      ],
      "execution_count": null,
      "outputs": []
    },
    {
      "cell_type": "markdown",
      "metadata": {
        "id": "M6kB3bOCAloR"
      },
      "source": [
        "# 2a. Gender citing gender (setup)"
      ]
    },
    {
      "cell_type": "code",
      "metadata": {
        "id": "8l5-fmhgUY5-"
      },
      "source": [
        "def cit_count(g):\n",
        "\n",
        "    # count x2-> y2 pairs\n",
        "    df1 = g.drop_duplicates(subset=['cit1', 'paper1', 'pair'])\n",
        "    c1 = (df1['cgen1'] + '_' + df1['gender1']).value_counts()\n",
        "\n",
        "    # count x2-> y2 pairs\n",
        "    df2 = g.drop_duplicates(subset=['cit2', 'paper2', 'pair'])\n",
        "    c2 = (df2['cgen2'] + '_' + df2['gender2']).value_counts()\n",
        "\n",
        "    # add results\n",
        "    return c1.add(c2, fill_value=0)"
      ],
      "execution_count": null,
      "outputs": []
    },
    {
      "cell_type": "code",
      "metadata": {
        "id": "YkCNj_IxAdGC",
        "colab": {
          "base_uri": "https://localhost:8080/"
        },
        "outputId": "df18a16b-6e63-42a8-b239-e830cdf76f0b"
      },
      "source": [
        "############## SELECT DESIRED PACS (HOMOPHILY ONLY) ###############\n",
        "\n",
        "# homn = pd.read_csv(\"drive/My Drive/codes/hom0.csv\")\n",
        "# homn = pd.read_csv(\"drive/My Drive/codes/hom1.csv\")\n",
        "# homn = pd.read_csv(\"drive/My Drive/codes/hom2.csv\")\n",
        "# homn = pd.read_csv(\"drive/My Drive/codes/hom3.csv\")\n",
        "# homn = pd.read_csv(\"drive/My Drive/codes/hom4.csv\")\n",
        "# homn = pd.read_csv(\"drive/My Drive/codes/hom5.csv\")\n",
        "# homn = pd.read_csv(\"drive/My Drive/codes/hom6.csv\")\n",
        "# homn = pd.read_csv(\"drive/My Drive/codes/hom7.csv\")\n",
        "# homn = pd.read_csv(\"drive/My Drive/codes/hom8.csv\")\n",
        "homn = pd.read_csv(\"drive/My Drive/codes/hom9.csv\")"
      ],
      "execution_count": null,
      "outputs": [
        {
          "output_type": "stream",
          "text": [
            "time: 892 ms (started: 2021-03-30 06:44:46 +00:00)\n"
          ],
          "name": "stdout"
        }
      ]
    },
    {
      "cell_type": "code",
      "metadata": {
        "id": "j8TwxYKkaYwr",
        "colab": {
          "base_uri": "https://localhost:8080/"
        },
        "outputId": "d3dd4ccf-4396-4f21-8391-6c04f9bf393f"
      },
      "source": [
        "hom = homn.drop(['year1', 'year2', 'k'], axis=1)\n",
        "\n",
        "cen = cen.rename({'citing_doi': 'cit', 'citing_gender': 'cgender',\n",
        "                          'cited_doi': 'paper', 'cited_gender': 'pgender'},\n",
        "                          axis=1)\n",
        "\n",
        "hom = hom[hom['gender1'] != hom['gender2']]"
      ],
      "execution_count": null,
      "outputs": [
        {
          "output_type": "stream",
          "text": [
            "time: 62.9 ms (started: 2021-03-30 06:44:48 +00:00)\n"
          ],
          "name": "stdout"
        }
      ]
    },
    {
      "cell_type": "code",
      "metadata": {
        "id": "z5XeIv_Gad2i",
        "colab": {
          "base_uri": "https://localhost:8080/",
          "height": 240
        },
        "outputId": "9bc7dfbe-5e54-47aa-e9ec-8436642ffb4a"
      },
      "source": [
        "# DataFrame: cit1 cites paper1, cit2 cites paper2\n",
        "# where paper1 and paper 2 are similar pairs\n",
        "\n",
        "test = pd.merge(cen, hom, left_on='paper', right_on='paper1',\n",
        "                how='inner').drop(['paper', 'pgender'], axis=1).rename(\n",
        "                    {'cit': 'cit1', 'cgender': 'cgen1'}, axis=1)\n",
        "\n",
        "test = test.merge(cen, left_on='paper2',\n",
        "                  right_on='paper', how='inner').drop(\n",
        "                      ['paper', 'pgender'], axis=1).rename(\n",
        "                          {'cit': 'cit2', 'cgender': 'cgen2'}, axis=1)\n",
        "test = test[['cit1', 'cgen1', 'cit2', 'cgen2', 'paper1', 'gender1', 'paper2',\n",
        "             'gender2', 'qval']]\n",
        "\n",
        "print(len(test))\n",
        "test.head()"
      ],
      "execution_count": null,
      "outputs": [
        {
          "output_type": "stream",
          "text": [
            "731817\n"
          ],
          "name": "stdout"
        },
        {
          "output_type": "execute_result",
          "data": {
            "text/html": [
              "<div>\n",
              "<style scoped>\n",
              "    .dataframe tbody tr th:only-of-type {\n",
              "        vertical-align: middle;\n",
              "    }\n",
              "\n",
              "    .dataframe tbody tr th {\n",
              "        vertical-align: top;\n",
              "    }\n",
              "\n",
              "    .dataframe thead th {\n",
              "        text-align: right;\n",
              "    }\n",
              "</style>\n",
              "<table border=\"1\" class=\"dataframe\">\n",
              "  <thead>\n",
              "    <tr style=\"text-align: right;\">\n",
              "      <th></th>\n",
              "      <th>cit1</th>\n",
              "      <th>cgen1</th>\n",
              "      <th>cit2</th>\n",
              "      <th>cgen2</th>\n",
              "      <th>paper1</th>\n",
              "      <th>gender1</th>\n",
              "      <th>paper2</th>\n",
              "      <th>gender2</th>\n",
              "      <th>qval</th>\n",
              "    </tr>\n",
              "  </thead>\n",
              "  <tbody>\n",
              "    <tr>\n",
              "      <th>0</th>\n",
              "      <td>10.1103/PhysRevD.79.103502</td>\n",
              "      <td>male</td>\n",
              "      <td>10.1103/PhysRevD.77.063511</td>\n",
              "      <td>female</td>\n",
              "      <td>10.1103/PhysRevD.70.103518</td>\n",
              "      <td>male</td>\n",
              "      <td>10.1103/PhysRevD.77.063510</td>\n",
              "      <td>female</td>\n",
              "      <td>0.032609</td>\n",
              "    </tr>\n",
              "    <tr>\n",
              "      <th>1</th>\n",
              "      <td>10.1103/PhysRevD.79.103502</td>\n",
              "      <td>male</td>\n",
              "      <td>10.1103/PhysRevD.77.063510</td>\n",
              "      <td>female</td>\n",
              "      <td>10.1103/PhysRevD.70.103518</td>\n",
              "      <td>male</td>\n",
              "      <td>10.1103/PhysRevD.77.063510</td>\n",
              "      <td>female</td>\n",
              "      <td>0.032609</td>\n",
              "    </tr>\n",
              "    <tr>\n",
              "      <th>2</th>\n",
              "      <td>10.1103/RevModPhys.78.537</td>\n",
              "      <td>male</td>\n",
              "      <td>10.1103/PhysRevD.77.063511</td>\n",
              "      <td>female</td>\n",
              "      <td>10.1103/PhysRevD.70.103518</td>\n",
              "      <td>male</td>\n",
              "      <td>10.1103/PhysRevD.77.063510</td>\n",
              "      <td>female</td>\n",
              "      <td>0.032609</td>\n",
              "    </tr>\n",
              "    <tr>\n",
              "      <th>3</th>\n",
              "      <td>10.1103/RevModPhys.78.537</td>\n",
              "      <td>male</td>\n",
              "      <td>10.1103/PhysRevD.77.063510</td>\n",
              "      <td>female</td>\n",
              "      <td>10.1103/PhysRevD.70.103518</td>\n",
              "      <td>male</td>\n",
              "      <td>10.1103/PhysRevD.77.063510</td>\n",
              "      <td>female</td>\n",
              "      <td>0.032609</td>\n",
              "    </tr>\n",
              "    <tr>\n",
              "      <th>4</th>\n",
              "      <td>10.1103/PhysRevD.77.023514</td>\n",
              "      <td>male</td>\n",
              "      <td>10.1103/PhysRevD.77.063511</td>\n",
              "      <td>female</td>\n",
              "      <td>10.1103/PhysRevD.70.103518</td>\n",
              "      <td>male</td>\n",
              "      <td>10.1103/PhysRevD.77.063510</td>\n",
              "      <td>female</td>\n",
              "      <td>0.032609</td>\n",
              "    </tr>\n",
              "  </tbody>\n",
              "</table>\n",
              "</div>"
            ],
            "text/plain": [
              "                         cit1 cgen1  ... gender2      qval\n",
              "0  10.1103/PhysRevD.79.103502  male  ...  female  0.032609\n",
              "1  10.1103/PhysRevD.79.103502  male  ...  female  0.032609\n",
              "2   10.1103/RevModPhys.78.537  male  ...  female  0.032609\n",
              "3   10.1103/RevModPhys.78.537  male  ...  female  0.032609\n",
              "4  10.1103/PhysRevD.77.023514  male  ...  female  0.032609\n",
              "\n",
              "[5 rows x 9 columns]"
            ]
          },
          "metadata": {
            "tags": []
          },
          "execution_count": 41
        },
        {
          "output_type": "stream",
          "text": [
            "time: 607 ms (started: 2021-03-30 06:44:50 +00:00)\n"
          ],
          "name": "stdout"
        }
      ]
    },
    {
      "cell_type": "code",
      "metadata": {
        "colab": {
          "base_uri": "https://localhost:8080/",
          "height": 240
        },
        "id": "x2ekStJVvLFK",
        "outputId": "5d812fc5-993c-4caf-b7be-0429093eca37"
      },
      "source": [
        "test['pair'] = test.groupby(['paper1', 'paper2']).ngroup()\n",
        "test = test.sort_values(['pair','cit1','cit2'])\n",
        "\n",
        "print(test.pair.nunique())\n",
        "test.head()"
      ],
      "execution_count": null,
      "outputs": [
        {
          "output_type": "stream",
          "text": [
            "13632\n"
          ],
          "name": "stdout"
        },
        {
          "output_type": "execute_result",
          "data": {
            "text/html": [
              "<div>\n",
              "<style scoped>\n",
              "    .dataframe tbody tr th:only-of-type {\n",
              "        vertical-align: middle;\n",
              "    }\n",
              "\n",
              "    .dataframe tbody tr th {\n",
              "        vertical-align: top;\n",
              "    }\n",
              "\n",
              "    .dataframe thead th {\n",
              "        text-align: right;\n",
              "    }\n",
              "</style>\n",
              "<table border=\"1\" class=\"dataframe\">\n",
              "  <thead>\n",
              "    <tr style=\"text-align: right;\">\n",
              "      <th></th>\n",
              "      <th>cit1</th>\n",
              "      <th>cgen1</th>\n",
              "      <th>cit2</th>\n",
              "      <th>cgen2</th>\n",
              "      <th>paper1</th>\n",
              "      <th>gender1</th>\n",
              "      <th>paper2</th>\n",
              "      <th>gender2</th>\n",
              "      <th>qval</th>\n",
              "      <th>pair</th>\n",
              "    </tr>\n",
              "  </thead>\n",
              "  <tbody>\n",
              "    <tr>\n",
              "      <th>48018</th>\n",
              "      <td>10.1103/PhysRevA.46.3413</td>\n",
              "      <td>male</td>\n",
              "      <td>10.1103/PhysRevD.65.063004</td>\n",
              "      <td>female</td>\n",
              "      <td>10.1103/PhysRevA.42.3587</td>\n",
              "      <td>male</td>\n",
              "      <td>10.1103/PhysRevD.56.3296</td>\n",
              "      <td>female</td>\n",
              "      <td>0.009174</td>\n",
              "      <td>0</td>\n",
              "    </tr>\n",
              "    <tr>\n",
              "      <th>48019</th>\n",
              "      <td>10.1103/PhysRevA.46.3413</td>\n",
              "      <td>male</td>\n",
              "      <td>10.1103/PhysRevD.77.043529</td>\n",
              "      <td>male</td>\n",
              "      <td>10.1103/PhysRevA.42.3587</td>\n",
              "      <td>male</td>\n",
              "      <td>10.1103/PhysRevD.56.3296</td>\n",
              "      <td>female</td>\n",
              "      <td>0.009174</td>\n",
              "      <td>0</td>\n",
              "    </tr>\n",
              "    <tr>\n",
              "      <th>48020</th>\n",
              "      <td>10.1103/PhysRevA.46.3413</td>\n",
              "      <td>male</td>\n",
              "      <td>10.1103/PhysRevLett.82.4835</td>\n",
              "      <td>female</td>\n",
              "      <td>10.1103/PhysRevA.42.3587</td>\n",
              "      <td>male</td>\n",
              "      <td>10.1103/PhysRevD.56.3296</td>\n",
              "      <td>female</td>\n",
              "      <td>0.009174</td>\n",
              "      <td>0</td>\n",
              "    </tr>\n",
              "    <tr>\n",
              "      <th>48024</th>\n",
              "      <td>10.1103/PhysRevD.48.5655</td>\n",
              "      <td>male</td>\n",
              "      <td>10.1103/PhysRevD.65.063004</td>\n",
              "      <td>female</td>\n",
              "      <td>10.1103/PhysRevA.42.3587</td>\n",
              "      <td>male</td>\n",
              "      <td>10.1103/PhysRevD.56.3296</td>\n",
              "      <td>female</td>\n",
              "      <td>0.009174</td>\n",
              "      <td>0</td>\n",
              "    </tr>\n",
              "    <tr>\n",
              "      <th>48025</th>\n",
              "      <td>10.1103/PhysRevD.48.5655</td>\n",
              "      <td>male</td>\n",
              "      <td>10.1103/PhysRevD.77.043529</td>\n",
              "      <td>male</td>\n",
              "      <td>10.1103/PhysRevA.42.3587</td>\n",
              "      <td>male</td>\n",
              "      <td>10.1103/PhysRevD.56.3296</td>\n",
              "      <td>female</td>\n",
              "      <td>0.009174</td>\n",
              "      <td>0</td>\n",
              "    </tr>\n",
              "  </tbody>\n",
              "</table>\n",
              "</div>"
            ],
            "text/plain": [
              "                           cit1 cgen1  ...      qval pair\n",
              "48018  10.1103/PhysRevA.46.3413  male  ...  0.009174    0\n",
              "48019  10.1103/PhysRevA.46.3413  male  ...  0.009174    0\n",
              "48020  10.1103/PhysRevA.46.3413  male  ...  0.009174    0\n",
              "48024  10.1103/PhysRevD.48.5655  male  ...  0.009174    0\n",
              "48025  10.1103/PhysRevD.48.5655  male  ...  0.009174    0\n",
              "\n",
              "[5 rows x 10 columns]"
            ]
          },
          "metadata": {
            "tags": []
          },
          "execution_count": 42
        },
        {
          "output_type": "stream",
          "text": [
            "time: 600 ms (started: 2021-03-30 06:44:53 +00:00)\n"
          ],
          "name": "stdout"
        }
      ]
    },
    {
      "cell_type": "code",
      "metadata": {
        "colab": {
          "base_uri": "https://localhost:8080/"
        },
        "id": "gNvItv5JhXmw",
        "outputId": "d4eff65d-3dd9-44b8-ac19-94e209cc3bd2"
      },
      "source": [
        "genco = test.groupby('pair').apply(cit_count).unstack().fillna(0).astype(int)"
      ],
      "execution_count": null,
      "outputs": [
        {
          "output_type": "stream",
          "text": [
            "time: 1min 26s (started: 2021-03-30 06:44:56 +00:00)\n"
          ],
          "name": "stdout"
        }
      ]
    },
    {
      "cell_type": "code",
      "metadata": {
        "colab": {
          "base_uri": "https://localhost:8080/"
        },
        "id": "cbxAygR4khzP",
        "outputId": "3b888da1-606c-4cd2-80b0-85fd936c3901"
      },
      "source": [
        "# genco.to_csv(r'drive/My Drive/codes/genco00.csv',index=False)\n",
        "# genco.to_csv(r'drive/My Drive/codes/genco10.csv',index=False)\n",
        "# genco.to_csv(r'drive/My Drive/codes/genco20.csv',index=False)\n",
        "# genco.to_csv(r'drive/My Drive/codes/genco30.csv',index=False)\n",
        "# genco.to_csv(r'drive/My Drive/codes/genco40.csv',index=False)\n",
        "# genco.to_csv(r'drive/My Drive/codes/genco50.csv',index=False)\n",
        "# genco.to_csv(r'drive/My Drive/codes/genco60.csv',index=False)\n",
        "# genco.to_csv(r'drive/My Drive/codes/genco70.csv',index=False)\n",
        "# genco.to_csv(r'drive/My Drive/codes/genco80.csv',index=False)\n",
        "genco.to_csv(r'drive/My Drive/codes/genco90.csv',index=False)"
      ],
      "execution_count": null,
      "outputs": [
        {
          "output_type": "stream",
          "text": [
            "time: 32.7 ms (started: 2021-03-30 06:46:22 +00:00)\n"
          ],
          "name": "stdout"
        }
      ]
    },
    {
      "cell_type": "markdown",
      "metadata": {
        "id": "NbD8zw0pjBa8"
      },
      "source": [
        "# 2b. Gender citing gender"
      ]
    },
    {
      "cell_type": "code",
      "metadata": {
        "id": "hbqfzLFsM4L4",
        "colab": {
          "base_uri": "https://localhost:8080/"
        },
        "outputId": "b7b21b10-0523-4e72-833f-497a08e77efd"
      },
      "source": [
        "############## SELECT DESIRED PACS (HOMOPHILY ONLY) ###############\n",
        "\n",
        "# genco = pd.read_csv(\"drive/My Drive/codes/genco00.csv\")\n",
        "# genco = pd.read_csv(\"drive/My Drive/codes/genco10.csv\")\n",
        "# genco = pd.read_csv(\"drive/My Drive/codes/genco20.csv\")\n",
        "# genco = pd.read_csv(\"drive/My Drive/codes/genco30.csv\")\n",
        "# genco = pd.read_csv(\"drive/My Drive/codes/genco40.csv\")\n",
        "# genco = pd.read_csv(\"drive/My Drive/codes/genco50.csv\")\n",
        "# genco = pd.read_csv(\"drive/My Drive/codes/genco60.csv\")\n",
        "# genco = pd.read_csv(\"drive/My Drive/codes/genco70.csv\")\n",
        "# genco = pd.read_csv(\"drive/My Drive/codes/genco80.csv\")\n",
        "genco = pd.read_csv(\"drive/My Drive/codes/genco90.csv\")"
      ],
      "execution_count": null,
      "outputs": [
        {
          "output_type": "stream",
          "text": [
            "time: 16.4 ms (started: 2021-03-30 07:21:34 +00:00)\n"
          ],
          "name": "stdout"
        }
      ]
    },
    {
      "cell_type": "code",
      "metadata": {
        "colab": {
          "base_uri": "https://localhost:8080/"
        },
        "id": "0io6svzk6QaL",
        "outputId": "716a65d3-0018-4552-dc79-fd348696f8ea"
      },
      "source": [
        "genco['M'] = genco['male_male'] / (\n",
        "    genco['male_male'] + genco['male_female'])\n",
        "genco['F'] = genco['female_female'] / (\n",
        "    genco['female_male'] + genco['female_female'])\n",
        "genco = genco.fillna(0)"
      ],
      "execution_count": null,
      "outputs": [
        {
          "output_type": "stream",
          "text": [
            "time: 9.02 ms (started: 2021-03-30 07:13:33 +00:00)\n"
          ],
          "name": "stdout"
        }
      ]
    },
    {
      "cell_type": "code",
      "metadata": {
        "colab": {
          "base_uri": "https://localhost:8080/"
        },
        "id": "_vO7x2Hq7mfv",
        "outputId": "14845529-ea9e-4ce1-a625-a8474f9afe59"
      },
      "source": [
        "print(statistics.mean(genco['M']))\n",
        "print(scipy.stats.sem(genco['M'], axis=None))\n",
        "print(statistics.mean(genco['F']))\n",
        "print(scipy.stats.sem(genco['F'], axis=None))"
      ],
      "execution_count": null,
      "outputs": [
        {
          "output_type": "stream",
          "text": [
            "0.5764143237420447\n",
            "0.002423995004531813\n",
            "0.5052111363062443\n",
            "0.0037250616225795383\n",
            "time: 42.8 ms (started: 2021-03-30 07:13:33 +00:00)\n"
          ],
          "name": "stdout"
        }
      ]
    },
    {
      "cell_type": "markdown",
      "metadata": {
        "id": "uRWoQRFcLxZR"
      },
      "source": [
        "# 2c. Overall GCG Statistics"
      ]
    },
    {
      "cell_type": "code",
      "metadata": {
        "id": "v9DpqVhOJPFU",
        "colab": {
          "base_uri": "https://localhost:8080/"
        },
        "outputId": "a6be3b08-84bf-4609-c21c-5f9c8cf4d0a6"
      },
      "source": [
        "genco0 = pd.read_csv(\"drive/My Drive/codes/genco00.csv\")\n",
        "genco1 = pd.read_csv(\"drive/My Drive/codes/genco10.csv\")\n",
        "genco2 = pd.read_csv(\"drive/My Drive/codes/genco20.csv\")\n",
        "genco3 = pd.read_csv(\"drive/My Drive/codes/genco30.csv\")\n",
        "genco4 = pd.read_csv(\"drive/My Drive/codes/genco40.csv\")\n",
        "genco5 = pd.read_csv(\"drive/My Drive/codes/genco50.csv\")\n",
        "genco6 = pd.read_csv(\"drive/My Drive/codes/genco60.csv\")\n",
        "genco7 = pd.read_csv(\"drive/My Drive/codes/genco70.csv\")\n",
        "genco8 = pd.read_csv(\"drive/My Drive/codes/genco80.csv\")\n",
        "genco9 = pd.read_csv(\"drive/My Drive/codes/genco90.csv\")"
      ],
      "execution_count": null,
      "outputs": [
        {
          "output_type": "stream",
          "text": [
            "time: 193 ms (started: 2021-03-30 07:02:06 +00:00)\n"
          ],
          "name": "stdout"
        }
      ]
    },
    {
      "cell_type": "code",
      "metadata": {
        "id": "Nofgyv6iJ07E",
        "colab": {
          "base_uri": "https://localhost:8080/",
          "height": 222
        },
        "outputId": "bfd6dbe5-905b-4a4f-cff4-2c3529ed8ab8"
      },
      "source": [
        "genco_n = pd.concat([genco0, genco1, genco2, genco3, genco4, genco5,\n",
        "                     genco6, genco7, genco8, genco9])\n",
        "genco_n.head()"
      ],
      "execution_count": null,
      "outputs": [
        {
          "output_type": "execute_result",
          "data": {
            "text/html": [
              "<div>\n",
              "<style scoped>\n",
              "    .dataframe tbody tr th:only-of-type {\n",
              "        vertical-align: middle;\n",
              "    }\n",
              "\n",
              "    .dataframe tbody tr th {\n",
              "        vertical-align: top;\n",
              "    }\n",
              "\n",
              "    .dataframe thead th {\n",
              "        text-align: right;\n",
              "    }\n",
              "</style>\n",
              "<table border=\"1\" class=\"dataframe\">\n",
              "  <thead>\n",
              "    <tr style=\"text-align: right;\">\n",
              "      <th></th>\n",
              "      <th>female_female</th>\n",
              "      <th>female_male</th>\n",
              "      <th>male_female</th>\n",
              "      <th>male_male</th>\n",
              "    </tr>\n",
              "  </thead>\n",
              "  <tbody>\n",
              "    <tr>\n",
              "      <th>0</th>\n",
              "      <td>1</td>\n",
              "      <td>0</td>\n",
              "      <td>1</td>\n",
              "      <td>5</td>\n",
              "    </tr>\n",
              "    <tr>\n",
              "      <th>1</th>\n",
              "      <td>0</td>\n",
              "      <td>0</td>\n",
              "      <td>3</td>\n",
              "      <td>22</td>\n",
              "    </tr>\n",
              "    <tr>\n",
              "      <th>2</th>\n",
              "      <td>1</td>\n",
              "      <td>0</td>\n",
              "      <td>0</td>\n",
              "      <td>3</td>\n",
              "    </tr>\n",
              "    <tr>\n",
              "      <th>3</th>\n",
              "      <td>1</td>\n",
              "      <td>0</td>\n",
              "      <td>0</td>\n",
              "      <td>24</td>\n",
              "    </tr>\n",
              "    <tr>\n",
              "      <th>4</th>\n",
              "      <td>1</td>\n",
              "      <td>0</td>\n",
              "      <td>0</td>\n",
              "      <td>4</td>\n",
              "    </tr>\n",
              "  </tbody>\n",
              "</table>\n",
              "</div>"
            ],
            "text/plain": [
              "   female_female  female_male  male_female  male_male\n",
              "0              1            0            1          5\n",
              "1              0            0            3         22\n",
              "2              1            0            0          3\n",
              "3              1            0            0         24\n",
              "4              1            0            0          4"
            ]
          },
          "metadata": {
            "tags": []
          },
          "execution_count": 59
        },
        {
          "output_type": "stream",
          "text": [
            "time: 29.7 ms (started: 2021-03-30 07:02:35 +00:00)\n"
          ],
          "name": "stdout"
        }
      ]
    },
    {
      "cell_type": "code",
      "metadata": {
        "colab": {
          "base_uri": "https://localhost:8080/"
        },
        "id": "Ilm2YMz18cy5",
        "outputId": "436a2022-31f1-4425-d841-c3bf9db78242"
      },
      "source": [
        "genco_n['M'] = genco_n['male_male'] / (\n",
        "    genco_n['male_male'] + genco_n['male_female'])\n",
        "genco_n['F'] = genco_n['female_female'] / (\n",
        "    genco_n['female_male'] + genco_n['female_female'])\n",
        "genco_n = genco_n.fillna(0)"
      ],
      "execution_count": null,
      "outputs": [
        {
          "output_type": "stream",
          "text": [
            "time: 47.1 ms (started: 2021-03-30 07:03:58 +00:00)\n"
          ],
          "name": "stdout"
        }
      ]
    },
    {
      "cell_type": "code",
      "metadata": {
        "colab": {
          "base_uri": "https://localhost:8080/"
        },
        "id": "1rMIBW6M8Td5",
        "outputId": "3f236ebf-bd08-430f-ea72-5935374f5f9f"
      },
      "source": [
        "print(statistics.mean(genco_n['M']))\n",
        "print(statistics.stdev(genco_n['M']))\n",
        "print(scipy.stats.sem(genco_n['M'], axis=None))\n",
        "print(statistics.mean(genco_n['F']))\n",
        "print(statistics.stdev(genco_n['F']))\n",
        "print(scipy.stats.sem(genco_n['F'], axis=None))"
      ],
      "execution_count": null,
      "outputs": [
        {
          "output_type": "stream",
          "text": [
            "0.579407368379222\n",
            "0.29992456395122274\n",
            "0.00038316824833655924\n",
            "0.5473017630052013\n",
            "0.4437672136252252\n",
            "0.0005669342439775178\n",
            "time: 4.58 s (started: 2021-03-30 07:03:59 +00:00)\n"
          ],
          "name": "stdout"
        }
      ]
    },
    {
      "cell_type": "code",
      "metadata": {
        "id": "JCgu2irkLQyV"
      },
      "source": [
        ""
      ],
      "execution_count": null,
      "outputs": []
    }
  ]
}